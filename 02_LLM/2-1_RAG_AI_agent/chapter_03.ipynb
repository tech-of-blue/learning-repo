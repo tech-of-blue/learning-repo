{
 "cells": [
  {
   "cell_type": "markdown",
   "metadata": {},
   "source": [
    "### 3.1 環境設定"
   ]
  },
  {
   "cell_type": "code",
   "execution_count": 1,
   "metadata": {},
   "outputs": [],
   "source": [
    "from openai import OpenAI\n",
    "import os\n",
    "from dotenv import load_dotenv\n",
    "\n",
    "# Load enviroment variable\n",
    "path_env=\"C:\\\\Users\\\\Yuichi Katogi\\\\.env\"\n",
    "load_dotenv(path_env)\n",
    "\n",
    "client = OpenAI(\n",
    "  api_key=os.getenv(\"OPENAI_API_KEY\")\n",
    ")"
   ]
  },
  {
   "cell_type": "markdown",
   "metadata": {},
   "source": [
    "### 3.2 promptのテンプレート"
   ]
  },
  {
   "cell_type": "code",
   "execution_count": 2,
   "metadata": {},
   "outputs": [
    {
     "name": "stdout",
     "output_type": "stream",
     "text": [
      "カレーのレシピをご紹介します。ここでは、基本的なチキンカレーの作り方を説明しますが、具材やスパイスはお好みに応じてアレンジできます。\n",
      "\n",
      "### 材料（4人分）\n",
      "\n",
      "- 鶏もも肉：500g（大きめの一口大に切る）\n",
      "- 玉ねぎ：2個（みじん切り）\n",
      "- にんにく：2片（みじん切り）\n",
      "- 生姜：2センチ（みじん切り）\n",
      "- トマト：2個（角切り）またはトマト缶：1缶\n",
      "- ジャガイモ：2個（1口大に切る）\n",
      "- ニンジン：1本（1口大に切る）\n",
      "- カレールー：1箱（好みのブランド）\n",
      "- サラダ油：大さじ2\n",
      "- 水：800ml\n",
      "- 塩：適量\n",
      "- 胡椒：適量\n",
      "- ガラムマサラ（お好みで）：小さじ1\n",
      "- パクチーやネギ（飾り用）：お好みで\n",
      "\n",
      "### 作り方\n",
      "\n",
      "1. **準備**:\n",
      "   鶏肉は塩コショウで下味をつけておきます。野菜はそれぞれ切っておきます。\n",
      "\n",
      "2. **玉ねぎを炒める**:\n",
      "   鍋にサラダ油を熱し、みじん切りにした玉ねぎを加え、透明になるまで中火で炒めます。\n",
      "\n",
      "3. **香辛料を加える**:\n",
      "   にんにくと生姜を加え、香りが立つまでさらに炒めます。\n",
      "\n",
      "4. **鶏肉を加える**:\n",
      "   鶏肉を鍋に追加し、表面が白くなるまで炒めます。\n",
      "\n",
      "5. **野菜とトマトを加える**:\n",
      "   ジャガイモ、ニンジン、トマト（またはトマト缶）を加え、水を入れます。全ての材料が鍋に浸るようにします。\n",
      "\n",
      "6. **煮る**:\n",
      "   中火で煮立たせたのち、アクを取り、蓋をして弱火で約20分煮込みます。途中でかき混ぜて、焦げ付かないように注意してください。\n",
      "\n",
      "7. **カレールーを加える**:\n",
      "   カレールーを割り入れ、混ぜて溶かします。さらに5分ほど煮込み、全体がなじんだら、味を見て塩などで調整します。\n",
      "\n",
      "8. **仕上げ**:\n",
      "   最後に好みでガラムマサラを加え、香りを引き立てます。\n",
      "\n",
      "9. **盛り付け**:\n",
      "   ご飯と一緒に皿に盛り付け、お好みでパクチーやネギをトッピングして完成です。\n",
      "\n",
      "### お好みで\n",
      "- チーズやヨーグルトをトッピングすると、さらにまろやかな味わいに。\n",
      "- 辛さを増したい場合は、唐辛子やカイエンペッパーを加えて調整してください。\n",
      "\n",
      "このカレーは、冷蔵庫で保存すると味がさらにしみ込み、ご飯と一緒に楽しむのにも最適です。ぜひお試しください！\n"
     ]
    }
   ],
   "source": [
    "prompt = '''\\\n",
    "以下の料理のレシピを考えてください。\n",
    "\n",
    "料理名: \"\"\"\n",
    "{dish}\n",
    "\"\"\"\n",
    "'''\n",
    "\n",
    "\n",
    "def generate_recipe(dish: str) -> str:\n",
    "    response = client.chat.completions.create(\n",
    "        model=\"gpt-4o-mini\",\n",
    "        messages=[\n",
    "            {\"role\": \"user\", \"content\": prompt.format(dish=dish)},\n",
    "        ],\n",
    "    )\n",
    "    return response.choices[0].message.content\n",
    "\n",
    "\n",
    "recipe = generate_recipe(\"カレー\")\n",
    "print(recipe)"
   ]
  },
  {
   "cell_type": "markdown",
   "metadata": {},
   "source": [
    "### 3.3 promptテンプレート_その２"
   ]
  },
  {
   "cell_type": "code",
   "execution_count": 3,
   "metadata": {},
   "outputs": [
    {
     "name": "stdout",
     "output_type": "stream",
     "text": [
      "シチューのレシピを考えてみました！こちらは基本的なビーフシチューのレシピです。\n",
      "\n",
      "### 材料（4人分）\n",
      "- 牛肉（シチュー用）：500g\n",
      "- 玉ねぎ：1個\n",
      "- 人参：1本\n",
      "- じゃがいも：2個\n",
      "- セロリ：1本\n",
      "- マッシュルーム（あれば）：100g\n",
      "- 赤ワイン：200ml\n",
      "- ビーフブイヨン：500ml\n",
      "- トマトペースト：大さじ2\n",
      "- 小麦粉：大さじ3\n",
      "- オリーブオイル：大さじ2\n",
      "- バター：20g\n",
      "- 塩：適量\n",
      "- 胡椒：適量\n",
      "- ローリエ：1枚\n",
      "- タイム（乾燥または生）：1〜2枝\n",
      "\n",
      "### 作り方\n",
      "1. **下準備**:\n",
      "   - 牛肉は一口大に切り、塩と胡椒で下味をつける。\n",
      "   - 玉ねぎ、人参、じゃがいも、セロリは皮をむき、適当な大きさに切る。\n",
      "   - マッシュルームは薄切りまたは四つ割りにする。\n",
      "\n",
      "2. **肉を焼く**:\n",
      "   - 大きめの鍋にオリーブオイルとバターを熱し、牛肉を入れて表面がきつね色になるまで焼く。焼き色がついたら、一旦取り出す。\n",
      "\n",
      "3. **野菜を炒める**:\n",
      "   - 同じ鍋に玉ねぎ、セロリ、人参を加え、中火で炒める。玉ねぎが透明になるまで炒めたら、小麦粉を振り入れ、さらに軽く炒める。\n",
      "\n",
      "4. **煮込む**:\n",
      "   - 鍋に焼いた牛肉を戻し、赤ワインを注ぎ入れ、アルコールを飛ばすために数分煮る。\n",
      "   - ビーフブイヨン、トマトペースト、ローリエ、タイムを加え、全体を軽く混ぜる。沸騰したら、弱火にして蓋をし、約1時間煮込む。\n",
      "\n",
      "5. **じゃがいもとマッシュルームを追加**:\n",
      "   - 1時間経ったら、じゃがいもとマッシュルームを加え、さらに30〜40分ほど煮込む。じゃがいもが柔らかくなったらOK。\n",
      "\n",
      "6. **味を整える**:\n",
      "   - 塩と胡椒で味を調整し、必要であればトマトペーストを追加して味を深める。\n",
      "\n",
      "7. **盛り付け**:\n",
      "   - 器に盛り付け、お好みでパセリを散らして完成！\n",
      "\n",
      "フランスパンやご飯と一緒にどうぞ。温かくて心地よいシチューは、特別な日にもぴったりです！お楽しみください。\n"
     ]
    }
   ],
   "source": [
    "def generate_recipe(dish: str) -> str:\n",
    "    response = client.chat.completions.create(\n",
    "        model=\"gpt-4o-mini\",\n",
    "        messages=[\n",
    "            {\"role\": \"system\", \"content\": \"ユーザーが入力した料理のレシピを考えてください。\"},\n",
    "            {\"role\": \"user\", \"content\": f\"{dish}\"},\n",
    "        ],\n",
    "    )\n",
    "    return response.choices[0].message.content\n",
    "\n",
    "\n",
    "recipe = generate_recipe(\"シチュー\")\n",
    "print(recipe)"
   ]
  },
  {
   "cell_type": "code",
   "execution_count": 4,
   "metadata": {},
   "outputs": [
    {
     "name": "stdout",
     "output_type": "stream",
     "text": [
      "美味しいカレーのレシピをご紹介します。ここではキーマカレーを作りますが、好みに応じて具材を変更できます。\n",
      "\n",
      "### 材料（4人分）\n",
      "\n",
      "- 合いびき肉（牛と豚）400g\n",
      "- 玉ねぎ（中）2個（みじん切り）\n",
      "- にんにく（みじん切り）2片\n",
      "- 生姜（みじん切り）1片\n",
      "- トマト（中）2個（ざく切り）\n",
      "- ピーマンやパプリカ（お好みで）適量（みじん切り）\n",
      "- カレー粉（またはカレールー）大さじ2\n",
      "- コンソメスープの素（または鶏ガラスープの素）1個\n",
      "- 塩・こしょう 適量\n",
      "- サラダ油 大さじ2\n",
      "- 水 300ml\n",
      "- ココナッツミルク（オプション）200ml\n",
      "- ご飯（白ご飯、バスマティライスなど）4人分\n",
      "\n",
      "### 作り方\n",
      "\n",
      "1. **下準備**: \n",
      "   - 玉ねぎ、にんにく、生姜、トマト、ピーマンをみじん切りにします。\n",
      "\n",
      "2. **香味野菜を炒める**: \n",
      "   - 大きな鍋にサラダ油を熱し、玉ねぎを入れて中火で炒めます。透明になるまで炒めたら、にんにくと生姜を加え、更に香りが立つまで炒めます。\n",
      "\n",
      "3. **ひき肉を加える**: \n",
      "   - 合いびき肉を加え、色が変わるまで炒めます。しっかりと肉がほぐれるように炒めましょう。\n",
      "\n",
      "4. **野菜とスパイスを投入**: \n",
      "   - トマトとピーマン、カレー粉、コンソメスープの素を加えます。全体がなじむように炒め、トマトが崩れるまで加熱します。\n",
      "\n",
      "5. **煮る**:\n",
      "   - 水を加え、沸騰させます。沸騰したら弱火にして、10～15分ほど煮込みます。焦げないように時々かき混ぜてください。\n",
      "\n",
      "6. **ココナッツミルクを加える** (オプション): \n",
      "   - よりクリーミーなカレーにしたい場合、煮込み終える直前にココナッツミルクを加えて、よく混ぜます。\n",
      "\n",
      "7. **味を整える**: \n",
      "   - 塩とこしょうで味を調整します。\n",
      "\n",
      "8. **盛り付ける**: \n",
      "   - ご飯を皿に盛り、その上にカレーをかけていただきます。\n",
      "\n",
      "### お好みで\n",
      "- トッピングとして、パクチーやヨーグルト、レモンを添えると風味が増します。\n",
      "- 辛さが欲しい場合は、チリペッパーや唐辛子を追加してください。\n",
      "\n",
      "ぜひ、お楽しみください！\n"
     ]
    }
   ],
   "source": [
    "response = client.chat.completions.create(\n",
    "  model=\"gpt-4o-mini\",\n",
    "  messages=[\n",
    "    {\"role\": \"system\", \"content\": \"あなたはプロの料理人を助けるアシスタントです。\"},\n",
    "    {\"role\": \"user\", \"content\": \"「カレー」のレシピを考えてください。\"}\n",
    "  ]\n",
    ")\n",
    "\n",
    "print(response.choices[0].message.content)"
   ]
  },
  {
   "cell_type": "markdown",
   "metadata": {},
   "source": [
    "### 3.4.1 出力形式をJSONにする（テキスト通り）"
   ]
  },
  {
   "cell_type": "code",
   "execution_count": null,
   "metadata": {},
   "outputs": [
    {
     "name": "stdout",
     "output_type": "stream",
     "text": [
      "```json\n",
      "{\n",
      "  \"材料\": [\"カレールー\", \"玉ねぎ\", \"にんじん\", \"じゃがいも\", \"鶏肉\", \"水\"],\n",
      "  \"手順\": [\"玉ねぎを薄切りにし、にんじんとじゃがいもを一口大に切る。\", \"鶏肉を一口大に切り、鍋で炒めて色が変わったら玉ねぎを加えてさらに炒める。\", \"玉ねぎがしんなりしたら、にんじんとじゃがいもを加えて炒める。\", \"全体がなじんだら、水を加えて煮立たせ、中火で約15分煮る。\", \"カレールーを加え、ルーが溶けるまでよくかき混ぜ、さらに10分ほど煮て完成。\"]\n",
      "}\n",
      "```\n"
     ]
    }
   ],
   "source": [
    "system_prompt = \"\"\"\\\n",
    "ユーザーが入力した料理のレシピを考えてください。\n",
    "\n",
    "出力は以下のJSON形式にしてください。\n",
    "\n",
    "```\n",
    "{\n",
    "  \"材料\": [\"材料1\", \"材料2\"],\n",
    "  \"手順\": [\"手順1\", \"手順2\"]\n",
    "}\n",
    "```\n",
    "\"\"\"\n",
    "\n",
    "response = client.chat.completions.create(\n",
    "    model=\"gpt-4o-mini\",\n",
    "    messages=[\n",
    "        {\"role\": \"system\", \"content\": system_prompt},\n",
    "        {\"role\": \"user\", \"content\": \"カレー\"},\n",
    "    ],\n",
    ")\n",
    "print(response.choices[0].message.content)"
   ]
  },
  {
   "cell_type": "markdown",
   "metadata": {},
   "source": [
    "### 3.4.2 JSON形式"
   ]
  },
  {
   "cell_type": "code",
   "execution_count": null,
   "metadata": {},
   "outputs": [
    {
     "name": "stdout",
     "output_type": "stream",
     "text": [
      "```json\n",
      "{\n",
      "  \"recipe\": {\n",
      "    \"name\": \"基本のカレー\",\n",
      "    \"servings\": 4,\n",
      "    \"ingredients\": [\n",
      "      {\n",
      "        \"name\": \"鶏肉\",\n",
      "        \"amount\": \"300g\",\n",
      "        \"notes\": \"もも肉または胸肉\"\n",
      "      },\n",
      "      {\n",
      "        \"name\": \"玉ねぎ\",\n",
      "        \"amount\": \"2個\",\n",
      "        \"notes\": \"薄切り\"\n",
      "      },\n",
      "      {\n",
      "        \"name\": \"にんじん\",\n",
      "        \"amount\": \"1本\",\n",
      "        \"notes\": \"一口大にカット\"\n",
      "      },\n",
      "      {\n",
      "        \"name\": \"じゃがいも\",\n",
      "        \"amount\": \"2個\",\n",
      "        \"notes\": \"一口大にカット\"\n",
      "      },\n",
      "      {\n",
      "        \"name\": \"カレールー\",\n",
      "        \"amount\": \"100g\",\n",
      "        \"notes\": \"好みの辛さを選んで\"\n",
      "      },\n",
      "      {\n",
      "        \"name\": \"水\",\n",
      "        \"amount\": \"600ml\",\n",
      "        \"notes\": \"煮込み用\"\n",
      "      },\n",
      "      {\n",
      "        \"name\": \"サラダ油\",\n",
      "        \"amount\": \"大さじ2\",\n",
      "        \"notes\": \"炒め用\"\n",
      "      },\n",
      "      {\n",
      "        \"name\": \"塩\",\n",
      "        \"amount\": \"適量\",\n",
      "        \"notes\": \"味調整用\"\n",
      "      },\n",
      "      {\n",
      "        \"name\": \"こしょう\",\n",
      "        \"amount\": \"適量\",\n",
      "        \"notes\": \"味調整用\"\n",
      "      }\n",
      "    ],\n",
      "    \"instructions\": [\n",
      "      \"鍋にサラダ油を熱し、薄切りにした玉ねぎを中火で炒める。\",\n",
      "      \"玉ねぎが透明になったら、鶏肉を加え、表面が白くなるまで炒める。\",\n",
      "      \"にんじんとじゃがいもを加え、軽く炒める。\",\n",
      "      \"水を加え、強火で煮立たせる。\",\n",
      "      \"煮立ったら、アクを取り、蓋をして弱火で約20分煮込む。\",\n",
      "      \"火を止め、カレールーを加え、溶かす。\",\n",
      "      \"再度弱火で約10分煮込み、全体がなじんだら、塩とこしょうで味を調える。\",\n",
      "      \"器に盛り付けて、お好みでご飯と一緒に召し上がれ。\"\n",
      "    ],\n",
      "    \"notes\": \"お好みでトッピングに福神漬けやらっきょうを添えても良い。\"\n",
      "  }\n",
      "}\n",
      "```\n"
     ]
    }
   ],
   "source": [
    "response = client.chat.completions.create(\n",
    "  model=\"gpt-4o-mini\",\n",
    "  messages=[\n",
    "    {\"role\": \"system\", \"content\": \"あなたはプロの料理人を助けるアシスタントです。\"},\n",
    "    {\"role\": \"user\", \"content\": \"「カレー」のレシピを考えてください。JSON形式で出力してください。\"}\n",
    "  ]\n",
    ")\n",
    "\n",
    "print(response.choices[0].message.content)"
   ]
  },
  {
   "cell_type": "markdown",
   "metadata": {},
   "source": [
    "### 3.4.3 Markdown形式"
   ]
  },
  {
   "cell_type": "code",
   "execution_count": 8,
   "metadata": {},
   "outputs": [
    {
     "name": "stdout",
     "output_type": "stream",
     "text": [
      "# カレーのレシピ\n",
      "\n",
      "## 材料\n",
      "\n",
      "### 基本食材\n",
      "- 鶏肉（もも肉または胸肉）：300g\n",
      "- 玉ねぎ：1個\n",
      "- にんじん：1本\n",
      "- じゃがいも：2個\n",
      "- カレールー：1箱（約200g）\n",
      "- 水：800ml\n",
      "\n",
      "### 調味料\n",
      "- サラダ油：大さじ2\n",
      "- 塩：適量\n",
      "- 胡椒：適量\n",
      "- ガーリックパウダー（お好みで）：小さじ1\n",
      "- 生姜（みじん切り）：1片分\n",
      "\n",
      "## 作り方\n",
      "\n",
      "1. **下ごしらえ**\n",
      "   - 鶏肉は一口大に切り、塩と胡椒で下味をつける。\n",
      "   - 玉ねぎはみじん切り、にんじんとじゃがいもは一口大に切る。\n",
      "\n",
      "2. **炒める**\n",
      "   - 鍋にサラダ油を熱し、玉ねぎを中火で透明になるまで炒める。\n",
      "   - にんじんとじゃがいもを加え、さらに炒める。\n",
      "\n",
      "3. **鶏肉を加える**\n",
      "   - 鶏肉を鍋に加え、表面が白くなるまで炒める。\n",
      "\n",
      "4. **水を加える**\n",
      "   - 鍋に水を加え、煮立てる。\n",
      "   - 煮立ったら、アクを取り除く。\n",
      "\n",
      "5. **煮込む**\n",
      "   - 中火にして、蓋をして約15分煮込む。\n",
      "\n",
      "6. **カレールーを加える**\n",
      "   - カレールーを割り入れ、溶かす。全体をよく混ぜ合わせ、再度10分ほど煮込む。\n",
      "\n",
      "7. **仕上げ**\n",
      "   - お好みでガーリックパウダーや生姜を加えて、味を調整する。\n",
      "\n",
      "8. **盛り付け**\n",
      "   - ご飯を皿に盛り、その上にカレーをかけて完成！\n",
      "\n",
      "## 提供方法\n",
      "- パセリや温泉卵をトッピングすると、見た目も良くなります。\n",
      "- お好みでナンやサラダを添えて、お楽しみください。\n",
      "\n",
      "## ポイント\n",
      "- 野菜はお好みでアレンジ可能です（ピーマン、なす、ほうれん草など）。\n",
      "- 一晩寝かせると、さらに味がなじんで美味しくなります。\n",
      "\n",
      "### お楽しみください！ 🍛\n"
     ]
    }
   ],
   "source": [
    "response = client.chat.completions.create(\n",
    "  model=\"gpt-4o-mini\",\n",
    "  messages=[\n",
    "    {\"role\": \"system\", \"content\": \"あなたはプロの料理人を助けるアシスタントです。\"},\n",
    "    {\"role\": \"user\", \"content\": \"「カレー」のレシピを考えてください。markdown形式で出力してください。\"}\n",
    "  ]\n",
    ")\n",
    "\n",
    "print(response.choices[0].message.content)"
   ]
  },
  {
   "cell_type": "markdown",
   "metadata": {},
   "source": [
    "### 3.5 Zero-shotプロンプティング"
   ]
  },
  {
   "cell_type": "code",
   "execution_count": 9,
   "metadata": {},
   "outputs": [
    {
     "name": "stdout",
     "output_type": "stream",
     "text": [
      "ポジティブ\n"
     ]
    }
   ],
   "source": [
    "response = client.chat.completions.create(\n",
    "    model=\"gpt-4o-mini\",\n",
    "    messages=[\n",
    "        {\n",
    "            \"role\": \"system\",\n",
    "            \"content\": \"入力をポジティブ・ネガティブ・中立のどれかに分類してください。\",\n",
    "        },\n",
    "        {\n",
    "            \"role\": \"user\",\n",
    "            \"content\": \"ChatGPTはとても便利だ\",\n",
    "        },\n",
    "    ],\n",
    ")\n",
    "print(response.choices[0].message.content)"
   ]
  },
  {
   "cell_type": "markdown",
   "metadata": {},
   "source": [
    "### 3.6 Few-shotプロンプティング"
   ]
  },
  {
   "cell_type": "code",
   "execution_count": 10,
   "metadata": {},
   "outputs": [
    {
     "name": "stdout",
     "output_type": "stream",
     "text": [
      "はい、ChatGPTは情報提供や質問への回答、さまざまなトピックに関する会話をサポートするために設計されています。何か特定の質問や相談があれば、お気軽にどうぞ！\n"
     ]
    }
   ],
   "source": [
    "response = client.chat.completions.create(\n",
    "    model=\"gpt-4o-mini\",\n",
    "    messages=[\n",
    "        {\"role\": \"system\", \"content\": \"入力がAIに関係するか回答してください。\"},\n",
    "        {\"role\": \"user\", \"content\": \"ChatGPTはとても便利だ\"},\n",
    "    ],\n",
    ")\n",
    "print(response.choices[0].message.content)"
   ]
  },
  {
   "cell_type": "code",
   "execution_count": 11,
   "metadata": {},
   "outputs": [
    {
     "name": "stdout",
     "output_type": "stream",
     "text": [
      "true\n"
     ]
    }
   ],
   "source": [
    "response = client.chat.completions.create(\n",
    "    model=\"gpt-4o-mini\",\n",
    "    messages=[\n",
    "        {\"role\": \"system\", \"content\": \"入力がAIに関係するか回答してください。\"},\n",
    "        {\"role\": \"user\", \"content\": \"AIの進化はすごい\"},\n",
    "        {\"role\": \"assistant\", \"content\": \"true\"},\n",
    "        {\"role\": \"user\", \"content\": \"今日は良い天気だ\"},\n",
    "        {\"role\": \"assistant\", \"content\": \"false\"},\n",
    "        {\"role\": \"user\", \"content\": \"ChatGPTはとても便利だ\"},\n",
    "    ],\n",
    ")\n",
    "print(response.choices[0].message.content)"
   ]
  },
  {
   "cell_type": "markdown",
   "metadata": {},
   "source": [
    "### 3.7 CoT"
   ]
  },
  {
   "cell_type": "code",
   "execution_count": 12,
   "metadata": {},
   "outputs": [
    {
     "name": "stdout",
     "output_type": "stream",
     "text": [
      "この数式をステップバイステップで解いてみましょう。\n",
      "\n",
      "1. まず、数式は以下のようになります。\n",
      "   \\[\n",
      "   10 + 2 * 3 - 4 * 2\n",
      "   \\]\n",
      "\n",
      "2. 次に、乗算を先に計算します。最初の乗算は \\(2 * 3\\) です。\n",
      "   \\[\n",
      "   2 * 3 = 6\n",
      "   \\]\n",
      "   数式はここで次のようになります。\n",
      "   \\[\n",
      "   10 + 6 - 4 * 2\n",
      "   \\]\n",
      "\n",
      "3. 次に、もう一つの乗算 \\(4 * 2\\) を計算します。\n",
      "   \\[\n",
      "   4 * 2 = 8\n",
      "   \\]\n",
      "   したがって、数式は次のように変わります。\n",
      "   \\[\n",
      "   10 + 6 - 8\n",
      "   \\]\n",
      "\n",
      "4. 次に、足し算と引き算を左から右へ順番に計算します。まずは足し算 \\(10 + 6\\) を行います。\n",
      "   \\[\n",
      "   10 + 6 = 16\n",
      "   \\]\n",
      "   数式は次のようになります。\n",
      "   \\[\n",
      "   16 - 8\n",
      "   \\]\n",
      "\n",
      "5. 最後に引き算を計算します。\n",
      "   \\[\n",
      "   16 - 8 = 8\n",
      "   \\]\n",
      "\n",
      "したがって、全体の計算結果は \\(8\\) です。\n"
     ]
    }
   ],
   "source": [
    "response = client.chat.completions.create(\n",
    "    model=\"gpt-4o-mini\",\n",
    "    messages=[\n",
    "        {\"role\": \"system\", \"content\": \"ステップバイステップで考えてください。\"},\n",
    "        {\"role\": \"user\", \"content\": \"10 + 2 * 3 - 4 * 2\"},\n",
    "    ],\n",
    ")\n",
    "print(response.choices[0].message.content)"
   ]
  }
 ],
 "metadata": {
  "kernelspec": {
   "display_name": "Python 3",
   "language": "python",
   "name": "python3"
  },
  "language_info": {
   "codemirror_mode": {
    "name": "ipython",
    "version": 3
   },
   "file_extension": ".py",
   "mimetype": "text/x-python",
   "name": "python",
   "nbconvert_exporter": "python",
   "pygments_lexer": "ipython3",
   "version": "3.12.5"
  }
 },
 "nbformat": 4,
 "nbformat_minor": 2
}

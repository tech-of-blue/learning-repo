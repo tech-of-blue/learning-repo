{
 "cells": [
  {
   "cell_type": "markdown",
   "metadata": {},
   "source": [
    "### 4.1 環境設定"
   ]
  },
  {
   "cell_type": "code",
   "execution_count": null,
   "metadata": {},
   "outputs": [],
   "source": [
    "# テキストと同じバージョンをインストール\n",
    "# %pip install langchain-core==0.3.0 langchain-openai==0.2.0\n",
    "# set upのマニュアル\n",
    "# pip install -U langchain langchain-openai"
   ]
  },
  {
   "cell_type": "markdown",
   "metadata": {},
   "source": [
    "#### 4.1.1 Langsmithのトレースを確認する"
   ]
  },
  {
   "cell_type": "code",
   "execution_count": 1,
   "metadata": {},
   "outputs": [
    {
     "name": "stdout",
     "output_type": "stream",
     "text": [
      "LANGSMITH_TRACING_V2: None\n",
      "LANGSMITH_ENDPOINT: https://api.smith.langchain.com\n",
      "LANGSMITH_PROJECT: agent-book\n"
     ]
    }
   ],
   "source": [
    "from dotenv import load_dotenv\n",
    "import os\n",
    "\n",
    "# .env ファイルを読み込む\n",
    "path_env=\"C:\\\\Users\\\\Yuichi Katogi\\\\.env\"\n",
    "load_dotenv(path_env)\n",
    "\n",
    "# 環境変数を取得\n",
    "langsmith_tracing_v2 = os.getenv(\"LANGCHAIN_TRACING_V2\")\n",
    "langsmith_endpoint = os.getenv(\"LANGSMITH_ENDPOINT\")\n",
    "langsmith_api_key = os.getenv(\"LANGSMITH_API_KEY\")\n",
    "langsmith_project = os.getenv(\"LANGSMITH_PROJECT\")\n",
    "\n",
    "# Langsmithがtだしく読み込めているか確認。なぜかtracingがNoneだができてる\n",
    "print(f\"LANGSMITH_TRACING_V2: {langsmith_tracing_v2}\")\n",
    "print(f\"LANGSMITH_ENDPOINT: {langsmith_endpoint}\")\n",
    "print(f\"LANGSMITH_PROJECT: {langsmith_project}\")"
   ]
  },
  {
   "cell_type": "markdown",
   "metadata": {},
   "source": [
    "### 4.2 LLM / Chat model\n",
    "- 学習内容\n",
    "    - invokeとは？と使い方\n",
    "    - 昔はmodel.predict、prompt.format、output_parser.parseの呼び出すときの関数が異なっていたが、今は全てinvokeで統一的に呼び出せるようになった\n",
    "    - これまで、それぞれinvokeしていたけど、chain（連鎖）をinvokeすればよいということ\n",
    "    - 途中過程をinvokeするという使い方はあり"
   ]
  },
  {
   "cell_type": "markdown",
   "metadata": {},
   "source": [
    "#### 4.2.1 LangchainでLLMを使う"
   ]
  },
  {
   "cell_type": "code",
   "execution_count": 30,
   "metadata": {},
   "outputs": [
    {
     "name": "stdout",
     "output_type": "stream",
     "text": [
      "\n",
      "\n",
      "こんにちは\n",
      "\n",
      "こんにちは、私はAIのアシスタントです。あなたのお手伝いをすることができます。何かお困りのことはありますか？\n"
     ]
    }
   ],
   "source": [
    "from langchain_openai import OpenAI\n",
    "\n",
    "model = OpenAI(model=\"gpt-3.5-turbo-instruct\", temperature=0)\n",
    "ai_message = model.invoke(\"こんにちは\")\n",
    "print(ai_message)\n",
    "\n",
    "# \"gpt-3.5-turbo-instruct\"はチャットができるモデルではない。そのためチャット形式の記述じゃなくていい。GPT-4o-mini使うなら対話形式で書かないとダメ"
   ]
  },
  {
   "cell_type": "markdown",
   "metadata": {},
   "source": [
    "#### 4.2.2 LangchainでLLMを使う"
   ]
  },
  {
   "cell_type": "code",
   "execution_count": null,
   "metadata": {},
   "outputs": [
    {
     "name": "stdout",
     "output_type": "stream",
     "text": [
      "はい、あなたの名前はジョンさんです。何か特別なことについてお話ししたいことがありますか？\n",
      "API Key is set: True\n"
     ]
    }
   ],
   "source": [
    "from langchain_core.messages import AIMessage, HumanMessage, SystemMessage\n",
    "from langchain_openai import ChatOpenAI\n",
    "\n",
    "model = ChatOpenAI(model=\"gpt-4o-mini\", temperature=0)\n",
    "\n",
    "messages = [\n",
    "    SystemMessage(\"You are a helpful assistant.\"),\n",
    "    HumanMessage(\"こんにちは！私はジョンと言います\"),\n",
    "    AIMessage(content=\"こんにちは、ジョンさん！どのようにお手伝いできますか？\"),\n",
    "    HumanMessage(content=\"私の名前がわかりますか？\"),\n",
    "]\n",
    "\n",
    "ai_message = model.invoke(messages)\n",
    "print(ai_message.content)\n",
    "\n",
    "# API Keyをgetenvしてないけど何で使えるかのかと思ったら、ChatOpenAIが環境変数を勝手に呼んでるらしい\n",
    "api_key = os.getenv(\"OPENAI_API_KEY\")\n",
    "print(\"API Key is set:\", bool(api_key))"
   ]
  },
  {
   "cell_type": "markdown",
   "metadata": {},
   "source": [
    "#### 4.2.3 LangchainでLLMを使う（ストリーミング形式）"
   ]
  },
  {
   "cell_type": "code",
   "execution_count": 9,
   "metadata": {},
   "outputs": [
    {
     "name": "stdout",
     "output_type": "stream",
     "text": [
      "こんにちは！どういったことをお手伝いできますか？"
     ]
    }
   ],
   "source": [
    "from langchain_core.messages import SystemMessage, HumanMessage\n",
    "from langchain_openai import ChatOpenAI\n",
    "\n",
    "model = ChatOpenAI(model=\"gpt-4o-mini\", temperature=0)\n",
    "\n",
    "messages = [\n",
    "    SystemMessage(\"You are a helpful assistant.\"),\n",
    "    HumanMessage(\"こんにちは！\"),\n",
    "]\n",
    "\n",
    "for chunk in model.stream(messages):\n",
    "    print(chunk.content, end=\"\", flush=True)"
   ]
  },
  {
   "cell_type": "markdown",
   "metadata": {},
   "source": [
    "### 4.3 Prompt template\n",
    "- 学習内容\n",
    "    - Langsmith上でPROMPTを管理している\n",
    "    - LLMを利用しているわけではない\n",
    "    - なんでここでPromptTemplateを学習したかというと、この後モデルとchainするから。Promptの書き方理解しておけよってこと\n",
    "    - たぶんinvokeするとトレーシングされるんじゃないかな？調査\n",
    "    - fストリングス使わなくて済むからすごいよね"
   ]
  },
  {
   "cell_type": "markdown",
   "metadata": {},
   "source": [
    "#### 4.3.1 PromptTemplate"
   ]
  },
  {
   "cell_type": "code",
   "execution_count": 17,
   "metadata": {},
   "outputs": [
    {
     "name": "stdout",
     "output_type": "stream",
     "text": [
      "以下の料理のレシピを考えてください。\n",
      "\n",
      "料理名: カレー\n"
     ]
    }
   ],
   "source": [
    "from langchain_core.prompts import PromptTemplate\n",
    "\n",
    "prompt = PromptTemplate.from_template(\"\"\"以下の料理のレシピを考えてください。\n",
    "\n",
    "料理名: {dish}\"\"\")\n",
    "\n",
    "prompt_value = prompt.invoke({\"dish\": \"カレー\"})\n",
    "print(prompt_value.text)"
   ]
  },
  {
   "cell_type": "markdown",
   "metadata": {},
   "source": [
    "#### 4.3.2 ChatPromptTemplate"
   ]
  },
  {
   "cell_type": "code",
   "execution_count": null,
   "metadata": {},
   "outputs": [
    {
     "name": "stdout",
     "output_type": "stream",
     "text": [
      "messages=[SystemMessage(content='ユーザーが入力した料理のレシピを考えてください。', additional_kwargs={}, response_metadata={}), HumanMessage(content='カレー', additional_kwargs={}, response_metadata={})]\n",
      "System: ユーザーが入力した料理のレシピを考えてください。\n",
      "Human: カレー\n",
      "[SystemMessage(content='ユーザーが入力した料理のレシピを考えてください。', additional_kwargs={}, response_metadata={}), HumanMessage(content='カレー', additional_kwargs={}, response_metadata={})]\n"
     ]
    }
   ],
   "source": [
    "from langchain_core.prompts import ChatPromptTemplate\n",
    "\n",
    "prompt = ChatPromptTemplate.from_messages(\n",
    "    [\n",
    "        (\"system\", \"ユーザーが入力した料理のレシピを考えてください。\"),\n",
    "        (\"human\", \"{dish}\"),\n",
    "    ]\n",
    ")\n",
    "\n",
    "prompt_value = prompt.invoke({\"dish\": \"カレー\"})\n",
    "print(prompt_value)\n",
    "\n",
    "# Promptの確認方法として一番見やすい。書きやすい。messageの文字列だけ抽出\n",
    "print(prompt_value.to_string())\n",
    "\n",
    "# messageだけ抽出\n",
    "print(prompt_value.to_messages())"
   ]
  },
  {
   "cell_type": "code",
   "execution_count": null,
   "metadata": {},
   "outputs": [
    {
     "data": {
      "text/plain": [
       "'\\nSystem: 【材料】\\n・玉ねぎ 1個\\n・にんじん 1本\\n・じゃがいも 2個\\n・豚肉 200g\\n・カレールー 1箱\\n・水 500ml\\n・サラダ油 大さじ1\\n・塩 小さじ1/2\\n・こしょう 少々\\n・ガラムマサラ 少々\\n・ココナッツミルク 100ml\\n【作り方】\\n1. 玉ねぎ、にんじん、じゃがいもをそれぞれ1cm角に切る。\\n2. 豚肉も1cm角に切る。\\n3. 鍋にサラダ油を熱し、豚肉を炒める。\\n4. 豚肉に火が通ったら、玉ねぎ、にんじん、じゃがいもを加えて炒める。\\n5'"
      ]
     },
     "execution_count": 38,
     "metadata": {},
     "output_type": "execute_result"
    }
   ],
   "source": [
    "# 4.3.2.1 Promptを直接モデルにinvokeすることもできる（対話形式ではないモデル）\n",
    "from langchain_openai import OpenAI\n",
    "model = OpenAI(model=\"gpt-3.5-turbo-instruct\", temperature=0)\n",
    "\n",
    "model.invoke(prompt_value)"
   ]
  },
  {
   "cell_type": "code",
   "execution_count": null,
   "metadata": {},
   "outputs": [
    {
     "data": {
      "text/plain": [
       "AIMessage(content='カレーのレシピをご紹介します！以下は基本的なチキンカレーのレシピです。\\n\\n### 材料（4人分）\\n- 鶏もも肉：400g（食べやすい大きさにカット）\\n- 玉ねぎ：2個（みじん切り）\\n- にんにく：2片（みじん切り）\\n- 生姜：1片（みじん切り）\\n- トマト：1個（ざく切り）\\n- カレーパウダー：大さじ2\\n- クミンシード：小さじ1（お好みで）\\n- ココナッツミルク：200ml（お好みで）\\n- サラダ油：大さじ2\\n- 塩：適量\\n- 黒胡椒：適量\\n- 水：400ml\\n- パクチー（飾り用）：適量\\n\\n### 作り方\\n1. **下ごしらえ**: 鶏肉に塩と黒胡椒をふりかけて下味をつけておきます。\\n2. **玉ねぎを炒める**: 大きめの鍋にサラダ油を熱し、みじん切りにした玉ねぎを加え、透明になるまで中火で炒めます。\\n3. **香味野菜を加える**: にんにくと生姜を加え、香りが立つまでさらに炒めます。\\n4. **スパイスを加える**: カレーパウダーとクミンシードを加え、全体がよく混ざるまで炒めます。\\n5. **鶏肉を加える**: 鶏肉を鍋に加え、表面が白くなるまで炒めます。\\n6. **トマトと水を加える**: ざく切りにしたトマトと水を加え、全体をよく混ぜます。沸騰したら、弱火にして蓋をし、約20分煮込みます。\\n7. **ココナッツミルクを加える**: 煮込みが終わったら、ココナッツミルクを加え、さらに5分ほど煮ます。味を見て、必要に応じて塩で調整します。\\n8. **盛り付け**: お皿に盛り付け、パクチーを散らして完成です。\\n\\n### 提供方法\\nご飯やナンと一緒にお楽しみください。お好みでヨーグルトやサラダを添えると、より一層美味しくいただけます。\\n\\nぜひお試しください！', additional_kwargs={'refusal': None}, response_metadata={'token_usage': {'completion_tokens': 615, 'prompt_tokens': 28, 'total_tokens': 643, 'completion_tokens_details': {'accepted_prediction_tokens': 0, 'audio_tokens': 0, 'reasoning_tokens': 0, 'rejected_prediction_tokens': 0}, 'prompt_tokens_details': {'audio_tokens': 0, 'cached_tokens': 0}}, 'model_name': 'gpt-4o-mini-2024-07-18', 'system_fingerprint': 'fp_7fcd609668', 'finish_reason': 'stop', 'logprobs': None}, id='run-714afbfa-7f9c-4260-b16c-8e450c481dcb-0', usage_metadata={'input_tokens': 28, 'output_tokens': 615, 'total_tokens': 643})"
      ]
     },
     "execution_count": 36,
     "metadata": {},
     "output_type": "execute_result"
    }
   ],
   "source": [
    "# 4.3.2.2 Promptを直接モデルにinvokeすることもできる（対話形式なモデル）\n",
    "from langchain_openai import ChatOpenAI\n",
    "model = ChatOpenAI(model=\"gpt-4o-mini\", temperature=0)\n",
    "\n",
    "model.invoke(prompt_value)"
   ]
  },
  {
   "cell_type": "markdown",
   "metadata": {},
   "source": [
    "#### 4.3.3 MessagesPlaceholder"
   ]
  },
  {
   "cell_type": "code",
   "execution_count": 40,
   "metadata": {},
   "outputs": [
    {
     "name": "stdout",
     "output_type": "stream",
     "text": [
      "messages=[SystemMessage(content='You are a helpful assistant.', additional_kwargs={}, response_metadata={}), HumanMessage(content='こんにちは！私はジョンと言います！', additional_kwargs={}, response_metadata={}), AIMessage(content='こんにちは、ジョンさん！どのようにお手伝いできますか？', additional_kwargs={}, response_metadata={}), HumanMessage(content='私の名前が分かりますか？', additional_kwargs={}, response_metadata={})]\n",
      "System: You are a helpful assistant.\n",
      "Human: こんにちは！私はジョンと言います！\n",
      "AI: こんにちは、ジョンさん！どのようにお手伝いできますか？\n",
      "Human: 私の名前が分かりますか？\n"
     ]
    }
   ],
   "source": [
    "from langchain_core.messages import AIMessage, HumanMessage\n",
    "from langchain_core.prompts import ChatPromptTemplate, MessagesPlaceholder\n",
    "\n",
    "prompt = ChatPromptTemplate.from_messages(\n",
    "    [\n",
    "        (\"system\", \"You are a helpful assistant.\"),\n",
    "        MessagesPlaceholder(\"chat_history\", optional=True),\n",
    "        (\"human\", \"{input}\"),\n",
    "    ]\n",
    ")\n",
    "\n",
    "prompt_value = prompt.invoke(\n",
    "    {\n",
    "        \"chat_history\": [\n",
    "            HumanMessage(content=\"こんにちは！私はジョンと言います！\"),\n",
    "            AIMessage(\"こんにちは、ジョンさん！どのようにお手伝いできますか？\"),\n",
    "        ],\n",
    "        \"input\": \"私の名前が分かりますか？\",\n",
    "    }\n",
    ")\n",
    "print(prompt_value)\n",
    "print(prompt_value.to_string())"
   ]
  },
  {
   "cell_type": "markdown",
   "metadata": {},
   "source": [
    "### 4.4 Output parser\n",
    "- 学習内容\n",
    "    - よく使うのは2つ\n",
    "        - StrOutputParser\n",
    "        - with_structured_output"
   ]
  },
  {
   "cell_type": "markdown",
   "metadata": {},
   "source": [
    "#### 4.4.1 StrOutputParser"
   ]
  },
  {
   "cell_type": "code",
   "execution_count": 43,
   "metadata": {},
   "outputs": [
    {
     "name": "stdout",
     "output_type": "stream",
     "text": [
      "<class 'str'>\n",
      "こんにちは。私はAIアシスタントです。\n"
     ]
    }
   ],
   "source": [
    "from langchain_core.messages import AIMessage\n",
    "from langchain_core.output_parsers import StrOutputParser\n",
    "\n",
    "output_parser = StrOutputParser()\n",
    "\n",
    "ai_message = AIMessage(content=\"こんにちは。私はAIアシスタントです。\")\n",
    "ai_message = output_parser.invoke(ai_message)\n",
    "print(type(ai_message))\n",
    "print(ai_message)"
   ]
  },
  {
   "cell_type": "code",
   "execution_count": 45,
   "metadata": {},
   "outputs": [
    {
     "data": {
      "text/plain": [
       "AIMessage(content='はい、あなたの名前はジョンさんです。何か特別なことについてお話ししたいですか？', additional_kwargs={'refusal': None}, response_metadata={'token_usage': {'completion_tokens': 27, 'prompt_tokens': 59, 'total_tokens': 86, 'completion_tokens_details': {'accepted_prediction_tokens': 0, 'audio_tokens': 0, 'reasoning_tokens': 0, 'rejected_prediction_tokens': 0}, 'prompt_tokens_details': {'audio_tokens': 0, 'cached_tokens': 0}}, 'model_name': 'gpt-4o-mini-2024-07-18', 'system_fingerprint': 'fp_7fcd609668', 'finish_reason': 'stop', 'logprobs': None}, id='run-409f8537-f47b-4ac3-9620-7eb107773507-0', usage_metadata={'input_tokens': 59, 'output_tokens': 27, 'total_tokens': 86})"
      ]
     },
     "execution_count": 45,
     "metadata": {},
     "output_type": "execute_result"
    }
   ],
   "source": [
    "# StrOutputParserについてもう少し詳しく\n",
    "\n",
    "# 4.3.2.2 Promptを直接モデルにinvokeすることもできる（対話形式なモデル）\n",
    "from langchain_openai import ChatOpenAI\n",
    "model = ChatOpenAI(model=\"gpt-4o-mini\", temperature=0)\n",
    "\n",
    "message = model.invoke(prompt_value)\n",
    "message"
   ]
  },
  {
   "cell_type": "code",
   "execution_count": 47,
   "metadata": {},
   "outputs": [
    {
     "name": "stdout",
     "output_type": "stream",
     "text": [
      "<class 'str'>\n",
      "はい、あなたの名前はジョンさんです。何か特別なことについてお話ししたいですか？\n"
     ]
    }
   ],
   "source": [
    "output_parser = StrOutputParser()\n",
    "output = output_parser.invoke(message)\n",
    "print(type(output))\n",
    "print(output)"
   ]
  },
  {
   "cell_type": "markdown",
   "metadata": {},
   "source": [
    "#### 4.4.2 with_structured_output"
   ]
  },
  {
   "cell_type": "code",
   "execution_count": null,
   "metadata": {},
   "outputs": [
    {
     "name": "stdout",
     "output_type": "stream",
     "text": [
      "<class '__main__.Recipe'>\n",
      "ingredients=['カレールー', '鶏肉', '玉ねぎ', 'じゃがいも', '人参', '水', 'サラダ油', '塩', 'こしょう'] steps=['鶏肉を一口大に切り、塩とこしょうで下味をつける。', '玉ねぎは薄切りにし、じゃがいもと人参は一口大に切る。', '鍋にサラダ油を熱し、玉ねぎを炒める。', '玉ねぎが透明になったら鶏肉を加え、表面が白くなるまで炒める。', 'じゃがいもと人参を加え、全体を混ぜ合わせる。', '水を加えて沸騰させ、アクを取り除く。', '弱火にして、蓋をして20分ほど煮る。', 'カレールーを加え、さらに10分煮て、全体がなじんだら完成。']\n"
     ]
    }
   ],
   "source": [
    "from langchain_core.prompts import ChatPromptTemplate\n",
    "from langchain_openai import ChatOpenAI\n",
    "from pydantic import BaseModel, Field\n",
    "\n",
    "class Recipe(BaseModel):\n",
    "    ingredients: list[str] = Field(description=\"ingredients of the dish\")\n",
    "    steps: list[str] = Field(description=\"steps to make the dish\")\n",
    "\n",
    "\n",
    "prompt = ChatPromptTemplate.from_messages(\n",
    "    [\n",
    "        (\"system\", \"ユーザーが入力した料理のレシピを考えてください。\"),\n",
    "        (\"human\", \"{dish}\"),\n",
    "    ]\n",
    ")\n",
    "\n",
    "model = ChatOpenAI(model=\"gpt-4o-mini\")\n",
    "\n",
    "chain = prompt | model.with_structured_output(Recipe)\n",
    "\n",
    "recipe = chain.invoke({\"dish\": \"カレー\"})\n",
    "print(type(recipe))\n",
    "print(recipe)"
   ]
  },
  {
   "cell_type": "markdown",
   "metadata": {},
   "source": [
    "### 4.5 LCEL(LangChain Expression Language)\n",
    "- 学習内容\n",
    "    - 4.5.1 テキストの例\n",
    "    - 4.5.2 LCELのチュートリアル\n",
    "    - 4.5.3 CoTの例"
   ]
  },
  {
   "cell_type": "markdown",
   "metadata": {},
   "source": [
    "#### 4.5.1 テキストの例"
   ]
  },
  {
   "cell_type": "code",
   "execution_count": null,
   "metadata": {},
   "outputs": [
    {
     "name": "stdout",
     "output_type": "stream",
     "text": [
      "カレーのレシピをご紹介します。シンプルで美味しい基本的なチキンカレーの作り方です。\n",
      "\n",
      "### 材料（4人分）\n",
      "- 鶏もも肉：400g（食べやすい大きさにカット）\n",
      "- 玉ねぎ：2個（みじん切り）\n",
      "- にんにく：2片（みじん切り）\n",
      "- 生姜：1片（みじん切り）\n",
      "- トマト：1個（ざく切り）\n",
      "- カレーパウダー：大さじ2\n",
      "- ココナッツミルク：200ml（または水）\n",
      "- サラダ油：大さじ2\n",
      "- 塩：適量\n",
      "- 黒胡椒：適量\n",
      "- パクチー（お好みで）：適量\n",
      "\n",
      "### 作り方\n",
      "1. **下ごしらえ**: 鶏もも肉は一口大にカットし、塩と黒胡椒を振って下味をつけておきます。\n",
      "\n",
      "2. **玉ねぎを炒める**: 大きめの鍋にサラダ油を熱し、みじん切りにした玉ねぎを加え、中火で透明になるまで炒めます。\n",
      "\n",
      "3. **にんにくと生姜を加える**: 玉ねぎが透明になったら、にんにくと生姜を加え、香りが立つまでさらに炒めます。\n",
      "\n",
      "4. **鶏肉を加える**: 鶏もも肉を鍋に加え、表面が白くなるまで炒めます。\n",
      "\n",
      "5. **トマトとスパイスを加える**: ざく切りにしたトマトとカレーパウダーを加え、全体をよく混ぜます。トマトが崩れるまで炒めます。\n",
      "\n",
      "6. **煮込む**: ココナッツミルクを加え、全体を混ぜたら、蓋をして中火で約15分煮込みます。時々かき混ぜて、焦げ付かないように注意します。\n",
      "\n",
      "7. **味を調える**: 煮込みが終わったら、塩で味を調整します。お好みで辛さを調整するために、追加のカレーパウダーを加えても良いです。\n",
      "\n",
      "8. **盛り付け**: お皿に盛り付け、お好みでパクチーを散らして完成です。\n",
      "\n",
      "### 提供方法\n",
      "ご飯やナンと一緒にお召し上がりください。サラダやヨーグルトを添えると、より一層美味しく楽しめます。\n",
      "\n",
      "ぜひお試しください！\n"
     ]
    }
   ],
   "source": [
    "from langchain_core.prompts import ChatPromptTemplate\n",
    "from langchain_openai import ChatOpenAI\n",
    "\n",
    "prompt = ChatPromptTemplate.from_messages(\n",
    "    [\n",
    "        (\"system\", \"ユーザーが入力した料理のレシピを考えてください。\"),\n",
    "        (\"human\", \"{dish}\"),\n",
    "    ]\n",
    ")\n",
    "\n",
    "model = ChatOpenAI(model_name=\"gpt-4o-mini\", temperature=0)\n",
    "\n",
    "chain = prompt | model\n",
    "\n",
    "ai_message = chain.invoke({\"dish\": \"カレー\"})\n",
    "print(ai_message.content)\n",
    "\n",
    "# StrOutputParserを使わないときは.contentを付けてテキストを抽出する"
   ]
  },
  {
   "cell_type": "code",
   "execution_count": 53,
   "metadata": {},
   "outputs": [
    {
     "name": "stdout",
     "output_type": "stream",
     "text": [
      "カレーのレシピをご紹介します！以下は基本的なチキンカレーのレシピです。\n",
      "\n",
      "### 材料（4人分）\n",
      "- 鶏もも肉：400g（食べやすい大きさにカット）\n",
      "- 玉ねぎ：2個（みじん切り）\n",
      "- にんにく：2片（みじん切り）\n",
      "- 生姜：1片（みじん切り）\n",
      "- トマト：1個（ざく切り）\n",
      "- カレーパウダー：大さじ2\n",
      "- クミンパウダー：小さじ1\n",
      "- ココナッツミルク：200ml（お好みで）\n",
      "- サラダ油：大さじ2\n",
      "- 塩：適量\n",
      "- 黒胡椒：適量\n",
      "- 水：400ml\n",
      "- パクチー（お好みで）：適量\n",
      "\n",
      "### 作り方\n",
      "1. **下ごしらえ**: 鶏肉に塩と黒胡椒をふりかけて下味をつけておきます。\n",
      "2. **玉ねぎを炒める**: 大きめの鍋にサラダ油を熱し、みじん切りにした玉ねぎを加え、透明になるまで中火で炒めます。\n",
      "3. **香味野菜を加える**: にんにくと生姜を加え、香りが立つまでさらに炒めます。\n",
      "4. **鶏肉を加える**: 鶏肉を鍋に加え、表面が白くなるまで炒めます。\n",
      "5. **スパイスを加える**: カレーパウダーとクミンパウダーを加え、全体に絡めるように炒めます。\n",
      "6. **トマトと水を加える**: ざく切りにしたトマトと水を加え、煮立たせます。アクが出たら取り除きます。\n",
      "7. **煮込む**: 蓋をして中弱火で約20分煮込みます。鶏肉が柔らかくなったら、ココナッツミルクを加え、さらに5分煮ます。\n",
      "8. **味を調える**: 塩で味を調整し、お好みでパクチーを散らして完成です。\n",
      "\n",
      "### 提供方法\n",
      "ご飯やナンと一緒に盛り付けて、お好みで福神漬けやラッシーを添えて楽しんでください！\n",
      "\n",
      "このレシピは基本的なものですが、野菜や豆を加えたり、辛さを調整したりして、自分好みのカレーにアレンジすることもできます。お楽しみください！\n"
     ]
    }
   ],
   "source": [
    "from langchain_core.output_parsers import StrOutputParser\n",
    "\n",
    "chain = prompt | model | StrOutputParser()\n",
    "output = chain.invoke({\"dish\": \"カレー\"})\n",
    "print(output)"
   ]
  },
  {
   "cell_type": "markdown",
   "metadata": {},
   "source": [
    "#### 4.5.2 LCELの一連の流れ"
   ]
  },
  {
   "cell_type": "code",
   "execution_count": null,
   "metadata": {},
   "outputs": [
    {
     "name": "stdout",
     "output_type": "stream",
     "text": [
      "カレーのレシピをご紹介します。シンプルで美味しい基本的なカレーの作り方です。\n",
      "\n",
      "### 材料（4人分）\n",
      "- 鶏肉（もも肉または胸肉）: 400g\n",
      "- 玉ねぎ: 2個\n",
      "- にんじん: 1本\n",
      "- じゃがいも: 2個\n",
      "- カレールー: 1箱（約200g）\n",
      "- サラダ油: 大さじ2\n",
      "- 水: 800ml\n",
      "- 塩: 適量\n",
      "- 胡椒: 適量\n",
      "- お好みでガーリックパウダーや生姜: 適量\n",
      "\n",
      "### 作り方\n",
      "1. **材料の下ごしらえ**:\n",
      "   - 鶏肉は一口大に切り、塩と胡椒をふっておきます。\n",
      "   - 玉ねぎは薄切り、にんじんは輪切り、じゃがいもは一口大に切ります。\n",
      "\n",
      "2. **炒める**:\n",
      "   - 大きめの鍋にサラダ油を熱し、玉ねぎを中火で炒めます。玉ねぎが透明になるまで炒めます。\n",
      "   - 鶏肉を加え、表面が白くなるまで炒めます。\n",
      "\n",
      "3. **野菜を加える**:\n",
      "   - にんじんとじゃがいもを鍋に加え、全体をよく混ぜます。\n",
      "\n",
      "4. **煮る**:\n",
      "   - 水を加え、強火で煮立たせます。煮立ったら、アクを取り除き、中火にして蓋をし、約15分煮ます。\n",
      "\n",
      "5. **カレールーを加える**:\n",
      "   - 火を止めてカレールーを加え、よく溶かします。再び弱火にし、10分ほど煮込みます。必要に応じて塩や胡椒で味を調整します。\n",
      "\n",
      "6. **完成**:\n",
      "   - お皿に盛り付けて、お好みでご飯やナンと一緒にお召し上がりください。\n",
      "\n",
      "### おすすめのトッピング\n",
      "- ピクルスや福神漬け\n",
      "- 生卵や温泉卵\n",
      "- チーズやヨーグルト\n",
      "\n",
      "このレシピを参考に、ぜひ美味しいカレーを作ってみてください！お好みでスパイスを加えたり、具材を変えたりしてアレンジも楽しんでください。\n"
     ]
    }
   ],
   "source": [
    "from langchain_core.prompts import ChatPromptTemplate\n",
    "from langchain_openai import ChatOpenAI\n",
    "from langchain_core.output_parsers import StrOutputParser\n",
    "\n",
    "prompt = ChatPromptTemplate.from_messages(\n",
    "    [\n",
    "        (\"system\", \"ユーザーが入力した料理のレシピを考えてください。\"),\n",
    "        (\"human\", \"{dish}\"),\n",
    "    ]\n",
    ")\n",
    "\n",
    "model = ChatOpenAI(model_name=\"gpt-4o-mini\", temperature=0)\n",
    "\n",
    "# 昔は下のように作っていたが、今はStrOutputParser()をそのまま使う\n",
    "# output_parser = StrOutputParser()\n",
    "\n",
    "chain = prompt | model | StrOutputParser()\n",
    "output = chain.invoke({\"dish\": \"カレー\"})\n",
    "print(output)"
   ]
  },
  {
   "cell_type": "markdown",
   "metadata": {},
   "source": [
    "#### 4.5.3 CoTでLCEL"
   ]
  },
  {
   "cell_type": "code",
   "execution_count": 65,
   "metadata": {},
   "outputs": [
    {
     "name": "stdout",
     "output_type": "stream",
     "text": [
      "この計算をステップバイステップで行います。\n",
      "\n",
      "1. **計算式の確認**: \n",
      "   計算式は「3 * 4 + 1 * 3 - 2」です。\n",
      "\n",
      "2. **乗算の計算**:\n",
      "   まず、乗算を行います。計算式には2つの乗算があります。\n",
      "   - 3 * 4 = 12\n",
      "   - 1 * 3 = 3\n",
      "\n",
      "   これを元の式に代入すると、式は次のようになります。\n",
      "   - 12 + 3 - 2\n",
      "\n",
      "3. **加算の計算**:\n",
      "   次に、加算を行います。\n",
      "   - 12 + 3 = 15\n",
      "\n",
      "   これを元の式に代入すると、式は次のようになります。\n",
      "   - 15 - 2\n",
      "\n",
      "4. **減算の計算**:\n",
      "   最後に、減算を行います。\n",
      "   - 15 - 2 = 13\n",
      "\n",
      "5. **結論**:\n",
      "   したがって、計算「3 * 4 + 1 * 3 - 2」の結果は13です。\n",
      "\n",
      "この計算の過程を通じて、まずは乗算を行い、その後に加算と減算を順に行うことで、最終的な結果を得ることができました。計算の順序を守ることが重要であり、乗算が加算や減算よりも優先されることを理解することが大切です。\n"
     ]
    }
   ],
   "source": [
    "from langchain_core.prompts import ChatPromptTemplate\n",
    "from langchain_openai import ChatOpenAI\n",
    "from langchain_core.output_parsers import StrOutputParser\n",
    "\n",
    "prompt = ChatPromptTemplate.from_messages(\n",
    "    [\n",
    "        #(\"system\", \"あなたはデータサイエンティストをサポートするAIです。\"),\n",
    "        (\"human\", \"以下の計算をステップバイステップで考え、結論を日本語で詳細に説明してください。{question}\")\n",
    "    ]\n",
    ")\n",
    "\n",
    "model = ChatOpenAI(model_name=\"gpt-4o-mini\", temperature=0)\n",
    "\n",
    "cot_chain = prompt | model | StrOutputParser()\n",
    "results = cot_chain.invoke({\"question\": \"3 * 4 + 1 * 3 - 2\"})\n",
    "print(results)"
   ]
  },
  {
   "cell_type": "markdown",
   "metadata": {},
   "source": [
    "### 4.6 RAG\n",
    "- 学習内容\n",
    "    - 4.6.1 Document loader\n",
    "    - 4.6.2 Document transformer\n",
    "    - 4.6.3 Embedding model\n",
    "    - 4.6.4 Vector store\n",
    "    - 4.6.5 LCEL を使った RAG の Chain の実装"
   ]
  },
  {
   "cell_type": "markdown",
   "metadata": {},
   "source": [
    "#### 4.6.1 Document loader"
   ]
  },
  {
   "cell_type": "code",
   "execution_count": null,
   "metadata": {},
   "outputs": [
    {
     "name": "stdout",
     "output_type": "stream",
     "text": [
      "Note: you may need to restart the kernel to use updated packages.Collecting langchain-community==0.3.0\n",
      "  Downloading langchain_community-0.3.0-py3-none-any.whl.metadata (2.8 kB)\n",
      "Collecting GitPython==3.1.43\n",
      "  Downloading GitPython-3.1.43-py3-none-any.whl.metadata (13 kB)\n",
      "Requirement already satisfied: PyYAML>=5.3 in c:\\users\\yuichi katogi\\appdata\\local\\programs\\python\\python312\\lib\\site-packages (from langchain-community==0.3.0) (6.0.2)\n",
      "Collecting SQLAlchemy<3,>=1.4 (from langchain-community==0.3.0)\n",
      "  Downloading SQLAlchemy-2.0.38-cp312-cp312-win_amd64.whl.metadata (9.9 kB)\n",
      "Collecting aiohttp<4.0.0,>=3.8.3 (from langchain-community==0.3.0)\n",
      "  Downloading aiohttp-3.11.12-cp312-cp312-win_amd64.whl.metadata (8.0 kB)\n",
      "Collecting dataclasses-json<0.7,>=0.5.7 (from langchain-community==0.3.0)\n",
      "  Downloading dataclasses_json-0.6.7-py3-none-any.whl.metadata (25 kB)\n",
      "Collecting langchain<0.4.0,>=0.3.0 (from langchain-community==0.3.0)\n",
      "  Downloading langchain-0.3.19-py3-none-any.whl.metadata (7.9 kB)\n",
      "Requirement already satisfied: langchain-core<0.4.0,>=0.3.0 in c:\\users\\yuichi katogi\\appdata\\local\\programs\\python\\python312\\lib\\site-packages (from langchain-community==0.3.0) (0.3.0)\n",
      "Requirement already satisfied: langsmith<0.2.0,>=0.1.112 in c:\\users\\yuichi katogi\\appdata\\local\\programs\\python\\python312\\lib\\site-packages (from langchain-community==0.3.0) (0.1.147)\n",
      "Collecting numpy<2.0.0,>=1.26.0 (from langchain-community==0.3.0)\n",
      "  Downloading numpy-1.26.4-cp312-cp312-win_amd64.whl.metadata (61 kB)\n",
      "Collecting pydantic-settings<3.0.0,>=2.4.0 (from langchain-community==0.3.0)\n",
      "  Downloading pydantic_settings-2.8.0-py3-none-any.whl.metadata (3.5 kB)\n",
      "Requirement already satisfied: requests<3,>=2 in c:\\users\\yuichi katogi\\appdata\\local\\programs\\python\\python312\\lib\\site-packages (from langchain-community==0.3.0) (2.32.3)\n",
      "Requirement already satisfied: tenacity!=8.4.0,<9.0.0,>=8.1.0 in c:\\users\\yuichi katogi\\appdata\\local\\programs\\python\\python312\\lib\\site-packages (from langchain-community==0.3.0) (8.5.0)\n",
      "Collecting gitdb<5,>=4.0.1 (from GitPython==3.1.43)\n",
      "  Downloading gitdb-4.0.12-py3-none-any.whl.metadata (1.2 kB)\n",
      "Collecting aiohappyeyeballs>=2.3.0 (from aiohttp<4.0.0,>=3.8.3->langchain-community==0.3.0)\n",
      "  Downloading aiohappyeyeballs-2.4.6-py3-none-any.whl.metadata (5.9 kB)\n",
      "Collecting aiosignal>=1.1.2 (from aiohttp<4.0.0,>=3.8.3->langchain-community==0.3.0)\n",
      "  Downloading aiosignal-1.3.2-py2.py3-none-any.whl.metadata (3.8 kB)\n",
      "Collecting attrs>=17.3.0 (from aiohttp<4.0.0,>=3.8.3->langchain-community==0.3.0)\n",
      "  Downloading attrs-25.1.0-py3-none-any.whl.metadata (10 kB)\n",
      "Collecting frozenlist>=1.1.1 (from aiohttp<4.0.0,>=3.8.3->langchain-community==0.3.0)\n",
      "  Downloading frozenlist-1.5.0-cp312-cp312-win_amd64.whl.metadata (14 kB)\n",
      "Collecting multidict<7.0,>=4.5 (from aiohttp<4.0.0,>=3.8.3->langchain-community==0.3.0)\n",
      "  Downloading multidict-6.1.0-cp312-cp312-win_amd64.whl.metadata (5.1 kB)\n",
      "Collecting propcache>=0.2.0 (from aiohttp<4.0.0,>=3.8.3->langchain-community==0.3.0)\n",
      "  Downloading propcache-0.3.0-cp312-cp312-win_amd64.whl.metadata (10 kB)\n",
      "Collecting yarl<2.0,>=1.17.0 (from aiohttp<4.0.0,>=3.8.3->langchain-community==0.3.0)\n",
      "  Downloading yarl-1.18.3-cp312-cp312-win_amd64.whl.metadata (71 kB)\n",
      "Collecting marshmallow<4.0.0,>=3.18.0 (from dataclasses-json<0.7,>=0.5.7->langchain-community==0.3.0)\n",
      "  Downloading marshmallow-3.26.1-py3-none-any.whl.metadata (7.3 kB)\n",
      "Collecting typing-inspect<1,>=0.4.0 (from dataclasses-json<0.7,>=0.5.7->langchain-community==0.3.0)\n",
      "  Downloading typing_inspect-0.9.0-py3-none-any.whl.metadata (1.5 kB)\n",
      "Collecting smmap<6,>=3.0.1 (from gitdb<5,>=4.0.1->GitPython==3.1.43)\n",
      "  Downloading smmap-5.0.2-py3-none-any.whl.metadata (4.3 kB)\n",
      "Collecting langchain-core<0.4.0,>=0.3.0 (from langchain-community==0.3.0)\n",
      "  Downloading langchain_core-0.3.37-py3-none-any.whl.metadata (5.9 kB)\n",
      "Collecting langchain-text-splitters<1.0.0,>=0.3.6 (from langchain<0.4.0,>=0.3.0->langchain-community==0.3.0)\n",
      "  Downloading langchain_text_splitters-0.3.6-py3-none-any.whl.metadata (1.9 kB)\n",
      "Requirement already satisfied: pydantic<3.0.0,>=2.7.4 in c:\\users\\yuichi katogi\\appdata\\local\\programs\\python\\python312\\lib\\site-packages (from langchain<0.4.0,>=0.3.0->langchain-community==0.3.0) (2.10.6)\n",
      "Requirement already satisfied: jsonpatch<2.0,>=1.33 in c:\\users\\yuichi katogi\\appdata\\local\\programs\\python\\python312\\lib\\site-packages (from langchain-core<0.4.0,>=0.3.0->langchain-community==0.3.0) (1.33)\n",
      "Requirement already satisfied: packaging<25,>=23.2 in c:\\users\\yuichi katogi\\appdata\\roaming\\python\\python312\\site-packages (from langchain-core<0.4.0,>=0.3.0->langchain-community==0.3.0) (24.2)\n",
      "Requirement already satisfied: typing-extensions>=4.7 in c:\\users\\yuichi katogi\\appdata\\local\\programs\\python\\python312\\lib\\site-packages (from langchain-core<0.4.0,>=0.3.0->langchain-community==0.3.0) (4.12.2)\n",
      "Requirement already satisfied: httpx<1,>=0.23.0 in c:\\users\\yuichi katogi\\appdata\\local\\programs\\python\\python312\\lib\\site-packages (from langsmith<0.2.0,>=0.1.112->langchain-community==0.3.0) (0.28.1)\n",
      "Requirement already satisfied: orjson<4.0.0,>=3.9.14 in c:\\users\\yuichi katogi\\appdata\\local\\programs\\python\\python312\\lib\\site-packages (from langsmith<0.2.0,>=0.1.112->langchain-community==0.3.0) (3.10.15)\n",
      "Requirement already satisfied: requests-toolbelt<2.0.0,>=1.0.0 in c:\\users\\yuichi katogi\\appdata\\local\\programs\\python\\python312\\lib\\site-packages (from langsmith<0.2.0,>=0.1.112->langchain-community==0.3.0) (1.0.0)\n",
      "Requirement already satisfied: python-dotenv>=0.21.0 in c:\\users\\yuichi katogi\\appdata\\local\\programs\\python\\python312\\lib\\site-packages (from pydantic-settings<3.0.0,>=2.4.0->langchain-community==0.3.0) (1.0.1)\n",
      "Requirement already satisfied: charset-normalizer<4,>=2 in c:\\users\\yuichi katogi\\appdata\\local\\programs\\python\\python312\\lib\\site-packages (from requests<3,>=2->langchain-community==0.3.0) (3.4.1)\n",
      "Requirement already satisfied: idna<4,>=2.5 in c:\\users\\yuichi katogi\\appdata\\local\\programs\\python\\python312\\lib\\site-packages (from requests<3,>=2->langchain-community==0.3.0) (3.10)\n",
      "Requirement already satisfied: urllib3<3,>=1.21.1 in c:\\users\\yuichi katogi\\appdata\\local\\programs\\python\\python312\\lib\\site-packages (from requests<3,>=2->langchain-community==0.3.0) (2.3.0)\n",
      "Requirement already satisfied: certifi>=2017.4.17 in c:\\users\\yuichi katogi\\appdata\\local\\programs\\python\\python312\\lib\\site-packages (from requests<3,>=2->langchain-community==0.3.0) (2025.1.31)\n",
      "Collecting greenlet!=0.4.17 (from SQLAlchemy<3,>=1.4->langchain-community==0.3.0)\n",
      "  Downloading greenlet-3.1.1-cp312-cp312-win_amd64.whl.metadata (3.9 kB)\n",
      "Requirement already satisfied: anyio in c:\\users\\yuichi katogi\\appdata\\local\\programs\\python\\python312\\lib\\site-packages (from httpx<1,>=0.23.0->langsmith<0.2.0,>=0.1.112->langchain-community==0.3.0) (4.8.0)\n",
      "Requirement already satisfied: httpcore==1.* in c:\\users\\yuichi katogi\\appdata\\local\\programs\\python\\python312\\lib\\site-packages (from httpx<1,>=0.23.0->langsmith<0.2.0,>=0.1.112->langchain-community==0.3.0) (1.0.7)\n",
      "Requirement already satisfied: h11<0.15,>=0.13 in c:\\users\\yuichi katogi\\appdata\\local\\programs\\python\\python312\\lib\\site-packages (from httpcore==1.*->httpx<1,>=0.23.0->langsmith<0.2.0,>=0.1.112->langchain-community==0.3.0) (0.14.0)\n",
      "Requirement already satisfied: jsonpointer>=1.9 in c:\\users\\yuichi katogi\\appdata\\local\\programs\\python\\python312\\lib\\site-packages (from jsonpatch<2.0,>=1.33->langchain-core<0.4.0,>=0.3.0->langchain-community==0.3.0) (3.0.0)\n",
      "Requirement already satisfied: annotated-types>=0.6.0 in c:\\users\\yuichi katogi\\appdata\\local\\programs\\python\\python312\\lib\\site-packages (from pydantic<3.0.0,>=2.7.4->langchain<0.4.0,>=0.3.0->langchain-community==0.3.0) (0.7.0)\n",
      "Requirement already satisfied: pydantic-core==2.27.2 in c:\\users\\yuichi katogi\\appdata\\local\\programs\\python\\python312\\lib\\site-packages (from pydantic<3.0.0,>=2.7.4->langchain<0.4.0,>=0.3.0->langchain-community==0.3.0) (2.27.2)\n",
      "Collecting mypy-extensions>=0.3.0 (from typing-inspect<1,>=0.4.0->dataclasses-json<0.7,>=0.5.7->langchain-community==0.3.0)\n",
      "  Downloading mypy_extensions-1.0.0-py3-none-any.whl.metadata (1.1 kB)\n",
      "Requirement already satisfied: sniffio>=1.1 in c:\\users\\yuichi katogi\\appdata\\local\\programs\\python\\python312\\lib\\site-packages (from anyio->httpx<1,>=0.23.0->langsmith<0.2.0,>=0.1.112->langchain-community==0.3.0) (1.3.1)\n",
      "Downloading langchain_community-0.3.0-py3-none-any.whl (2.3 MB)\n",
      "   ---------------------------------------- 0.0/2.3 MB ? eta -:--:--\n",
      "   -------- ------------------------------- 0.5/2.3 MB 2.8 MB/s eta 0:00:01\n",
      "   ----------------- ---------------------- 1.0/2.3 MB 2.5 MB/s eta 0:00:01\n",
      "   -------------------------- ------------- 1.6/2.3 MB 2.4 MB/s eta 0:00:01\n",
      "   ------------------------------- -------- 1.8/2.3 MB 2.3 MB/s eta 0:00:01\n",
      "   ----------------------------------- ---- 2.1/2.3 MB 2.3 MB/s eta 0:00:01\n",
      "   ---------------------------------------- 2.3/2.3 MB 2.0 MB/s eta 0:00:00\n",
      "Downloading GitPython-3.1.43-py3-none-any.whl (207 kB)\n",
      "Downloading aiohttp-3.11.12-cp312-cp312-win_amd64.whl (437 kB)\n",
      "Downloading dataclasses_json-0.6.7-py3-none-any.whl (28 kB)\n",
      "Downloading gitdb-4.0.12-py3-none-any.whl (62 kB)\n",
      "Downloading langchain-0.3.19-py3-none-any.whl (1.0 MB)\n",
      "   ---------------------------------------- 0.0/1.0 MB ? eta -:--:--\n",
      "   -------------------- ------------------- 0.5/1.0 MB 2.4 MB/s eta 0:00:01\n",
      "   ------------------------------- -------- 0.8/1.0 MB 2.4 MB/s eta 0:00:01\n",
      "   ---------------------------------------- 1.0/1.0 MB 1.8 MB/s eta 0:00:00\n",
      "Downloading langchain_core-0.3.37-py3-none-any.whl (413 kB)\n",
      "Downloading numpy-1.26.4-cp312-cp312-win_amd64.whl (15.5 MB)\n",
      "   ---------------------------------------- 0.0/15.5 MB ? eta -:--:--\n",
      "   - -------------------------------------- 0.5/15.5 MB 2.8 MB/s eta 0:00:06\n",
      "   -- ------------------------------------- 1.0/15.5 MB 2.5 MB/s eta 0:00:06\n",
      "   ---- ----------------------------------- 1.6/15.5 MB 2.5 MB/s eta 0:00:06\n",
      "   ----- ---------------------------------- 2.1/15.5 MB 2.4 MB/s eta 0:00:06\n",
      "   ------ --------------------------------- 2.6/15.5 MB 2.5 MB/s eta 0:00:06\n",
      "   -------- ------------------------------- 3.1/15.5 MB 2.5 MB/s eta 0:00:05\n",
      "   --------- ------------------------------ 3.7/15.5 MB 2.5 MB/s eta 0:00:05\n",
      "   ---------- ----------------------------- 4.2/15.5 MB 2.5 MB/s eta 0:00:05\n",
      "   ------------ --------------------------- 4.7/15.5 MB 2.6 MB/s eta 0:00:05\n",
      "   ------------- -------------------------- 5.2/15.5 MB 2.6 MB/s eta 0:00:05\n",
      "   -------------- ------------------------- 5.8/15.5 MB 2.5 MB/s eta 0:00:04\n",
      "   ---------------- ----------------------- 6.6/15.5 MB 2.5 MB/s eta 0:00:04\n",
      "   ----------------- ---------------------- 6.8/15.5 MB 2.5 MB/s eta 0:00:04\n",
      "   ------------------- -------------------- 7.6/15.5 MB 2.5 MB/s eta 0:00:04\n",
      "   -------------------- ------------------- 8.1/15.5 MB 2.5 MB/s eta 0:00:03\n",
      "   ---------------------- ----------------- 8.7/15.5 MB 2.6 MB/s eta 0:00:03\n",
      "   ------------------------ --------------- 9.4/15.5 MB 2.6 MB/s eta 0:00:03\n",
      "   ------------------------- -------------- 9.7/15.5 MB 2.6 MB/s eta 0:00:03\n",
      "   ------------------------- -------------- 9.7/15.5 MB 2.6 MB/s eta 0:00:03\n",
      "   --------------------------- ------------ 10.5/15.5 MB 2.5 MB/s eta 0:00:03\n",
      "   ---------------------------- ----------- 11.0/15.5 MB 2.5 MB/s eta 0:00:02\n",
      "   ----------------------------- ---------- 11.5/15.5 MB 2.5 MB/s eta 0:00:02\n",
      "   ------------------------------- -------- 12.3/15.5 MB 2.5 MB/s eta 0:00:02\n",
      "   --------------------------------- ------ 12.8/15.5 MB 2.5 MB/s eta 0:00:02\n",
      "   ---------------------------------- ----- 13.4/15.5 MB 2.5 MB/s eta 0:00:01\n",
      "   ----------------------------------- ---- 13.9/15.5 MB 2.5 MB/s eta 0:00:01\n",
      "   ------------------------------------- -- 14.4/15.5 MB 2.5 MB/s eta 0:00:01\n",
      "   -------------------------------------- - 14.9/15.5 MB 2.5 MB/s eta 0:00:01\n",
      "   ---------------------------------------  15.5/15.5 MB 2.5 MB/s eta 0:00:01\n",
      "   ---------------------------------------  15.5/15.5 MB 2.5 MB/s eta 0:00:01\n",
      "   ---------------------------------------  15.5/15.5 MB 2.5 MB/s eta 0:00:01\n",
      "   ---------------------------------------  15.5/15.5 MB 2.5 MB/s eta 0:00:01\n",
      "   ---------------------------------------  15.5/15.5 MB 2.5 MB/s eta 0:00:01\n",
      "   ---------------------------------------  15.5/15.5 MB 2.5 MB/s eta 0:00:01\n",
      "   ---------------------------------------  15.5/15.5 MB 2.5 MB/s eta 0:00:01\n",
      "   ---------------------------------------  15.5/15.5 MB 2.5 MB/s eta 0:00:01\n",
      "   ---------------------------------------  15.5/15.5 MB 2.5 MB/s eta 0:00:01\n",
      "   ---------------------------------------  15.5/15.5 MB 2.5 MB/s eta 0:00:01\n",
      "   ---------------------------------------  15.5/15.5 MB 2.5 MB/s eta 0:00:01\n",
      "   ---------------------------------------  15.5/15.5 MB 2.5 MB/s eta 0:00:01\n",
      "   ---------------------------------------  15.5/15.5 MB 2.5 MB/s eta 0:00:01\n",
      "   ---------------------------------------  15.5/15.5 MB 2.5 MB/s eta 0:00:01\n",
      "   ---------------------------------------  15.5/15.5 MB 2.5 MB/s eta 0:00:01\n",
      "   ---------------------------------------  15.5/15.5 MB 2.5 MB/s eta 0:00:01\n",
      "   ---------------------------------------  15.5/15.5 MB 2.5 MB/s eta 0:00:01\n",
      "   ---------------------------------------  15.5/15.5 MB 2.5 MB/s eta 0:00:01\n",
      "   ---------------------------------------  15.5/15.5 MB 2.5 MB/s eta 0:00:01\n",
      "   ---------------------------------------  15.5/15.5 MB 2.5 MB/s eta 0:00:01\n",
      "   ---------------------------------------- 15.5/15.5 MB 1.5 MB/s eta 0:00:00\n",
      "Downloading pydantic_settings-2.8.0-py3-none-any.whl (30 kB)\n",
      "Downloading SQLAlchemy-2.0.38-cp312-cp312-win_amd64.whl (2.1 MB)\n",
      "   ---------------------------------------- 0.0/2.1 MB ? eta -:--:--\n",
      "   --------- ------------------------------ 0.5/2.1 MB 2.8 MB/s eta 0:00:01\n",
      "   ------------------- -------------------- 1.0/2.1 MB 2.8 MB/s eta 0:00:01\n",
      "   ----------------------------- ---------- 1.6/2.1 MB 2.8 MB/s eta 0:00:01\n",
      "   ---------------------------------------  2.1/2.1 MB 2.7 MB/s eta 0:00:01\n",
      "   ---------------------------------------- 2.1/2.1 MB 2.3 MB/s eta 0:00:00\n",
      "Downloading aiohappyeyeballs-2.4.6-py3-none-any.whl (14 kB)\n",
      "Downloading aiosignal-1.3.2-py2.py3-none-any.whl (7.6 kB)\n",
      "Downloading attrs-25.1.0-py3-none-any.whl (63 kB)\n",
      "Downloading frozenlist-1.5.0-cp312-cp312-win_amd64.whl (51 kB)\n",
      "Downloading greenlet-3.1.1-cp312-cp312-win_amd64.whl (299 kB)\n",
      "Downloading langchain_text_splitters-0.3.6-py3-none-any.whl (31 kB)\n",
      "Downloading marshmallow-3.26.1-py3-none-any.whl (50 kB)\n",
      "Downloading multidict-6.1.0-cp312-cp312-win_amd64.whl (28 kB)\n",
      "Downloading propcache-0.3.0-cp312-cp312-win_amd64.whl (44 kB)\n",
      "Downloading smmap-5.0.2-py3-none-any.whl (24 kB)\n",
      "Downloading typing_inspect-0.9.0-py3-none-any.whl (8.8 kB)\n",
      "Downloading yarl-1.18.3-cp312-cp312-win_amd64.whl (90 kB)\n",
      "Downloading mypy_extensions-1.0.0-py3-none-any.whl (4.7 kB)\n",
      "Installing collected packages: smmap, propcache, numpy, mypy-extensions, multidict, marshmallow, greenlet, frozenlist, attrs, aiohappyeyeballs, yarl, typing-inspect, SQLAlchemy, gitdb, aiosignal, pydantic-settings, GitPython, dataclasses-json, aiohttp, langchain-core, langchain-text-splitters, langchain, langchain-community\n",
      "  Attempting uninstall: langchain-core\n",
      "    Found existing installation: langchain-core 0.3.0\n",
      "    Uninstalling langchain-core-0.3.0:\n",
      "      Successfully uninstalled langchain-core-0.3.0\n",
      "Successfully installed GitPython-3.1.43 SQLAlchemy-2.0.38 aiohappyeyeballs-2.4.6 aiohttp-3.11.12 aiosignal-1.3.2 attrs-25.1.0 dataclasses-json-0.6.7 frozenlist-1.5.0 gitdb-4.0.12 greenlet-3.1.1 langchain-0.3.19 langchain-community-0.3.0 langchain-core-0.3.37 langchain-text-splitters-0.3.6 marshmallow-3.26.1 multidict-6.1.0 mypy-extensions-1.0.0 numpy-1.26.4 propcache-0.3.0 pydantic-settings-2.8.0 smmap-5.0.2 typing-inspect-0.9.0 yarl-1.18.3\n",
      "\n"
     ]
    },
    {
     "name": "stderr",
     "output_type": "stream",
     "text": [
      "  WARNING: The script f2py.exe is installed in 'c:\\Users\\Yuichi Katogi\\AppData\\Local\\Programs\\Python\\Python312\\Scripts' which is not on PATH.\n",
      "  Consider adding this directory to PATH or, if you prefer to suppress this warning, use --no-warn-script-location.\n",
      "  WARNING: The script langchain-server.exe is installed in 'c:\\Users\\Yuichi Katogi\\AppData\\Local\\Programs\\Python\\Python312\\Scripts' which is not on PATH.\n",
      "  Consider adding this directory to PATH or, if you prefer to suppress this warning, use --no-warn-script-location.\n",
      "\n",
      "[notice] A new release of pip is available: 24.2 -> 25.0.1\n",
      "[notice] To update, run: python.exe -m pip install --upgrade pip\n"
     ]
    }
   ],
   "source": [
    "# %pip install langchain-community==0.3.0 GitPython==3.1.43"
   ]
  },
  {
   "cell_type": "code",
   "execution_count": 1,
   "metadata": {},
   "outputs": [
    {
     "name": "stdout",
     "output_type": "stream",
     "text": [
      "400\n"
     ]
    }
   ],
   "source": [
    "from langchain_community.document_loaders import GitLoader\n",
    "\n",
    "def file_filter(file_path: str) -> bool:\n",
    "    return file_path.endswith(\".mdx\")\n",
    "\n",
    "loader = GitLoader(\n",
    "    clone_url=\"https://github.com/langchain-ai/langchain\",\n",
    "    repo_path=\"./langchain\",\n",
    "    branch=\"master\",\n",
    "    file_filter=file_filter,\n",
    ")\n",
    "\n",
    "raw_docs = loader.load()\n",
    "print(len(raw_docs))"
   ]
  },
  {
   "cell_type": "markdown",
   "metadata": {},
   "source": [
    "#### 4.6.2 Document transformer"
   ]
  },
  {
   "cell_type": "code",
   "execution_count": null,
   "metadata": {},
   "outputs": [
    {
     "name": "stdout",
     "output_type": "stream",
     "text": [
      "Collecting langchain-text-splitters==0.3.0Note: you may need to restart the kernel to use updated packages.\n",
      "\n",
      "  Downloading langchain_text_splitters-0.3.0-py3-none-any.whl.metadata (2.3 kB)\n",
      "Requirement already satisfied: langchain-core<0.4.0,>=0.3.0 in c:\\users\\yuichi katogi\\appdata\\local\\programs\\python\\python312\\lib\\site-packages (from langchain-text-splitters==0.3.0) (0.3.37)\n",
      "Requirement already satisfied: langsmith<0.4,>=0.1.125 in c:\\users\\yuichi katogi\\appdata\\local\\programs\\python\\python312\\lib\\site-packages (from langchain-core<0.4.0,>=0.3.0->langchain-text-splitters==0.3.0) (0.1.147)\n",
      "Requirement already satisfied: tenacity!=8.4.0,<10.0.0,>=8.1.0 in c:\\users\\yuichi katogi\\appdata\\local\\programs\\python\\python312\\lib\\site-packages (from langchain-core<0.4.0,>=0.3.0->langchain-text-splitters==0.3.0) (8.5.0)\n",
      "Requirement already satisfied: jsonpatch<2.0,>=1.33 in c:\\users\\yuichi katogi\\appdata\\local\\programs\\python\\python312\\lib\\site-packages (from langchain-core<0.4.0,>=0.3.0->langchain-text-splitters==0.3.0) (1.33)\n",
      "Requirement already satisfied: PyYAML>=5.3 in c:\\users\\yuichi katogi\\appdata\\local\\programs\\python\\python312\\lib\\site-packages (from langchain-core<0.4.0,>=0.3.0->langchain-text-splitters==0.3.0) (6.0.2)\n",
      "Requirement already satisfied: packaging<25,>=23.2 in c:\\users\\yuichi katogi\\appdata\\roaming\\python\\python312\\site-packages (from langchain-core<0.4.0,>=0.3.0->langchain-text-splitters==0.3.0) (24.2)\n",
      "Requirement already satisfied: typing-extensions>=4.7 in c:\\users\\yuichi katogi\\appdata\\local\\programs\\python\\python312\\lib\\site-packages (from langchain-core<0.4.0,>=0.3.0->langchain-text-splitters==0.3.0) (4.12.2)\n",
      "Requirement already satisfied: pydantic<3.0.0,>=2.7.4 in c:\\users\\yuichi katogi\\appdata\\local\\programs\\python\\python312\\lib\\site-packages (from langchain-core<0.4.0,>=0.3.0->langchain-text-splitters==0.3.0) (2.10.6)\n",
      "Requirement already satisfied: jsonpointer>=1.9 in c:\\users\\yuichi katogi\\appdata\\local\\programs\\python\\python312\\lib\\site-packages (from jsonpatch<2.0,>=1.33->langchain-core<0.4.0,>=0.3.0->langchain-text-splitters==0.3.0) (3.0.0)\n",
      "Requirement already satisfied: httpx<1,>=0.23.0 in c:\\users\\yuichi katogi\\appdata\\local\\programs\\python\\python312\\lib\\site-packages (from langsmith<0.4,>=0.1.125->langchain-core<0.4.0,>=0.3.0->langchain-text-splitters==0.3.0) (0.28.1)\n",
      "Requirement already satisfied: orjson<4.0.0,>=3.9.14 in c:\\users\\yuichi katogi\\appdata\\local\\programs\\python\\python312\\lib\\site-packages (from langsmith<0.4,>=0.1.125->langchain-core<0.4.0,>=0.3.0->langchain-text-splitters==0.3.0) (3.10.15)\n",
      "Requirement already satisfied: requests<3,>=2 in c:\\users\\yuichi katogi\\appdata\\local\\programs\\python\\python312\\lib\\site-packages (from langsmith<0.4,>=0.1.125->langchain-core<0.4.0,>=0.3.0->langchain-text-splitters==0.3.0) (2.32.3)\n",
      "Requirement already satisfied: requests-toolbelt<2.0.0,>=1.0.0 in c:\\users\\yuichi katogi\\appdata\\local\\programs\\python\\python312\\lib\\site-packages (from langsmith<0.4,>=0.1.125->langchain-core<0.4.0,>=0.3.0->langchain-text-splitters==0.3.0) (1.0.0)\n",
      "Requirement already satisfied: annotated-types>=0.6.0 in c:\\users\\yuichi katogi\\appdata\\local\\programs\\python\\python312\\lib\\site-packages (from pydantic<3.0.0,>=2.7.4->langchain-core<0.4.0,>=0.3.0->langchain-text-splitters==0.3.0) (0.7.0)\n",
      "Requirement already satisfied: pydantic-core==2.27.2 in c:\\users\\yuichi katogi\\appdata\\local\\programs\\python\\python312\\lib\\site-packages (from pydantic<3.0.0,>=2.7.4->langchain-core<0.4.0,>=0.3.0->langchain-text-splitters==0.3.0) (2.27.2)\n",
      "Requirement already satisfied: anyio in c:\\users\\yuichi katogi\\appdata\\local\\programs\\python\\python312\\lib\\site-packages (from httpx<1,>=0.23.0->langsmith<0.4,>=0.1.125->langchain-core<0.4.0,>=0.3.0->langchain-text-splitters==0.3.0) (4.8.0)\n",
      "Requirement already satisfied: certifi in c:\\users\\yuichi katogi\\appdata\\local\\programs\\python\\python312\\lib\\site-packages (from httpx<1,>=0.23.0->langsmith<0.4,>=0.1.125->langchain-core<0.4.0,>=0.3.0->langchain-text-splitters==0.3.0) (2025.1.31)\n",
      "Requirement already satisfied: httpcore==1.* in c:\\users\\yuichi katogi\\appdata\\local\\programs\\python\\python312\\lib\\site-packages (from httpx<1,>=0.23.0->langsmith<0.4,>=0.1.125->langchain-core<0.4.0,>=0.3.0->langchain-text-splitters==0.3.0) (1.0.7)\n",
      "Requirement already satisfied: idna in c:\\users\\yuichi katogi\\appdata\\local\\programs\\python\\python312\\lib\\site-packages (from httpx<1,>=0.23.0->langsmith<0.4,>=0.1.125->langchain-core<0.4.0,>=0.3.0->langchain-text-splitters==0.3.0) (3.10)\n",
      "Requirement already satisfied: h11<0.15,>=0.13 in c:\\users\\yuichi katogi\\appdata\\local\\programs\\python\\python312\\lib\\site-packages (from httpcore==1.*->httpx<1,>=0.23.0->langsmith<0.4,>=0.1.125->langchain-core<0.4.0,>=0.3.0->langchain-text-splitters==0.3.0) (0.14.0)\n",
      "Requirement already satisfied: charset-normalizer<4,>=2 in c:\\users\\yuichi katogi\\appdata\\local\\programs\\python\\python312\\lib\\site-packages (from requests<3,>=2->langsmith<0.4,>=0.1.125->langchain-core<0.4.0,>=0.3.0->langchain-text-splitters==0.3.0) (3.4.1)\n",
      "Requirement already satisfied: urllib3<3,>=1.21.1 in c:\\users\\yuichi katogi\\appdata\\local\\programs\\python\\python312\\lib\\site-packages (from requests<3,>=2->langsmith<0.4,>=0.1.125->langchain-core<0.4.0,>=0.3.0->langchain-text-splitters==0.3.0) (2.3.0)\n",
      "Requirement already satisfied: sniffio>=1.1 in c:\\users\\yuichi katogi\\appdata\\local\\programs\\python\\python312\\lib\\site-packages (from anyio->httpx<1,>=0.23.0->langsmith<0.4,>=0.1.125->langchain-core<0.4.0,>=0.3.0->langchain-text-splitters==0.3.0) (1.3.1)\n",
      "Downloading langchain_text_splitters-0.3.0-py3-none-any.whl (25 kB)\n",
      "Installing collected packages: langchain-text-splitters\n",
      "  Attempting uninstall: langchain-text-splitters\n",
      "    Found existing installation: langchain-text-splitters 0.3.6\n",
      "    Uninstalling langchain-text-splitters-0.3.6:\n",
      "      Successfully uninstalled langchain-text-splitters-0.3.6\n",
      "Successfully installed langchain-text-splitters-0.3.0\n"
     ]
    },
    {
     "name": "stderr",
     "output_type": "stream",
     "text": [
      "ERROR: pip's dependency resolver does not currently take into account all the packages that are installed. This behaviour is the source of the following dependency conflicts.\n",
      "langchain 0.3.19 requires langchain-text-splitters<1.0.0,>=0.3.6, but you have langchain-text-splitters 0.3.0 which is incompatible.\n",
      "\n",
      "[notice] A new release of pip is available: 24.2 -> 25.0.1\n",
      "[notice] To update, run: python.exe -m pip install --upgrade pip\n"
     ]
    }
   ],
   "source": [
    "#%pip install langchain-text-splitters==0.3.0"
   ]
  },
  {
   "cell_type": "code",
   "execution_count": 2,
   "metadata": {},
   "outputs": [
    {
     "name": "stderr",
     "output_type": "stream",
     "text": [
      "Created a chunk of size 6803, which is longer than the specified 1000\n",
      "Created a chunk of size 3302, which is longer than the specified 1000\n",
      "Created a chunk of size 1851, which is longer than the specified 1000\n",
      "Created a chunk of size 1639, which is longer than the specified 1000\n",
      "Created a chunk of size 9269, which is longer than the specified 1000\n",
      "Created a chunk of size 2579, which is longer than the specified 1000\n",
      "Created a chunk of size 17814, which is longer than the specified 1000\n",
      "Created a chunk of size 1700, which is longer than the specified 1000\n",
      "Created a chunk of size 1135, which is longer than the specified 1000\n",
      "Created a chunk of size 1126, which is longer than the specified 1000\n",
      "Created a chunk of size 1098, which is longer than the specified 1000\n",
      "Created a chunk of size 1433, which is longer than the specified 1000\n",
      "Created a chunk of size 1300, which is longer than the specified 1000\n",
      "Created a chunk of size 1166, which is longer than the specified 1000\n",
      "Created a chunk of size 1351, which is longer than the specified 1000\n",
      "Created a chunk of size 1756, which is longer than the specified 1000\n",
      "Created a chunk of size 1643, which is longer than the specified 1000\n",
      "Created a chunk of size 1091, which is longer than the specified 1000\n",
      "Created a chunk of size 1313, which is longer than the specified 1000\n",
      "Created a chunk of size 1422, which is longer than the specified 1000\n",
      "Created a chunk of size 1662, which is longer than the specified 1000\n",
      "Created a chunk of size 1123, which is longer than the specified 1000\n",
      "Created a chunk of size 1174, which is longer than the specified 1000\n",
      "Created a chunk of size 1936, which is longer than the specified 1000\n",
      "Created a chunk of size 1441, which is longer than the specified 1000\n",
      "Created a chunk of size 1498, which is longer than the specified 1000\n",
      "Created a chunk of size 1046, which is longer than the specified 1000\n",
      "Created a chunk of size 1057, which is longer than the specified 1000\n",
      "Created a chunk of size 1363, which is longer than the specified 1000\n",
      "Created a chunk of size 1432, which is longer than the specified 1000\n",
      "Created a chunk of size 1662, which is longer than the specified 1000\n",
      "Created a chunk of size 1281, which is longer than the specified 1000\n",
      "Created a chunk of size 1752, which is longer than the specified 1000\n",
      "Created a chunk of size 1705, which is longer than the specified 1000\n",
      "Created a chunk of size 1266, which is longer than the specified 1000\n",
      "Created a chunk of size 1764, which is longer than the specified 1000\n",
      "Created a chunk of size 1378, which is longer than the specified 1000\n",
      "Created a chunk of size 1596, which is longer than the specified 1000\n",
      "Created a chunk of size 1063, which is longer than the specified 1000\n",
      "Created a chunk of size 1540, which is longer than the specified 1000\n",
      "Created a chunk of size 1888, which is longer than the specified 1000\n",
      "Created a chunk of size 1739, which is longer than the specified 1000\n",
      "Created a chunk of size 42090, which is longer than the specified 1000\n",
      "Created a chunk of size 1147, which is longer than the specified 1000\n",
      "Created a chunk of size 5835, which is longer than the specified 1000\n",
      "Created a chunk of size 1819, which is longer than the specified 1000\n",
      "Created a chunk of size 1182, which is longer than the specified 1000\n",
      "Created a chunk of size 3563, which is longer than the specified 1000\n",
      "Created a chunk of size 1053, which is longer than the specified 1000\n",
      "Created a chunk of size 1140, which is longer than the specified 1000\n",
      "Created a chunk of size 5053, which is longer than the specified 1000\n",
      "Created a chunk of size 1006, which is longer than the specified 1000\n",
      "Created a chunk of size 1651, which is longer than the specified 1000\n",
      "Created a chunk of size 2096, which is longer than the specified 1000\n",
      "Created a chunk of size 8206, which is longer than the specified 1000\n",
      "Created a chunk of size 2933, which is longer than the specified 1000\n",
      "Created a chunk of size 2134, which is longer than the specified 1000\n",
      "Created a chunk of size 1915, which is longer than the specified 1000\n",
      "Created a chunk of size 1129, which is longer than the specified 1000\n",
      "Created a chunk of size 1021, which is longer than the specified 1000\n",
      "Created a chunk of size 1393, which is longer than the specified 1000\n",
      "Created a chunk of size 2357, which is longer than the specified 1000\n",
      "Created a chunk of size 2373, which is longer than the specified 1000\n",
      "Created a chunk of size 2989, which is longer than the specified 1000\n",
      "Created a chunk of size 2736, which is longer than the specified 1000\n",
      "Created a chunk of size 1123, which is longer than the specified 1000\n",
      "Created a chunk of size 1048, which is longer than the specified 1000\n",
      "Created a chunk of size 1083, which is longer than the specified 1000\n",
      "Created a chunk of size 1014, which is longer than the specified 1000\n",
      "Created a chunk of size 1044, which is longer than the specified 1000\n",
      "Created a chunk of size 1012, which is longer than the specified 1000\n",
      "Created a chunk of size 1438, which is longer than the specified 1000\n",
      "Created a chunk of size 1141, which is longer than the specified 1000\n",
      "Created a chunk of size 1036, which is longer than the specified 1000\n",
      "Created a chunk of size 1137, which is longer than the specified 1000\n",
      "Created a chunk of size 1113, which is longer than the specified 1000\n",
      "Created a chunk of size 1337, which is longer than the specified 1000\n",
      "Created a chunk of size 1162, which is longer than the specified 1000\n",
      "Created a chunk of size 1158, which is longer than the specified 1000\n",
      "Created a chunk of size 3603, which is longer than the specified 1000\n",
      "Created a chunk of size 1330, which is longer than the specified 1000\n",
      "Created a chunk of size 1188, which is longer than the specified 1000\n",
      "Created a chunk of size 1170, which is longer than the specified 1000\n",
      "Created a chunk of size 1443, which is longer than the specified 1000\n",
      "Created a chunk of size 3138, which is longer than the specified 1000\n",
      "Created a chunk of size 1121, which is longer than the specified 1000\n",
      "Created a chunk of size 1076, which is longer than the specified 1000\n",
      "Created a chunk of size 1487, which is longer than the specified 1000\n",
      "Created a chunk of size 1045, which is longer than the specified 1000\n"
     ]
    },
    {
     "name": "stdout",
     "output_type": "stream",
     "text": [
      "1405\n"
     ]
    }
   ],
   "source": [
    "from langchain_text_splitters import CharacterTextSplitter\n",
    "\n",
    "text_splitter = CharacterTextSplitter(chunk_size=1000, chunk_overlap=0)\n",
    "\n",
    "docs = text_splitter.split_documents(raw_docs)\n",
    "print(len(docs))"
   ]
  },
  {
   "cell_type": "markdown",
   "metadata": {},
   "source": [
    "#### 4.6.3 Embedding model"
   ]
  },
  {
   "cell_type": "code",
   "execution_count": 5,
   "metadata": {},
   "outputs": [],
   "source": [
    "from langchain_openai import OpenAIEmbeddings\n",
    "\n",
    "embeddings = OpenAIEmbeddings(model=\"text-embedding-3-small\")"
   ]
  },
  {
   "cell_type": "code",
   "execution_count": 6,
   "metadata": {},
   "outputs": [
    {
     "name": "stdout",
     "output_type": "stream",
     "text": [
      "1536\n",
      "[0.020096343010663986, -0.008024655282497406, 0.033230509608983994, -0.02780599147081375, 0.046300604939460754, 0.025371365249156952, -0.01656186394393444, 0.01854800619184971, 0.02675952948629856, -0.021751461550593376, 0.010160292498767376, -0.011222771368920803, -0.015526079572737217, -0.005072137340903282, -0.011778037063777447, 0.06244602054357529, 0.0359000563621521, -0.00035404853406362236, -0.04642874374985695, 0.02588391862809658, 0.03083859570324421, 0.03453324735164642, -0.03901808336377144, 0.021847564727067947, 0.01714916341006756, -0.018622752279043198, -0.020277870818972588, 0.030112478882074356, -0.008494495414197445, -0.10310854762792587, -0.008264914155006409, -0.057363204658031464, -0.03444782271981239, 0.04728299751877785, -0.02212519757449627, 0.03502444177865982, 0.02195434644818306, 0.011308196932077408, -0.007399981375783682, -0.03256846219301224, 0.0006660517537966371, -0.02133501134812832, 0.020886527374386787, 0.01245076209306717, 0.006892767734825611, 0.005416508764028549, 0.007004888728260994, -0.0026909024454653263, -0.046215180307626724, 0.00823821872472763, -0.037437714636325836, 0.0331023707985878, -0.0020288550294935703, -0.022253334522247314, 0.000585965346544981, 0.04907693341374397, -0.018857672810554504, 0.025328652933239937, 0.001668466255068779, -0.019808031618595123, 0.01725594513118267, 0.004781156778335571, -0.050571877509355545, 0.06453894078731537, -0.0007174405036494136, 0.03438375145196915, 0.0023772306740283966, -0.03092402033507824, -0.06603389233350754, 0.004180509131401777, -0.0390607975423336, 0.039338428527116776, 0.032269470393657684, -0.04130321741104126, -0.007864482700824738, -0.014180628582835197, -0.033486783504486084, 0.03478952497243881, -0.012749752029776573, 0.02962128259241581, -0.00823287945240736, 0.05381804704666138, -0.024986950680613518, -0.05116985738277435, 0.024154052138328552, 0.017384083941578865, 0.006422927603125572, 0.028040912002325058, -0.0015670234570279717, 0.009263324551284313, 0.04036353528499603, 0.01673271507024765, -0.026631390675902367, 0.02449575439095497, 0.013262304477393627, 0.03867638111114502, 0.027720564976334572, -0.04316122084856033, -0.003126038471236825, 0.02752835862338543, -0.020929239690303802, -0.030368754640221596, 0.03440510854125023, -0.03782212734222412, 0.06411181390285492, -0.0604812353849411, 0.0414954237639904, -0.0013207579031586647, 0.028788384050130844, 0.0031607423443347216, -0.056765224784612656, -0.00023675535339862108, -0.024367615580558777, -0.0351739376783371, 0.013838926330208778, -0.012920602224767208, 0.02117483876645565, 0.01899649016559124, -0.0032995587680488825, -0.0024372953921556473, -0.03357221186161041, 0.037501782178878784, -0.01628423109650612, -0.03831332549452782, 0.006967515219002962, -0.0383346788585186, 0.00012922270980197936, -0.06223245710134506, -0.037587206810712814, -0.00029014627216383815, 0.05915714055299759, -0.017362726852297783, 0.08516919612884521, -0.06458165496587753, 0.05390347167849541, -0.01567557454109192, 0.00017418788047507405, -0.027934128418564796, 0.00040710577741265297, 0.012183807790279388, 0.0189217422157526, -0.02021380141377449, 0.02848939411342144, 0.028809741139411926, -0.046129755675792694, 0.018676143139600754, 0.017202554270625114, -0.01872953400015831, -0.04651416838169098, -0.03709601238369942, -0.05821745842695236, -0.020502112805843353, -0.0326111726462841, -0.04207204654812813, -0.06193346530199051, 0.003243498271331191, -0.01699966937303543, 0.025755779817700386, 0.035323433578014374, 0.020085664466023445, -0.056338097900152206, -0.01830240711569786, 0.018441224470734596, 0.018836315721273422, 0.002885779133066535, 0.016775427386164665, 0.02455982379615307, -0.01985074393451214, -0.018110200762748718, -0.06031038239598274, -0.005056119989603758, -0.011094633489847183, -0.01664728857576847, 0.004564923699945211, 0.014661146327853203, -0.031073516234755516, -0.018163591623306274, -0.018142234534025192, -0.002939170226454735, -0.030988089740276337, -0.007442694157361984, -0.04608704149723053, -0.025072375312447548, 0.04715485870838165, -0.04706943407654762, -0.021932989358901978, -0.02359878644347191, 0.05847373604774475, -0.043695129454135895, 0.007773717865347862, -0.03372170403599739, 0.07803616672754288, -0.008510512299835682, 0.015387263149023056, 0.02535000815987587, -0.007629562634974718, -0.0033396021462976933, -0.006577761378139257, 0.012707038782536983, -0.00426860386505723, 0.03137250617146492, 0.0003827461623586714, 0.017533577978610992, 0.013646719045937061, -0.020096343010663986, 0.030112478882074356, -0.02162332274019718, 0.007880499586462975, -0.017458830028772354, -0.0379716232419014, 0.013048741035163403, 0.04724028706550598, -0.019113948568701744, 0.019274121150374413, -0.024965593591332436, -0.028702959418296814, 0.018345119431614876, 0.07060415297746658, -0.0002943174331448972, 0.017352048307657242, -0.006657847668975592, 0.03630582615733147, -0.011532438918948174, -0.0006677202181890607, -0.02003227360546589, 0.035601064562797546, -0.02127094194293022, -0.05582554638385773, 0.007885838858783245, -0.027037162333726883, 0.05181054770946503, 0.0006313476478680968, -0.011137345805764198, 0.016487115994095802, -0.008553225547075272, 0.009823929518461227, -0.05642352253198624, 0.03686109185218811, -0.011083954945206642, -0.04147406667470932, -0.029920270666480064, -0.014938779175281525, -0.026439184322953224, 0.03425561264157295, -0.03651938959956169, -0.028895165771245956, -0.008264914155006409, -0.019145984202623367, 0.010715557262301445, 0.05061459168791771, 0.007255826145410538, -0.021997058764100075, 0.031586069613695145, -0.05202411115169525, -0.04835081845521927, -0.017320014536380768, -0.015312516130506992, 0.0017325353110209107, 0.0008062028791755438, -0.0062734331004321575, 0.014137915335595608, 0.023769637569785118, 0.00564342038705945, 0.022808600217103958, -0.000880950188729912, -0.02989891543984413, 0.0371173657476902, -0.00429263012483716, 0.00012254885223228484, 0.028169048950076103, 0.02039533108472824, -0.0128992460668087, 0.06436809152364731, -0.017928671091794968, -0.007779057137668133, 0.03021926060318947, 0.0019888116512447596, -0.054501451551914215, 0.030368754640221596, 0.033764418214559555, 0.009236629121005535, 0.006444284226745367, -0.02552085928618908, 0.03572920337319374, -0.006972854025661945, 0.009247307665646076, -0.031393859535455704, -0.009770538657903671, -0.061036501079797745, 0.006268093828111887, 0.005221631843596697, -0.02317165955901146, 0.016967633739113808, -0.01595320738852024, 0.010598097927868366, 0.021559253334999084, -0.0135079026222229, 0.007469389587640762, 0.018110200762748718, -0.004719757474958897, 0.011212092824280262, 0.03923164680600166, 0.014127237722277641, 0.010010797530412674, -0.012098382227122784, -0.0037880856543779373, -0.05462959036231041, -0.04014997184276581, 0.030261972919106483, -0.019274121150374413, -0.007309217005968094, 0.02761378325521946, 0.0038494854234158993, 0.01455436460673809, -0.002098263241350651, -0.0531773567199707, -0.01619880460202694, -0.0023905783891677856, 0.025926630944013596, -0.016049310564994812, 0.019893456250429153, 0.008953657001256943, -0.02054482512176037, -0.009973423555493355, -0.06099378690123558, 0.012034313753247261, -0.04228560999035835, -0.019637180492281914, -0.028702959418296814, -0.006300128530710936, 0.02710123173892498, 0.011863462626934052, 0.018526649102568626, -0.006780646741390228, 0.01630558632314205, -0.010822339914739132, -0.006310806609690189, 0.01881496049463749, -0.003523800754919648, -0.01681813970208168, -0.04583076387643814, 0.02569171041250229, -0.007410659454762936, -0.04459209740161896, 0.021708747372031212, 0.0068607330322265625, -0.010090883821249008, 0.04136728495359421, 0.01341179944574833, -0.021634001284837723, 0.018708178773522377, 0.0073839640244841576, 0.0016564532415941358, 0.010475298389792442, 0.016625933349132538, 0.00810474157333374, -0.02806226722896099, -0.06398367881774902, 0.014180628582835197, -0.057277780026197433, -0.021932989358901978, 0.01647643744945526, 0.015728965401649475, -0.0007027579704299569, 0.009231289848685265, 0.01708509400486946, 0.019060557708144188, 0.00340901012532413, 0.027079874649643898, -0.016508473083376884, 0.03446917608380318, 0.013305016793310642, 0.010411228984594345, -0.035408858209848404, -0.0001281382137676701, 0.011500404216349125, -0.03519529476761818, 0.019466329365968704, -0.019989561289548874, 0.02185824327170849, -0.011778037063777447, 0.04173034429550171, 0.023833706974983215, 0.017800532281398773, 0.010571402497589588, 0.02100398764014244, -0.015269802883267403, 0.02438897266983986, 0.01848393678665161, -0.03186370059847832, -0.0062467376701533794, -0.010421907529234886, -0.026610033586621284, 0.02517915703356266, -0.015312516130506992, -0.014864032156765461, 0.008211523294448853, -0.0009283346007578075, 0.0046049668453633785, 0.008457121439278126, 0.005931731313467026, 0.029407719150185585, 0.03109487146139145, 0.0062734331004321575, 0.022595036774873734, 0.0195944681763649, 0.024089982733130455, -0.0059424093924462795, 0.00928468070924282, -0.05984054133296013, 0.020000237971544266, -0.007885838858783245, 0.028702959418296814, -0.036711595952510834, -0.007325234357267618, 0.02118551731109619, -0.04249917343258858, 0.010854373686015606, -0.02255232445895672, 0.038911301642656326, 0.009348750114440918, -0.01442622672766447, -0.025243226438760757, -0.031500641256570816, -0.03231218457221985, 0.02413269504904747, 0.07244080305099487, -0.034212902188301086, 0.0208117812871933, -0.010042832233011723, 0.028980590403079987, -0.03570784628391266, 0.04984576255083084, 0.019893456250429153, -0.03613497316837311, 0.016423046588897705, 0.001954107778146863, -0.018953775987029076, 0.03694651648402214, -0.01888970658183098, 0.008772128261625767, 0.007773717865347862, -0.04217882826924324, 0.035494282841682434, -0.07060415297746658, 0.014041812159121037, 0.021484505385160446, 0.05796118080615997, 0.0006760625401511788, 0.002696241484954953, 0.06261686980724335, -0.0475819893181324, -0.016070667654275894, -0.01619880460202694, -0.013262304477393627, -0.009898676536977291, -0.018355797976255417, -0.04608704149723053, 0.0647525042295456, -0.0303046852350235, 0.004954677540808916, 0.04484837129712105, -0.03434104099869728, 0.016529828310012817, -0.015803711488842964, -0.04668502137064934, 0.03910350799560547, 0.020630251616239548, 0.01995752565562725, 0.004914634395390749, 0.0294504314661026, 0.009001709520816803, -0.027250725775957108, 0.014565043151378632, -0.03649803251028061, -0.023492004722356796, -0.016935599967837334, -0.03250439092516899, -0.020363297313451767, -0.029685351997613907, 0.013443833217024803, 0.01647643744945526, -0.03502444177865982, -0.03024061769247055, 0.022787244990468025, 0.11002800613641739, -0.016487115994095802, 0.03265388682484627, 0.010704879648983479, 0.023235728964209557, -0.016487115994095802, 0.018441224470734596, 0.033337291330099106, -0.005755541380494833, -0.0020595546811819077, -0.015985241159796715, -0.04100422561168671, -0.03844146057963371, -0.026353757828474045, 0.002199705922976136, -0.03961606323719025, -0.06265958398580551, -0.04941863566637039, 0.010245717130601406, -0.02066228538751602, -0.08952589333057404, -0.0686393678188324, 0.007848464883863926, -0.011308196932077408, -0.054757729172706604, 0.020448721945285797, 0.05322006717324257, -0.008617294020950794, 0.018846994265913963, -0.019231408834457397, -0.0019073906587436795, -0.0009530279203318059, 0.028702959418296814, 0.004265934694558382, 0.014970813877880573, -0.02866024523973465, -0.0026188245974481106, 0.0391889363527298, -0.04907693341374397, -0.009231289848685265, 0.042050689458847046, -0.042200181633234024, -0.04425039514899254, 0.021997058764100075, -0.003985632210969925, -0.0026722154580056667, -0.05279294028878212, -0.01198092196136713, -0.024282190948724747, -0.007255826145410538, -0.05984054133296013, 0.020000237971544266, -0.014607755467295647, -0.019840065389871597, -0.013358408585190773, 0.011180059053003788, 0.017138484865427017, -0.026716817170381546, 0.03677566722035408, 0.02857482060790062, -0.025926630944013596, 0.003417018800973892, -0.04228560999035835, -0.0010384534252807498, 0.015835747122764587, -0.0077897352166473866, 0.0007294534589163959, 0.015921171754598618, 0.017191875725984573, 0.03816382959485054, 0.004658357705920935, 0.0011505743023008108, 0.02814769372344017, -0.03730957582592964, 0.010432586073875427, -0.02517915703356266, -0.0045035239309072495, -0.02054482512176037, 0.008393052965402603, -0.007997959852218628, -0.0027496323455125093, -0.025777136906981468, -0.06624745577573776, -0.017651038244366646, 0.014586399309337139, 0.00594774866476655, 0.04446395859122276, 0.006812681443989277, 0.06667458266019821, -0.002965865656733513, 0.008643990382552147, 0.027421576902270317, -0.052237674593925476, -0.006390892900526524, -0.001900716801173985, 0.015568791888654232, -0.023684212937951088, -0.01856936141848564, 0.018163591623306274, -0.012514831498265266, 0.020587539300322533, 0.04634331911802292, -0.03406340628862381, -0.013326373882591724, -0.011254806071519852, 0.01441554818302393, -0.011137345805764198, 0.011468369513750076, -0.010518011637032032, 0.01154311653226614, -0.015323193743824959, 0.01768307201564312, 0.010907764546573162, -0.05714964121580124, 0.022338761016726494, 0.04252052679657936, -0.037523139268159866, 0.0060812258161604404, 0.0374804250895977, -0.0037880856543779373, 0.01636965572834015, 0.008745432831346989, -0.01567557454109192, 0.03199183940887451, 0.022595036774873734, 0.056338097900152206, -0.003152733901515603, -0.034704096615314484, -0.038291968405246735, -0.0007728335913270712, 0.025371365249156952, -0.01924208737909794, 0.01063547097146511, -0.002629502909258008, 0.010106900706887245, -0.014362157322466373, -0.004805182572454214, 0.029728064313530922, 0.01276042964309454, -0.0346827432513237, -0.003702660324051976, -0.03476816788315773, 0.013347730040550232, -0.059541553258895874, 0.04173034429550171, -0.07068958133459091, 0.05052916705608368, -0.004762470256537199, -0.008969674818217754, 0.028959235176444054, 0.013219592161476612, 0.028468038886785507, -0.006262755021452904, -0.024986950680613518, 0.026076124981045723, -0.00760286720469594, -0.002960526617243886, 0.025157801806926727, -0.02404727041721344, 0.03756584972143173, -0.0034517229069024324, -0.016337621957063675, 0.03572920337319374, -0.0014695851132273674, -0.019498363137245178, -0.009386124089360237, -0.01546201016753912, 0.012279911898076534, 0.0007394642452709377, 0.018366476520895958, 0.0037720685359090567, -0.005085485056042671, -0.012867211364209652, 0.020587539300322533, 0.003216802841052413, -0.017480187118053436, -0.04817996546626091, -0.018430545926094055, 0.02665274776518345, -0.015963885933160782, -0.0056113856844604015, 0.005846305750310421, 0.031073516234755516, 0.009466210380196571, 0.012408049777150154, -0.005525960121303797, 0.006839376874268055, 0.02362014353275299, -0.018975133076310158, 0.01630558632314205, -0.018227659165859222, -0.004954677540808916, 0.0026108159217983484, -0.007303877733647823, 0.0202031247317791, -0.007314555812627077, 0.013582649640738964, -0.0016350969672203064, -0.0533054955303669, 0.016625933349132538, -0.012279911898076534, -0.002004829002544284, 0.008046011440455914, 0.03165013715624809, -0.0014722546329721808, 0.022595036774873734, -0.010897086933255196, -0.009834607131779194, -0.041602205485105515, 7.295368413906544e-05, 0.0315219983458519, -0.012482796795666218, 0.01891106367111206, -0.023684212937951088, 0.01363604050129652, -0.002528059994801879, -0.03632718324661255, -0.010352499783039093, -0.022189266979694366, -0.027165299281477928, -0.020502112805843353, -0.008307627402245998, -0.004917303565889597, 0.009343410842120647, -0.026951735839247704, -0.05134071037173271, 0.002189027611166239, -0.03827061131596565, -0.012685682624578476, -0.029834846034646034, -0.03004840947687626, 0.0074587115086615086, -0.008126097731292248, -0.030881308019161224, 0.007234469521790743, -0.0037880856543779373, 0.010122918523848057, -0.009898676536977291, -0.04702672362327576, 0.03021926060318947, 0.010784965939819813, 0.0033209151588380337, 0.0026028072461485863, 0.00349710532464087, 0.02840396948158741, 0.03666888549923897, -0.024773387238383293, -0.02902330458164215, 0.008457121439278126, 0.0032595156226307154, -0.011254806071519852, -0.011222771368920803, 0.03496037423610687, -0.03788619861006737, -0.016529828310012817, -0.032717954367399216, -0.0029365005902945995, 0.04869252070784569, 0.04467752203345299, -0.022851314395666122, -0.023684212937951088, -9.393465006724e-05, 0.06838309019804001, -0.005120189394801855, -0.01656186394393444, 0.0165511853992939, 0.0038574938662350178, 0.008222201839089394, -0.029471788555383682, 0.016924921423196793, -0.008932300843298435, 0.006908785086125135, -0.007480067666620016, -0.001234665047377348, -0.007949908263981342, 0.009823929518461227, 0.037160079926252365, 0.02673817239701748, 0.02562764100730419, -0.01656186394393444, 0.026353757828474045, -0.06701628118753433, 0.0014922762056812644, 0.02682359889149666, -0.013700109906494617, 0.0035718525759875774, 0.003705329727381468, 0.05360448360443115, 0.0025200513191521168, 0.006940819788724184, 0.010288430377840996, -0.005307057406753302, -0.01697831228375435, -0.009380784817039967, -0.024346260353922844, -0.014127237722277641, -0.0023091572802513838, -0.0056861331686377525, -0.029300937429070473, -0.024623891338706017, 0.026866311207413673, -0.040812019258737564, 0.0327393114566803, 0.009391462430357933, -0.023812349885702133, -0.023769637569785118, -0.015323193743824959, 0.015494044870138168, -0.006609796080738306, 0.005563333630561829, -0.008638651110231876, -0.016967633739113808, -0.016572540625929832, -0.03921028971672058, -0.0025507512036710978, -0.010304447263479233, -0.00444479426369071, -0.0003390323545318097, 0.033935267478227615, 0.1120782196521759, -0.0046183145605027676, -0.03406340628862381, 0.002411934779956937, -0.04467752203345299, -0.030710456892848015, -0.029236868023872375, 0.019551753997802734, -0.003905545687302947, 0.0161881260573864, -0.021014666184782982, -0.002661537379026413, -0.007020906079560518, 0.007907195016741753, 0.008926961570978165, 0.04224289581179619, 0.026439184322953224, -0.027143944054841995, -0.012141095474362373, -0.014565043151378632, 0.03709601238369942, 0.00411643972620368, 0.03572920337319374, 0.00919391680508852, -0.02073703333735466, -0.052237674593925476, 0.014041812159121037, 0.04249917343258858, 0.019327513873577118, -0.009065777994692326, 0.05010204017162323, 0.017917992547154427, 0.0006236726767383516, -0.05343363434076309, -0.03572920337319374, -0.03128707781434059, -0.04425039514899254, -0.016348300501704216, 0.017362726852297783, -0.02885245345532894, -0.00526968389749527, -0.011083954945206642, -0.02150586247444153, 0.02291538193821907, -0.005112180486321449, -0.0660765990614891, 0.014928101561963558, 0.005905035883188248, -0.030475536361336708, -0.015483366325497627, 0.021484505385160446, 0.06223245710134506, -0.012397371232509613, -0.04749656096100807, -0.0258625615388155, 0.018750891089439392, 0.01750154420733452, 0.01777917705476284, -0.03856959939002991, 0.03205590695142746, 0.013646719045937061, 0.014201984740793705, 0.012418728321790695, -2.5590101358829997e-05, 0.034725453704595566, 0.006241398397833109, 0.03231218457221985, 0.023833706974983215, -0.0411323644220829, 0.003908215556293726, -0.007421337999403477, -0.040299467742443085, -0.005483247339725494, 0.060865648090839386, -0.018622752279043198, 0.003470409894362092, -0.03214133530855179, -0.005144215188920498, -0.05219496414065361, 0.03041146881878376, -0.010603436268866062, -0.03630582615733147, 0.026076124981045723, -0.007405320648103952, 0.035515639930963516, 0.02327844128012657, -0.01802477426826954, 0.023492004722356796, -0.013230269774794579, -0.00525099691003561, 0.02492288127541542, 0.021751461550593376, -0.011575151234865189, 0.008286270312964916, 0.0019167340360581875, 0.02351336181163788, 0.009300698526203632, 0.011468369513750076, -0.0004681716382037848, 0.010736914351582527, 0.03049689345061779, -0.009898676536977291, 0.012877889908850193, 0.04715485870838165, -0.006353519391268492, -0.013593328185379505, 0.013497225008904934, 0.016049310564994812, 0.0009550300892442465, -0.02475203014910221, 0.0282331183552742, 0.0005939739639870822, -0.012247877195477486, 0.023726925253868103, 0.0023011486046016216, -0.007084975019097328, 0.028809741139411926, -0.016796782612800598, 0.01198092196136713, 0.018345119431614876, -0.003360958304256201, -0.006150634028017521, 0.00165511853992939, -0.040812019258737564, -0.017298657447099686, -0.0020101680420339108, 0.009781216271221638, -0.005194936413317919, -0.03739500045776367, 0.006577761378139257, 0.00668454309925437, -0.05035831406712532, 0.03583598509430885, -0.0125041538849473, -0.00102910993155092, 0.0024399650283157825, -0.0035852002911269665, 0.025905273854732513, 0.014319445006549358, 0.0032782023772597313, 0.03773670271039009, -0.019722605124115944, 0.020598215982317924, -0.01864410936832428, 0.008724076673388481, -0.005064128898084164, -0.011350909247994423, -0.006866072304546833, 0.02866024523973465, -0.028446681797504425, -0.010555384680628777, -0.0029818827752023935, 0.06432537734508514, -0.00464234035462141, 0.03128707781434059, 0.0071009923703968525, 0.01995752565562725, -0.004394072573632002, -0.005125528201460838, -0.014799962751567364, 0.020331261679530144, 0.0004338012367952615, 0.008312966674566269, 0.024025913327932358, -0.01664728857576847, -0.011404300108551979, -0.00793389044702053, 0.038548242300748825, -0.016017276793718338, 0.025157801806926727, -0.027122586965560913, -0.0013254295336082578, 0.021281620487570763, -0.032013196498155594, 0.011083954945206642, 0.018590718507766724, 0.04800911620259285, 0.022509612143039703, 0.016401691362261772, -0.017298657447099686, 0.007346590515226126, 0.0011572481598705053, 0.013080775737762451, -0.01986142247915268, 0.03805704787373543, 0.005590029526501894, 0.023641498759388924, 0.004313986282795668, -0.028040912002325058, -0.010614114813506603, 0.002680224133655429, -0.004968025255948305, 0.012408049777150154, -0.020373975858092308, 0.019145984202623367, 0.021132126450538635, -0.012664326466619968, -0.02806226722896099, -7.132693281164393e-05, 0.01663661003112793, 0.023748280480504036, 0.030603675171732903, 0.010213683359324932, -0.01734137162566185, -0.010421907529234886, 0.0122905895113945, 0.012536187656223774, 0.017917992547154427, -0.003230150556191802, 0.0141165591776371, -0.013390442356467247, -0.056508950889110565, -0.04446395859122276, -0.005261674989014864, -0.006823359522968531, 0.0075227804481983185, 0.003019256517291069, -0.035067155957221985, -0.04775283858180046, 0.04467752203345299, -0.011500404216349125, 0.022979451343417168, 0.0014775936724618077, 0.01611337997019291, 0.06992074847221375, 0.03963742032647133, 0.010550045408308506, 0.02100398764014244, 0.0002294141158927232, 0.028190406039357185, -0.008649328723549843, 0.03363627940416336, -0.003721347078680992, 0.03583598509430885, 0.03728821873664856, -0.010945138521492481, 0.0004384729254525155, 0.005363117903470993, 0.011372266337275505, 0.007528119720518589, -0.012130416929721832, 0.0475819893181324, 0.018857672810554504, 0.042114757001399994, -0.02752835862338543, 0.04655688256025314, -0.0010431250557303429, 0.011746002361178398, -0.05279294028878212, 0.01663661003112793, 0.0362631119787693, 0.02351336181163788, 0.02927958033978939, 0.011051920242607594, 0.01428741030395031, -0.012408049777150154, 0.028895165771245956, 0.018174268305301666, 0.02308623306453228, -0.011735323816537857, -0.018313085660338402, -0.004060379229485989, 0.001413524616509676, 0.014949457719922066, 0.03617768734693527, 0.01233330275863409, 0.009428836405277252, -0.0033262541983276606, 0.033508140593767166, 0.008798823691904545, -0.006470979657024145, -0.009818590246140957, -0.03162878006696701, -0.0023398571647703648, -0.010315125808119774, 0.008056689985096455, -0.02866024523973465, 0.007111670449376106, -0.013646719045937061, -0.007923212833702564, -0.017352048307657242, 0.014565043151378632, 0.011628542095422745, -0.04382326826453209, 0.04390869289636612, -0.025777136906981468, 0.03291016444563866, -0.013582649640738964, -0.0014655807754024863, -0.005782236810773611, -0.0062734331004321575, 0.03355085477232933, 0.009738503955304623, -0.014223340898752213, -0.03024061769247055, 0.01813155598938465, 0.005237649194896221, -0.020448721945285797, 0.014095203019678593, -0.0021983711048960686, -0.0023144963197410107, -0.0038628331385552883, -0.018366476520895958, 0.015355228446424007, 0.05800389498472214, -0.00165511853992939, 0.010010797530412674, -0.0025934639852494, -0.030133835971355438, 0.008120758458971977, 0.05497129261493683, -0.01154311653226614, -0.007656258065253496, -0.010523349978029728, -0.01233330275863409, -0.024324903264641762, 0.011500404216349125, 0.019359547644853592, -0.007981942966580391, -0.03256846219301224, 0.0012233194429427385, -0.01760832592844963, -0.010320465080440044, 0.010742252692580223, -0.0315219983458519, 0.0125041538849473, 0.03850553184747696, -0.00033669648109935224, -0.005080146249383688, 0.006177329458296299, 0.025563571602106094, -0.0035665135364979506, 0.010614114813506603, -0.014404870569705963, 0.010154953226447105, 0.010053509846329689, -0.005606046412140131, 0.01793934963643551, -0.04034217819571495, 0.014212663285434246, 0.019455650821328163, 0.04869252070784569, 0.009375445544719696, 0.011991600506007671, -0.01233330275863409, 0.023043520748615265, -0.04860709235072136, 0.0005883012199774384, -0.0362631119787693, 0.010656828060746193, 0.009786555543541908, 0.004791834857314825, 0.013187557458877563, 0.00018353128689341247, -0.017629681155085564, -0.02891652286052704, 0.014810641296207905, 0.012642969377338886, -0.0002220728638349101, 0.024175409227609634, 0.0034997747279703617, -0.002222397131845355, -0.02091856300830841, -0.005002729129046202, 0.0007968595018610358, -0.014661146327853203, -0.03592140972614288, -0.025157801806926727, -0.004826539196074009, 0.009119168855249882, 0.006967515219002962, -0.03004840947687626, 0.01970124989748001, 0.007560154423117638, -0.016262874007225037, 0.008761449716985226, 0.02560628578066826, -0.03094537742435932, -0.05838831141591072, 0.003131377510726452, -0.04051303118467331, -0.019583789631724358, 0.015312516130506992, -0.006465640384703875, 0.035430215299129486, -0.02998434007167816, 0.012973993085324764, -0.03649803251028061, -0.019669214263558388, 0.026631390675902367, 0.007117009721696377, -0.05236581340432167, 0.01707441546022892, -0.027827346697449684, 0.04450666904449463, 0.028190406039357185, -0.0068447161465883255, -0.005157562904059887, 0.018366476520895958, 0.010437924414873123, 0.04984576255083084, -0.0049973903223872185, 0.011222771368920803, 0.004442124627530575, 0.009391462430357933, -0.0009176564635708928, 0.02866024523973465, -0.024154052138328552, 0.02455982379615307, -0.028104979544878006, 0.004103092011064291, 0.021324332803487778, -0.0189858116209507, 0.028681602329015732, 0.02089720591902733, -0.0030352738685905933, -0.002732280408963561, 0.048478953540325165, 0.01080632209777832, 0.027037162333726883, -0.01742679625749588, 0.002965865656733513, 0.0059157139621675014, -0.004370046779513359, -0.0033209151588380337, 0.024687960743904114, 0.02989891543984413, 0.0008222201722674072, 0.034020695835351944, 0.011425657197833061, 0.01707441546022892, 0.01838783361017704, 0.028339900076389313, -0.0028430665843188763, 4.0877421270124614e-05, 0.03429832682013512, 0.03989369422197342, 0.004025675356388092, 0.023470647633075714, -0.04215747117996216, 0.004919973202049732, 0.016444403678178787, -0.0032595156226307154, 0.022424185648560524, -0.010186987929046154, -0.032717954367399216, 0.005149553995579481, 0.00398296257480979, 0.020021595060825348, 0.004410089924931526, -0.0047437832690775394, -0.005760880187153816, -0.015739643946290016, 0.029236868023872375, 0.003940249793231487, 0.020341940224170685, -0.03355085477232933, -0.002741623669862747, -0.02885245345532894, 9.89400505204685e-05, -0.0009456866537220776, 0.007378625217825174, -0.01110531110316515, -0.01097717322409153, -0.0009957406437024474, 0.004842556547373533, 0.023385223001241684, 0.007421337999403477, -0.008366357535123825, -0.006673865020275116, -0.007949908263981342, 0.01307009719312191, 0.01680746115744114, 0.013358408585190773, 0.012675004079937935, -0.025456789880990982, -0.0024613214191049337, 0.0326111726462841, 0.0068447161465883255, 0.006615134887397289, -0.005165571346879005, 0.03651938959956169, -0.03720279410481453, -0.0315219983458519, 0.004701070487499237, 0.02169807069003582, 0.01567557454109192, 0.01785392314195633, 0.030667744576931, -0.029557213187217712, 0.009466210380196571, 0.002568103140220046, -0.005296379327774048, 0.010245717130601406, -0.013230269774794579, -0.013080775737762451, 0.015494044870138168, 0.025157801806926727, -0.0027469629421830177, -0.006839376874268055, -0.014661146327853203, -0.014874710701406002, -0.012044991366565228, -0.010128257796168327, 0.026375114917755127, -0.021815529093146324, 0.015739643946290016, 0.0128992460668087, -0.02526458352804184, -0.004252586979418993, 0.02987755835056305, -0.015696929767727852, 0.020406009629368782, -0.030731813982129097, -0.0013207579031586647, 0.008665346540510654, -0.011265483684837818, -0.0044875070452690125, -0.018846994265913963, -0.005670115817338228, 0.001207302208058536, 0.0017832567682489753, 0.028019554913043976, -0.005130867473781109, 0.03502444177865982, 0.010112239979207516, 0.009177898988127708, -0.005664776545017958, 0.0025200513191521168, 0.007560154423117638, 0.02362014353275299, -0.027378864586353302, 0.010907764546573162, -0.009653078392148018, 0.024367615580558777, -0.0005679458845406771, 0.006054530385881662, 0.009546296671032906, 0.01803545281291008, 0.024410327896475792, -0.0026682112365961075, 0.008361018262803555, -0.006519031245261431, 0.00901238713413477, 0.017202554270625114, -0.003059299662709236, 0.03374306112527847, -0.010592758655548096, -0.017448153346776962, -0.042221538722515106, 0.020790424197912216, -0.013700109906494617, 0.020598215982317924, -0.00638555409386754, 0.027656497433781624, -0.020459400489926338, 0.04322528839111328, -0.0021690060384571552, -0.014682503417134285, -0.017095772549510002, 0.03344407305121422, 0.020459400489926338, 0.009103151969611645, 0.03575056046247482, -0.006294789258390665, -0.007469389587640762, -0.0040817358531057835, -0.031756918877363205, 0.05813203379511833, -0.0025067036040127277, -0.018708178773522377, 0.031927771866321564, 0.03440510854125023, -0.001668466255068779, 0.014981492422521114, -0.0037960943300276995, -0.014031133614480495, -0.004367377143353224, -0.004594288766384125, -0.01664728857576847, -0.019711928442120552, 0.07389303296804428, 0.007330573163926601, 0.016241516917943954, -0.003662617178633809, 0.047624699771404266, -0.0029712046962231398, 0.03374306112527847, 0.03850553184747696, 0.02806226722896099, 0.005483247339725494, 0.00034370404318906367, 0.01319823507219553, -0.019306156784296036, -0.013881639577448368, 0.030005697160959244, -0.003654608502984047, -0.03730957582592964, 0.03442646563053131, -0.02840396948158741, 0.011158701963722706, -0.00045482389396056533, -0.021932989358901978, 0.016145413741469383, -0.0029044661205261946, -0.006022495683282614, -0.01847325824201107, -0.013454511761665344, -0.014319445006549358, -0.02359878644347191, 0.024196764454245567, -0.0016204144340008497, 0.02648189663887024, 0.0026401809882372618, 0.02752835862338543, -0.02727208100259304, 0.00044981850078329444, -0.020320584997534752, -0.02359878644347191, -0.020192446187138557, -0.014095203019678593, -0.003019256517291069, 0.0022824618499726057, 0.008788145147264004, 0.003243498271331191, 0.0020235157571733, -0.017021024599671364, 0.0012860537972301245, 0.021399080753326416, -0.036711595952510834, -0.009487566538155079, -0.02057686075568199, -0.007923212833702564, 0.02168739214539528, 0.009711808525025845, -0.022189266979694366, 0.0071757398545742035, -0.030390111729502678, -0.011233449913561344, -0.020790424197912216, 0.010913103818893433, -0.016775427386164665, 0.003841476747766137, -0.044293105602264404, -0.013870961032807827, -0.02535000815987587, -0.007106331642717123, 0.008056689985096455, 0.009263324551284313, 0.005347100552171469, 0.010443263687193394, -0.005096163135021925, -0.02562764100730419, 0.00823287945240736, 0.026610033586621284, -0.006038513034582138, 0.01639101281762123, -0.010411228984594345, 0.017992740496993065, -0.002827049233019352, 0.028468038886785507, 0.05138342082500458, 0.010421907529234886, 0.03466138616204262, -0.021046699956059456, 0.015825068578124046, 0.009781216271221638, 0.03876180946826935, -0.009738503955304623, -0.005755541380494833, -0.008227541111409664, -0.00285374466329813, 0.02466660551726818, 0.0063481805846095085, -0.025221871212124825, 0.027208013460040092, 0.016764748841524124, 0.03940249979496002, 0.024175409227609634, 0.015611505135893822, 0.032632529735565186, -0.024431684985756874, -0.016166770830750465, -0.024367615580558777, -0.009028404951095581, -0.02684495411813259, -0.011201415210962296, 0.02727208100259304, -0.010453942231833935, -0.047880977392196655, -0.02675952948629856, 0.001430876669473946, 0.0052056144922971725, -0.009722486138343811, 0.014757250435650349, -0.00988799799233675, -0.02840396948158741, -0.009968084283173084, 0.014362157322466373, 0.03269660100340843, 0.007661596871912479, 0.012685682624578476, 0.010784965939819813, 4.846894444199279e-05, 0.0014508982421830297, -0.003139386186376214, 0.013700109906494617, -0.01742679625749588, -0.007901855744421482, -0.014746571891009808, 0.016775427386164665, -0.015440654009580612, -0.028553463518619537, -0.005400491412729025, 0.04719757288694382, -0.016241516917943954, 0.02874567173421383, -0.0059424093924462795, -0.022765887901186943, 0.002965865656733513, 0.029087373986840248, 0.027827346697449684, -0.022360118106007576, -0.006983532104641199, 0.03169285133481026, -0.0005482580163516104, -0.003892197972163558, 0.012909924611449242, -0.021730104461312294, 0.007613545283675194, -0.008126097731292248, 0.02831854298710823]\n"
     ]
    }
   ],
   "source": [
    "query = \"AWSのS3からデータを読み込むためのDocument loaderはありますか？\"\n",
    "\n",
    "vector = embeddings.embed_query(query)\n",
    "print(len(vector))\n",
    "print(vector)"
   ]
  },
  {
   "cell_type": "markdown",
   "metadata": {},
   "source": [
    "#### 4.6.4 Vector store"
   ]
  },
  {
   "cell_type": "code",
   "execution_count": null,
   "metadata": {},
   "outputs": [
    {
     "name": "stdout",
     "output_type": "stream",
     "text": [
      "Collecting langchain-chroma==0.2.2\n",
      "  Using cached langchain_chroma-0.2.2-py3-none-any.whl.metadata (1.3 kB)\n",
      "Requirement already satisfied: langchain-core!=0.3.0,!=0.3.1,!=0.3.10,!=0.3.11,!=0.3.12,!=0.3.13,!=0.3.14,!=0.3.2,!=0.3.3,!=0.3.4,!=0.3.5,!=0.3.6,!=0.3.7,!=0.3.8,!=0.3.9,<0.4.0,>=0.2.43 in c:\\users\\yuichi katogi\\appdata\\local\\programs\\python\\python312\\lib\\site-packages (from langchain-chroma==0.2.2) (0.3.37)\n",
      "Requirement already satisfied: numpy<2.0.0,>=1.26.2 in c:\\users\\yuichi katogi\\appdata\\local\\programs\\python\\python312\\lib\\site-packages (from langchain-chroma==0.2.2) (1.26.4)\n",
      "Collecting chromadb!=0.5.10,!=0.5.11,!=0.5.12,!=0.5.4,!=0.5.5,!=0.5.7,!=0.5.9,<0.7.0,>=0.4.0 (from langchain-chroma==0.2.2)\n",
      "  Using cached chromadb-0.6.3-py3-none-any.whl.metadata (6.8 kB)\n",
      "Collecting build>=1.0.3 (from chromadb!=0.5.10,!=0.5.11,!=0.5.12,!=0.5.4,!=0.5.5,!=0.5.7,!=0.5.9,<0.7.0,>=0.4.0->langchain-chroma==0.2.2)\n",
      "  Using cached build-1.2.2.post1-py3-none-any.whl.metadata (6.5 kB)\n",
      "Requirement already satisfied: pydantic>=1.9 in c:\\users\\yuichi katogi\\appdata\\local\\programs\\python\\python312\\lib\\site-packages (from chromadb!=0.5.10,!=0.5.11,!=0.5.12,!=0.5.4,!=0.5.5,!=0.5.7,!=0.5.9,<0.7.0,>=0.4.0->langchain-chroma==0.2.2) (2.10.6)\n",
      "Collecting chroma-hnswlib==0.7.6 (from chromadb!=0.5.10,!=0.5.11,!=0.5.12,!=0.5.4,!=0.5.5,!=0.5.7,!=0.5.9,<0.7.0,>=0.4.0->langchain-chroma==0.2.2)\n",
      "  Using cached chroma_hnswlib-0.7.6.tar.gz (32 kB)\n",
      "  Installing build dependencies: started\n",
      "  Installing build dependencies: finished with status 'done'\n",
      "  Getting requirements to build wheel: started\n",
      "  Getting requirements to build wheel: finished with status 'done'\n",
      "  Preparing metadata (pyproject.toml): started\n",
      "  Preparing metadata (pyproject.toml): finished with status 'done'\n",
      "Collecting fastapi>=0.95.2 (from chromadb!=0.5.10,!=0.5.11,!=0.5.12,!=0.5.4,!=0.5.5,!=0.5.7,!=0.5.9,<0.7.0,>=0.4.0->langchain-chroma==0.2.2)\n",
      "  Using cached fastapi-0.115.8-py3-none-any.whl.metadata (27 kB)\n",
      "Collecting uvicorn>=0.18.3 (from uvicorn[standard]>=0.18.3->chromadb!=0.5.10,!=0.5.11,!=0.5.12,!=0.5.4,!=0.5.5,!=0.5.7,!=0.5.9,<0.7.0,>=0.4.0->langchain-chroma==0.2.2)\n",
      "  Using cached uvicorn-0.34.0-py3-none-any.whl.metadata (6.5 kB)\n",
      "Collecting posthog>=2.4.0 (from chromadb!=0.5.10,!=0.5.11,!=0.5.12,!=0.5.4,!=0.5.5,!=0.5.7,!=0.5.9,<0.7.0,>=0.4.0->langchain-chroma==0.2.2)\n",
      "  Using cached posthog-3.16.0-py2.py3-none-any.whl.metadata (2.9 kB)\n",
      "Requirement already satisfied: typing_extensions>=4.5.0 in c:\\users\\yuichi katogi\\appdata\\local\\programs\\python\\python312\\lib\\site-packages (from chromadb!=0.5.10,!=0.5.11,!=0.5.12,!=0.5.4,!=0.5.5,!=0.5.7,!=0.5.9,<0.7.0,>=0.4.0->langchain-chroma==0.2.2) (4.12.2)\n",
      "Collecting onnxruntime>=1.14.1 (from chromadb!=0.5.10,!=0.5.11,!=0.5.12,!=0.5.4,!=0.5.5,!=0.5.7,!=0.5.9,<0.7.0,>=0.4.0->langchain-chroma==0.2.2)\n",
      "  Using cached onnxruntime-1.20.1-cp312-cp312-win_amd64.whl.metadata (4.7 kB)\n",
      "Collecting opentelemetry-api>=1.2.0 (from chromadb!=0.5.10,!=0.5.11,!=0.5.12,!=0.5.4,!=0.5.5,!=0.5.7,!=0.5.9,<0.7.0,>=0.4.0->langchain-chroma==0.2.2)\n",
      "  Using cached opentelemetry_api-1.30.0-py3-none-any.whl.metadata (1.6 kB)\n",
      "Collecting opentelemetry-exporter-otlp-proto-grpc>=1.2.0 (from chromadb!=0.5.10,!=0.5.11,!=0.5.12,!=0.5.4,!=0.5.5,!=0.5.7,!=0.5.9,<0.7.0,>=0.4.0->langchain-chroma==0.2.2)\n",
      "  Using cached opentelemetry_exporter_otlp_proto_grpc-1.30.0-py3-none-any.whl.metadata (2.4 kB)\n",
      "Collecting opentelemetry-instrumentation-fastapi>=0.41b0 (from chromadb!=0.5.10,!=0.5.11,!=0.5.12,!=0.5.4,!=0.5.5,!=0.5.7,!=0.5.9,<0.7.0,>=0.4.0->langchain-chroma==0.2.2)\n",
      "  Using cached opentelemetry_instrumentation_fastapi-0.51b0-py3-none-any.whl.metadata (2.2 kB)\n",
      "Collecting opentelemetry-sdk>=1.2.0 (from chromadb!=0.5.10,!=0.5.11,!=0.5.12,!=0.5.4,!=0.5.5,!=0.5.7,!=0.5.9,<0.7.0,>=0.4.0->langchain-chroma==0.2.2)\n",
      "  Using cached opentelemetry_sdk-1.30.0-py3-none-any.whl.metadata (1.6 kB)\n",
      "Collecting tokenizers>=0.13.2 (from chromadb!=0.5.10,!=0.5.11,!=0.5.12,!=0.5.4,!=0.5.5,!=0.5.7,!=0.5.9,<0.7.0,>=0.4.0->langchain-chroma==0.2.2)\n",
      "  Using cached tokenizers-0.21.0-cp39-abi3-win_amd64.whl.metadata (6.9 kB)\n",
      "Collecting pypika>=0.48.9 (from chromadb!=0.5.10,!=0.5.11,!=0.5.12,!=0.5.4,!=0.5.5,!=0.5.7,!=0.5.9,<0.7.0,>=0.4.0->langchain-chroma==0.2.2)\n",
      "  Using cached PyPika-0.48.9-py2.py3-none-any.whl\n",
      "Requirement already satisfied: tqdm>=4.65.0 in c:\\users\\yuichi katogi\\appdata\\local\\programs\\python\\python312\\lib\\site-packages (from chromadb!=0.5.10,!=0.5.11,!=0.5.12,!=0.5.4,!=0.5.5,!=0.5.7,!=0.5.9,<0.7.0,>=0.4.0->langchain-chroma==0.2.2) (4.67.1)\n",
      "Collecting overrides>=7.3.1 (from chromadb!=0.5.10,!=0.5.11,!=0.5.12,!=0.5.4,!=0.5.5,!=0.5.7,!=0.5.9,<0.7.0,>=0.4.0->langchain-chroma==0.2.2)\n",
      "  Using cached overrides-7.7.0-py3-none-any.whl.metadata (5.8 kB)\n",
      "Collecting importlib-resources (from chromadb!=0.5.10,!=0.5.11,!=0.5.12,!=0.5.4,!=0.5.5,!=0.5.7,!=0.5.9,<0.7.0,>=0.4.0->langchain-chroma==0.2.2)\n",
      "  Using cached importlib_resources-6.5.2-py3-none-any.whl.metadata (3.9 kB)\n",
      "Collecting grpcio>=1.58.0 (from chromadb!=0.5.10,!=0.5.11,!=0.5.12,!=0.5.4,!=0.5.5,!=0.5.7,!=0.5.9,<0.7.0,>=0.4.0->langchain-chroma==0.2.2)\n",
      "  Using cached grpcio-1.70.0-cp312-cp312-win_amd64.whl.metadata (4.0 kB)\n",
      "Collecting bcrypt>=4.0.1 (from chromadb!=0.5.10,!=0.5.11,!=0.5.12,!=0.5.4,!=0.5.5,!=0.5.7,!=0.5.9,<0.7.0,>=0.4.0->langchain-chroma==0.2.2)\n",
      "  Using cached bcrypt-4.2.1-cp39-abi3-win_amd64.whl.metadata (10 kB)\n",
      "Collecting typer>=0.9.0 (from chromadb!=0.5.10,!=0.5.11,!=0.5.12,!=0.5.4,!=0.5.5,!=0.5.7,!=0.5.9,<0.7.0,>=0.4.0->langchain-chroma==0.2.2)\n",
      "  Using cached typer-0.15.1-py3-none-any.whl.metadata (15 kB)\n",
      "Collecting kubernetes>=28.1.0 (from chromadb!=0.5.10,!=0.5.11,!=0.5.12,!=0.5.4,!=0.5.5,!=0.5.7,!=0.5.9,<0.7.0,>=0.4.0->langchain-chroma==0.2.2)\n",
      "  Using cached kubernetes-32.0.1-py2.py3-none-any.whl.metadata (1.7 kB)\n",
      "Requirement already satisfied: tenacity>=8.2.3 in c:\\users\\yuichi katogi\\appdata\\local\\programs\\python\\python312\\lib\\site-packages (from chromadb!=0.5.10,!=0.5.11,!=0.5.12,!=0.5.4,!=0.5.5,!=0.5.7,!=0.5.9,<0.7.0,>=0.4.0->langchain-chroma==0.2.2) (8.5.0)\n",
      "Requirement already satisfied: PyYAML>=6.0.0 in c:\\users\\yuichi katogi\\appdata\\local\\programs\\python\\python312\\lib\\site-packages (from chromadb!=0.5.10,!=0.5.11,!=0.5.12,!=0.5.4,!=0.5.5,!=0.5.7,!=0.5.9,<0.7.0,>=0.4.0->langchain-chroma==0.2.2) (6.0.2)\n",
      "Collecting mmh3>=4.0.1 (from chromadb!=0.5.10,!=0.5.11,!=0.5.12,!=0.5.4,!=0.5.5,!=0.5.7,!=0.5.9,<0.7.0,>=0.4.0->langchain-chroma==0.2.2)\n",
      "  Using cached mmh3-5.1.0-cp312-cp312-win_amd64.whl.metadata (16 kB)\n",
      "Requirement already satisfied: orjson>=3.9.12 in c:\\users\\yuichi katogi\\appdata\\local\\programs\\python\\python312\\lib\\site-packages (from chromadb!=0.5.10,!=0.5.11,!=0.5.12,!=0.5.4,!=0.5.5,!=0.5.7,!=0.5.9,<0.7.0,>=0.4.0->langchain-chroma==0.2.2) (3.10.15)\n",
      "Requirement already satisfied: httpx>=0.27.0 in c:\\users\\yuichi katogi\\appdata\\local\\programs\\python\\python312\\lib\\site-packages (from chromadb!=0.5.10,!=0.5.11,!=0.5.12,!=0.5.4,!=0.5.5,!=0.5.7,!=0.5.9,<0.7.0,>=0.4.0->langchain-chroma==0.2.2) (0.28.1)\n",
      "Collecting rich>=10.11.0 (from chromadb!=0.5.10,!=0.5.11,!=0.5.12,!=0.5.4,!=0.5.5,!=0.5.7,!=0.5.9,<0.7.0,>=0.4.0->langchain-chroma==0.2.2)\n",
      "  Using cached rich-13.9.4-py3-none-any.whl.metadata (18 kB)\n",
      "Requirement already satisfied: langsmith<0.4,>=0.1.125 in c:\\users\\yuichi katogi\\appdata\\local\\programs\\python\\python312\\lib\\site-packages (from langchain-core!=0.3.0,!=0.3.1,!=0.3.10,!=0.3.11,!=0.3.12,!=0.3.13,!=0.3.14,!=0.3.2,!=0.3.3,!=0.3.4,!=0.3.5,!=0.3.6,!=0.3.7,!=0.3.8,!=0.3.9,<0.4.0,>=0.2.43->langchain-chroma==0.2.2) (0.1.147)\n",
      "Requirement already satisfied: jsonpatch<2.0,>=1.33 in c:\\users\\yuichi katogi\\appdata\\local\\programs\\python\\python312\\lib\\site-packages (from langchain-core!=0.3.0,!=0.3.1,!=0.3.10,!=0.3.11,!=0.3.12,!=0.3.13,!=0.3.14,!=0.3.2,!=0.3.3,!=0.3.4,!=0.3.5,!=0.3.6,!=0.3.7,!=0.3.8,!=0.3.9,<0.4.0,>=0.2.43->langchain-chroma==0.2.2) (1.33)\n",
      "Requirement already satisfied: packaging<25,>=23.2 in c:\\users\\yuichi katogi\\appdata\\roaming\\python\\python312\\site-packages (from langchain-core!=0.3.0,!=0.3.1,!=0.3.10,!=0.3.11,!=0.3.12,!=0.3.13,!=0.3.14,!=0.3.2,!=0.3.3,!=0.3.4,!=0.3.5,!=0.3.6,!=0.3.7,!=0.3.8,!=0.3.9,<0.4.0,>=0.2.43->langchain-chroma==0.2.2) (24.2)\n",
      "Collecting pyproject_hooks (from build>=1.0.3->chromadb!=0.5.10,!=0.5.11,!=0.5.12,!=0.5.4,!=0.5.5,!=0.5.7,!=0.5.9,<0.7.0,>=0.4.0->langchain-chroma==0.2.2)\n",
      "  Using cached pyproject_hooks-1.2.0-py3-none-any.whl.metadata (1.3 kB)\n",
      "Requirement already satisfied: colorama in c:\\users\\yuichi katogi\\appdata\\roaming\\python\\python312\\site-packages (from build>=1.0.3->chromadb!=0.5.10,!=0.5.11,!=0.5.12,!=0.5.4,!=0.5.5,!=0.5.7,!=0.5.9,<0.7.0,>=0.4.0->langchain-chroma==0.2.2) (0.4.6)\n",
      "Collecting starlette<0.46.0,>=0.40.0 (from fastapi>=0.95.2->chromadb!=0.5.10,!=0.5.11,!=0.5.12,!=0.5.4,!=0.5.5,!=0.5.7,!=0.5.9,<0.7.0,>=0.4.0->langchain-chroma==0.2.2)\n",
      "  Using cached starlette-0.45.3-py3-none-any.whl.metadata (6.3 kB)\n",
      "Requirement already satisfied: anyio in c:\\users\\yuichi katogi\\appdata\\local\\programs\\python\\python312\\lib\\site-packages (from httpx>=0.27.0->chromadb!=0.5.10,!=0.5.11,!=0.5.12,!=0.5.4,!=0.5.5,!=0.5.7,!=0.5.9,<0.7.0,>=0.4.0->langchain-chroma==0.2.2) (4.8.0)\n",
      "Requirement already satisfied: certifi in c:\\users\\yuichi katogi\\appdata\\local\\programs\\python\\python312\\lib\\site-packages (from httpx>=0.27.0->chromadb!=0.5.10,!=0.5.11,!=0.5.12,!=0.5.4,!=0.5.5,!=0.5.7,!=0.5.9,<0.7.0,>=0.4.0->langchain-chroma==0.2.2) (2025.1.31)\n",
      "Requirement already satisfied: httpcore==1.* in c:\\users\\yuichi katogi\\appdata\\local\\programs\\python\\python312\\lib\\site-packages (from httpx>=0.27.0->chromadb!=0.5.10,!=0.5.11,!=0.5.12,!=0.5.4,!=0.5.5,!=0.5.7,!=0.5.9,<0.7.0,>=0.4.0->langchain-chroma==0.2.2) (1.0.7)\n",
      "Requirement already satisfied: idna in c:\\users\\yuichi katogi\\appdata\\local\\programs\\python\\python312\\lib\\site-packages (from httpx>=0.27.0->chromadb!=0.5.10,!=0.5.11,!=0.5.12,!=0.5.4,!=0.5.5,!=0.5.7,!=0.5.9,<0.7.0,>=0.4.0->langchain-chroma==0.2.2) (3.10)\n",
      "Requirement already satisfied: h11<0.15,>=0.13 in c:\\users\\yuichi katogi\\appdata\\local\\programs\\python\\python312\\lib\\site-packages (from httpcore==1.*->httpx>=0.27.0->chromadb!=0.5.10,!=0.5.11,!=0.5.12,!=0.5.4,!=0.5.5,!=0.5.7,!=0.5.9,<0.7.0,>=0.4.0->langchain-chroma==0.2.2) (0.14.0)\n",
      "Requirement already satisfied: jsonpointer>=1.9 in c:\\users\\yuichi katogi\\appdata\\local\\programs\\python\\python312\\lib\\site-packages (from jsonpatch<2.0,>=1.33->langchain-core!=0.3.0,!=0.3.1,!=0.3.10,!=0.3.11,!=0.3.12,!=0.3.13,!=0.3.14,!=0.3.2,!=0.3.3,!=0.3.4,!=0.3.5,!=0.3.6,!=0.3.7,!=0.3.8,!=0.3.9,<0.4.0,>=0.2.43->langchain-chroma==0.2.2) (3.0.0)\n",
      "Requirement already satisfied: six>=1.9.0 in c:\\users\\yuichi katogi\\appdata\\roaming\\python\\python312\\site-packages (from kubernetes>=28.1.0->chromadb!=0.5.10,!=0.5.11,!=0.5.12,!=0.5.4,!=0.5.5,!=0.5.7,!=0.5.9,<0.7.0,>=0.4.0->langchain-chroma==0.2.2) (1.17.0)\n",
      "Requirement already satisfied: python-dateutil>=2.5.3 in c:\\users\\yuichi katogi\\appdata\\roaming\\python\\python312\\site-packages (from kubernetes>=28.1.0->chromadb!=0.5.10,!=0.5.11,!=0.5.12,!=0.5.4,!=0.5.5,!=0.5.7,!=0.5.9,<0.7.0,>=0.4.0->langchain-chroma==0.2.2) (2.9.0.post0)\n",
      "Collecting google-auth>=1.0.1 (from kubernetes>=28.1.0->chromadb!=0.5.10,!=0.5.11,!=0.5.12,!=0.5.4,!=0.5.5,!=0.5.7,!=0.5.9,<0.7.0,>=0.4.0->langchain-chroma==0.2.2)\n",
      "  Using cached google_auth-2.38.0-py2.py3-none-any.whl.metadata (4.8 kB)\n",
      "Collecting websocket-client!=0.40.0,!=0.41.*,!=0.42.*,>=0.32.0 (from kubernetes>=28.1.0->chromadb!=0.5.10,!=0.5.11,!=0.5.12,!=0.5.4,!=0.5.5,!=0.5.7,!=0.5.9,<0.7.0,>=0.4.0->langchain-chroma==0.2.2)\n",
      "  Using cached websocket_client-1.8.0-py3-none-any.whl.metadata (8.0 kB)\n",
      "Requirement already satisfied: requests in c:\\users\\yuichi katogi\\appdata\\local\\programs\\python\\python312\\lib\\site-packages (from kubernetes>=28.1.0->chromadb!=0.5.10,!=0.5.11,!=0.5.12,!=0.5.4,!=0.5.5,!=0.5.7,!=0.5.9,<0.7.0,>=0.4.0->langchain-chroma==0.2.2) (2.32.3)\n",
      "Collecting requests-oauthlib (from kubernetes>=28.1.0->chromadb!=0.5.10,!=0.5.11,!=0.5.12,!=0.5.4,!=0.5.5,!=0.5.7,!=0.5.9,<0.7.0,>=0.4.0->langchain-chroma==0.2.2)\n",
      "  Using cached requests_oauthlib-2.0.0-py2.py3-none-any.whl.metadata (11 kB)\n",
      "Collecting oauthlib>=3.2.2 (from kubernetes>=28.1.0->chromadb!=0.5.10,!=0.5.11,!=0.5.12,!=0.5.4,!=0.5.5,!=0.5.7,!=0.5.9,<0.7.0,>=0.4.0->langchain-chroma==0.2.2)\n",
      "  Using cached oauthlib-3.2.2-py3-none-any.whl.metadata (7.5 kB)\n",
      "Requirement already satisfied: urllib3>=1.24.2 in c:\\users\\yuichi katogi\\appdata\\local\\programs\\python\\python312\\lib\\site-packages (from kubernetes>=28.1.0->chromadb!=0.5.10,!=0.5.11,!=0.5.12,!=0.5.4,!=0.5.5,!=0.5.7,!=0.5.9,<0.7.0,>=0.4.0->langchain-chroma==0.2.2) (2.3.0)\n",
      "Collecting durationpy>=0.7 (from kubernetes>=28.1.0->chromadb!=0.5.10,!=0.5.11,!=0.5.12,!=0.5.4,!=0.5.5,!=0.5.7,!=0.5.9,<0.7.0,>=0.4.0->langchain-chroma==0.2.2)\n",
      "  Using cached durationpy-0.9-py3-none-any.whl.metadata (338 bytes)\n",
      "Requirement already satisfied: requests-toolbelt<2.0.0,>=1.0.0 in c:\\users\\yuichi katogi\\appdata\\local\\programs\\python\\python312\\lib\\site-packages (from langsmith<0.4,>=0.1.125->langchain-core!=0.3.0,!=0.3.1,!=0.3.10,!=0.3.11,!=0.3.12,!=0.3.13,!=0.3.14,!=0.3.2,!=0.3.3,!=0.3.4,!=0.3.5,!=0.3.6,!=0.3.7,!=0.3.8,!=0.3.9,<0.4.0,>=0.2.43->langchain-chroma==0.2.2) (1.0.0)\n",
      "Collecting coloredlogs (from onnxruntime>=1.14.1->chromadb!=0.5.10,!=0.5.11,!=0.5.12,!=0.5.4,!=0.5.5,!=0.5.7,!=0.5.9,<0.7.0,>=0.4.0->langchain-chroma==0.2.2)\n",
      "  Using cached coloredlogs-15.0.1-py2.py3-none-any.whl.metadata (12 kB)\n",
      "Collecting flatbuffers (from onnxruntime>=1.14.1->chromadb!=0.5.10,!=0.5.11,!=0.5.12,!=0.5.4,!=0.5.5,!=0.5.7,!=0.5.9,<0.7.0,>=0.4.0->langchain-chroma==0.2.2)\n",
      "  Using cached flatbuffers-25.2.10-py2.py3-none-any.whl.metadata (875 bytes)\n",
      "Collecting protobuf (from onnxruntime>=1.14.1->chromadb!=0.5.10,!=0.5.11,!=0.5.12,!=0.5.4,!=0.5.5,!=0.5.7,!=0.5.9,<0.7.0,>=0.4.0->langchain-chroma==0.2.2)\n",
      "  Using cached protobuf-5.29.3-cp310-abi3-win_amd64.whl.metadata (592 bytes)\n",
      "Collecting sympy (from onnxruntime>=1.14.1->chromadb!=0.5.10,!=0.5.11,!=0.5.12,!=0.5.4,!=0.5.5,!=0.5.7,!=0.5.9,<0.7.0,>=0.4.0->langchain-chroma==0.2.2)\n",
      "  Using cached sympy-1.13.3-py3-none-any.whl.metadata (12 kB)\n",
      "Collecting deprecated>=1.2.6 (from opentelemetry-api>=1.2.0->chromadb!=0.5.10,!=0.5.11,!=0.5.12,!=0.5.4,!=0.5.5,!=0.5.7,!=0.5.9,<0.7.0,>=0.4.0->langchain-chroma==0.2.2)\n",
      "  Using cached Deprecated-1.2.18-py2.py3-none-any.whl.metadata (5.7 kB)\n",
      "Collecting importlib-metadata<=8.5.0,>=6.0 (from opentelemetry-api>=1.2.0->chromadb!=0.5.10,!=0.5.11,!=0.5.12,!=0.5.4,!=0.5.5,!=0.5.7,!=0.5.9,<0.7.0,>=0.4.0->langchain-chroma==0.2.2)\n",
      "  Using cached importlib_metadata-8.5.0-py3-none-any.whl.metadata (4.8 kB)\n",
      "Collecting googleapis-common-protos~=1.52 (from opentelemetry-exporter-otlp-proto-grpc>=1.2.0->chromadb!=0.5.10,!=0.5.11,!=0.5.12,!=0.5.4,!=0.5.5,!=0.5.7,!=0.5.9,<0.7.0,>=0.4.0->langchain-chroma==0.2.2)\n",
      "  Using cached googleapis_common_protos-1.68.0-py2.py3-none-any.whl.metadata (5.1 kB)\n",
      "Collecting opentelemetry-exporter-otlp-proto-common==1.30.0 (from opentelemetry-exporter-otlp-proto-grpc>=1.2.0->chromadb!=0.5.10,!=0.5.11,!=0.5.12,!=0.5.4,!=0.5.5,!=0.5.7,!=0.5.9,<0.7.0,>=0.4.0->langchain-chroma==0.2.2)\n",
      "  Using cached opentelemetry_exporter_otlp_proto_common-1.30.0-py3-none-any.whl.metadata (1.9 kB)\n",
      "Collecting opentelemetry-proto==1.30.0 (from opentelemetry-exporter-otlp-proto-grpc>=1.2.0->chromadb!=0.5.10,!=0.5.11,!=0.5.12,!=0.5.4,!=0.5.5,!=0.5.7,!=0.5.9,<0.7.0,>=0.4.0->langchain-chroma==0.2.2)\n",
      "  Using cached opentelemetry_proto-1.30.0-py3-none-any.whl.metadata (2.4 kB)\n",
      "Collecting opentelemetry-instrumentation-asgi==0.51b0 (from opentelemetry-instrumentation-fastapi>=0.41b0->chromadb!=0.5.10,!=0.5.11,!=0.5.12,!=0.5.4,!=0.5.5,!=0.5.7,!=0.5.9,<0.7.0,>=0.4.0->langchain-chroma==0.2.2)\n",
      "  Using cached opentelemetry_instrumentation_asgi-0.51b0-py3-none-any.whl.metadata (2.1 kB)\n",
      "Collecting opentelemetry-instrumentation==0.51b0 (from opentelemetry-instrumentation-fastapi>=0.41b0->chromadb!=0.5.10,!=0.5.11,!=0.5.12,!=0.5.4,!=0.5.5,!=0.5.7,!=0.5.9,<0.7.0,>=0.4.0->langchain-chroma==0.2.2)\n",
      "  Using cached opentelemetry_instrumentation-0.51b0-py3-none-any.whl.metadata (6.3 kB)\n",
      "Collecting opentelemetry-semantic-conventions==0.51b0 (from opentelemetry-instrumentation-fastapi>=0.41b0->chromadb!=0.5.10,!=0.5.11,!=0.5.12,!=0.5.4,!=0.5.5,!=0.5.7,!=0.5.9,<0.7.0,>=0.4.0->langchain-chroma==0.2.2)\n",
      "  Using cached opentelemetry_semantic_conventions-0.51b0-py3-none-any.whl.metadata (2.5 kB)\n",
      "Collecting opentelemetry-util-http==0.51b0 (from opentelemetry-instrumentation-fastapi>=0.41b0->chromadb!=0.5.10,!=0.5.11,!=0.5.12,!=0.5.4,!=0.5.5,!=0.5.7,!=0.5.9,<0.7.0,>=0.4.0->langchain-chroma==0.2.2)\n",
      "  Using cached opentelemetry_util_http-0.51b0-py3-none-any.whl.metadata (2.6 kB)\n",
      "Collecting wrapt<2.0.0,>=1.0.0 (from opentelemetry-instrumentation==0.51b0->opentelemetry-instrumentation-fastapi>=0.41b0->chromadb!=0.5.10,!=0.5.11,!=0.5.12,!=0.5.4,!=0.5.5,!=0.5.7,!=0.5.9,<0.7.0,>=0.4.0->langchain-chroma==0.2.2)\n",
      "  Using cached wrapt-1.17.2-cp312-cp312-win_amd64.whl.metadata (6.5 kB)\n",
      "Collecting asgiref~=3.0 (from opentelemetry-instrumentation-asgi==0.51b0->opentelemetry-instrumentation-fastapi>=0.41b0->chromadb!=0.5.10,!=0.5.11,!=0.5.12,!=0.5.4,!=0.5.5,!=0.5.7,!=0.5.9,<0.7.0,>=0.4.0->langchain-chroma==0.2.2)\n",
      "  Using cached asgiref-3.8.1-py3-none-any.whl.metadata (9.3 kB)\n",
      "Collecting monotonic>=1.5 (from posthog>=2.4.0->chromadb!=0.5.10,!=0.5.11,!=0.5.12,!=0.5.4,!=0.5.5,!=0.5.7,!=0.5.9,<0.7.0,>=0.4.0->langchain-chroma==0.2.2)\n",
      "  Using cached monotonic-1.6-py2.py3-none-any.whl.metadata (1.5 kB)\n",
      "Collecting backoff>=1.10.0 (from posthog>=2.4.0->chromadb!=0.5.10,!=0.5.11,!=0.5.12,!=0.5.4,!=0.5.5,!=0.5.7,!=0.5.9,<0.7.0,>=0.4.0->langchain-chroma==0.2.2)\n",
      "  Using cached backoff-2.2.1-py3-none-any.whl.metadata (14 kB)\n",
      "Requirement already satisfied: distro>=1.5.0 in c:\\users\\yuichi katogi\\appdata\\local\\programs\\python\\python312\\lib\\site-packages (from posthog>=2.4.0->chromadb!=0.5.10,!=0.5.11,!=0.5.12,!=0.5.4,!=0.5.5,!=0.5.7,!=0.5.9,<0.7.0,>=0.4.0->langchain-chroma==0.2.2) (1.9.0)\n",
      "Requirement already satisfied: annotated-types>=0.6.0 in c:\\users\\yuichi katogi\\appdata\\local\\programs\\python\\python312\\lib\\site-packages (from pydantic>=1.9->chromadb!=0.5.10,!=0.5.11,!=0.5.12,!=0.5.4,!=0.5.5,!=0.5.7,!=0.5.9,<0.7.0,>=0.4.0->langchain-chroma==0.2.2) (0.7.0)\n",
      "Requirement already satisfied: pydantic-core==2.27.2 in c:\\users\\yuichi katogi\\appdata\\local\\programs\\python\\python312\\lib\\site-packages (from pydantic>=1.9->chromadb!=0.5.10,!=0.5.11,!=0.5.12,!=0.5.4,!=0.5.5,!=0.5.7,!=0.5.9,<0.7.0,>=0.4.0->langchain-chroma==0.2.2) (2.27.2)\n",
      "Collecting markdown-it-py>=2.2.0 (from rich>=10.11.0->chromadb!=0.5.10,!=0.5.11,!=0.5.12,!=0.5.4,!=0.5.5,!=0.5.7,!=0.5.9,<0.7.0,>=0.4.0->langchain-chroma==0.2.2)\n",
      "  Using cached markdown_it_py-3.0.0-py3-none-any.whl.metadata (6.9 kB)\n",
      "Requirement already satisfied: pygments<3.0.0,>=2.13.0 in c:\\users\\yuichi katogi\\appdata\\roaming\\python\\python312\\site-packages (from rich>=10.11.0->chromadb!=0.5.10,!=0.5.11,!=0.5.12,!=0.5.4,!=0.5.5,!=0.5.7,!=0.5.9,<0.7.0,>=0.4.0->langchain-chroma==0.2.2) (2.19.1)\n",
      "Collecting huggingface-hub<1.0,>=0.16.4 (from tokenizers>=0.13.2->chromadb!=0.5.10,!=0.5.11,!=0.5.12,!=0.5.4,!=0.5.5,!=0.5.7,!=0.5.9,<0.7.0,>=0.4.0->langchain-chroma==0.2.2)\n",
      "  Using cached huggingface_hub-0.29.1-py3-none-any.whl.metadata (13 kB)\n",
      "Collecting click>=8.0.0 (from typer>=0.9.0->chromadb!=0.5.10,!=0.5.11,!=0.5.12,!=0.5.4,!=0.5.5,!=0.5.7,!=0.5.9,<0.7.0,>=0.4.0->langchain-chroma==0.2.2)\n",
      "  Using cached click-8.1.8-py3-none-any.whl.metadata (2.3 kB)\n",
      "Collecting shellingham>=1.3.0 (from typer>=0.9.0->chromadb!=0.5.10,!=0.5.11,!=0.5.12,!=0.5.4,!=0.5.5,!=0.5.7,!=0.5.9,<0.7.0,>=0.4.0->langchain-chroma==0.2.2)\n",
      "  Using cached shellingham-1.5.4-py2.py3-none-any.whl.metadata (3.5 kB)\n",
      "Collecting httptools>=0.6.3 (from uvicorn[standard]>=0.18.3->chromadb!=0.5.10,!=0.5.11,!=0.5.12,!=0.5.4,!=0.5.5,!=0.5.7,!=0.5.9,<0.7.0,>=0.4.0->langchain-chroma==0.2.2)\n",
      "  Using cached httptools-0.6.4-cp312-cp312-win_amd64.whl.metadata (3.7 kB)\n",
      "Requirement already satisfied: python-dotenv>=0.13 in c:\\users\\yuichi katogi\\appdata\\local\\programs\\python\\python312\\lib\\site-packages (from uvicorn[standard]>=0.18.3->chromadb!=0.5.10,!=0.5.11,!=0.5.12,!=0.5.4,!=0.5.5,!=0.5.7,!=0.5.9,<0.7.0,>=0.4.0->langchain-chroma==0.2.2) (1.0.1)\n",
      "Collecting watchfiles>=0.13 (from uvicorn[standard]>=0.18.3->chromadb!=0.5.10,!=0.5.11,!=0.5.12,!=0.5.4,!=0.5.5,!=0.5.7,!=0.5.9,<0.7.0,>=0.4.0->langchain-chroma==0.2.2)\n",
      "  Using cached watchfiles-1.0.4-cp312-cp312-win_amd64.whl.metadata (5.0 kB)\n",
      "Collecting websockets>=10.4 (from uvicorn[standard]>=0.18.3->chromadb!=0.5.10,!=0.5.11,!=0.5.12,!=0.5.4,!=0.5.5,!=0.5.7,!=0.5.9,<0.7.0,>=0.4.0->langchain-chroma==0.2.2)\n",
      "  Using cached websockets-15.0-cp312-cp312-win_amd64.whl.metadata (7.0 kB)\n",
      "Collecting cachetools<6.0,>=2.0.0 (from google-auth>=1.0.1->kubernetes>=28.1.0->chromadb!=0.5.10,!=0.5.11,!=0.5.12,!=0.5.4,!=0.5.5,!=0.5.7,!=0.5.9,<0.7.0,>=0.4.0->langchain-chroma==0.2.2)\n",
      "  Using cached cachetools-5.5.2-py3-none-any.whl.metadata (5.4 kB)\n",
      "Collecting pyasn1-modules>=0.2.1 (from google-auth>=1.0.1->kubernetes>=28.1.0->chromadb!=0.5.10,!=0.5.11,!=0.5.12,!=0.5.4,!=0.5.5,!=0.5.7,!=0.5.9,<0.7.0,>=0.4.0->langchain-chroma==0.2.2)\n",
      "  Using cached pyasn1_modules-0.4.1-py3-none-any.whl.metadata (3.5 kB)\n",
      "Collecting rsa<5,>=3.1.4 (from google-auth>=1.0.1->kubernetes>=28.1.0->chromadb!=0.5.10,!=0.5.11,!=0.5.12,!=0.5.4,!=0.5.5,!=0.5.7,!=0.5.9,<0.7.0,>=0.4.0->langchain-chroma==0.2.2)\n",
      "  Using cached rsa-4.9-py3-none-any.whl.metadata (4.2 kB)\n",
      "Collecting filelock (from huggingface-hub<1.0,>=0.16.4->tokenizers>=0.13.2->chromadb!=0.5.10,!=0.5.11,!=0.5.12,!=0.5.4,!=0.5.5,!=0.5.7,!=0.5.9,<0.7.0,>=0.4.0->langchain-chroma==0.2.2)\n",
      "  Using cached filelock-3.17.0-py3-none-any.whl.metadata (2.9 kB)\n",
      "Collecting fsspec>=2023.5.0 (from huggingface-hub<1.0,>=0.16.4->tokenizers>=0.13.2->chromadb!=0.5.10,!=0.5.11,!=0.5.12,!=0.5.4,!=0.5.5,!=0.5.7,!=0.5.9,<0.7.0,>=0.4.0->langchain-chroma==0.2.2)\n",
      "  Using cached fsspec-2025.2.0-py3-none-any.whl.metadata (11 kB)\n",
      "Collecting zipp>=3.20 (from importlib-metadata<=8.5.0,>=6.0->opentelemetry-api>=1.2.0->chromadb!=0.5.10,!=0.5.11,!=0.5.12,!=0.5.4,!=0.5.5,!=0.5.7,!=0.5.9,<0.7.0,>=0.4.0->langchain-chroma==0.2.2)\n",
      "  Using cached zipp-3.21.0-py3-none-any.whl.metadata (3.7 kB)\n",
      "Collecting mdurl~=0.1 (from markdown-it-py>=2.2.0->rich>=10.11.0->chromadb!=0.5.10,!=0.5.11,!=0.5.12,!=0.5.4,!=0.5.5,!=0.5.7,!=0.5.9,<0.7.0,>=0.4.0->langchain-chroma==0.2.2)\n",
      "  Using cached mdurl-0.1.2-py3-none-any.whl.metadata (1.6 kB)\n",
      "Requirement already satisfied: charset-normalizer<4,>=2 in c:\\users\\yuichi katogi\\appdata\\local\\programs\\python\\python312\\lib\\site-packages (from requests->kubernetes>=28.1.0->chromadb!=0.5.10,!=0.5.11,!=0.5.12,!=0.5.4,!=0.5.5,!=0.5.7,!=0.5.9,<0.7.0,>=0.4.0->langchain-chroma==0.2.2) (3.4.1)\n",
      "Requirement already satisfied: sniffio>=1.1 in c:\\users\\yuichi katogi\\appdata\\local\\programs\\python\\python312\\lib\\site-packages (from anyio->httpx>=0.27.0->chromadb!=0.5.10,!=0.5.11,!=0.5.12,!=0.5.4,!=0.5.5,!=0.5.7,!=0.5.9,<0.7.0,>=0.4.0->langchain-chroma==0.2.2) (1.3.1)\n",
      "Collecting humanfriendly>=9.1 (from coloredlogs->onnxruntime>=1.14.1->chromadb!=0.5.10,!=0.5.11,!=0.5.12,!=0.5.4,!=0.5.5,!=0.5.7,!=0.5.9,<0.7.0,>=0.4.0->langchain-chroma==0.2.2)\n",
      "  Using cached humanfriendly-10.0-py2.py3-none-any.whl.metadata (9.2 kB)\n",
      "Collecting mpmath<1.4,>=1.1.0 (from sympy->onnxruntime>=1.14.1->chromadb!=0.5.10,!=0.5.11,!=0.5.12,!=0.5.4,!=0.5.5,!=0.5.7,!=0.5.9,<0.7.0,>=0.4.0->langchain-chroma==0.2.2)\n",
      "  Using cached mpmath-1.3.0-py3-none-any.whl.metadata (8.6 kB)\n",
      "Collecting pyreadline3 (from humanfriendly>=9.1->coloredlogs->onnxruntime>=1.14.1->chromadb!=0.5.10,!=0.5.11,!=0.5.12,!=0.5.4,!=0.5.5,!=0.5.7,!=0.5.9,<0.7.0,>=0.4.0->langchain-chroma==0.2.2)\n",
      "  Using cached pyreadline3-3.5.4-py3-none-any.whl.metadata (4.7 kB)\n",
      "Collecting pyasn1<0.7.0,>=0.4.6 (from pyasn1-modules>=0.2.1->google-auth>=1.0.1->kubernetes>=28.1.0->chromadb!=0.5.10,!=0.5.11,!=0.5.12,!=0.5.4,!=0.5.5,!=0.5.7,!=0.5.9,<0.7.0,>=0.4.0->langchain-chroma==0.2.2)\n",
      "  Using cached pyasn1-0.6.1-py3-none-any.whl.metadata (8.4 kB)\n",
      "Using cached langchain_chroma-0.2.2-py3-none-any.whl (11 kB)\n",
      "Using cached chromadb-0.6.3-py3-none-any.whl (611 kB)\n",
      "Using cached bcrypt-4.2.1-cp39-abi3-win_amd64.whl (153 kB)\n",
      "Using cached build-1.2.2.post1-py3-none-any.whl (22 kB)\n",
      "Using cached fastapi-0.115.8-py3-none-any.whl (94 kB)\n",
      "Using cached grpcio-1.70.0-cp312-cp312-win_amd64.whl (4.3 MB)\n",
      "Using cached kubernetes-32.0.1-py2.py3-none-any.whl (2.0 MB)\n",
      "Using cached mmh3-5.1.0-cp312-cp312-win_amd64.whl (41 kB)\n",
      "Using cached onnxruntime-1.20.1-cp312-cp312-win_amd64.whl (11.3 MB)\n",
      "Using cached opentelemetry_api-1.30.0-py3-none-any.whl (64 kB)\n",
      "Using cached opentelemetry_exporter_otlp_proto_grpc-1.30.0-py3-none-any.whl (18 kB)\n",
      "Using cached opentelemetry_exporter_otlp_proto_common-1.30.0-py3-none-any.whl (18 kB)\n",
      "Using cached opentelemetry_proto-1.30.0-py3-none-any.whl (55 kB)\n",
      "Using cached opentelemetry_instrumentation_fastapi-0.51b0-py3-none-any.whl (12 kB)\n",
      "Using cached opentelemetry_instrumentation-0.51b0-py3-none-any.whl (30 kB)\n",
      "Using cached opentelemetry_instrumentation_asgi-0.51b0-py3-none-any.whl (16 kB)\n",
      "Using cached opentelemetry_semantic_conventions-0.51b0-py3-none-any.whl (177 kB)\n",
      "Using cached opentelemetry_util_http-0.51b0-py3-none-any.whl (7.3 kB)\n",
      "Using cached opentelemetry_sdk-1.30.0-py3-none-any.whl (118 kB)\n",
      "Using cached overrides-7.7.0-py3-none-any.whl (17 kB)\n",
      "Using cached posthog-3.16.0-py2.py3-none-any.whl (75 kB)\n",
      "Using cached rich-13.9.4-py3-none-any.whl (242 kB)\n",
      "Using cached tokenizers-0.21.0-cp39-abi3-win_amd64.whl (2.4 MB)\n",
      "Using cached typer-0.15.1-py3-none-any.whl (44 kB)\n",
      "Using cached uvicorn-0.34.0-py3-none-any.whl (62 kB)\n",
      "Using cached importlib_resources-6.5.2-py3-none-any.whl (37 kB)\n",
      "Using cached backoff-2.2.1-py3-none-any.whl (15 kB)\n",
      "Using cached click-8.1.8-py3-none-any.whl (98 kB)\n",
      "Using cached Deprecated-1.2.18-py2.py3-none-any.whl (10.0 kB)\n",
      "Using cached durationpy-0.9-py3-none-any.whl (3.5 kB)\n",
      "Using cached google_auth-2.38.0-py2.py3-none-any.whl (210 kB)\n",
      "Using cached googleapis_common_protos-1.68.0-py2.py3-none-any.whl (164 kB)\n",
      "Using cached httptools-0.6.4-cp312-cp312-win_amd64.whl (88 kB)\n",
      "Using cached huggingface_hub-0.29.1-py3-none-any.whl (468 kB)\n",
      "Using cached importlib_metadata-8.5.0-py3-none-any.whl (26 kB)\n",
      "Using cached markdown_it_py-3.0.0-py3-none-any.whl (87 kB)\n",
      "Using cached monotonic-1.6-py2.py3-none-any.whl (8.2 kB)\n",
      "Using cached oauthlib-3.2.2-py3-none-any.whl (151 kB)\n",
      "Using cached protobuf-5.29.3-cp310-abi3-win_amd64.whl (434 kB)\n",
      "Using cached shellingham-1.5.4-py2.py3-none-any.whl (9.8 kB)\n",
      "Using cached starlette-0.45.3-py3-none-any.whl (71 kB)\n",
      "Using cached watchfiles-1.0.4-cp312-cp312-win_amd64.whl (285 kB)\n",
      "Using cached websocket_client-1.8.0-py3-none-any.whl (58 kB)\n",
      "Using cached websockets-15.0-cp312-cp312-win_amd64.whl (176 kB)\n",
      "Using cached coloredlogs-15.0.1-py2.py3-none-any.whl (46 kB)\n",
      "Using cached flatbuffers-25.2.10-py2.py3-none-any.whl (30 kB)\n",
      "Using cached pyproject_hooks-1.2.0-py3-none-any.whl (10 kB)\n",
      "Using cached requests_oauthlib-2.0.0-py2.py3-none-any.whl (24 kB)\n",
      "Using cached sympy-1.13.3-py3-none-any.whl (6.2 MB)\n",
      "Using cached asgiref-3.8.1-py3-none-any.whl (23 kB)\n",
      "Using cached cachetools-5.5.2-py3-none-any.whl (10 kB)\n",
      "Using cached fsspec-2025.2.0-py3-none-any.whl (184 kB)\n",
      "Using cached humanfriendly-10.0-py2.py3-none-any.whl (86 kB)\n",
      "Using cached mdurl-0.1.2-py3-none-any.whl (10.0 kB)\n",
      "Using cached mpmath-1.3.0-py3-none-any.whl (536 kB)\n",
      "Using cached pyasn1_modules-0.4.1-py3-none-any.whl (181 kB)\n",
      "Using cached rsa-4.9-py3-none-any.whl (34 kB)\n",
      "Using cached wrapt-1.17.2-cp312-cp312-win_amd64.whl (38 kB)\n",
      "Using cached zipp-3.21.0-py3-none-any.whl (9.6 kB)\n",
      "Using cached filelock-3.17.0-py3-none-any.whl (16 kB)\n",
      "Using cached pyasn1-0.6.1-py3-none-any.whl (83 kB)\n",
      "Using cached pyreadline3-3.5.4-py3-none-any.whl (83 kB)\n",
      "Building wheels for collected packages: chroma-hnswlib\n",
      "  Building wheel for chroma-hnswlib (pyproject.toml): started\n",
      "  Building wheel for chroma-hnswlib (pyproject.toml): finished with status 'done'\n",
      "  Created wheel for chroma-hnswlib: filename=chroma_hnswlib-0.7.6-cp312-cp312-win_amd64.whl size=160087 sha256=f81150fe9404dfb783ce4fccdec279f452de44c9a5dcb591fecdac800b31e779\n",
      "  Stored in directory: c:\\users\\yuichi katogi\\appdata\\local\\pip\\cache\\wheels\\28\\29\\0e\\934c768c2e673547ec6e947e821346f4ed691a089fe046743f\n",
      "Successfully built chroma-hnswlib\n",
      "Installing collected packages: pypika, mpmath, monotonic, flatbuffers, durationpy, zipp, wrapt, websockets, websocket-client, sympy, shellingham, pyreadline3, pyproject_hooks, pyasn1, protobuf, overrides, opentelemetry-util-http, oauthlib, mmh3, mdurl, importlib-resources, httptools, grpcio, fsspec, filelock, click, chroma-hnswlib, cachetools, bcrypt, backoff, asgiref, watchfiles, uvicorn, starlette, rsa, requests-oauthlib, pyasn1-modules, posthog, opentelemetry-proto, markdown-it-py, importlib-metadata, humanfriendly, huggingface-hub, googleapis-common-protos, deprecated, build, tokenizers, rich, opentelemetry-exporter-otlp-proto-common, opentelemetry-api, google-auth, fastapi, coloredlogs, typer, opentelemetry-semantic-conventions, onnxruntime, kubernetes, opentelemetry-sdk, opentelemetry-instrumentation, opentelemetry-instrumentation-asgi, opentelemetry-exporter-otlp-proto-grpc, opentelemetry-instrumentation-fastapi, chromadb, langchain-chroma\n",
      "Successfully installed asgiref-3.8.1 backoff-2.2.1 bcrypt-4.2.1 build-1.2.2.post1 cachetools-5.5.2 chroma-hnswlib-0.7.6 chromadb-0.6.3 click-8.1.8 coloredlogs-15.0.1 deprecated-1.2.18 durationpy-0.9 fastapi-0.115.8 filelock-3.17.0 flatbuffers-25.2.10 fsspec-2025.2.0 google-auth-2.38.0 googleapis-common-protos-1.68.0 grpcio-1.70.0 httptools-0.6.4 huggingface-hub-0.29.1 humanfriendly-10.0 importlib-metadata-8.5.0 importlib-resources-6.5.2 kubernetes-32.0.1 langchain-chroma-0.2.2 markdown-it-py-3.0.0 mdurl-0.1.2 mmh3-5.1.0 monotonic-1.6 mpmath-1.3.0 oauthlib-3.2.2 onnxruntime-1.20.1 opentelemetry-api-1.30.0 opentelemetry-exporter-otlp-proto-common-1.30.0 opentelemetry-exporter-otlp-proto-grpc-1.30.0 opentelemetry-instrumentation-0.51b0 opentelemetry-instrumentation-asgi-0.51b0 opentelemetry-instrumentation-fastapi-0.51b0 opentelemetry-proto-1.30.0 opentelemetry-sdk-1.30.0 opentelemetry-semantic-conventions-0.51b0 opentelemetry-util-http-0.51b0 overrides-7.7.0 posthog-3.16.0 protobuf-5.29.3 pyasn1-0.6.1 pyasn1-modules-0.4.1 pypika-0.48.9 pyproject_hooks-1.2.0 pyreadline3-3.5.4 requests-oauthlib-2.0.0 rich-13.9.4 rsa-4.9 shellingham-1.5.4 starlette-0.45.3 sympy-1.13.3 tokenizers-0.21.0 typer-0.15.1 uvicorn-0.34.0 watchfiles-1.0.4 websocket-client-1.8.0 websockets-15.0 wrapt-1.17.2 zipp-3.21.0\n",
      "Note: you may need to restart the kernel to use updated packages.\n"
     ]
    },
    {
     "name": "stderr",
     "output_type": "stream",
     "text": [
      "  WARNING: The script wsdump.exe is installed in 'c:\\Users\\Yuichi Katogi\\AppData\\Local\\Programs\\Python\\Python312\\Scripts' which is not on PATH.\n",
      "  Consider adding this directory to PATH or, if you prefer to suppress this warning, use --no-warn-script-location.\n",
      "  WARNING: The script isympy.exe is installed in 'c:\\Users\\Yuichi Katogi\\AppData\\Local\\Programs\\Python\\Python312\\Scripts' which is not on PATH.\n",
      "  Consider adding this directory to PATH or, if you prefer to suppress this warning, use --no-warn-script-location.\n",
      "  WARNING: The script watchfiles.exe is installed in 'c:\\Users\\Yuichi Katogi\\AppData\\Local\\Programs\\Python\\Python312\\Scripts' which is not on PATH.\n",
      "  Consider adding this directory to PATH or, if you prefer to suppress this warning, use --no-warn-script-location.\n",
      "  WARNING: The script uvicorn.exe is installed in 'c:\\Users\\Yuichi Katogi\\AppData\\Local\\Programs\\Python\\Python312\\Scripts' which is not on PATH.\n",
      "  Consider adding this directory to PATH or, if you prefer to suppress this warning, use --no-warn-script-location.\n",
      "  WARNING: The scripts pyrsa-decrypt.exe, pyrsa-encrypt.exe, pyrsa-keygen.exe, pyrsa-priv2pub.exe, pyrsa-sign.exe and pyrsa-verify.exe are installed in 'c:\\Users\\Yuichi Katogi\\AppData\\Local\\Programs\\Python\\Python312\\Scripts' which is not on PATH.\n",
      "  Consider adding this directory to PATH or, if you prefer to suppress this warning, use --no-warn-script-location.\n",
      "  WARNING: The script markdown-it.exe is installed in 'c:\\Users\\Yuichi Katogi\\AppData\\Local\\Programs\\Python\\Python312\\Scripts' which is not on PATH.\n",
      "  Consider adding this directory to PATH or, if you prefer to suppress this warning, use --no-warn-script-location.\n",
      "  WARNING: The script humanfriendly.exe is installed in 'c:\\Users\\Yuichi Katogi\\AppData\\Local\\Programs\\Python\\Python312\\Scripts' which is not on PATH.\n",
      "  Consider adding this directory to PATH or, if you prefer to suppress this warning, use --no-warn-script-location.\n",
      "  WARNING: The script huggingface-cli.exe is installed in 'c:\\Users\\Yuichi Katogi\\AppData\\Local\\Programs\\Python\\Python312\\Scripts' which is not on PATH.\n",
      "  Consider adding this directory to PATH or, if you prefer to suppress this warning, use --no-warn-script-location.\n",
      "  WARNING: The script pyproject-build.exe is installed in 'c:\\Users\\Yuichi Katogi\\AppData\\Local\\Programs\\Python\\Python312\\Scripts' which is not on PATH.\n",
      "  Consider adding this directory to PATH or, if you prefer to suppress this warning, use --no-warn-script-location.\n",
      "  WARNING: The script fastapi.exe is installed in 'c:\\Users\\Yuichi Katogi\\AppData\\Local\\Programs\\Python\\Python312\\Scripts' which is not on PATH.\n",
      "  Consider adding this directory to PATH or, if you prefer to suppress this warning, use --no-warn-script-location.\n",
      "  WARNING: The script coloredlogs.exe is installed in 'c:\\Users\\Yuichi Katogi\\AppData\\Local\\Programs\\Python\\Python312\\Scripts' which is not on PATH.\n",
      "  Consider adding this directory to PATH or, if you prefer to suppress this warning, use --no-warn-script-location.\n",
      "  WARNING: The script typer.exe is installed in 'c:\\Users\\Yuichi Katogi\\AppData\\Local\\Programs\\Python\\Python312\\Scripts' which is not on PATH.\n",
      "  Consider adding this directory to PATH or, if you prefer to suppress this warning, use --no-warn-script-location.\n",
      "  WARNING: The script onnxruntime_test.exe is installed in 'c:\\Users\\Yuichi Katogi\\AppData\\Local\\Programs\\Python\\Python312\\Scripts' which is not on PATH.\n",
      "  Consider adding this directory to PATH or, if you prefer to suppress this warning, use --no-warn-script-location.\n",
      "  WARNING: The scripts opentelemetry-bootstrap.exe and opentelemetry-instrument.exe are installed in 'c:\\Users\\Yuichi Katogi\\AppData\\Local\\Programs\\Python\\Python312\\Scripts' which is not on PATH.\n",
      "  Consider adding this directory to PATH or, if you prefer to suppress this warning, use --no-warn-script-location.\n",
      "  WARNING: The script chroma.exe is installed in 'c:\\Users\\Yuichi Katogi\\AppData\\Local\\Programs\\Python\\Python312\\Scripts' which is not on PATH.\n",
      "  Consider adding this directory to PATH or, if you prefer to suppress this warning, use --no-warn-script-location.\n"
     ]
    }
   ],
   "source": [
    "#%pip install langchain-chroma==0.2.2"
   ]
  },
  {
   "cell_type": "code",
   "execution_count": 7,
   "metadata": {},
   "outputs": [],
   "source": [
    "from langchain_chroma import Chroma\n",
    "\n",
    "db = Chroma.from_documents(docs, embeddings)"
   ]
  },
  {
   "cell_type": "code",
   "execution_count": 8,
   "metadata": {},
   "outputs": [],
   "source": [
    "retriever = db.as_retriever()"
   ]
  },
  {
   "cell_type": "code",
   "execution_count": 9,
   "metadata": {},
   "outputs": [
    {
     "name": "stdout",
     "output_type": "stream",
     "text": [
      "len = 4\n",
      "metadata = {'file_name': 'aws.mdx', 'file_path': 'docs\\\\docs\\\\integrations\\\\providers\\\\aws.mdx', 'file_type': '.mdx', 'source': 'docs\\\\docs\\\\integrations\\\\providers\\\\aws.mdx'}\n",
      "### AWS S3 Directory and File\n",
      "\n",
      ">[Amazon Simple Storage Service (Amazon S3)](https://docs.aws.amazon.com/AmazonS3/latest/userguide/using-folders.html)\n",
      "> is an object storage service.\n",
      ">[AWS S3 Directory](https://docs.aws.amazon.com/AmazonS3/latest/userguide/using-folders.html)\n",
      ">[AWS S3 Buckets](https://docs.aws.amazon.com/AmazonS3/latest/userguide/UsingBucket.html)\n",
      "\n",
      "See a [usage example for S3DirectoryLoader](/docs/integrations/document_loaders/aws_s3_directory).\n",
      "\n",
      "See a [usage example for S3FileLoader](/docs/integrations/document_loaders/aws_s3_file).\n",
      "\n",
      "```python\n",
      "from langchain_community.document_loaders import S3DirectoryLoader, S3FileLoader\n",
      "```\n",
      "\n",
      "### Amazon Textract\n",
      "\n",
      ">[Amazon Textract](https://docs.aws.amazon.com/managedservices/latest/userguide/textract.html) is a machine \n",
      "> learning (ML) service that automatically extracts text, handwriting, and data from scanned documents.\n",
      "\n",
      "See a [usage example](/docs/integrations/document_loaders/amazon_textract).\n"
     ]
    }
   ],
   "source": [
    "query = \"AWSのS3からデータを読み込むためのDocument loaderはありますか？\"\n",
    "\n",
    "context_docs = retriever.invoke(query)\n",
    "print(f\"len = {len(context_docs)}\")\n",
    "\n",
    "first_doc = context_docs[0]\n",
    "print(f\"metadata = {first_doc.metadata}\")\n",
    "print(first_doc.page_content)"
   ]
  },
  {
   "cell_type": "markdown",
   "metadata": {},
   "source": [
    "#### 4.6.5 LCEL を使った RAG の Chain の実装"
   ]
  },
  {
   "cell_type": "code",
   "execution_count": 10,
   "metadata": {},
   "outputs": [],
   "source": [
    "from langchain_core.prompts import ChatPromptTemplate\n",
    "from langchain_openai import ChatOpenAI\n",
    "\n",
    "prompt = ChatPromptTemplate.from_template('''\\\n",
    "以下の文脈だけを踏まえて質問に回答してください。\n",
    "\n",
    "文脈: \"\"\"\n",
    "{context}\n",
    "\"\"\"\n",
    "\n",
    "質問: {question}\n",
    "''')\n",
    "\n",
    "model = ChatOpenAI(model_name=\"gpt-4o-mini\", temperature=0)"
   ]
  },
  {
   "cell_type": "code",
   "execution_count": 11,
   "metadata": {},
   "outputs": [
    {
     "name": "stdout",
     "output_type": "stream",
     "text": [
      "はい、AWSのS3からデータを読み込むためのDocument loaderとして、`S3DirectoryLoader`と`S3FileLoader`があります。これらは、AWS S3のディレクトリやファイルからデータを読み込むために使用されます。\n"
     ]
    }
   ],
   "source": [
    "from langchain_core.output_parsers import StrOutputParser\n",
    "from langchain_core.runnables import RunnablePassthrough\n",
    "\n",
    "chain = (\n",
    "    {\"context\": retriever, \"question\": RunnablePassthrough()}\n",
    "    | prompt\n",
    "    | model\n",
    "    | StrOutputParser()\n",
    ")\n",
    "\n",
    "output = chain.invoke(query)\n",
    "print(output)"
   ]
  }
 ],
 "metadata": {
  "kernelspec": {
   "display_name": "Python 3",
   "language": "python",
   "name": "python3"
  },
  "language_info": {
   "codemirror_mode": {
    "name": "ipython",
    "version": 3
   },
   "file_extension": ".py",
   "mimetype": "text/x-python",
   "name": "python",
   "nbconvert_exporter": "python",
   "pygments_lexer": "ipython3",
   "version": "3.12.5"
  }
 },
 "nbformat": 4,
 "nbformat_minor": 2
}

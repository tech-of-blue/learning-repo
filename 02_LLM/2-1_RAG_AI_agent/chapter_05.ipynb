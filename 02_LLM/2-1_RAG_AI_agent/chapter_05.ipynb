{
 "cells": [
  {
   "cell_type": "markdown",
   "metadata": {},
   "source": [
    "### 5.1 環境設定"
   ]
  },
  {
   "cell_type": "code",
   "execution_count": null,
   "metadata": {},
   "outputs": [],
   "source": [
    "# テキストと同じバージョンをインストール\n",
    "#%pip install langchain-core==0.3.0 langchain-openai==0.2.0 langchain-community==0.3.0"
   ]
  },
  {
   "cell_type": "code",
   "execution_count": 5,
   "metadata": {},
   "outputs": [
    {
     "name": "stdout",
     "output_type": "stream",
     "text": [
      "LANGSMITH_TRACING_V2: None\n",
      "LANGSMITH_ENDPOINT: https://api.smith.langchain.com\n",
      "LANGSMITH_PROJECT: agent-book\n"
     ]
    }
   ],
   "source": [
    "from dotenv import load_dotenv\n",
    "import os\n",
    "\n",
    "# .env ファイルを読み込む\n",
    "path_env=\"C:\\\\Users\\\\Yuichi Katogi\\\\.env\"\n",
    "load_dotenv(path_env)\n",
    "\n",
    "# 環境変数を取得\n",
    "langsmith_tracing_v2 = os.getenv(\"LANGCHAIN_TRACING_V2\")\n",
    "langsmith_endpoint = os.getenv(\"LANGSMITH_ENDPOINT\")\n",
    "langsmith_api_key = os.getenv(\"LANGSMITH_API_KEY\")\n",
    "langsmith_project = os.getenv(\"LANGSMITH_PROJECT\")\n",
    "\n",
    "# Langsmithがただしく読み込めているか確認。なぜかtracingがNoneだができてる\n",
    "print(f\"LANGSMITH_TRACING_V2: {langsmith_tracing_v2}\")\n",
    "print(f\"LANGSMITH_ENDPOINT: {langsmith_endpoint}\")\n",
    "print(f\"LANGSMITH_PROJECT: {langsmith_project}\")"
   ]
  },
  {
   "cell_type": "markdown",
   "metadata": {},
   "source": [
    "#### 5.1.1 Runnableの実行方法\n",
    "- LangchainにおけるRunnableは、特定のタスクを実行するためのオブジェクトです。Runnableは、入力を受け取り、指定された処理を行い、結果を返します。これにより、コードの再利用性が向上し、複雑なワークフローを簡単に構築することができます。Langchainでは、Runnableを使用して、プロンプトの生成やモデルの呼び出しなど、さまざまな操作を行うことができます。\n"
   ]
  },
  {
   "cell_type": "code",
   "execution_count": 6,
   "metadata": {},
   "outputs": [],
   "source": [
    "from langchain_core.output_parsers import StrOutputParser\n",
    "from langchain_core.prompts import ChatPromptTemplate\n",
    "from langchain_openai import ChatOpenAI\n",
    "\n",
    "prompt = ChatPromptTemplate.from_messages(\n",
    "    [\n",
    "        (\"system\", \"ユーザーが入力した料理のレシピを考えてください。\"),\n",
    "        (\"human\", \"{dish}\"),\n",
    "    ]\n",
    ")\n",
    "\n",
    "model = ChatOpenAI(model=\"gpt-4o-mini\", temperature=0)\n",
    "\n",
    "output_parser = StrOutputParser()\n",
    "\n",
    "# プロンプトの書き方の違いがちゃんと理解できていない。\"system\",\"human\", \"HumanMessage\", \"AIMessage\"の使い分けの仕方について\n",
    "\n"
   ]
  },
  {
   "cell_type": "code",
   "execution_count": 9,
   "metadata": {},
   "outputs": [
    {
     "name": "stdout",
     "output_type": "stream",
     "text": [
      "カレーのレシピをご紹介します。シンプルで美味しい基本のカレーを作りましょう。\n",
      "\n",
      "### 材料（4人分）\n",
      "- 鶏肉（もも肉または胸肉）: 400g\n",
      "- 玉ねぎ: 2個\n",
      "- にんじん: 1本\n",
      "- じゃがいも: 2個\n",
      "- カレールー: 1箱（約200g）\n",
      "- 水: 800ml\n",
      "- サラダ油: 大さじ2\n",
      "- 塩: 適量\n",
      "- 胡椒: 適量\n",
      "- お好みでガーリックパウダーや生姜: 適量\n",
      "\n",
      "### 作り方\n",
      "1. **材料の下ごしらえ**:\n",
      "   - 鶏肉は一口大に切り、塩と胡椒で下味をつけます。\n",
      "   - 玉ねぎは薄切り、にんじんは輪切り、じゃがいもは一口大に切ります。\n",
      "\n",
      "2. **炒める**:\n",
      "   - 大きめの鍋にサラダ油を熱し、玉ねぎを入れて中火で炒めます。玉ねぎが透明になるまで炒めます。\n",
      "   - 鶏肉を加え、表面が白くなるまで炒めます。\n",
      "\n",
      "3. **野菜を加える**:\n",
      "   - にんじんとじゃがいもを鍋に加え、全体をよく混ぜます。\n",
      "\n",
      "4. **煮る**:\n",
      "   - 水を加え、強火で煮立たせます。煮立ったら火を弱め、アクを取りながら約15分煮ます。\n",
      "\n",
      "5. **カレールーを加える**:\n",
      "   - カレールーを割り入れ、よく溶かします。さらに10分ほど煮込み、全体がなじんだら味を見て、必要に応じて塩で調整します。\n",
      "\n",
      "6. **仕上げ**:\n",
      "   - お好みでガーリックパウダーや生姜を加えて風味をアップさせます。火を止めて、少し冷ますと味がなじみます。\n",
      "\n",
      "7. **盛り付け**:\n",
      "   - ご飯と一緒に盛り付けて、お好みで福神漬けやらっきょうを添えて完成です。\n",
      "\n",
      "### おすすめのトッピング\n",
      "- 煮卵\n",
      "- チーズ\n",
      "- パクチー\n",
      "\n",
      "このレシピを参考に、ぜひ美味しいカレーを作ってみてください！\n"
     ]
    }
   ],
   "source": [
    "# 基本の型\n",
    "chain = prompt | model | output_parser\n",
    "\n",
    "output = chain.invoke({\"dish\": \"カレー\"})\n",
    "print(output)"
   ]
  },
  {
   "cell_type": "code",
   "execution_count": 10,
   "metadata": {},
   "outputs": [
    {
     "name": "stdout",
     "output_type": "stream",
     "text": [
      "カレーのレシピをご紹介します。シンプルで美味しい基本のカレーを作りましょう。\n",
      "\n",
      "### 材料（4人分）\n",
      "- 鶏肉（もも肉または胸肉）: 400g\n",
      "- 玉ねぎ: 2個\n",
      "- にんじん: 1本\n",
      "- じゃがいも: 2個\n",
      "- カレールー: 1箱（約200g）\n",
      "- サラダ油: 大さじ2\n",
      "- 水: 800ml\n",
      "- 塩: 適量\n",
      "- 胡椒: 適量\n",
      "- お好みでガーリックパウダーや生姜: 適量\n",
      "\n",
      "### 作り方\n",
      "1. **材料の下ごしらえ**:\n",
      "   - 鶏肉は一口大に切り、塩と胡椒を振っておきます。\n",
      "   - 玉ねぎは薄切り、にんじんは輪切り、じゃがいもは一口大に切ります。\n",
      "\n",
      "2. **炒める**:\n",
      "   - 大きめの鍋にサラダ油を熱し、玉ねぎを中火で炒めます。玉ねぎが透明になるまで炒めます。\n",
      "   - 鶏肉を加え、表面が白くなるまで炒めます。\n",
      "\n",
      "3. **野菜を加える**:\n",
      "   - にんじんとじゃがいもを鍋に加え、全体をよく混ぜます。\n",
      "\n",
      "4. **煮る**:\n",
      "   - 水を加え、強火で煮立たせます。煮立ったら、アクを取り除き、中火にして蓋をし、約15分煮ます。\n",
      "\n",
      "5. **カレールーを加える**:\n",
      "   - カレールーを割り入れ、よく混ぜて溶かします。さらに10分ほど煮込み、全体がなじんだら火を止めます。\n",
      "\n",
      "6. **味を調える**:\n",
      "   - お好みで塩や胡椒で味を調整します。\n",
      "\n",
      "7. **盛り付け**:\n",
      "   - ご飯と一緒に盛り付けて、お好みで福神漬けやらっきょうを添えて完成です。\n",
      "\n",
      "### おすすめのトッピング\n",
      "- 煮卵\n",
      "- チーズ\n",
      "- ほうれん草のソテー\n",
      "\n",
      "この基本のカレーはアレンジがしやすいので、野菜や肉を変えて楽しんでください！おいしいカレーをお楽しみください。"
     ]
    }
   ],
   "source": [
    "# streamメソッド（あまり使わないと思うけど）\n",
    "chain = prompt | model | output_parser\n",
    "\n",
    "for chunk in chain.stream({\"dish\": \"カレー\"}):\n",
    "    print(chunk, end=\"\", flush=True)"
   ]
  },
  {
   "cell_type": "code",
   "execution_count": null,
   "metadata": {},
   "outputs": [
    {
     "name": "stdout",
     "output_type": "stream",
     "text": [
      "Dish 1: カレーのレシピをご紹介します。シンプルで美味しい基本のカレーを作りましょう。\n",
      "\n",
      "### 材料（4人分）\n",
      "- 鶏肉（もも肉または胸肉）: 400g\n",
      "- 玉ねぎ: 2個\n",
      "- にんじん: 1本\n",
      "- じゃがいも: 2個\n",
      "- カレールー: 1箱（約200g）\n",
      "- サラダ油: 大さじ2\n",
      "- 水: 800ml\n",
      "- 塩: 適量\n",
      "- 胡椒: 適量\n",
      "- お好みでガーリックパウダーや生姜: 適量\n",
      "\n",
      "### 作り方\n",
      "1. **材料の下ごしらえ**:\n",
      "   - 鶏肉は一口大に切り、塩と胡椒をふっておきます。\n",
      "   - 玉ねぎは薄切り、にんじんは輪切り、じゃがいもは一口大に切ります。\n",
      "\n",
      "2. **炒める**:\n",
      "   - 大きめの鍋にサラダ油を熱し、玉ねぎを中火で炒めます。玉ねぎが透明になるまで炒めます。\n",
      "   - 鶏肉を加え、表面が白くなるまで炒めます。\n",
      "\n",
      "3. **野菜を加える**:\n",
      "   - にんじんとじゃがいもを鍋に加え、全体をよく混ぜます。\n",
      "\n",
      "4. **煮る**:\n",
      "   - 水を加え、強火で煮立たせます。煮立ったら、アクを取り除き、中火にして蓋をし、約15分煮ます。\n",
      "\n",
      "5. **カレールーを加える**:\n",
      "   - カレールーを割り入れ、よく溶かします。さらに10分ほど煮込み、全体がなじんだら火を止めます。\n",
      "\n",
      "6. **味を調える**:\n",
      "   - お好みで塩や胡椒で味を調整します。\n",
      "\n",
      "7. **盛り付け**:\n",
      "   - ご飯と一緒に盛り付けて、お好みで福神漬けやらっきょうを添えて完成です。\n",
      "\n",
      "### おすすめのトッピング\n",
      "- 煮卵\n",
      "- チーズ\n",
      "- ほうれん草のソテー\n",
      "\n",
      "この基本のカレーは、具材を変えたり、スパイスを追加したりすることでアレンジが可能です。お好みのスタイルで楽しんでください！\n",
      "\n",
      "Dish 2: うどんのレシピをご紹介します。シンプルで美味しい「かけうどん」の作り方です。\n",
      "\n",
      "### 材料（2人分）\n",
      "- うどん（乾燥または生）: 2玉\n",
      "- だし汁: 600ml\n",
      "  - だしの素（または昆布と鰹節）: 適量\n",
      "- 醤油: 大さじ2\n",
      "- みりん: 大さじ1\n",
      "- 塩: 少々\n",
      "- トッピング（お好みで）:\n",
      "  - ネギ（小口切り）\n",
      "  - 天かす\n",
      "  - かまぼこ\n",
      "  - ほうれん草（茹でておく）\n",
      "  - たまご（温泉卵や生卵）\n",
      "\n",
      "### 作り方\n",
      "1. **だし汁を作る**:\n",
      "   - 鍋に水を入れ、だしの素を加えて中火にかけます。昆布と鰹節を使う場合は、昆布を水に浸けておき、沸騰直前に取り出し、鰹節を加えて数分煮出します。こし器でこして、だし汁を作ります。\n",
      "\n",
      "2. **うどんを茹でる**:\n",
      "   - 別の鍋にたっぷりの水を沸かし、うどんをパッケージの指示に従って茹でます。茹で上がったら、冷水でしっかりと洗い、ぬめりを取ります。\n",
      "\n",
      "3. **だし汁を味付けする**:\n",
      "   - 作っただし汁に醤油、みりん、塩を加えて味を調えます。軽く煮立たせて、味をなじませます。\n",
      "\n",
      "4. **盛り付け**:\n",
      "   - 茹でたうどんを器に盛り、その上から熱々のだし汁を注ぎます。\n",
      "\n",
      "5. **トッピング**:\n",
      "   - お好みのトッピング（ネギ、天かす、かまぼこ、ほうれん草、温泉卵など）をのせて完成です。\n",
      "\n",
      "### おすすめのアレンジ\n",
      "- **カレーうどん**: だし汁にカレー粉を加えて、カレーうどんにアレンジ。\n",
      "- **冷やしうどん**: 冷水でしっかりと冷やし、つけだしで楽しむ冷やしうどんもおすすめです。\n",
      "\n",
      "ぜひ、お好みのトッピングで楽しんでください！\n",
      "\n"
     ]
    }
   ],
   "source": [
    "# batchメソッド\n",
    "'''\n",
    "chain = prompt | model | output_parser\n",
    "\n",
    "outputs = chain.batch([{\"dish\": \"カレー\"}, {\"dish\": \"うどん\"}])\n",
    "print(outputs)\n",
    "'''\n",
    "\n",
    "chain = prompt | model | output_parser\n",
    "\n",
    "outputs = chain.batch([{\"dish\": \"カレー\"}, {\"dish\": \"うどん\"}])\n",
    "\n",
    "# 出力結果を見やすくするために整形\n",
    "for i, output in enumerate(outputs):\n",
    "    print(f\"Dish {i+1}: {output}\\n\")\n"
   ]
  },
  {
   "cell_type": "markdown",
   "metadata": {},
   "source": [
    "#### 5.1.2 LCEL の「|」で様々な Runnable を連鎖させる"
   ]
  },
  {
   "cell_type": "code",
   "execution_count": 15,
   "metadata": {},
   "outputs": [],
   "source": [
    "from langchain_core.output_parsers import StrOutputParser\n",
    "from langchain_core.prompts import ChatPromptTemplate\n",
    "from langchain_openai import ChatOpenAI\n",
    "\n",
    "model = ChatOpenAI(model=\"gpt-4o-mini\", temperature=0)\n",
    "\n",
    "output_parser = StrOutputParser()"
   ]
  },
  {
   "cell_type": "code",
   "execution_count": 16,
   "metadata": {},
   "outputs": [],
   "source": [
    "cot_prompt = ChatPromptTemplate.from_messages(\n",
    "    [\n",
    "        (\"system\", \"ユーザーの質問にステップバイステップで回答してください。\"),\n",
    "        (\"human\", \"{question}\"),\n",
    "    ]\n",
    ")\n",
    "\n",
    "cot_chain = cot_prompt | model | output_parser"
   ]
  },
  {
   "cell_type": "code",
   "execution_count": 17,
   "metadata": {},
   "outputs": [],
   "source": [
    "summarize_prompt = ChatPromptTemplate.from_messages(\n",
    "    [\n",
    "        (\"system\", \"ステップバイステップで考えた回答から結論だけ抽出してください。\"),\n",
    "        (\"human\", \"{text}\"),\n",
    "    ]\n",
    ")\n",
    "\n",
    "summarize_chain = summarize_prompt | model | output_parser"
   ]
  },
  {
   "cell_type": "code",
   "execution_count": 18,
   "metadata": {},
   "outputs": [
    {
     "name": "stdout",
     "output_type": "stream",
     "text": [
      "10 + 2 * 3 の答えは **16** です。\n"
     ]
    }
   ],
   "source": [
    "cot_summarize_chain = cot_chain | summarize_chain\n",
    "output = cot_summarize_chain.invoke({\"question\": \"10 + 2 * 3\"})\n",
    "print(output)\n",
    "\n"
   ]
  },
  {
   "cell_type": "code",
   "execution_count": 19,
   "metadata": {},
   "outputs": [
    {
     "name": "stdout",
     "output_type": "stream",
     "text": [
      "Chain-of-Thought: この計算をステップバイステップで行います。\n",
      "\n",
      "1. **計算の順序を確認する**: 数学では、掛け算と割り算は足し算と引き算よりも優先されます。したがって、まず掛け算を計算します。\n",
      "\n",
      "2. **掛け算を計算する**: \n",
      "   - 2 * 3 = 6\n",
      "\n",
      "3. **足し算を計算する**: \n",
      "   - 10 + 6 = 16\n",
      "\n",
      "したがって、10 + 2 * 3 の答えは **16** です。\n",
      "Final Summary: 10 + 2 * 3 の答えは **16** です。\n"
     ]
    }
   ],
   "source": [
    "from langchain_core.output_parsers import StrOutputParser\n",
    "from langchain_core.prompts import ChatPromptTemplate\n",
    "from langchain_openai import ChatOpenAI\n",
    "\n",
    "\n",
    "model = ChatOpenAI(model=\"gpt-4o-mini\", temperature=0)\n",
    "\n",
    "output_parser = StrOutputParser()\n",
    "\n",
    "question = \"車を持つことのメリットデメリットについて考えてください\"\n",
    "\n",
    "cot_prompt = ChatPromptTemplate.from_messages(\n",
    "    [\n",
    "        (\"system\", \"ユーザーの質問にステップバイステップで回答してください。\"),\n",
    "        (\"human\", \"{question}\"),\n",
    "    ]\n",
    ")\n",
    "\n",
    "cot_chain = cot_prompt | model | output_parser\n",
    "cot_result = cot_chain.invoke\n",
    "print(cot_result)\n",
    "\n",
    "summarize_prompt = ChatPromptTemplate.from_messages(\n",
    "    [\n",
    "        (\"system\", \"ステップバイステップで考えた回答から結論だけ抽出して要約してください。\"),\n",
    "        (\"human\", \"{text}\"),\n",
    "    ]\n",
    ")\n",
    "\n",
    "summarize_chain = summarize_prompt | model | output_parser\n",
    "\n",
    "cot_summarize_chain = cot_chain | summarize_chain\n",
    "output = cot_summarize_chain.invoke({\"question\": \"車を持つことのメリットデメリット\"})\n",
    "print(output)\n",
    "\n",
    "question = \"車を持つことのメリットデメリット\"\n",
    "\n",
    "# cot_chainで質問に対する思考過程を実行し、そのプロセスを表示\n",
    "cot_result = cot_chain.invoke({\"question\": question})\n",
    "print(\"Chain-of-Thoughtの過程:\")\n",
    "print(cot_result)\n",
    "\n",
    "# summarize_chainでcot_chainの出力を要約して表示\n",
    "summary_result = summarize_chain.invoke({\"text\": cot_result})\n",
    "print(\"要約結果:\")\n",
    "print(summary_result)\n",
    "\n",
    "\n"
   ]
  }
 ],
 "metadata": {
  "kernelspec": {
   "display_name": "Python 3",
   "language": "python",
   "name": "python3"
  },
  "language_info": {
   "codemirror_mode": {
    "name": "ipython",
    "version": 3
   },
   "file_extension": ".py",
   "mimetype": "text/x-python",
   "name": "python",
   "nbconvert_exporter": "python",
   "pygments_lexer": "ipython3",
   "version": "3.12.5"
  }
 },
 "nbformat": 4,
 "nbformat_minor": 2
}

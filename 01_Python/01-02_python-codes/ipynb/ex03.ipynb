{
 "cells": [
  {
   "cell_type": "code",
   "execution_count": null,
   "metadata": {},
   "outputs": [],
   "source": [
    "month = int(input('今は何月ですか?(数字を入力) >>'))\n",
    "if month in [1, 3, 5, 7, 8, 10, 12]:\n",
    "    print('31日までありますね')\n",
    "else:\n",
    "    if month != 2:\n",
    "        print('30日までですね')\n",
    "    else:\n",
    "        print('1年で一番寒い月ですね')\n",
    "    print('年が明けてから')\n",
    "print(f'{month}箇月が過ぎました')"
   ]
  },
  {
   "cell_type": "code",
   "execution_count": null,
   "metadata": {},
   "outputs": [],
   "source": [
    "isError = False\n",
    "n = 99\n",
    "if isError == False and n < 100:\n",
    "    print('正解です')"
   ]
  },
  {
   "cell_type": "code",
   "execution_count": null,
   "metadata": {},
   "outputs": [],
   "source": [
    "number = int(input('数値を入力してください >>'))\n",
    "if number % 2 == 0:\n",
    "    print('偶数です')\n",
    "else:\n",
    "    print('奇数です')"
   ]
  },
  {
   "cell_type": "code",
   "execution_count": null,
   "metadata": {},
   "outputs": [],
   "source": [
    "greeting = input('挨拶をどうぞ >>')\n",
    "if greeting == 'こんにちは':\n",
    "    print('ようこそ!')\n",
    "elif greeting == '景気は?':\n",
    "    print('ぼちぼちです')\n",
    "elif greeting == 'さようなら':\n",
    "    print('お元気で!')\n",
    "else:\n",
    "    print('どうしました?')"
   ]
  }
 ],
 "metadata": {
  "kernelspec": {
   "display_name": "Python 3",
   "language": "python",
   "name": "python3"
  },
  "language_info": {
   "codemirror_mode": {
    "name": "ipython",
    "version": 3
   },
   "file_extension": ".py",
   "mimetype": "text/x-python",
   "name": "python",
   "nbconvert_exporter": "python",
   "pygments_lexer": "ipython3",
   "version": "3.7.1"
  }
 },
 "nbformat": 4,
 "nbformat_minor": 2
}

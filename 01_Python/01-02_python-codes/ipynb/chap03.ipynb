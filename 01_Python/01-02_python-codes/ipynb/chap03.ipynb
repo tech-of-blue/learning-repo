{
 "cells": [
  {
   "cell_type": "code",
   "execution_count": null,
   "metadata": {},
   "outputs": [],
   "source": [
    "name = input('あなたの名前を教えてください >>')\n",
    "print(f'{name}さん、こんにちは')\n",
    "food = input(f'{name}さんの好きな食べ物を教えてください >>')\n",
    "print(f'私も{food}が好きですよ')"
   ]
  },
  {
   "cell_type": "code",
   "execution_count": null,
   "metadata": {},
   "outputs": [],
   "source": [
    "name = input('あなたの名前を教えてください >>')\n",
    "print(f'{name}さん、こんにちは')\n",
    "food = input(f'{name}さんの好きな食べ物を教えてください >>')\n",
    "if food == 'カレー':\n",
    "    print('素敵です。カレーは最高ですよね!!')\n",
    "else:\n",
    "    print(f'私も{food}が好きですよ')"
   ]
  },
  {
   "cell_type": "code",
   "execution_count": null,
   "metadata": {},
   "outputs": [],
   "source": [
    "score = int(input('試験の点数を入力してください >>'))\n",
    "if score >= 60:\n",
    "    print('合格!')\n",
    "    print('よくがんばりましたね')\n",
    "else:\n",
    "    print('残念ながら不合格です')\n",
    "print('追試を受けてください')"
   ]
  },
  {
   "cell_type": "code",
   "execution_count": null,
   "metadata": {},
   "outputs": [],
   "source": [
    "name = input('あなたの名前を教えてください >>')\n",
    "print(f'{name}さん、こんにちは')\n",
    "food = input(f'{name}さんの好きな食べ物を教えてください >>')\n",
    "if 'カレー' in food:\n",
    "    print('素敵です。カレーは最高ですよね!!')\n",
    "else:\n",
    "    print(f'私も{food}が好きですよ')"
   ]
  },
  {
   "cell_type": "code",
   "execution_count": null,
   "metadata": {},
   "outputs": [],
   "source": [
    "scores = [80, 100, 20, 60]\n",
    "if 100 in scores:\n",
    "    print('100点満点の試験があったんですね。おめでとう!')\n",
    "else:\n",
    "    print('次はどれか1つでも100点満点をとろう')"
   ]
  },
  {
   "cell_type": "code",
   "execution_count": null,
   "metadata": {},
   "outputs": [],
   "source": [
    "scores = {'network': 60, 'database': 80, 'security': 50}\n",
    "key = input('追加する科目名を入力してください >>')\n",
    "if key in scores:\n",
    "    print('すでに登録済みです')\n",
    "else:\n",
    "    data = int(input('得点を入力してください >>'))\n",
    "    scores[key] = data\n",
    "print(scores)"
   ]
  },
  {
   "cell_type": "code",
   "execution_count": null,
   "metadata": {},
   "outputs": [],
   "source": [
    "score = int(input('試験の点数を入力 >>'))\n",
    "print(score >= 60)"
   ]
  },
  {
   "cell_type": "code",
   "execution_count": null,
   "metadata": {},
   "outputs": [],
   "source": [
    "name = input('あなたの名前を教えてください >>')\n",
    "print(f'{name}さん、こんにちは')\n",
    "if name == '松田':\n",
    "    print('松田さんに会えてうれしいです')\n",
    "food = input(f'{name}さんの好きな食べ物を教えてください >>')\n",
    "if 'カレー' in food:\n",
    "    print('素敵です。とにかくカレーは最高ですよね!!')\n",
    "else:\n",
    "    print(f'私も{food}が好きですよ')"
   ]
  },
  {
   "cell_type": "code",
   "execution_count": null,
   "metadata": {},
   "outputs": [],
   "source": [
    "score = int(input('試験の点数を入力してください >>'))\n",
    "if score < 0 or score > 100:\n",
    "    print('異常な得点です')\n",
    "    print('入力し直してください')\n",
    "elif score >= 60:\n",
    "    print('合格!')\n",
    "    print('よくがんばりましたね')\n",
    "else:\n",
    "    print('残念ながら不合格です')\n",
    "    print('追試を受けてください')"
   ]
  },
  {
   "cell_type": "code",
   "execution_count": null,
   "metadata": {},
   "outputs": [],
   "source": [
    "print('すべての質問に y または n で答えてください')\n",
    "okane_aruka = input('お金に余裕はありますか? >>')\n",
    "if okane_aruka == 'y':\n",
    "    onaka_suiteruka = input('お腹がすごく空いてますか? >>')\n",
    "    nomitai_kibunka = input('ビールを飲みたいですか? >>')\n",
    "    if onaka_suiteruka == 'y' and nomitai_kibunka == 'y':\n",
    "        print('焼き肉はいかがですか')\n",
    "    elif onaka_suiteruka == 'y':\n",
    "        print('カレーはいかがですか')\n",
    "    elif nomitai_kibunka == 'y':\n",
    "        print('焼き鳥はいかがですか')\n",
    "    else:\n",
    "        print('パスタはいかがですか')\n",
    "    yashoku_iruka = input('夜食は必要ですか? >>')\n",
    "    if yashoku_iruka == 'y':\n",
    "        print('コンビニのチキンはいかがですか')\n",
    "else:\n",
    "    print('家で食べましょう')"
   ]
  }
 ],
 "metadata": {
  "kernelspec": {
   "display_name": "Python 3",
   "language": "python",
   "name": "python3"
  },
  "language_info": {
   "codemirror_mode": {
    "name": "ipython",
    "version": 3
   },
   "file_extension": ".py",
   "mimetype": "text/x-python",
   "name": "python",
   "nbconvert_exporter": "python",
   "pygments_lexer": "ipython3",
   "version": "3.7.1"
  }
 },
 "nbformat": 4,
 "nbformat_minor": 2
}

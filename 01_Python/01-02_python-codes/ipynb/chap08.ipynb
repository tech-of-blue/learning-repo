{
 "cells": [
  {
   "cell_type": "code",
   "execution_count": null,
   "metadata": {},
   "outputs": [],
   "source": [
    "import urllib.request\n",
    "\n",
    "url = 'https://blog.python.org/'\n",
    "req = urllib.request.Request(url)\n",
    "with urllib.request.urlopen(req) as res:\n",
    "    body = str(res.read())\n",
    "\n",
    "if 'security' in body or 'vulnerability' in body:\n",
    "    print('セキュリティに関する記述があります')\n",
    "    print('https://blog.python.org/を確認してください')\n",
    "else:\n",
    "    print('調査対象のセキュリティ用語はありませんでした')"
   ]
  },
  {
   "cell_type": "code",
   "execution_count": null,
   "metadata": {},
   "outputs": [],
   "source": [
    "import sqlite3\n",
    "\n",
    "with sqlite3.connect('sample.db') as conn:\n",
    "    cursor = conn.cursor()\n",
    "    cursor.execute('SELECT ID, NAME FROM EMPLOYEES')\n",
    "    for row in cursor.fetchall():\n",
    "        print(row[0])\n",
    "        print(row[1])"
   ]
  },
  {
   "cell_type": "code",
   "execution_count": null,
   "metadata": {},
   "outputs": [],
   "source": [
    "import tkinter as tk\n",
    "\n",
    "root = tk.Tk()\n",
    "root.geometry('240x240')\n",
    "root.title('GUI Sample')\n",
    "button = tk.Button(root, text='Hello, World')\n",
    "button.pack()\n",
    "root.mainloop()"
   ]
  },
  {
   "cell_type": "code",
   "execution_count": null,
   "metadata": {},
   "outputs": [],
   "source": [
    "import datetime\n",
    "\n",
    "from flask import Flask\n",
    "\n",
    "app = Flask(__name__)\n",
    "@app.route('/')\n",
    "def hello():\n",
    "    dt = datetime.datetime.now()\n",
    "    html = '<!DOCTYPE html>'\n",
    "    html += '<html>'\n",
    "    html += '<head><title>Flask Sapmle</title></head>'\n",
    "    html += '<body>'\n",
    "    html += f'{dt.year}年{dt.month}月{dt.day}日 {dt.hour}時{dt.minute}分{dt.second}秒です'\n",
    "    html += '</body></html>'\n",
    "    return html\n",
    "if __name__ == '__main__':\n",
    "    app.run()"
   ]
  },
  {
   "cell_type": "code",
   "execution_count": null,
   "metadata": {},
   "outputs": [],
   "source": [
    "import time\n",
    "\n",
    "import dht11\n",
    "import RPi.GPIO as GPIO\n",
    "\n",
    "GPIO.setwarnings(False)\n",
    "GPIO.setmode(GPIO.BCM)\n",
    "GPIO.cleanup()\n",
    "instance = dht11.DHT11(pin=14)\n",
    "while True:\n",
    "    result = instance.read()\n",
    "    if result.is_valid():\n",
    "        temperature = result.temperature\n",
    "        humidity = result.humidity\n",
    "        print(f'温度:{temperature}')\n",
    "        print(f'湿度:{humidity}')\n",
    "    time.sleep(1)"
   ]
  },
  {
   "cell_type": "code",
   "execution_count": null,
   "metadata": {},
   "outputs": [],
   "source": [
    "import openai\n",
    "\n",
    "# APIキーの設定\n",
    "openai.api_key = \"xxxxxxxxxx\"\n",
    " \n",
    "response = openai.ChatCompletion.create(\n",
    "    model = \"gpt-3.5-turbo\",\n",
    "    messages=[\n",
    "      {\"role\": \"user\",\n",
    "       \"content\":\n",
    "       \"インプレスのスッキリわかる入門シリーズって、どんな本？\"}],\n",
    ")\n",
    "print(response.choices[0][\"message\"][\"content\"].strip())"
   ]
  },
  {
   "cell_type": "code",
   "execution_count": null,
   "metadata": {},
   "outputs": [],
   "source": [
    "import pandas as pd\n",
    "df = pd.read_csv('curry.csv', encoding='Shift_JIS')\n",
    "df['month'] = pd.to_datetime(df['時間軸(月次)'], format='%Y年%m月').dt.month\n",
    "df = df.groupby('month').mean()\n",
    "df.mean(axis=1)\n",
    "%matplotlib inline\n",
    "df.mean(axis=1).plot() # Pandasがmatplotlibを使って可視化する"
   ]
  }
 ],
 "metadata": {
  "kernelspec": {
   "display_name": "Python 3",
   "language": "python",
   "name": "python3"
  },
  "language_info": {
   "codemirror_mode": {
    "name": "ipython",
    "version": 3
   },
   "file_extension": ".py",
   "mimetype": "text/x-python",
   "name": "python",
   "nbconvert_exporter": "python",
   "pygments_lexer": "ipython3",
   "version": "3.7.1"
  }
 },
 "nbformat": 4,
 "nbformat_minor": 2
}

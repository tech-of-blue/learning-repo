{
 "cells": [
  {
   "cell_type": "code",
   "execution_count": null,
   "metadata": {},
   "outputs": [],
   "source": [
    "count = 0\n",
    "while count < 5:\n",
    "    count += 1"
   ]
  },
  {
   "cell_type": "code",
   "execution_count": null,
   "metadata": {},
   "outputs": [],
   "source": [
    "count = 1\n",
    "while count <= 5:\n",
    "    count += 1"
   ]
  },
  {
   "cell_type": "code",
   "execution_count": null,
   "metadata": {},
   "outputs": [],
   "source": [
    "data = [88, 21, 65, 160, 57]\n",
    "count = 0\n",
    "while count < len(data):\n",
    "    count += 1"
   ]
  },
  {
   "cell_type": "code",
   "execution_count": null,
   "metadata": {},
   "outputs": [],
   "source": [
    "for num in range(5):\n",
    "    print(num)"
   ]
  },
  {
   "cell_type": "code",
   "execution_count": null,
   "metadata": {},
   "outputs": [],
   "source": [
    "for item in [88, 21, 65, 160, 57]:\n",
    "    print(item)"
   ]
  },
  {
   "cell_type": "code",
   "execution_count": null,
   "metadata": {},
   "outputs": [],
   "source": [
    "data = [88, 21, 65, 160, 57]\n",
    "for item in data:\n",
    "    print(item)"
   ]
  },
  {
   "cell_type": "code",
   "execution_count": null,
   "metadata": {},
   "outputs": [],
   "source": [
    "for item in [88, 21, 65, 160, 57]:\n",
    "    if item >= 100:\n",
    "        break\n",
    "    print(item)"
   ]
  },
  {
   "cell_type": "code",
   "execution_count": null,
   "metadata": {},
   "outputs": [],
   "source": [
    "for item in [88, 21, 65, 160, 57]:\n",
    "    if item >= 100:\n",
    "        continue\n",
    "    print(item)"
   ]
  },
  {
   "cell_type": "code",
   "execution_count": null,
   "metadata": {},
   "outputs": [],
   "source": [
    "count = 1\n",
    "ans = True\n",
    "print('カレーを召し上がれ')\n",
    "while ans == True:\n",
    "    print(f'{count}皿のカレーを食べました')\n",
    "    key = input('おかわりはいかがですか?(y/n)>>')\n",
    "    if key == 'y':\n",
    "        count += 1\n",
    "    else:\n",
    "        ans = False\n",
    "print('ごちそうさまでした')"
   ]
  },
  {
   "cell_type": "code",
   "execution_count": null,
   "metadata": {},
   "outputs": [],
   "source": [
    "for n in range(10):\n",
    "    print(f'{10 - n}、', end='')\n",
    "print('Lift off!')"
   ]
  },
  {
   "cell_type": "code",
   "execution_count": null,
   "metadata": {},
   "outputs": [],
   "source": [
    "for i in range(9):\n",
    "    for j in range(9):\n",
    "        print(f'{i+1}×{j+1}={(i+1)*(j+1)}')"
   ]
  },
  {
   "cell_type": "code",
   "execution_count": null,
   "metadata": {},
   "outputs": [],
   "source": [
    "for i in range(9):\n",
    "    if (i+1) % 2 == 0:\n",
    "        continue\n",
    "    for j in range(9):\n",
    "        print(f'{i+1}×{j+1}={(i+1)*(j+1)}')"
   ]
  },
  {
   "cell_type": "code",
   "execution_count": null,
   "metadata": {},
   "outputs": [],
   "source": [
    "for i in range(9):\n",
    "    if (i+1) % 2 == 0:\n",
    "        continue\n",
    "    for j in range(9):\n",
    "        if (i+1)*(j+1) > 50:\n",
    "            break\n",
    "        print(f'{i+1}×{j+1}={(i+1)*(j+1)}')"
   ]
  },
  {
   "cell_type": "code",
   "execution_count": null,
   "metadata": {},
   "outputs": [],
   "source": [
    "temp = list()\n",
    "for n in range(10):\n",
    "    data = float(input(f'{n+1}個目のデータを入力 >>'))\n",
    "    temp.append(data)"
   ]
  },
  {
   "cell_type": "code",
   "execution_count": null,
   "metadata": {},
   "outputs": [],
   "source": [
    "for count in range(len(temp)):\n",
    "    print(f'{count+8}時 {temp[count]}度')"
   ]
  },
  {
   "cell_type": "code",
   "execution_count": null,
   "metadata": {},
   "outputs": [],
   "source": [
    "temp_new = list()\n",
    "for count in range(len(temp)):\n",
    "    if count == 5:\n",
    "        temp_new.append('N/A')\n",
    "    else:\n",
    "        temp_new.append(temp[count])\n",
    "print(temp)\n",
    "print(temp_new)"
   ]
  },
  {
   "cell_type": "code",
   "execution_count": null,
   "metadata": {},
   "outputs": [],
   "source": [
    "total = 0\n",
    "for data in temp_new:\n",
    "    if isinstance(data, float):\n",
    "        total = total + data\n",
    "print(total / (len(temp_new) - 1))"
   ]
  },
  {
   "cell_type": "code",
   "execution_count": null,
   "metadata": {},
   "outputs": [],
   "source": [
    "numbers = [1, 1]\n",
    "data = sum(numbers)\n",
    "count = 2\n",
    "while data <= 1000:\n",
    "    numbers.append(data)\n",
    "    data = data + numbers[count-1]\n",
    "    count += 1\n",
    "print(numbers)"
   ]
  },
  {
   "cell_type": "code",
   "execution_count": null,
   "metadata": {},
   "outputs": [],
   "source": [
    "ratios = list()\n",
    "for count in range(len(numbers)):\n",
    "    if count == len(numbers) - 1:\n",
    "        break\n",
    "    ratios.append(numbers[count+1] / numbers[count])\n",
    "print(ratios)"
   ]
  },
  {
   "cell_type": "code",
   "execution_count": null,
   "metadata": {},
   "outputs": [],
   "source": [
    "for count in range(len(ratios)):\n",
    "    ratios[count] = int(ratios[count] * 1000) / 1000\n",
    "print(ratios)"
   ]
  }
 ],
 "metadata": {
  "kernelspec": {
   "display_name": "Python 3",
   "language": "python",
   "name": "python3"
  },
  "language_info": {
   "codemirror_mode": {
    "name": "ipython",
    "version": 3
   },
   "file_extension": ".py",
   "mimetype": "text/x-python",
   "name": "python",
   "nbconvert_exporter": "python",
   "pygments_lexer": "ipython3",
   "version": "3.7.1"
  }
 },
 "nbformat": 4,
 "nbformat_minor": 2
}

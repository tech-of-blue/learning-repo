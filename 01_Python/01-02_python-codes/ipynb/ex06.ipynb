{
 "cells": [
  {
   "cell_type": "code",
   "execution_count": null,
   "metadata": {},
   "outputs": [],
   "source": [
    "a = 'Python'\n",
    "b = [1, 3, 5]\n",
    "class MyClass:\n",
    "    def hello(self):\n",
    "        print('Hello' + a)\n",
    "c = MyClass()\n",
    "c.hello()  "
   ]
  },
  {
   "cell_type": "code",
   "execution_count": null,
   "metadata": {},
   "outputs": [],
   "source": [
    "x = ['ABC']\n",
    "y = [input()]\n",
    "print(x[0] == y[0])\n",
    "print(id(x[0]) == id(y[0]))\n",
    "y = x\n",
    "y[0] = 'XYZ'\n",
    "print(x[0])"
   ]
  },
  {
   "cell_type": "code",
   "execution_count": null,
   "metadata": {},
   "outputs": [],
   "source": [
    "def welcome(u):\n",
    "    print(f'ようこそ{u[\"name\"]}さん')\n",
    "    u['age'] = u['age'] + 1\n",
    "    print(f'あなたは来年{u[\"age\"]}歳だから大吉です!')\n",
    "\n",
    "username = input('名前を入力してください >>')\n",
    "userage = int(input('年齢を入力してください >>'))\n",
    "user = {'name': username, 'age': userage}\n",
    "welcome(user)\n",
    "print(f'{user[\"age\"]}歳の{user[\"name\"]}さん、またプレイしてくださいね')"
   ]
  }
 ],
 "metadata": {
  "kernelspec": {
   "display_name": "Python 3",
   "language": "python",
   "name": "python3"
  },
  "language_info": {
   "codemirror_mode": {
    "name": "ipython",
    "version": 3
   },
   "file_extension": ".py",
   "mimetype": "text/x-python",
   "name": "python",
   "nbconvert_exporter": "python",
   "pygments_lexer": "ipython3",
   "version": "3.7.1"
  }
 },
 "nbformat": 4,
 "nbformat_minor": 2
}

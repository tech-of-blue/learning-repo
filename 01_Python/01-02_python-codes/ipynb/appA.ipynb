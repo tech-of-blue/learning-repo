{
 "cells": [
  {
   "cell_type": "code",
   "execution_count": null,
   "metadata": {},
   "outputs": [],
   "source": [
    "def funcA(z):\n",
    "    ans = z * a\n",
    "    print(ans)\n",
    "\n",
    "def funcB(x, y):\n",
    "    z=x+ y\n",
    "    funcA(z)\n",
    "\n",
    "x = 10\n",
    "y = 20\n",
    "funcB(10, 20)"
   ]
  },
  {
   "cell_type": "code",
   "execution_count": null,
   "metadata": {},
   "outputs": [],
   "source": [
    "price = int(input('料金を入力 >>'))\n",
    "number = int(input('人数を入力 >>'))\n",
    "print(f'1人あたり{price / number}円です')\n",
    "print('プログラムを終了します')"
   ]
  },
  {
   "cell_type": "code",
   "execution_count": null,
   "metadata": {},
   "outputs": [],
   "source": [
    "try:\n",
    "    price = int(input('料金を入力 >>'))\n",
    "    number = int(input('人数を入力 >>'))\n",
    "    print(f'1人あたり{price / number}円です')\n",
    "except ValueError:\n",
    "    print('料金または人数は整数を入力してください')\n",
    "print('プログラムを終了します')"
   ]
  },
  {
   "cell_type": "code",
   "execution_count": null,
   "metadata": {},
   "outputs": [],
   "source": [
    "try:\n",
    "    price = int(input('料金を入力 >>'))\n",
    "    number = int(input('人数を入力 >>'))\n",
    "    print(f'1人あたり{price / number}円です')\n",
    "except ValueError:\n",
    "    print('料金または人数は整数を入力してください')\n",
    "except ZeroDivisionError:\n",
    "    print('人数に0は入力しないでください')\n",
    "print('プログラムを終了します')"
   ]
  },
  {
   "cell_type": "code",
   "execution_count": null,
   "metadata": {},
   "outputs": [],
   "source": [
    "try:\n",
    "    price = int(input('料金を入力 >>'))\n",
    "    number = int(input('人数を入力 >>'))\n",
    "    print(f'1人あたり{price / number}円です')\n",
    "except:\n",
    "    print('料金と人数に適切な整数を入力してください')\n",
    "print('プログラムを終了します')"
   ]
  }
 ],
 "metadata": {
  "kernelspec": {
   "display_name": "Python 3 (ipykernel)",
   "language": "python",
   "name": "python3"
  },
  "language_info": {
   "codemirror_mode": {
    "name": "ipython",
    "version": 3
   },
   "file_extension": ".py",
   "mimetype": "text/x-python",
   "name": "python",
   "nbconvert_exporter": "python",
   "pygments_lexer": "ipython3",
   "version": "3.9.2"
  }
 },
 "nbformat": 4,
 "nbformat_minor": 2
}

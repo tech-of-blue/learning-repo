{
 "cells": [
  {
   "cell_type": "code",
   "execution_count": null,
   "metadata": {},
   "outputs": [],
   "source": [
    "def take_bus():\n",
    "    print('バスに乗ります')\n",
    "def run():\n",
    "    print('走ります!')\n",
    "def walk():\n",
    "    print('ちょっと歩きます')\n",
    "\n",
    "print('行ってきます!')\n",
    "walk(); take_bus(); run(); run()\n",
    "print('ただいま')"
   ]
  },
  {
   "cell_type": "code",
   "execution_count": null,
   "metadata": {},
   "outputs": [],
   "source": [
    "def analyze_scores(sansu, kokugo, rika, syakai, eigo=None, *others):\n",
    "    # 処理内容は省略\n",
    "    return [max_score, min_score, avg_score] "
   ]
  },
  {
   "cell_type": "code",
   "execution_count": null,
   "metadata": {},
   "outputs": [],
   "source": [
    "# 計算データの入力\n",
    "amount = int(input('支払総額を入力してください >>'))\n",
    "people = int(input('参加人数を入力してください >>'))\n",
    "\n",
    "# 割り勘の計算\n",
    "dnum = amount / people   # 総額を人数で割る(端数も保持)\n",
    "pay = dnum // 100 * 100  # 100円未満を切り捨てる\n",
    "if dnum > pay:           # 元の値と比較して、\n",
    "    pay = int(pay + 100) # 小さければ100円未満があったので上乗せ\n",
    "\n",
    "# 幹事の支払額の計算\n",
    "payorg = amount - pay * (people - 1)\n",
    "\n",
    "# 結果の表示\n",
    "print('*** 支払額 ***')\n",
    "print(f'1人あたり{pay}円({people}人)、幹事は{payorg}円です')"
   ]
  },
  {
   "cell_type": "code",
   "execution_count": null,
   "metadata": {},
   "outputs": [],
   "source": [
    "def is_leapyear(y):\n",
    "    return (y % 400 == 0 or (y % 4 == 0 and y % 100 != 0))\n",
    "\n",
    "current_year = int(input('現在の西暦を入力してください >>'))\n",
    "if is_leapyear(current_year):\n",
    "    print(f'西暦{current_year}年は、うるう年です')\n",
    "else:\n",
    "    print(f'西暦{current_year}年は、うるう年ではありません')"
   ]
  },
  {
   "cell_type": "code",
   "execution_count": null,
   "metadata": {},
   "outputs": [],
   "source": [
    "def int_input(msg):\n",
    "    return int(input(f'{msg}を入力してください >>'))\n",
    "def calc_payment(amount, people=2):\n",
    "    dnum = amount / people # 総額を人数で割る(端数も保持)\n",
    "    pay = dnum // 100 * 100 # 100円未満を切り捨てる\n",
    "    if dnum > pay: # 元の値と比較して、\n",
    "        pay = pay + 100 # 小さければ100円未満があったので上乗せ\n",
    "    payorg = amount - pay * (people - 1)\n",
    "    return [int(pay), int(payorg)]\n",
    "def show_payment(pay, payorg, people=2):\n",
    "    print('*** 支払額 ***')\n",
    "    print(f'1人あたり{pay}円({people}人)、幹事は{payorg}円です')\n",
    "\n",
    "# 計算データの入力\n",
    "amount = int_input('支払総額'); people = int_input('参加人数')\n",
    "# 割り勘の計算\n",
    "[pay, payorg] = calc_payment(amount, people)\n",
    "# 結果の表示\n",
    "show_payment(pay, payorg, people)"
   ]
  }
 ],
 "metadata": {
  "kernelspec": {
   "display_name": "Python 3",
   "language": "python",
   "name": "python3"
  },
  "language_info": {
   "codemirror_mode": {
    "name": "ipython",
    "version": 3
   },
   "file_extension": ".py",
   "mimetype": "text/x-python",
   "name": "python",
   "nbconvert_exporter": "python",
   "pygments_lexer": "ipython3",
   "version": "3.7.1"
  }
 },
 "nbformat": 4,
 "nbformat_minor": 2
}

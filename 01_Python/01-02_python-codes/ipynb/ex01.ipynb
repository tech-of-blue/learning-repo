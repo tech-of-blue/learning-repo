{
 "cells": [
  {
   "cell_type": "code",
   "execution_count": null,
   "metadata": {},
   "outputs": [],
   "source": [
    "h = int(input('身長(cm)は? >>')) / 100\n",
    "w = float(input('体重(kg)は? >>'))\n",
    "bmi = w / h / h\n",
    "print(f'BMIは{bmi}です')"
   ]
  },
  {
   "cell_type": "code",
   "execution_count": null,
   "metadata": {},
   "outputs": [],
   "source": [
    "h, w = int(input('身長(cm)は? >>')) / 100, \\\n",
    "float(input('体重(kg)は? >>'))\n",
    "print(f'BMIは{ w / h ** 2 }です')"
   ]
  }
 ],
 "metadata": {
  "kernelspec": {
   "display_name": "Python 3",
   "language": "python",
   "name": "python3"
  },
  "language_info": {
   "codemirror_mode": {
    "name": "ipython",
    "version": 3
   },
   "file_extension": ".py",
   "mimetype": "text/x-python",
   "name": "python",
   "nbconvert_exporter": "python",
   "pygments_lexer": "ipython3",
   "version": "3.7.1"
  }
 },
 "nbformat": 4,
 "nbformat_minor": 2
}

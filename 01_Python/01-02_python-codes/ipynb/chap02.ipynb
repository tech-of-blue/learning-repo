{
 "cells": [
  {
   "cell_type": "code",
   "execution_count": null,
   "metadata": {},
   "outputs": [],
   "source": [
    "network = 88\n",
    "database = 95\n",
    "security = 90\n",
    "total = network + database + security\n",
    "avg = total / 3\n",
    "print(f'合計点:{total}')\n",
    "print(f'平均点:{avg}')"
   ]
  },
  {
   "cell_type": "code",
   "execution_count": null,
   "metadata": {},
   "outputs": [],
   "source": [
    "members = ['工藤', '松田', '浅木']\n",
    "print(members)"
   ]
  },
  {
   "cell_type": "code",
   "execution_count": null,
   "metadata": {},
   "outputs": [],
   "source": [
    "members = ['工藤', '松田', '浅木']\n",
    "print(members[0])"
   ]
  },
  {
   "cell_type": "code",
   "execution_count": null,
   "metadata": {},
   "outputs": [],
   "source": [
    "members = ['工藤', '松田', '浅木']\n",
    "print(members[3])"
   ]
  },
  {
   "cell_type": "code",
   "execution_count": null,
   "metadata": {},
   "outputs": [],
   "source": [
    "# ネットワーク、データベース、セキュリティ試験の点数\n",
    "scores = [88, 90, 95]\n",
    "total = scores[0] + scores[1] + scores[2]\n",
    "print(f'合計{total}点')"
   ]
  },
  {
   "cell_type": "code",
   "execution_count": null,
   "metadata": {},
   "outputs": [],
   "source": [
    "scores = [88, 90, 95]\n",
    "total = sum(scores)\n",
    "print(f'合計{total}点')"
   ]
  },
  {
   "cell_type": "code",
   "execution_count": null,
   "metadata": {},
   "outputs": [],
   "source": [
    "scores = [88, 90, 95]\n",
    "total = sum(scores)\n",
    "avg = total / len(scores)\n",
    "print(f'合計{total}点、平均{avg}点')"
   ]
  },
  {
   "cell_type": "code",
   "execution_count": null,
   "metadata": {},
   "outputs": [],
   "source": [
    "members = ['工藤', '松田', '浅木']\n",
    "members.append('菅原')\n",
    "members.append('湊')\n",
    "members.append('朝香')\n",
    "print(members)"
   ]
  },
  {
   "cell_type": "code",
   "execution_count": null,
   "metadata": {},
   "outputs": [],
   "source": [
    "members = ['工藤', '松田', '浅木']\n",
    "members.remove('松田')\n",
    "print(members)"
   ]
  },
  {
   "cell_type": "code",
   "execution_count": null,
   "metadata": {},
   "outputs": [],
   "source": [
    "members = ['工藤', '松田', '浅木']\n",
    "members[0] = '菅原'\n",
    "print(members)"
   ]
  },
  {
   "cell_type": "code",
   "execution_count": null,
   "metadata": {},
   "outputs": [],
   "source": [
    "a = [10, 20, 30, 40, 50]\n",
    "print(a[1:3]) # 添え字が1以上3未満の要素\n",
    "print(a[2:])  # 添え字が2以上のすべての要素\n",
    "print(a[:3])  # 添え字が3未満のすべての要素"
   ]
  },
  {
   "cell_type": "code",
   "execution_count": null,
   "metadata": {},
   "outputs": [],
   "source": [
    "a = [10, 20, 30, 40, 50]\n",
    "print(a[-1]) # 末尾の要素を参照\n",
    "print(a[-2]) # 末尾から2番目の要素を参照"
   ]
  },
  {
   "cell_type": "code",
   "execution_count": null,
   "metadata": {},
   "outputs": [],
   "source": [
    "scores = {'network':60, 'database':80, 'security':50}\n",
    "print(scores) "
   ]
  },
  {
   "cell_type": "code",
   "execution_count": null,
   "metadata": {},
   "outputs": [],
   "source": [
    "scores = {'network':60, 'database':80, 'security':50}\n",
    "print(scores['database'])"
   ]
  },
  {
   "cell_type": "code",
   "execution_count": null,
   "metadata": {},
   "outputs": [],
   "source": [
    "scores = {'network':60, 'database':80, 'security':50}\n",
    "scores['programming'] = 65\n",
    "scores['security'] = 55\n",
    "print(scores)"
   ]
  },
  {
   "cell_type": "code",
   "execution_count": null,
   "metadata": {},
   "outputs": [],
   "source": [
    "scores = {'network':60, 'database':80, 'security':55}\n",
    "del scores['security']\n",
    "print(scores)"
   ]
  },
  {
   "cell_type": "code",
   "execution_count": null,
   "metadata": {},
   "outputs": [],
   "source": [
    "scores = (70, 80, 55)\n",
    "print(scores)\n",
    "print(scores[0])\n",
    "print(f'要素数は{len(scores)}')\n",
    "print(f'合計は{sum(scores)}')"
   ]
  },
  {
   "cell_type": "code",
   "execution_count": null,
   "metadata": {},
   "outputs": [],
   "source": [
    "scores = (70, 80, 55)\n",
    "scores[0] = 80"
   ]
  },
  {
   "cell_type": "code",
   "execution_count": null,
   "metadata": {},
   "outputs": [],
   "source": [
    "members = ['松田']       # 要素数1のリスト\n",
    "scores = {'network':82} # 要素数1のディクショナリ"
   ]
  },
  {
   "cell_type": "code",
   "execution_count": null,
   "metadata": {},
   "outputs": [],
   "source": [
    "members = ('松田') # 要素数1のタプルを定義(したつもり)\n",
    "print(type(members))"
   ]
  },
  {
   "cell_type": "code",
   "execution_count": null,
   "metadata": {},
   "outputs": [],
   "source": [
    "members = ('松田', ) # 要素数1のタプルの正しい定義\n",
    "print(type(members))"
   ]
  },
  {
   "cell_type": "code",
   "execution_count": null,
   "metadata": {},
   "outputs": [],
   "source": [
    "scores = {70, 80, 55, 80}\n",
    "scores.add(80)\n",
    "print(scores)\n",
    "print(f'要素数は{len(scores)}')\n",
    "print(f'合計は{sum(scores)}')"
   ]
  },
  {
   "cell_type": "code",
   "execution_count": null,
   "metadata": {},
   "outputs": [],
   "source": [
    "scores = {'network':60, 'database':80, 'security':60}\n",
    "members = ['松田', '浅木', '工藤']\n",
    "print(tuple(members))       # リストmembersをタプルに変換して表示\n",
    "print(list(scores))         # scoresのキーをリストに変換して表示\n",
    "print(set(scores.values())) # scoresの値をセットに変換して表示"
   ]
  },
  {
   "cell_type": "code",
   "execution_count": null,
   "metadata": {},
   "outputs": [],
   "source": [
    "matsuda_scores = {'network':60, 'database':80, 'security':50}\n",
    "asagi_scores = {'network':80, 'database':75, 'security':92}\n",
    "member_scores = {\n",
    "    '松田': matsuda_scores,\n",
    "    '浅木': asagi_scores\n",
    "}"
   ]
  },
  {
   "cell_type": "code",
   "execution_count": null,
   "metadata": {},
   "outputs": [],
   "source": [
    "member_hobbies = {\n",
    "'松田': {'SNS', '麻雀', '自転車'},\n",
    "'浅木': {'麻雀', '食べ歩き', '数学', '数学', '数学'}\n",
    "}\n",
    "# 全員の趣味一覧を表示する\n",
    "print(member_hobbies)\n",
    "# 松田くんの趣味一覧を表示する\n",
    "print(member_hobbies['松田'])\n",
    "# 浅木さんの趣味一覧を表示する\n",
    "print(member_hobbies['浅木'])"
   ]
  },
  {
   "cell_type": "code",
   "execution_count": null,
   "metadata": {},
   "outputs": [],
   "source": [
    "a = [1, 2, 3]\n",
    "b = [4, 5, 6]\n",
    "c = [a, b]     # aを0番目、bを1番目とする2次元リストcを定義\n",
    "\n",
    "print(c)       # リストc全体を参照\n",
    "print(c[0])    # リストcの0番目(リストa)だけを参照\n",
    "print(c[1][2]) # リストcの1番目(リストb)の2番目だけを参照"
   ]
  },
  {
   "cell_type": "code",
   "execution_count": null,
   "metadata": {},
   "outputs": [],
   "source": [
    "member_hobbies = {\n",
    "    '松田': {'SNS', '麻雀', '自転車'},\n",
    "    '浅木': {'麻雀', '食べ歩き', '数学', '数学', '数学'}\n",
    "}\n",
    "common_hobbies = member_hobbies['松田'] & member_hobbies['浅木']\n",
    "print(common_hobbies) # 2人に共通する趣味一覧を表示する"
   ]
  },
  {
   "cell_type": "code",
   "execution_count": null,
   "metadata": {},
   "outputs": [],
   "source": [
    "A = {1, 2, 3, 4}\n",
    "B = {2, 3, 4, 5}\n",
    "print(A | B)\n",
    "print(A & B)\n",
    "print(A - B)\n",
    "print(A ^ B) "
   ]
  }
 ],
 "metadata": {
  "kernelspec": {
   "display_name": "Python 3",
   "language": "python",
   "name": "python3"
  },
  "language_info": {
   "codemirror_mode": {
    "name": "ipython",
    "version": 3
   },
   "file_extension": ".py",
   "mimetype": "text/x-python",
   "name": "python",
   "nbconvert_exporter": "python",
   "pygments_lexer": "ipython3",
   "version": "3.7.1"
  }
 },
 "nbformat": 4,
 "nbformat_minor": 2
}

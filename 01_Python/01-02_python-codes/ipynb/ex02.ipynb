{
 "cells": [
  {
   "cell_type": "code",
   "execution_count": null,
   "metadata": {},
   "outputs": [],
   "source": [
    "scores = []\n",
    "scores.append(int(input('国語の点数 >>')))\n",
    "scores.append(int(input('算数の点数 >>')))\n",
    "scores.append(int(input('理科の点数 >>')))\n",
    "scores.append(int(input('社会の点数 >>')))\n",
    "scores.append(int(input('英語の点数 >>')))\n",
    "print(f'合計{sum(scores)}点 平均{sum(scores) / len(scores)}点')"
   ]
  },
  {
   "cell_type": "code",
   "execution_count": null,
   "metadata": {},
   "outputs": [],
   "source": [
    "player1 = {'読書', '昼寝', '映画鑑賞', '散歩', '料理'}\n",
    "player2 = {'テニス', '将棋', '料理', '読書', '旅行'}\n",
    "input('心の準備ができたらEnterキーを押してください')\n",
    "common = player1 & player2\n",
    "total = player1 | player2\n",
    "compatibility_rate = len(common) / len(total) * 100\n",
    "print(f'相性度は{compatibility_rate}パーセントでした')"
   ]
  }
 ],
 "metadata": {
  "kernelspec": {
   "display_name": "Python 3",
   "language": "python",
   "name": "python3"
  },
  "language_info": {
   "codemirror_mode": {
    "name": "ipython",
    "version": 3
   },
   "file_extension": ".py",
   "mimetype": "text/x-python",
   "name": "python",
   "nbconvert_exporter": "python",
   "pygments_lexer": "ipython3",
   "version": "3.7.1"
  }
 },
 "nbformat": 4,
 "nbformat_minor": 2
}

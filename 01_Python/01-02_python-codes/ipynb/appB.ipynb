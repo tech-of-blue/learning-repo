{
 "cells": [
  {
   "cell_type": "code",
   "execution_count": null,
   "metadata": {},
   "outputs": [],
   "source": [
    "def function_a():\n",
    "    print('関数Aを実行')\n",
    "    function_b() # function_bを呼び出し\n",
    "    function_c() # function_cを呼び出し\n",
    "\n",
    "def function_b():\n",
    "    print('関数Bを実行')\n",
    "\n",
    "def function_c():\n",
    "    print('関数Cを実行')"
   ]
  },
  {
   "cell_type": "code",
   "execution_count": null,
   "metadata": {},
   "outputs": [],
   "source": [
    "'''\n",
    "作成日: XXXX年YY月ZZ日\n",
    "作成者: 松田\n",
    "'''\n",
    "# インポート\n",
    "\n",
    "# グローバル変数の宣言\n",
    "\n",
    "# 関数宣言\n",
    "def main():\n",
    "    print('*** Puzzle & Monsters ***')\n",
    "\n",
    "# main関数の呼び出し\n",
    "main()"
   ]
  },
  {
   "cell_type": "code",
   "execution_count": null,
   "metadata": {},
   "outputs": [],
   "source": [
    "def do_battle():\n",
    "    # 省略\n",
    "\n",
    "def go_dungeon():\n",
    "    do_battle() # do_battle関数の呼び出し\n",
    "\n",
    "def main():\n",
    "    go_dungeon() # go_dungeon関数の呼び出し\n",
    "# :"
   ]
  },
  {
   "cell_type": "code",
   "execution_count": null,
   "metadata": {},
   "outputs": [],
   "source": [
    "slime = {\n",
    "    'name':'スライム',\n",
    "    'hp':100,\n",
    "    'max_hp':100,\n",
    "    'element':'水',\n",
    "    'ap':10,\n",
    "    'dp':1\n",
    "}"
   ]
  },
  {
   "cell_type": "code",
   "execution_count": null,
   "metadata": {},
   "outputs": [],
   "source": [
    "def print_monster_name(monster):\n",
    "    # monsterはディクショナリで受け取る\n",
    "    # (1)モンスターの名前をキーnameで取得する\n",
    "    # (2)後述\n",
    "    # (3)後述\n",
    "\n",
    "    # モンスター名を表示する\n",
    "    print(f'{monster.name}', end='')"
   ]
  },
  {
   "cell_type": "code",
   "execution_count": null,
   "metadata": {},
   "outputs": [],
   "source": [
    "ELEMENT_SYMBOLS = {\n",
    "    '火': '$',\n",
    "    '水': '~',\n",
    "    '風': '@',\n",
    "    '土': '#',\n",
    "    '命': '&',\n",
    "    '無': ' '\n",
    "}"
   ]
  },
  {
   "cell_type": "code",
   "execution_count": null,
   "metadata": {},
   "outputs": [],
   "source": [
    "def print_monster_name(monster):\n",
    "    # monsterはディクショナリで受け取る\n",
    "    # (1)モンスターの名前と属性を取得する\n",
    "    # (2)取得した属性に対応する記号をELEMENT_SYMBOLSから取得する\n",
    "    # (3)後述\n",
    "\n",
    "    # モンスター名を表示する\n",
    "    print(f'{symbol}{monster.name}{symbol}', end='')"
   ]
  },
  {
   "cell_type": "code",
   "execution_count": null,
   "metadata": {},
   "outputs": [],
   "source": [
    "def print_monster_name(monster):\n",
    "    # monsterはディクショナリで受け取る\n",
    "    # (1)モンスターの名前と属性を取得する\n",
    "    # (2)取得した属性に対応する記号をELEMENT_SYMBOLSから取得する\n",
    "    # (3)取得した属性に対応する記号をELEMENT_COLORSから取得する\n",
    "\n",
    "    # モンスター名を表示する\n",
    "    print(f'\\033[{color}m{symbol}{monster.name}{symbol}\\033[0m ', end='')"
   ]
  },
  {
   "cell_type": "code",
   "execution_count": null,
   "metadata": {},
   "outputs": [],
   "source": [
    "def organize_party(player_name, friends):\n",
    "    \"\"\"\n",
    "    引数\n",
    "    player_name: プレイヤー名\n",
    "    friends: 味方モンスターをディクショナリで管理したリスト\n",
    "    \"\"\"\n",
    "    # (1)味方モンスターのHPの合計と防御力の平均を求める\n",
    "    # (2)ディクショナリにパーティの情報をまとめる\n",
    "    # (3)ディクショナリを戻り値に指定する"
   ]
  },
  {
   "cell_type": "code",
   "execution_count": null,
   "metadata": {},
   "outputs": [],
   "source": [
    "import random\n",
    "print(random.uniform(-3, 3))"
   ]
  }
 ],
 "metadata": {
  "kernelspec": {
   "display_name": "Python 3 (ipykernel)",
   "language": "python",
   "name": "python3"
  },
  "language_info": {
   "codemirror_mode": {
    "name": "ipython",
    "version": 3
   },
   "file_extension": ".py",
   "mimetype": "text/x-python",
   "name": "python",
   "nbconvert_exporter": "python",
   "pygments_lexer": "ipython3",
   "version": "3.9.2"
  }
 },
 "nbformat": 4,
 "nbformat_minor": 2
}

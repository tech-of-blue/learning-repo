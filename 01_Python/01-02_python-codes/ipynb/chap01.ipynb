{
 "cells": [
  {
   "cell_type": "code",
   "execution_count": null,
   "metadata": {},
   "outputs": [],
   "source": [
    "print(1)\n",
    "print(10)"
   ]
  },
  {
   "cell_type": "code",
   "execution_count": null,
   "metadata": {},
   "outputs": [],
   "source": [
    "print(1 + 1)\n",
    "print(10 - 2)"
   ]
  },
  {
   "cell_type": "code",
   "execution_count": null,
   "metadata": {},
   "outputs": [],
   "source": [
    "print('1' + '1')"
   ]
  },
  {
   "cell_type": "code",
   "execution_count": null,
   "metadata": {},
   "outputs": [],
   "source": [
    "print('Python' + 'の世界へようこそ')\n",
    "print('Pythonは' + 'とっても' * 3 + '楽しいですよ')"
   ]
  },
  {
   "cell_type": "code",
   "execution_count": null,
   "metadata": {},
   "outputs": [],
   "source": [
    "print('はじめまして松田です身体を動かすのが好きです')\n",
    "print('はじめまして\\n松田です\\n身体を動かすのが好きです')\n",
    "print('引用符には、\\'と\\\"があります')"
   ]
  },
  {
   "cell_type": "code",
   "execution_count": null,
   "metadata": {},
   "outputs": [],
   "source": [
    "print('''はじめまして\n",
    "松田です\n",
    "身体を動かすのが好きです''')"
   ]
  },
  {
   "cell_type": "code",
   "execution_count": null,
   "metadata": {},
   "outputs": [],
   "source": [
    "print('''\n",
    "はじめまして\n",
    "松田です\n",
    "身体を動かすのが好きです\n",
    "''')"
   ]
  },
  {
   "cell_type": "code",
   "execution_count": null,
   "metadata": {},
   "outputs": [],
   "source": [
    "print('''\n",
    "はじめまして\n",
    "松田です\n",
    "身体を動かすのが好きです\n",
    "'''.strip())"
   ]
  },
  {
   "cell_type": "code",
   "execution_count": null,
   "metadata": {},
   "outputs": [],
   "source": [
    "print('半径が3cmの円の直径は、')\n",
    "print(3 * 2)\n",
    "print('その円の円周の長さは、直径×円周率で求まるため、')\n",
    "print(3 * 2 * 3.14)"
   ]
  },
  {
   "cell_type": "code",
   "execution_count": null,
   "metadata": {},
   "outputs": [],
   "source": [
    "name = '松田'\n",
    "age = 22\n",
    "print(name)\n",
    "print(age)"
   ]
  },
  {
   "cell_type": "code",
   "execution_count": null,
   "metadata": {},
   "outputs": [],
   "source": [
    "print('半径が3cmの円の直径は、')\n",
    "dia = 3 * 2 # diaはdiameter(直径)の略\n",
    "print(dia)\n",
    "print('その円の円周の長さは、')\n",
    "print(dia * 3.14)"
   ]
  },
  {
   "cell_type": "code",
   "execution_count": null,
   "metadata": {},
   "outputs": [],
   "source": [
    "count = 3\n",
    "print('今日カレーを食べた回数は')\n",
    "print(count)\n",
    "count = 5\n",
    "print('うそ。本当は')\n",
    "print(count)"
   ]
  },
  {
   "cell_type": "code",
   "execution_count": null,
   "metadata": {},
   "outputs": [],
   "source": [
    "name, age = '浅木', 24"
   ]
  },
  {
   "cell_type": "code",
   "execution_count": null,
   "metadata": {},
   "outputs": [],
   "source": [
    "age = 24\n",
    "print('浅木先輩の今年の年齢は…')\n",
    "print(age)\n",
    "age + 1\n",
    "print('来年は…')\n",
    "print(age)\n",
    "age + 1\n",
    "print('再来年は…')\n",
    "print(age)"
   ]
  },
  {
   "cell_type": "code",
   "execution_count": null,
   "metadata": {},
   "outputs": [],
   "source": [
    "age = 24\n",
    "print('浅木先輩の今年の年齢は…')\n",
    "print(age)\n",
    "age = age + 1\n",
    "print('来年は…')\n",
    "print(age)\n",
    "age = age + 1\n",
    "print('再来年は…')\n",
    "print(age)"
   ]
  },
  {
   "cell_type": "code",
   "execution_count": null,
   "metadata": {},
   "outputs": [],
   "source": [
    "age = 24\n",
    "age += 1\n",
    "\n",
    "price = 2600\n",
    "price *= 1.5"
   ]
  },
  {
   "cell_type": "code",
   "execution_count": null,
   "metadata": {},
   "outputs": [],
   "source": [
    "name = input('あなたの名前を入力してください >>')\n",
    "print('おお' + name + 'よ、そなたがくるのを待っておったぞ!')"
   ]
  },
  {
   "cell_type": "code",
   "execution_count": null,
   "metadata": {},
   "outputs": [],
   "source": [
    "price = input('料金を入力 >>')\n",
    "number = input('人数を入力 >>')\n",
    "payment = price / number\n",
    "print('お支払いは' + payment + '円です')"
   ]
  },
  {
   "cell_type": "code",
   "execution_count": null,
   "metadata": {},
   "outputs": [],
   "source": [
    "x = '松田' # 名前\n",
    "print(x)\n",
    "x = 23    # 年齢\n",
    "print(x)\n",
    "x = 175.6 # 身長\n",
    "print(x)"
   ]
  },
  {
   "cell_type": "code",
   "execution_count": null,
   "metadata": {},
   "outputs": [],
   "source": [
    "x = 10\n",
    "print(type(x))"
   ]
  },
  {
   "cell_type": "code",
   "execution_count": null,
   "metadata": {},
   "outputs": [],
   "source": [
    "price = input('料金を入力 >>')\n",
    "print(type(price))"
   ]
  },
  {
   "cell_type": "code",
   "execution_count": null,
   "metadata": {},
   "outputs": [],
   "source": [
    "x = 3.14\n",
    "y = int(x)\n",
    "print(y)       # 変換結果を表示\n",
    "print(type(y)) # 変換後のデータ型を表示\n",
    "z = str(x)\n",
    "print(z)       # 変換結果を表示\n",
    "print(type(z)) # 変換後のデータ型を表示\n",
    "print(z * 2)"
   ]
  },
  {
   "cell_type": "code",
   "execution_count": null,
   "metadata": {},
   "outputs": [],
   "source": [
    "price = input('料金を入力 >>')  # キーボード入力結果はstr型\n",
    "price = int(price)\n",
    "number = input('人数を入力 >>') # キーボード入力結果はstr型\n",
    "number = int(number)\n",
    "payment = price / number      # 割り算の結果はfloat型\n",
    "payment = int(payment)\n",
    "print('お支払いは' + payment + '円です')"
   ]
  },
  {
   "cell_type": "code",
   "execution_count": null,
   "metadata": {},
   "outputs": [],
   "source": [
    "name = '松田光太'\n",
    "age = 23\n",
    "height =175.6\n",
    "print('私の名前は' + name + 'で、年齢は' + str(age) +\n",
    "      '歳で、身長は' + str(height) + 'cmです')"
   ]
  },
  {
   "cell_type": "code",
   "execution_count": null,
   "metadata": {},
   "outputs": [],
   "source": [
    "name = '松田光太'\n",
    "age = 23\n",
    "height = 175.6\n",
    "print('私の名前は{}で、年齢は{}歳で、身長は{}cmです'\n",
    "      .format(name, age, height))"
   ]
  },
  {
   "cell_type": "code",
   "execution_count": null,
   "metadata": {},
   "outputs": [],
   "source": [
    "price = int(input('料金を入力 >>'))\n",
    "number = int(input('人数を入力 >>'))\n",
    "payment = int(price / number)\n",
    "print('お支払いは{}円です'.format(payment))"
   ]
  },
  {
   "cell_type": "code",
   "execution_count": null,
   "metadata": {},
   "outputs": [],
   "source": [
    "name = '松田光太'\n",
    "age = 23\n",
    "height = 175.6\n",
    "print(f'私の名前は{name}で、年齢は{age}で、身長は{height}cmです')"
   ]
  }
 ],
 "metadata": {
  "kernelspec": {
   "display_name": "Python 3",
   "language": "python",
   "name": "python3"
  },
  "language_info": {
   "codemirror_mode": {
    "name": "ipython",
    "version": 3
   },
   "file_extension": ".py",
   "mimetype": "text/x-python",
   "name": "python",
   "nbconvert_exporter": "python",
   "pygments_lexer": "ipython3",
   "version": "3.9.6"
  }
 },
 "nbformat": 4,
 "nbformat_minor": 2
}

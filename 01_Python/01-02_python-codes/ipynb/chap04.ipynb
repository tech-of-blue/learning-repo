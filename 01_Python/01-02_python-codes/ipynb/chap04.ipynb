{
 "cells": [
  {
   "cell_type": "code",
   "execution_count": null,
   "metadata": {},
   "outputs": [],
   "source": [
    "print('さあ、寝ようかしら')\n",
    "count = 0 # ひつじの数\n",
    "count += 1\n",
    "print(f'ひつじが{count}匹')\n",
    "count += 1\n",
    "print(f'ひつじが{count}匹')\n",
    "count += 1\n",
    "print(f'ひつじが{count}匹')\n",
    "print('おやすみなさい')"
   ]
  },
  {
   "cell_type": "code",
   "execution_count": null,
   "metadata": {},
   "outputs": [],
   "source": [
    "count = 0\n",
    "while count < 3:\n",
    "    count += 1\n",
    "    print(f'ひつじが{count}匹')\n",
    "print('おやすみなさい')"
   ]
  },
  {
   "cell_type": "code",
   "execution_count": null,
   "metadata": {},
   "outputs": [],
   "source": [
    "count = 0\n",
    "while count < 3:\n",
    "    print(f'ひつじが{count}匹')\n",
    "print('おやすみなさい')"
   ]
  },
  {
   "cell_type": "code",
   "execution_count": null,
   "metadata": {},
   "outputs": [],
   "source": [
    "is_awake = True\n",
    "count = 0\n",
    "while is_awake == True:\n",
    "    count += 1\n",
    "    print(f'ひつじが{count}匹')\n",
    "    key = input('もう眠りそうですか?(y/n) >>')\n",
    "    if key == 'y':\n",
    "        is_awake = False\n",
    "print('おやすみなさい')"
   ]
  },
  {
   "cell_type": "code",
   "execution_count": null,
   "metadata": {},
   "outputs": [],
   "source": [
    "count = 0                                  # カウンタ変数\n",
    "student_num = int(input('学生の数を入力 >>')) # 学生の数\n",
    "score_list = list()                        # 得点リスト\n",
    "while count < student_num:\n",
    "    count += 1\n",
    "    score = int(input(f'{count}人目の試験の得点を入力 >>'))\n",
    "    score_list.append(score)\n",
    "print(score_list)\n",
    "total = sum(score_list)\n",
    "print(f'平均点は{total / student_num}点です')"
   ]
  },
  {
   "cell_type": "code",
   "execution_count": null,
   "metadata": {},
   "outputs": [],
   "source": [
    "scores = [80, 20, 75, 60]\n",
    "count = 0\n",
    "while count < len(scores):\n",
    "    if scores[count] >= 60:\n",
    "        print('合格')\n",
    "    else:\n",
    "        print('不合格')\n",
    "    count += 1"
   ]
  },
  {
   "cell_type": "code",
   "execution_count": null,
   "metadata": {},
   "outputs": [],
   "source": [
    "scores = [80, 20, 75, 60]\n",
    "for data in scores:\n",
    "    if data >= 60:\n",
    "        print('合格')\n",
    "    else:\n",
    "        print('不合格')"
   ]
  },
  {
   "cell_type": "code",
   "execution_count": null,
   "metadata": {},
   "outputs": [],
   "source": [
    "for num in range(3):\n",
    "    print('Pythonは楽しい')"
   ]
  },
  {
   "cell_type": "code",
   "execution_count": null,
   "metadata": {},
   "outputs": [],
   "source": [
    "ages = [28, 50, 8, 20, 78, 25, 22, 10, 27, 33] # 対象データ\n",
    "num = 5          # 目標の抽出数\n",
    "samples = list() # サンプルデータを格納するリスト\n",
    "for age in ages:\n",
    "    if 20 <= age < 30:\n",
    "        if len(samples) < num:\n",
    "            samples.append(age)\n",
    "print(samples)"
   ]
  },
  {
   "cell_type": "code",
   "execution_count": null,
   "metadata": {},
   "outputs": [],
   "source": [
    "ages = [28, 50, 8, 20, 78, 25, 22, 10, 27, 33] # 対象データ\n",
    "num = 5          # 目標の抽出数\n",
    "samples = list() # サンプルデータを格納するリスト\n",
    "for data in ages:\n",
    "    if 20 <= data < 30:\n",
    "        samples.append(data)\n",
    "        if len(samples) == num:\n",
    "            break\n",
    "print(samples)"
   ]
  },
  {
   "cell_type": "code",
   "execution_count": null,
   "metadata": {},
   "outputs": [],
   "source": [
    "ages = [28, 50, 'ひみつ', 20, 78, 25, 22, 10, '無回答', 33]\n",
    "samples = list() # サンプルデータを格納するリスト\n",
    "for data in ages:\n",
    "    if not isinstance(data, int):\n",
    "        continue\n",
    "    if data < 20 or data >= 30:\n",
    "        continue\n",
    "    samples.append(data)\n",
    "print(samples)"
   ]
  }
 ],
 "metadata": {
  "kernelspec": {
   "display_name": "Python 3",
   "language": "python",
   "name": "python3"
  },
  "language_info": {
   "codemirror_mode": {
    "name": "ipython",
    "version": 3
   },
   "file_extension": ".py",
   "mimetype": "text/x-python",
   "name": "python",
   "nbconvert_exporter": "python",
   "pygments_lexer": "ipython3",
   "version": "3.7.1"
  }
 },
 "nbformat": 4,
 "nbformat_minor": 2
}

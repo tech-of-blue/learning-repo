{
 "cells": [
  {
   "cell_type": "code",
   "execution_count": null,
   "metadata": {},
   "outputs": [],
   "source": [
    "file = open('sample.txt', 'r')\n",
    "for line in file:\n",
    "    print(line)\n",
    "    file.close() "
   ]
  },
  {
   "cell_type": "code",
   "execution_count": null,
   "metadata": {},
   "outputs": [],
   "source": [
    "nums = list()\n",
    "for n in range(3):\n",
    "    data = int(input(f'{n + 1}個目の整数を入力してください >>'))\n",
    "    nums.append(data)\n",
    "print(max(nums))"
   ]
  },
  {
   "cell_type": "code",
   "execution_count": null,
   "metadata": {},
   "outputs": [],
   "source": [
    "pi = 3.141519\n",
    "print(round(pi))\n",
    "for n in range(4):\n",
    "    print(round(pi, n + 1))"
   ]
  },
  {
   "cell_type": "code",
   "execution_count": null,
   "metadata": {},
   "outputs": [],
   "source": [
    "file_r = open('sample.txt', 'r')\n",
    "file_w = open('copy.txt', 'w')\n",
    "for line in file_r:\n",
    "    file_w.write(line)\n",
    "file_r.close()\n",
    "file_w.close()"
   ]
  },
  {
   "cell_type": "code",
   "execution_count": null,
   "metadata": {},
   "outputs": [],
   "source": [
    "# randomモジュールのrandint関数を取り込む\n",
    "from random import randint\n",
    "print('数当てゲームを始めます。3桁の数を当ててください!')\n",
    "\n",
    "# 正解を作成\n",
    "answer = list()\n",
    "for n in range(3):\n",
    "    answer.append(randint(0, 9))\n",
    "\n",
    "is_continue = True\n",
    "while is_continue == True:\n",
    "    # 予想の入力\n",
    "    prediction = list()\n",
    "    for n in range(3):\n",
    "        data = int(input(f'{n + 1}桁目の予想入力(0~9)>>'))\n",
    "        prediction.append(data)\n",
    "    \n",
    "    # 答え合わせ\n",
    "    hit = 0\n",
    "    blow = 0\n",
    "    for n in range(3):\n",
    "        if prediction[n] == answer[n]:\n",
    "            hit += 1\n",
    "        else:\n",
    "            for m in range(3):\n",
    "                if prediction[n] == answer[m]:\n",
    "                    blow += 1\n",
    "                    break\n",
    "\n",
    "    # 結果発表\n",
    "    print(f'{hit}ヒット!{blow}ボール!')\n",
    "    if hit == 3:\n",
    "        print('正解です!')\n",
    "        is_continue = False\n",
    "    else:\n",
    "        if int(input('続けますか? 1:続ける 2:終了 >>')) == 2:\n",
    "            print(f'正解は{answer[0]}{answer[1]}{answer[2]}でした')\n",
    "            is_continue = False"
   ]
  }
 ],
 "metadata": {
  "kernelspec": {
   "display_name": "Python 3",
   "language": "python",
   "name": "python3"
  },
  "language_info": {
   "codemirror_mode": {
    "name": "ipython",
    "version": 3
   },
   "file_extension": ".py",
   "mimetype": "text/x-python",
   "name": "python",
   "nbconvert_exporter": "python",
   "pygments_lexer": "ipython3",
   "version": "3.8.8"
  }
 },
 "nbformat": 4,
 "nbformat_minor": 4
}

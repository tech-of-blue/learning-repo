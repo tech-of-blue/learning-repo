{
 "cells": [
  {
   "cell_type": "code",
   "execution_count": null,
   "metadata": {},
   "outputs": [],
   "source": [
    "student_list = ['浅木', '松田']\n",
    "for student in student_list:\n",
    "    print(f'{student}さんの試験結果を入力してください')\n",
    "    network = int(input('ネットワークの得点? >>'))\n",
    "    database = int(input('データベースの得点? >>'))\n",
    "    security = int(input('セキュリティの得点? >>'))\n",
    "    if student == '浅木':\n",
    "        asagi_scores = [network, database, security]\n",
    "        asagi_avg = sum(asagi_scores) / len(asagi_scores)\n",
    "    else:\n",
    "        matsuda_scores = [network, database, security]\n",
    "        matsuda_avg = sum(matsuda_scores) / len(matsuda_scores)\n",
    "print(f'浅木さんの平均点は{asagi_avg}です')\n",
    "print(f'松田さんの平均点は{matsuda_avg}です')"
   ]
  },
  {
   "cell_type": "code",
   "execution_count": null,
   "metadata": {},
   "outputs": [],
   "source": [
    "# 得点を入力\n",
    "asagi_scores = input_scores('浅木')\n",
    "matsuda_scores = input_scores('松田')\n",
    "# 平均点を計算\n",
    "asagi_avg = calc_average(asagi_scores)\n",
    "matsuda_avg = calc_average(matsuda_scores)\n",
    "# 結果を出力\n",
    "output_result('浅木', asagi_avg)\n",
    "output_result('松田', matsuda_avg)"
   ]
  },
  {
   "cell_type": "code",
   "execution_count": null,
   "metadata": {},
   "outputs": [],
   "source": [
    "def hello():\n",
    "    print('こんにちは。工藤です。')"
   ]
  },
  {
   "cell_type": "code",
   "execution_count": null,
   "metadata": {},
   "outputs": [],
   "source": [
    "def hello():\n",
    "    print('こんにちは。工藤です。')\n",
    "\n",
    "hello()"
   ]
  },
  {
   "cell_type": "code",
   "execution_count": null,
   "metadata": {},
   "outputs": [],
   "source": [
    "def input_scores():\n",
    "    name = ''\n",
    "    print(f'{name}の試験結果を入力してください')\n",
    "\n",
    "name = '浅木'\n",
    "input_scores()\n",
    "name = '松田'\n",
    "input_scores()"
   ]
  },
  {
   "cell_type": "code",
   "execution_count": null,
   "metadata": {},
   "outputs": [],
   "source": [
    "def hello(name):\n",
    "    print(f'こんにちは。{name}です。')\n",
    "\n",
    "hello('浅木')\n",
    "hello('松田')"
   ]
  },
  {
   "cell_type": "code",
   "execution_count": null,
   "metadata": {},
   "outputs": [],
   "source": [
    "def profile(name, age, hobby):\n",
    "    print(f'私の名前は{name}です。')\n",
    "    print(f'年齢は{age}歳です。')\n",
    "    print(f'趣味は{hobby}です。')\n",
    "\n",
    "profile('浅木', 24, 'カフェ巡り')"
   ]
  },
  {
   "cell_type": "code",
   "execution_count": null,
   "metadata": {},
   "outputs": [],
   "source": [
    "def calc_average(scores):\n",
    "    avg = sum(scores) / len(scores)\n",
    "    print(f'平均点は{avg}です')"
   ]
  },
  {
   "cell_type": "code",
   "execution_count": null,
   "metadata": {},
   "outputs": [],
   "source": [
    "def input_scores(name):\n",
    "    print(f'{name}さんの試験結果を入力してください')\n",
    "    network = int(input('ネットワークの得点? >>'))\n",
    "    database = int(input('データベースの得点? >>'))\n",
    "    security = int(input('セキュリティの得点? >>'))\n",
    "    scores = [network, database, security]\n",
    "\n",
    "def calc_average(scores):\n",
    "    avg = sum(scores) / len(scores)\n",
    "    print(f'平均点は{avg}です')"
   ]
  },
  {
   "cell_type": "code",
   "execution_count": null,
   "metadata": {},
   "outputs": [],
   "source": [
    "def input_scores(name):\n",
    "    print(f'{name}さんの試験結果を入力してください')\n",
    "    network = int(input('ネットワークの得点? >>'))\n",
    "    database = int(input('データベースの得点? >>'))\n",
    "    security = int(input('セキュリティの得点? >>'))\n",
    "    scores = [network, database, security]\n",
    "\n",
    "def calc_average(scores):\n",
    "    avg = sum(scores) / len(scores)\n",
    "    print(f'平均点は{avg}です')\n",
    "\n",
    "input_scores('浅木')\n",
    "calc_average(scores)"
   ]
  },
  {
   "cell_type": "code",
   "execution_count": null,
   "metadata": {},
   "outputs": [],
   "source": [
    "def plus(x, y):\n",
    "    answer = x + y\n",
    "    return answer\n",
    "\n",
    "answer = plus(100, 50)\n",
    "print(f'足し算の答えは{answer}です')    "
   ]
  },
  {
   "cell_type": "code",
   "execution_count": null,
   "metadata": {},
   "outputs": [],
   "source": [
    "def input_scores(name):\n",
    "    print(f'{name}さんの試験結果を入力してください')\n",
    "    network = int(input('ネットワークの得点? >>'))\n",
    "    database = int(input('データベースの得点? >>'))\n",
    "    security = int(input('セキュリティの得点? >>'))\n",
    "    scores = [network, database, security]\n",
    "    return scores\n",
    " \n",
    "def calc_average(scores):\n",
    "    avg = sum(scores) / len(scores)\n",
    "    return avg\n",
    "\n",
    "def output_result(name, avg):\n",
    "    print(f'{name}さんの平均点は{avg}です')\n",
    "\n",
    "# 浅木と松田の得点入力\n",
    "asagi_scores = input_scores('浅木')\n",
    "matsuda_scores = input_scores('松田')\n",
    "# 平均点を計算\n",
    "asagi_avg = calc_average(asagi_scores)\n",
    "matsuda_avg = calc_average(matsuda_scores)\n",
    "# 結果を出力\n",
    "output_result('浅木', asagi_avg)\n",
    "output_result('松田', matsuda_avg)"
   ]
  },
  {
   "cell_type": "code",
   "execution_count": null,
   "metadata": {},
   "outputs": [],
   "source": [
    "def plus_and_minus(a, b):\n",
    "    return a + b, a - b\n",
    "\n",
    "next, prev = plus_and_minus(1978, 1)"
   ]
  },
  {
   "cell_type": "code",
   "execution_count": null,
   "metadata": {},
   "outputs": [],
   "source": [
    "def plus_and_minus(a, b):\n",
    "    return (a + b, a - b)\n",
    "\n",
    "(next, prev) = plus_and_minus(1978, 1)"
   ]
  },
  {
   "cell_type": "code",
   "execution_count": null,
   "metadata": {},
   "outputs": [],
   "source": [
    "def eat(breakfast, lunch, dinner):\n",
    "    print(f'朝は{breakfast}を食べました')\n",
    "    print(f'昼は{lunch}を食べました')\n",
    "    print(f'晩は{dinner}を食べました')\n",
    "\n",
    "print('8月1日')\n",
    "eat('トースト', 'おにぎり', 'カレー')\n",
    "print('8月2日')\n",
    "eat('納豆ごはん', 'ラーメン', 'カレー')\n",
    "print('8月3日')\n",
    "eat('バナナ', 'そば', '焼肉')\n",
    "print('8月4日')\n",
    "eat('サンドウィッチ', 'しゅうまい弁当', 'カレー')"
   ]
  },
  {
   "cell_type": "code",
   "execution_count": null,
   "metadata": {},
   "outputs": [],
   "source": [
    "def eat(breakfast, lunch, dinner='カレー'):\n",
    "    print(f'朝は{breakfast}を食べました')\n",
    "    print(f'昼は{lunch}を食べました')\n",
    "    print(f'晩は{dinner}を食べました')\n",
    "\n",
    "print('8月1日')\n",
    "eat('トースト', 'おにぎり')\n",
    "print('8月2日')\n",
    "eat('納豆ごはん', 'ラーメン')\n",
    "print('8月3日')\n",
    "eat('バナナ', 'そば', '焼肉')\n",
    "print('8月4日')\n",
    "eat('サンドウィッチ', 'しゅうまい弁当')"
   ]
  },
  {
   "cell_type": "code",
   "execution_count": null,
   "metadata": {},
   "outputs": [],
   "source": [
    "def eat(breakfast, lunch='ラーメン', dinner='カレー'):\n",
    "    print(f'朝は{breakfast}を食べました')\n",
    "    print(f'昼は{lunch}を食べました')\n",
    "    print(f'晩は{dinner}を食べました')\n",
    "\n",
    "eat('納豆ごはん', 'ラーメン', 'カレーうどん')"
   ]
  },
  {
   "cell_type": "code",
   "execution_count": null,
   "metadata": {},
   "outputs": [],
   "source": [
    "eat(breakfast='納豆ごはん', dinner='カレーうどん') # 1\n",
    "eat(dinner='カレーうどん', breakfast='納豆ごはん') # 2\n",
    "eat('納豆ごはん', dinner='カレーうどん')           # 3"
   ]
  },
  {
   "cell_type": "code",
   "execution_count": null,
   "metadata": {},
   "outputs": [],
   "source": [
    "def eat(breakfast, lunch, dinner='カレー', desserts=()):\n",
    "    print(f'朝は{breakfast}を食べました')\n",
    "    print(f'昼は{lunch}を食べました')\n",
    "    print(f'晩は{dinner}を食べました')\n",
    "    for d in desserts:\n",
    "        print(f'おやつに{d}を食べました')\n",
    "\n",
    "eat('トースト', 'パスタ', 'カレー', ('アイス', 'チョコ', 'パフェ'))"
   ]
  },
  {
   "cell_type": "code",
   "execution_count": null,
   "metadata": {},
   "outputs": [],
   "source": [
    "def eat(breakfast, lunch, dinner='カレー', *desserts):\n",
    "    print(f'朝は{breakfast}を食べました')\n",
    "    print(f'昼は{lunch}を食べました')\n",
    "    print(f'晩は{dinner}を食べました')\n",
    "    for d in desserts:\n",
    "        print(f'おやつに{d}を食べました')\n",
    "\n",
    "eat('トースト', 'パスタ', 'カレー', 'アイス', 'チョコ', 'カレー')"
   ]
  },
  {
   "cell_type": "code",
   "execution_count": null,
   "metadata": {},
   "outputs": [],
   "source": [
    "name = '松田'\n",
    "def hello():\n",
    "    print('こんにちは' + name + 'さん')\n",
    "\n",
    "hello()"
   ]
  },
  {
   "cell_type": "code",
   "execution_count": null,
   "metadata": {},
   "outputs": [],
   "source": [
    "name = '松田'\n",
    "def change_name():\n",
    "    name = '浅木'\n",
    "def hello():\n",
    "    print('こんにちは' + name + 'さん')\n",
    "\n",
    "change_name()\n",
    "hello()"
   ]
  },
  {
   "cell_type": "code",
   "execution_count": null,
   "metadata": {},
   "outputs": [],
   "source": [
    "name = '松田'\n",
    "def change_name():\n",
    "    global name\n",
    "    name = '浅木'\n",
    "def hello():\n",
    "    print('こんにちは' + name + 'さん')"
   ]
  }
 ],
 "metadata": {
  "kernelspec": {
   "display_name": "Python 3",
   "language": "python",
   "name": "python3"
  },
  "language_info": {
   "codemirror_mode": {
    "name": "ipython",
    "version": 3
   },
   "file_extension": ".py",
   "mimetype": "text/x-python",
   "name": "python",
   "nbconvert_exporter": "python",
   "pygments_lexer": "ipython3",
   "version": "3.8.8"
  }
 },
 "nbformat": 4,
 "nbformat_minor": 4
}

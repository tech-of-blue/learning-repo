{
 "cells": [
  {
   "cell_type": "markdown",
   "metadata": {},
   "source": [
    "# 第5部　統計的推定\n",
    "## 6章　区間推定"
   ]
  },
  {
   "cell_type": "markdown",
   "metadata": {},
   "source": [
    "### 実装：分析の準備"
   ]
  },
  {
   "cell_type": "code",
   "execution_count": 1,
   "metadata": {},
   "outputs": [],
   "source": [
    "# 数値計算に使うライブラリ\n",
    "import numpy as np\n",
    "import pandas as pd\n",
    "from scipy import stats\n",
    "\n",
    "# グラフを描画するライブラリ\n",
    "from matplotlib import pyplot as plt\n",
    "import seaborn as sns\n",
    "sns.set()\n",
    "\n",
    "# グラフの日本語表記\n",
    "from matplotlib import rcParams\n",
    "rcParams['font.family'] = 'sans-serif'\n",
    "rcParams['font.sans-serif'] = 'Meiryo'"
   ]
  },
  {
   "cell_type": "code",
   "execution_count": 2,
   "metadata": {},
   "outputs": [],
   "source": [
    "# 表示設定(書籍本文のレイアウトと合わせるためであり、必須ではありません)\n",
    "np.set_printoptions(linewidth=60)\n",
    "pd.set_option('display.width', 60)\n",
    "\n",
    "from matplotlib.pylab import rcParams\n",
    "rcParams['figure.figsize'] = 8, 4"
   ]
  },
  {
   "cell_type": "code",
   "execution_count": 3,
   "metadata": {},
   "outputs": [
    {
     "data": {
      "text/plain": [
       "0    4.352982\n",
       "1    3.735304\n",
       "2    5.944617\n",
       "3    3.798326\n",
       "4    4.087688\n",
       "5    5.265985\n",
       "6    3.272614\n",
       "7    3.526691\n",
       "8    4.150083\n",
       "9    3.736104\n",
       "Name: length, dtype: float64"
      ]
     },
     "execution_count": 3,
     "metadata": {},
     "output_type": "execute_result"
    }
   ],
   "source": [
    "# データの読み込み\n",
    "fish = pd.read_csv('5-6-1-fish_length.csv')['length']\n",
    "fish"
   ]
  },
  {
   "cell_type": "markdown",
   "metadata": {},
   "source": [
    "### 実装：点推定"
   ]
  },
  {
   "cell_type": "code",
   "execution_count": 4,
   "metadata": {},
   "outputs": [
    {
     "name": "stdout",
     "output_type": "stream",
     "text": [
      "標本平均： 4.187\n",
      "不偏分散： 0.68\n"
     ]
    }
   ],
   "source": [
    "# 点推定\n",
    "x_bar = np.mean(fish)\n",
    "u2 = np.var(fish, ddof=1)\n",
    "\n",
    "print('標本平均：', round(x_bar, 3))\n",
    "print('不偏分散：', round(u2, 3))"
   ]
  },
  {
   "cell_type": "markdown",
   "metadata": {},
   "source": [
    "### 実装：母平均の区間推定"
   ]
  },
  {
   "cell_type": "markdown",
   "metadata": {},
   "source": [
    "#### 定義通りの実装"
   ]
  },
  {
   "cell_type": "code",
   "execution_count": 5,
   "metadata": {},
   "outputs": [
    {
     "name": "stdout",
     "output_type": "stream",
     "text": [
      "サンプルサイズ： 10\n",
      "自由度　　　　： 9\n",
      "標準偏差　　　： 0.825\n",
      "標準誤差　　　： 0.261\n",
      "標本平均　　　： 4.187\n"
     ]
    }
   ],
   "source": [
    "# 統計量の計算\n",
    "n = len(fish)            # サンプルサイズ\n",
    "df = n - 1               # 自由度\n",
    "u = np.std(fish, ddof=1) # 標準偏差\n",
    "se = u / np.sqrt(n)      # 標準誤差\n",
    "\n",
    "print('サンプルサイズ：', n)\n",
    "print('自由度　　　　：', df)\n",
    "print('標準偏差　　　：', round(u, 3))\n",
    "print('標準誤差　　　：', round(se, 3))\n",
    "print('標本平均　　　：', round(x_bar, 3))"
   ]
  },
  {
   "cell_type": "code",
   "execution_count": 6,
   "metadata": {},
   "outputs": [
    {
     "name": "stdout",
     "output_type": "stream",
     "text": [
      "t分布の 2.5%点： -2.262\n",
      "t分布の97.5%点： 2.262\n"
     ]
    }
   ],
   "source": [
    "# 2.5%点と97.5%点\n",
    "t_025 = stats.t.ppf(q=0.025, df=df)\n",
    "t_975 = stats.t.ppf(q=0.975, df=df)\n",
    "\n",
    "print('t分布の 2.5%点：', round(t_025, 3))\n",
    "print('t分布の97.5%点：', round(t_975, 3))"
   ]
  },
  {
   "cell_type": "code",
   "execution_count": 7,
   "metadata": {},
   "outputs": [
    {
     "name": "stdout",
     "output_type": "stream",
     "text": [
      "下側信頼限界： 3.597\n",
      "上側信頼限界： 4.777\n"
     ]
    }
   ],
   "source": [
    "# 母平均の区間推定\n",
    "lower_mu = x_bar - t_975 * se\n",
    "upper_mu = x_bar - t_025 * se\n",
    "\n",
    "print('下側信頼限界：', round(lower_mu, 3))\n",
    "print('上側信頼限界：', round(upper_mu, 3))"
   ]
  },
  {
   "cell_type": "markdown",
   "metadata": {},
   "source": [
    "#### 簡単な実装方法"
   ]
  },
  {
   "cell_type": "code",
   "execution_count": 8,
   "metadata": {},
   "outputs": [
    {
     "data": {
      "text/plain": [
       "array([3.597, 4.777])"
      ]
     },
     "execution_count": 8,
     "metadata": {},
     "output_type": "execute_result"
    }
   ],
   "source": [
    "# 区間推定\n",
    "res_1 = stats.t.interval(alpha=0.95, df=df, loc=x_bar, scale=se)\n",
    "np.round(res_1, 3)"
   ]
  },
  {
   "cell_type": "markdown",
   "metadata": {},
   "source": [
    "### 信頼区間の幅を決める要素"
   ]
  },
  {
   "cell_type": "code",
   "execution_count": 9,
   "metadata": {},
   "outputs": [
    {
     "data": {
      "text/plain": [
       "array([-1.713, 10.087])"
      ]
     },
     "execution_count": 9,
     "metadata": {},
     "output_type": "execute_result"
    }
   ],
   "source": [
    "# 標準偏差が大きいと、信頼区間は広くなる\n",
    "se_2 = (u * 10) / np.sqrt(n)\n",
    "res_2 = stats.t.interval(alpha=0.95, df=df, loc=x_bar, scale=se_2)\n",
    "np.round(res_2, 3)"
   ]
  },
  {
   "cell_type": "code",
   "execution_count": 10,
   "metadata": {},
   "outputs": [
    {
     "data": {
      "text/plain": [
       "array([4.023, 4.351])"
      ]
     },
     "execution_count": 10,
     "metadata": {},
     "output_type": "execute_result"
    }
   ],
   "source": [
    "# サンプルサイズが大きいと、信頼区間は狭くなる\n",
    "n_2 = n * 10\n",
    "df_2 = n_2 - 1\n",
    "se_3 = u / np.sqrt(n_2)\n",
    "res_3 = stats.t.interval(alpha=0.95, df=df_2, loc=x_bar, scale=se_3)\n",
    "np.round(res_3, 3)"
   ]
  },
  {
   "cell_type": "code",
   "execution_count": 11,
   "metadata": {},
   "outputs": [
    {
     "data": {
      "text/plain": [
       "array([3.339, 5.035])"
      ]
     },
     "execution_count": 11,
     "metadata": {},
     "output_type": "execute_result"
    }
   ],
   "source": [
    "# 99%信頼区間\n",
    "res_4 = stats.t.interval(alpha=0.99, df=df, loc=x_bar, scale=se)\n",
    "np.round(res_4, 3)"
   ]
  },
  {
   "cell_type": "markdown",
   "metadata": {},
   "source": [
    "### 区間推定の結果の解釈"
   ]
  },
  {
   "cell_type": "code",
   "execution_count": 12,
   "metadata": {},
   "outputs": [],
   "source": [
    "# 母集団分布（母平均は4）\n",
    "norm_dist = stats.norm(loc=4, scale=0.8)"
   ]
  },
  {
   "cell_type": "code",
   "execution_count": 13,
   "metadata": {},
   "outputs": [],
   "source": [
    "num_trials = 20000 # シミュレーションの繰り返し数\n",
    "included_num = 0   # 信頼区間が母平均(4)を含んでいた回数"
   ]
  },
  {
   "cell_type": "code",
   "execution_count": 14,
   "metadata": {},
   "outputs": [],
   "source": [
    "# 「データを10個選んで95%信頼区間を求める」試行を20000回繰り返す\n",
    "np.random.seed(1) # 乱数の種\n",
    "for i in range(0, num_trials):\n",
    "    # 標本の抽出\n",
    "    sample = norm_dist.rvs(size=n)\n",
    "    # 信頼区間の計算\n",
    "    df = n - 1                 # 自由度\n",
    "    x_bar = np.mean(sample)    # 標本平均\n",
    "    u = np.std(sample, ddof=1) # 標準偏差\n",
    "    se = u / np.sqrt(n)        # 標準誤差\n",
    "    interval = stats.t.interval(0.95, df, x_bar, se)\n",
    "    # 信頼区間が母平均(4)を含んでいた回数をカウント\n",
    "    if(interval[0] <= 4 <= interval[1]):\n",
    "        included_num = included_num + 1"
   ]
  },
  {
   "cell_type": "code",
   "execution_count": 15,
   "metadata": {},
   "outputs": [
    {
     "data": {
      "text/plain": [
       "0.948"
      ]
     },
     "execution_count": 15,
     "metadata": {},
     "output_type": "execute_result"
    }
   ],
   "source": [
    "# 全試行中、信頼区間が母平均（4）を含んでいた割合\n",
    "included_num / num_trials"
   ]
  },
  {
   "cell_type": "markdown",
   "metadata": {},
   "source": [
    "### 実装：母分散の区間推定"
   ]
  },
  {
   "cell_type": "code",
   "execution_count": 16,
   "metadata": {},
   "outputs": [
    {
     "name": "stdout",
     "output_type": "stream",
     "text": [
      "χ2分布の 2.5%点： 2.7\n",
      "χ2分布の97.5%点： 19.023\n"
     ]
    }
   ],
   "source": [
    "# 2.5%点と97.5%点\n",
    "chi2_025 = stats.chi2.ppf(q=0.025, df=df)\n",
    "chi2_975 = stats.chi2.ppf(q=0.975, df=df)\n",
    "\n",
    "print('χ2分布の 2.5%点：', round(chi2_025, 3))\n",
    "print('χ2分布の97.5%点：', round(chi2_975, 3))"
   ]
  },
  {
   "cell_type": "code",
   "execution_count": 17,
   "metadata": {},
   "outputs": [
    {
     "name": "stdout",
     "output_type": "stream",
     "text": [
      "下側信頼限界： 0.322\n",
      "上側信頼限界： 2.267\n"
     ]
    }
   ],
   "source": [
    "# 母分散の区間推定\n",
    "upper_sigma = (n - 1) * u2 / chi2_025\n",
    "lower_sigma = (n - 1) * u2 / chi2_975\n",
    "\n",
    "print('下側信頼限界：', round(lower_sigma, 3))\n",
    "print('上側信頼限界：', round(upper_sigma, 3))"
   ]
  }
 ],
 "metadata": {
  "kernelspec": {
   "display_name": "Python 3 (ipykernel)",
   "language": "python",
   "name": "python3"
  },
  "language_info": {
   "codemirror_mode": {
    "name": "ipython",
    "version": 3
   },
   "file_extension": ".py",
   "mimetype": "text/x-python",
   "name": "python",
   "nbconvert_exporter": "python",
   "pygments_lexer": "ipython3",
   "version": "3.9.7"
  }
 },
 "nbformat": 4,
 "nbformat_minor": 2
}

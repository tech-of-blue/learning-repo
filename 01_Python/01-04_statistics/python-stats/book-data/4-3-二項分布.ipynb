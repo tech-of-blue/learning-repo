{
 "cells": [
  {
   "cell_type": "markdown",
   "metadata": {},
   "source": [
    "# 第4部　確率と確率分布の基本\n",
    "\n",
    "## 3章　二項分布"
   ]
  },
  {
   "cell_type": "markdown",
   "metadata": {},
   "source": [
    "### 実装：分析の準備"
   ]
  },
  {
   "cell_type": "code",
   "execution_count": 1,
   "metadata": {},
   "outputs": [],
   "source": [
    "# 数値計算に使うライブラリ\n",
    "import numpy as np\n",
    "import pandas as pd\n",
    "from scipy import stats\n",
    "\n",
    "# グラフを描画するライブラリ\n",
    "from matplotlib import pyplot as plt\n",
    "import seaborn as sns\n",
    "sns.set()\n",
    "\n",
    "# グラフの日本語表記\n",
    "from matplotlib import rcParams\n",
    "rcParams['font.family'] = 'sans-serif'\n",
    "rcParams['font.sans-serif'] = 'Meiryo'"
   ]
  },
  {
   "cell_type": "code",
   "execution_count": 2,
   "metadata": {},
   "outputs": [],
   "source": [
    "# 表示設定(書籍本文のレイアウトと合わせるためであり、必須ではありません)\n",
    "np.set_printoptions(linewidth=60)\n",
    "pd.set_option('display.width', 60)\n",
    "\n",
    "from matplotlib.pylab import rcParams\n",
    "rcParams['figure.figsize'] = 8, 4"
   ]
  },
  {
   "cell_type": "code",
   "execution_count": 3,
   "metadata": {},
   "outputs": [],
   "source": [
    "# 書籍と結果を合わせるための乱数の種(必須ではありません)\n",
    "np.random.seed(4)"
   ]
  },
  {
   "cell_type": "markdown",
   "metadata": {},
   "source": [
    "### 実装：くじを1枚引くシミュレーション"
   ]
  },
  {
   "cell_type": "markdown",
   "metadata": {},
   "source": [
    "#### くじを用意する"
   ]
  },
  {
   "cell_type": "code",
   "execution_count": 4,
   "metadata": {},
   "outputs": [
    {
     "data": {
      "text/plain": [
       "array([1, 1, 0, 0, 0, 0, 0, 0, 0, 0])"
      ]
     },
     "execution_count": 4,
     "metadata": {},
     "output_type": "execute_result"
    }
   ],
   "source": [
    "lottery = np.array([1,1,0,0,0,0,0,0,0,0])\n",
    "lottery"
   ]
  },
  {
   "cell_type": "code",
   "execution_count": 5,
   "metadata": {},
   "outputs": [
    {
     "data": {
      "text/plain": [
       "0.2"
      ]
     },
     "execution_count": 5,
     "metadata": {},
     "output_type": "execute_result"
    }
   ],
   "source": [
    "# くじの当たり率（成功確率）\n",
    "sum(lottery) / len(lottery)"
   ]
  },
  {
   "cell_type": "markdown",
   "metadata": {},
   "source": [
    "#### くじを1枚引く"
   ]
  },
  {
   "cell_type": "code",
   "execution_count": 6,
   "metadata": {},
   "outputs": [
    {
     "data": {
      "text/plain": [
       "array([0])"
      ]
     },
     "execution_count": 6,
     "metadata": {},
     "output_type": "execute_result"
    }
   ],
   "source": [
    "# ランダムにくじを引く\n",
    "np.random.choice(lottery, size=1, replace=True)"
   ]
  },
  {
   "cell_type": "code",
   "execution_count": 7,
   "metadata": {},
   "outputs": [
    {
     "name": "stdout",
     "output_type": "stream",
     "text": [
      "[0]\n",
      "[1]\n",
      "[0]\n"
     ]
    }
   ],
   "source": [
    "# ランダムにくじを3回引く\n",
    "print(np.random.choice(lottery, size=1, replace=True))\n",
    "print(np.random.choice(lottery, size=1, replace=True))\n",
    "print(np.random.choice(lottery, size=1, replace=True))"
   ]
  },
  {
   "cell_type": "markdown",
   "metadata": {},
   "source": [
    "### 実装：くじを10枚引くシミュレーション"
   ]
  },
  {
   "cell_type": "markdown",
   "metadata": {},
   "source": [
    "#### くじを10枚引く"
   ]
  },
  {
   "cell_type": "code",
   "execution_count": 8,
   "metadata": {},
   "outputs": [
    {
     "name": "stdout",
     "output_type": "stream",
     "text": [
      "[0 0 0 0 0 0 0 0 0 0]\n",
      "[0 0 0 0 1 0 0 0 0 0]\n",
      "[0 0 0 0 0 1 0 0 1 0]\n"
     ]
    }
   ],
   "source": [
    "# ランダムにくじを10回引く\n",
    "print(np.random.choice(lottery, size=10, replace=True))\n",
    "print(np.random.choice(lottery, size=10, replace=True))\n",
    "print(np.random.choice(lottery, size=10, replace=True))"
   ]
  },
  {
   "cell_type": "markdown",
   "metadata": {},
   "source": [
    "#### 乱数の種を設定する"
   ]
  },
  {
   "cell_type": "code",
   "execution_count": 9,
   "metadata": {},
   "outputs": [
    {
     "name": "stdout",
     "output_type": "stream",
     "text": [
      "[0 0 0 0 1 1 1 0 0 0]\n",
      "[0 0 0 0 1 1 1 0 0 0]\n",
      "[0 0 0 0 1 1 1 0 0 0]\n"
     ]
    }
   ],
   "source": [
    "np.random.seed(1)\n",
    "print(np.random.choice(lottery, size=10, replace=True))\n",
    "np.random.seed(1)\n",
    "print(np.random.choice(lottery, size=10, replace=True))\n",
    "np.random.seed(1)\n",
    "print(np.random.choice(lottery, size=10, replace=True))"
   ]
  },
  {
   "cell_type": "markdown",
   "metadata": {},
   "source": [
    "#### 繰り返し実行の結果の確認"
   ]
  },
  {
   "cell_type": "code",
   "execution_count": 10,
   "metadata": {},
   "outputs": [
    {
     "name": "stdout",
     "output_type": "stream",
     "text": [
      "[0 0 0 0 1 1 1 0 0 0]\n",
      "[0 0 0 0 0 0 0 0 0 0]\n",
      "[1 0 1 0 0 0 0 0 0 1]\n"
     ]
    }
   ],
   "source": [
    "np.random.seed(1)\n",
    "print(np.random.choice(lottery, size=10, replace=True))\n",
    "print(np.random.choice(lottery, size=10, replace=True))\n",
    "print(np.random.choice(lottery, size=10, replace=True))"
   ]
  },
  {
   "cell_type": "code",
   "execution_count": 11,
   "metadata": {},
   "outputs": [
    {
     "name": "stdout",
     "output_type": "stream",
     "text": [
      "[0 0 0 0 1 1 1 0 0 0]\n",
      "[0 0 0 0 0 0 0 0 0 0]\n",
      "[1 0 1 0 0 0 0 0 0 1]\n"
     ]
    }
   ],
   "source": [
    "np.random.seed(1)\n",
    "print(np.random.choice(lottery, size=10, replace=True))\n",
    "print(np.random.choice(lottery, size=10, replace=True))\n",
    "print(np.random.choice(lottery, size=10, replace=True))"
   ]
  },
  {
   "cell_type": "markdown",
   "metadata": {},
   "source": [
    "#### 当たり枚数の集計"
   ]
  },
  {
   "cell_type": "code",
   "execution_count": 12,
   "metadata": {},
   "outputs": [
    {
     "name": "stdout",
     "output_type": "stream",
     "text": [
      "くじ引きの結果： [0 0 0 0 1 1 1 0 0 0]\n",
      "当たり枚数　　： 3\n"
     ]
    }
   ],
   "source": [
    "# ランダムにくじを10枚引く\n",
    "np.random.seed(1)\n",
    "sample_1 = np.random.choice(lottery, size=10, replace=True)\n",
    "print('くじ引きの結果：', sample_1)\n",
    "print('当たり枚数　　：', np.sum(sample_1))"
   ]
  },
  {
   "cell_type": "markdown",
   "metadata": {},
   "source": [
    "### 実装：くじを10枚引く試行を10000回繰り返すシミュレーション"
   ]
  },
  {
   "cell_type": "markdown",
   "metadata": {},
   "source": [
    "#### シミュレーションの実行"
   ]
  },
  {
   "cell_type": "code",
   "execution_count": 13,
   "metadata": {},
   "outputs": [],
   "source": [
    "# くじを10枚引く試行を10000回繰り返す\n",
    "\n",
    "# 試行回数\n",
    "n_trial = 10000\n",
    "\n",
    "# 結果を格納する入れ物\n",
    "binomial_result_array = np.zeros(n_trial)"
   ]
  },
  {
   "cell_type": "code",
   "execution_count": 14,
   "metadata": {},
   "outputs": [],
   "source": [
    "# シミュレーションの実行\n",
    "np.random.seed(1)\n",
    "for i in range(0, n_trial):\n",
    "    sample = np.random.choice(lottery, size=10, replace=True)\n",
    "    binomial_result_array[i] = np.sum(sample)"
   ]
  },
  {
   "cell_type": "code",
   "execution_count": 15,
   "metadata": {},
   "outputs": [
    {
     "data": {
      "text/plain": [
       "array([3., 0., 3., 2., 3., 1., 0., 2., 3., 0.])"
      ]
     },
     "execution_count": 15,
     "metadata": {},
     "output_type": "execute_result"
    }
   ],
   "source": [
    "# シミュレーションの結果(最初の10回の結果)\n",
    "binomial_result_array[0:10]"
   ]
  },
  {
   "cell_type": "markdown",
   "metadata": {},
   "source": [
    "#### シミュレーション結果のヒストグラム"
   ]
  },
  {
   "cell_type": "code",
   "execution_count": 16,
   "metadata": {},
   "outputs": [
    {
     "data": {
      "text/plain": [
       "(array([1.118e-01, 2.711e-01, 2.992e-01, 1.977e-01,\n",
       "        8.890e-02, 2.430e-02, 5.800e-03, 1.100e-03,\n",
       "        1.000e-04, 0.000e+00]),\n",
       " array([ 0,  1,  2,  3,  4,  5,  6,  7,  8,  9, 10]))"
      ]
     },
     "execution_count": 16,
     "metadata": {},
     "output_type": "execute_result"
    }
   ],
   "source": [
    "# シミュレーションの結果の相対度数分布\n",
    "np.histogram(binomial_result_array, \n",
    "             bins=np.arange(0, 11, 1), density=True)"
   ]
  },
  {
   "cell_type": "code",
   "execution_count": 17,
   "metadata": {},
   "outputs": [
    {
     "data": {
      "text/plain": [
       "<AxesSubplot:ylabel='Density'>"
      ]
     },
     "execution_count": 17,
     "metadata": {},
     "output_type": "execute_result"
    },
    {
     "data": {
      "image/png": "[encoded data removed]",
      "text/plain": [
       "<Figure size 576x288 with 1 Axes>"
      ]
     },
     "metadata": {},
     "output_type": "display_data"
    }
   ],
   "source": [
    "# シミュレーションの結果のヒストグラム\n",
    "sns.histplot(binomial_result_array, \n",
    "             bins=np.arange(0, 11, 1), \n",
    "             stat='density', color='gray')"
   ]
  },
  {
   "cell_type": "markdown",
   "metadata": {},
   "source": [
    "### 実装：二項分布"
   ]
  },
  {
   "cell_type": "markdown",
   "metadata": {},
   "source": [
    "#### 二項分布の確率質量関数"
   ]
  },
  {
   "cell_type": "code",
   "execution_count": 18,
   "metadata": {},
   "outputs": [
    {
     "data": {
      "text/plain": [
       "0.5"
      ]
     },
     "execution_count": 18,
     "metadata": {},
     "output_type": "execute_result"
    }
   ],
   "source": [
    "# 二項分布の確率質量関数(成功確率p=0.5、ベルヌーイ試行の回数n=2、成功回数=1)\n",
    "round(stats.binom.pmf(k=1, n=2, p=0.5), 3)"
   ]
  },
  {
   "cell_type": "code",
   "execution_count": 19,
   "metadata": {},
   "outputs": [
    {
     "data": {
      "text/plain": [
       "0.107"
      ]
     },
     "execution_count": 19,
     "metadata": {},
     "output_type": "execute_result"
    }
   ],
   "source": [
    "# 二項分布の確率質量関数(成功確率p=0.2、ベルヌーイ試行の回数n=10、成功回数=0)\n",
    "round(stats.binom.pmf(k=0, n=10, p=0.2), 3)"
   ]
  },
  {
   "cell_type": "markdown",
   "metadata": {},
   "source": [
    "#### 二項分布の確率質量関数のグラフ"
   ]
  },
  {
   "cell_type": "code",
   "execution_count": 20,
   "metadata": {},
   "outputs": [
    {
     "name": "stdout",
     "output_type": "stream",
     "text": [
      "    n_success         probs\n",
      "0           0  1.073742e-01\n",
      "1           1  2.684355e-01\n",
      "2           2  3.019899e-01\n",
      "3           3  2.013266e-01\n",
      "4           4  8.808038e-02\n",
      "5           5  2.642412e-02\n",
      "6           6  5.505024e-03\n",
      "7           7  7.864320e-04\n",
      "8           8  7.372800e-05\n",
      "9           9  4.096000e-06\n",
      "10         10  1.024000e-07\n"
     ]
    }
   ],
   "source": [
    "# 成功回数が0～10回になる確率を各々計算\n",
    "\n",
    "# 成功回数\n",
    "n_success = np.arange(0, 11, 1)\n",
    "\n",
    "# 確率\n",
    "probs = stats.binom.pmf(k=n_success, n=10, p=0.2)\n",
    "\n",
    "# データフレームにまとめる\n",
    "probs_df = pd.DataFrame({\n",
    "    'n_success': n_success,\n",
    "    'probs': probs\n",
    "})\n",
    "print(probs_df)"
   ]
  },
  {
   "cell_type": "code",
   "execution_count": 21,
   "metadata": {},
   "outputs": [
    {
     "data": {
      "text/plain": [
       "<AxesSubplot:ylabel='Density'>"
      ]
     },
     "execution_count": 21,
     "metadata": {},
     "output_type": "execute_result"
    },
    {
     "data": {
      "image/png": "[encoded data removed]",
      "text/plain": [
       "<Figure size 576x288 with 1 Axes>"
      ]
     },
     "metadata": {},
     "output_type": "display_data"
    }
   ],
   "source": [
    "# シミュレーションで得られたヒストグラムと比較\n",
    "\n",
    "# ヒストグラム(シミュレーション結果)\n",
    "sns.histplot(binomial_result_array, \n",
    "             bins=np.arange(0, 11, 1), \n",
    "             stat='density', color='gray')\n",
    "\n",
    "# 折れ線グラフ(二項分布の確率質量関数)\n",
    "sns.lineplot(x=n_success, y=probs, \n",
    "             data=probs_df, color='black')"
   ]
  },
  {
   "cell_type": "markdown",
   "metadata": {},
   "source": [
    "#### さまざまな二項分布"
   ]
  },
  {
   "cell_type": "code",
   "execution_count": 22,
   "metadata": {},
   "outputs": [
    {
     "name": "stdout",
     "output_type": "stream",
     "text": [
      "   n_success   成功確率0.1   成功確率0.2   成功確率0.5\n",
      "0          0  0.348678  0.107374  0.000977\n",
      "1          1  0.387420  0.268435  0.009766\n",
      "2          2  0.193710  0.301990  0.043945\n"
     ]
    }
   ],
   "source": [
    "# 参考(書籍には載っていないコードです。書籍本文中のグラフを作成するためのコードです)\n",
    "# 成功回数が0～10回になる確率を各々計算\n",
    "\n",
    "# 成功回数\n",
    "n_success = np.arange(0, 11, 1)\n",
    "\n",
    "# 確率\n",
    "probs_01 = stats.binom.pmf(k=n_success, n=10, p=0.1)\n",
    "probs_02 = stats.binom.pmf(k=n_success, n=10, p=0.2)\n",
    "probs_05 = stats.binom.pmf(k=n_success, n=10, p=0.5)\n",
    "\n",
    "\n",
    "# データフレームにまとめる\n",
    "probs_df_2 = pd.DataFrame({\n",
    "    'n_success': n_success,\n",
    "    '成功確率0.1': probs_01,\n",
    "    '成功確率0.2': probs_02,\n",
    "    '成功確率0.5': probs_05,\n",
    "})\n",
    "\n",
    "print(probs_df_2.head(3))"
   ]
  },
  {
   "cell_type": "code",
   "execution_count": 23,
   "metadata": {},
   "outputs": [
    {
     "data": {
      "text/plain": [
       "<AxesSubplot:xlabel='n_success'>"
      ]
     },
     "execution_count": 23,
     "metadata": {},
     "output_type": "execute_result"
    },
    {
     "data": {
      "image/png": "[encoded data removed]",
      "text/plain": [
       "<Figure size 576x288 with 1 Axes>"
      ]
     },
     "metadata": {},
     "output_type": "display_data"
    }
   ],
   "source": [
    "# 参考(書籍には載っていないコードです。書籍本文中のグラフを作成するためのコードです)\n",
    "probs_df_2.plot(x='n_success', style=['-', '--', ':'], color='black')"
   ]
  },
  {
   "cell_type": "markdown",
   "metadata": {},
   "source": [
    "### 実装：二項分布に従う乱数の生成"
   ]
  },
  {
   "cell_type": "code",
   "execution_count": 24,
   "metadata": {},
   "outputs": [
    {
     "data": {
      "text/plain": [
       "array([2, 3, 0, 1, 1])"
      ]
     },
     "execution_count": 24,
     "metadata": {},
     "output_type": "execute_result"
    }
   ],
   "source": [
    "# N=10,p=0.2の二項分布に従う乱数を5個生成\n",
    "np.random.seed(1)\n",
    "stats.binom.rvs(n=10, p=0.2, size=5)"
   ]
  },
  {
   "cell_type": "markdown",
   "metadata": {},
   "source": [
    "### 実装：二項分布の期待値と分散"
   ]
  },
  {
   "cell_type": "markdown",
   "metadata": {},
   "source": [
    "#### 二項分布の期待値の実装"
   ]
  },
  {
   "cell_type": "code",
   "execution_count": 25,
   "metadata": {},
   "outputs": [
    {
     "name": "stdout",
     "output_type": "stream",
     "text": [
      "乱数の平均　　： 2.0\n",
      "理論的な期待値： 2.0\n"
     ]
    }
   ],
   "source": [
    "n = 10\n",
    "p = 0.2\n",
    "x_bar = np.mean(binomial_result_array)\n",
    "\n",
    "print('乱数の平均　　：', round(x_bar, 1))\n",
    "print('理論的な期待値：', n * p)"
   ]
  },
  {
   "cell_type": "code",
   "execution_count": 26,
   "metadata": {},
   "outputs": [
    {
     "data": {
      "text/plain": [
       "2.0"
      ]
     },
     "execution_count": 26,
     "metadata": {},
     "output_type": "execute_result"
    }
   ],
   "source": [
    "# 理論的な期待値\n",
    "stats.binom.mean(n=10, p=0.2)"
   ]
  },
  {
   "cell_type": "markdown",
   "metadata": {},
   "source": [
    "#### 二項分布の分散の実装"
   ]
  },
  {
   "cell_type": "code",
   "execution_count": 27,
   "metadata": {},
   "outputs": [
    {
     "name": "stdout",
     "output_type": "stream",
     "text": [
      "乱数の分散　： 1.6\n",
      "理論的な分散： 1.6\n"
     ]
    }
   ],
   "source": [
    "u2 = np.var(binomial_result_array, ddof=1)\n",
    "print('乱数の分散　：', round(u2, 1))\n",
    "print('理論的な分散：', n * p * (1 - p))"
   ]
  },
  {
   "cell_type": "code",
   "execution_count": 28,
   "metadata": {},
   "outputs": [
    {
     "data": {
      "text/plain": [
       "1.6"
      ]
     },
     "execution_count": 28,
     "metadata": {},
     "output_type": "execute_result"
    }
   ],
   "source": [
    "# 理論的な分散\n",
    "stats.binom.var(n=10, p=0.2)"
   ]
  },
  {
   "cell_type": "markdown",
   "metadata": {},
   "source": [
    "### 実装：二項分布の累積分布関数"
   ]
  },
  {
   "cell_type": "markdown",
   "metadata": {},
   "source": [
    "#### 二項分布の累積分布関数の実装"
   ]
  },
  {
   "cell_type": "code",
   "execution_count": 29,
   "metadata": {},
   "outputs": [
    {
     "data": {
      "text/plain": [
       "0.678"
      ]
     },
     "execution_count": 29,
     "metadata": {},
     "output_type": "execute_result"
    }
   ],
   "source": [
    "# 二項分布の累積分布関数\n",
    "# (成功確率p=0.2、ベルヌーイ試行の回数n=10、成功回数2回以下)\n",
    "round(stats.binom.cdf(k=2, n=10, p=0.2), 3)"
   ]
  },
  {
   "cell_type": "markdown",
   "metadata": {},
   "source": [
    "#### 確率質量関数と累積分布関数の比較"
   ]
  },
  {
   "cell_type": "code",
   "execution_count": 30,
   "metadata": {},
   "outputs": [
    {
     "name": "stdout",
     "output_type": "stream",
     "text": [
      "確率質量関数 0.107\n",
      "累積分布関数 0.107\n"
     ]
    }
   ],
   "source": [
    "# 成功回数が0のときの比較\n",
    "print('確率質量関数', round(stats.binom.pmf(k=0, n=10, p=0.2), 3))\n",
    "print('累積分布関数', round(stats.binom.cdf(k=0, n=10, p=0.2), 3))"
   ]
  },
  {
   "cell_type": "code",
   "execution_count": 31,
   "metadata": {},
   "outputs": [
    {
     "name": "stdout",
     "output_type": "stream",
     "text": [
      "確率質量関数 0.268\n",
      "累積分布関数 0.376\n"
     ]
    }
   ],
   "source": [
    "# 成功回数が1のときの比較\n",
    "print('確率質量関数', round(stats.binom.pmf(k=1, n=10, p=0.2), 3))\n",
    "print('累積分布関数', round(stats.binom.cdf(k=1, n=10, p=0.2), 3))"
   ]
  },
  {
   "cell_type": "code",
   "execution_count": 32,
   "metadata": {},
   "outputs": [
    {
     "data": {
      "text/plain": [
       "0.376"
      ]
     },
     "execution_count": 32,
     "metadata": {},
     "output_type": "execute_result"
    }
   ],
   "source": [
    "# 確率質量関数から累積分布関数を求める\n",
    "pmf_0 = stats.binom.pmf(k=0, n=10, p=0.2)\n",
    "pmf_1 = stats.binom.pmf(k=1, n=10, p=0.2)\n",
    "round(pmf_0 + pmf_1, 3)"
   ]
  },
  {
   "cell_type": "markdown",
   "metadata": {},
   "source": [
    "### 実装：二項分布のパーセント点"
   ]
  },
  {
   "cell_type": "code",
   "execution_count": 33,
   "metadata": {},
   "outputs": [
    {
     "name": "stdout",
     "output_type": "stream",
     "text": [
      "10%点： 0.0\n",
      "20%点： 1.0\n",
      "50%点： 2.0\n",
      "80%点： 3.0\n",
      "95%点： 4.0\n"
     ]
    }
   ],
   "source": [
    "# 二項分布のパーセント点\n",
    "# 成功確率p=0.2、ベルヌーイ試行の回数n=10\n",
    "print('10%点：', stats.binom.ppf(q=0.1, n=10, p=0.2))\n",
    "print('20%点：', stats.binom.ppf(q=0.2, n=10, p=0.2))\n",
    "print('50%点：', stats.binom.ppf(q=0.5, n=10, p=0.2))\n",
    "print('80%点：', stats.binom.ppf(q=0.8, n=10, p=0.2))\n",
    "print('95%点：', stats.binom.ppf(q=0.95, n=10, p=0.2))"
   ]
  },
  {
   "cell_type": "markdown",
   "metadata": {},
   "source": [
    "### 実装：二項分布の上側確率"
   ]
  },
  {
   "cell_type": "code",
   "execution_count": 34,
   "metadata": {},
   "outputs": [
    {
     "data": {
      "text/plain": [
       "0.033"
      ]
     },
     "execution_count": 34,
     "metadata": {},
     "output_type": "execute_result"
    }
   ],
   "source": [
    "# 4より上\n",
    "round(1 - stats.binom.cdf(k=4, n=10, p=0.2), 3)"
   ]
  },
  {
   "cell_type": "code",
   "execution_count": 35,
   "metadata": {},
   "outputs": [
    {
     "data": {
      "text/plain": [
       "0.033"
      ]
     },
     "execution_count": 35,
     "metadata": {},
     "output_type": "execute_result"
    }
   ],
   "source": [
    "round(stats.binom.sf(k=4, n=10, p=0.2), 3)"
   ]
  }
 ],
 "metadata": {
  "kernelspec": {
   "display_name": "Python 3 (ipykernel)",
   "language": "python",
   "name": "python3"
  },
  "language_info": {
   "codemirror_mode": {
    "name": "ipython",
    "version": 3
   },
   "file_extension": ".py",
   "mimetype": "text/x-python",
   "name": "python",
   "nbconvert_exporter": "python",
   "pygments_lexer": "ipython3",
   "version": "3.9.7"
  }
 },
 "nbformat": 4,
 "nbformat_minor": 2
}

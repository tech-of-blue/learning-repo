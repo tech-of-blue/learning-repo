{
 "cells": [
  {
   "cell_type": "markdown",
   "id": "2580c902",
   "metadata": {},
   "source": [
    "# 第8部　正規線形モデル\n",
    "\n",
    "## 4章　複数の説明変数を持つモデル"
   ]
  },
  {
   "cell_type": "markdown",
   "id": "a90fe763",
   "metadata": {},
   "source": [
    "### 実装：分析の準備"
   ]
  },
  {
   "cell_type": "code",
   "execution_count": 1,
   "id": "257c1642",
   "metadata": {},
   "outputs": [],
   "source": [
    "# 数値計算に使うライブラリ\n",
    "import numpy as np\n",
    "import pandas as pd\n",
    "from scipy import stats\n",
    "# 表示桁数の設定\n",
    "pd.set_option('display.precision', 3)\n",
    "np.set_printoptions(precision=3)\n",
    "\n",
    "# グラフを描画するライブラリ\n",
    "from matplotlib import pyplot as plt\n",
    "import seaborn as sns\n",
    "sns.set()\n",
    "\n",
    "# 統計モデルを推定するライブラリ\n",
    "import statsmodels.formula.api as smf\n",
    "import statsmodels.api as sm"
   ]
  },
  {
   "cell_type": "code",
   "execution_count": 2,
   "id": "90ef1860",
   "metadata": {},
   "outputs": [],
   "source": [
    "# 表示設定(書籍本文のレイアウトと合わせるためであり、必須ではありません)\n",
    "np.set_printoptions(linewidth=65)\n",
    "pd.set_option('display.width', 65)\n",
    "\n",
    "from matplotlib.pylab import rcParams\n",
    "rcParams['figure.figsize'] = 8, 4"
   ]
  },
  {
   "cell_type": "code",
   "execution_count": 3,
   "id": "099c7e64",
   "metadata": {},
   "outputs": [
    {
     "name": "stdout",
     "output_type": "stream",
     "text": [
      "   sales brand  local_population\n",
      "0  348.0     A             215.1\n",
      "1  169.7     A             152.0\n",
      "2  143.7     A             107.7\n"
     ]
    }
   ],
   "source": [
    "# データの読み込み\n",
    "brand_1 = pd.read_csv('8-4-1-brand-1.csv')\n",
    "print(brand_1.head(n=3))"
   ]
  },
  {
   "cell_type": "code",
   "execution_count": 4,
   "id": "e6d7e681",
   "metadata": {},
   "outputs": [
    {
     "data": {
      "text/plain": [
       "A    15\n",
       "B    15\n",
       "Name: brand, dtype: int64"
      ]
     },
     "execution_count": 4,
     "metadata": {},
     "output_type": "execute_result"
    }
   ],
   "source": [
    "# ブランド\n",
    "brand_1.brand.value_counts()"
   ]
  },
  {
   "cell_type": "markdown",
   "id": "0d82d703",
   "metadata": {},
   "source": [
    "### 実装：（悪い分析例）単純な平均値の比較"
   ]
  },
  {
   "cell_type": "markdown",
   "id": "fa90a0ea",
   "metadata": {},
   "source": [
    "#### 平均値の比較"
   ]
  },
  {
   "cell_type": "code",
   "execution_count": 5,
   "id": "ef968e09",
   "metadata": {},
   "outputs": [
    {
     "name": "stdout",
     "output_type": "stream",
     "text": [
      "         sales  local_population\n",
      "brand                           \n",
      "A      283.707           268.973\n",
      "B      403.927           437.933\n"
     ]
    }
   ],
   "source": [
    "# ブランド別平均値の比較\n",
    "print(brand_1.groupby('brand').mean())"
   ]
  },
  {
   "cell_type": "code",
   "execution_count": 6,
   "id": "f3e19743",
   "metadata": {},
   "outputs": [
    {
     "data": {
      "text/plain": [
       "<AxesSubplot:xlabel='brand', ylabel='sales'>"
      ]
     },
     "execution_count": 6,
     "metadata": {},
     "output_type": "execute_result"
    },
    {
     "data": {
      "image/png": "[encoded data removed]",
      "text/plain": [
       "<Figure size 576x288 with 1 Axes>"
      ]
     },
     "metadata": {},
     "output_type": "display_data"
    }
   ],
   "source": [
    "# ブランドと売り上げの関係\n",
    "sns.boxplot(x='brand', y='sales', data=brand_1, color='gray')"
   ]
  },
  {
   "cell_type": "markdown",
   "id": "ba0a1ea9",
   "metadata": {},
   "source": [
    "#### 説明変数を1つだけ使ったモデル"
   ]
  },
  {
   "cell_type": "code",
   "execution_count": 7,
   "id": "815a3eb3",
   "metadata": {},
   "outputs": [
    {
     "data": {
      "text/html": [
       "<table class=\"simpletable\">\n",
       "<tr>\n",
       "       <td></td>         <th>coef</th>     <th>std err</th>      <th>t</th>      <th>P>|t|</th>  <th>[0.025</th>    <th>0.975]</th>  \n",
       "</tr>\n",
       "<tr>\n",
       "  <th>Intercept</th>  <td>  283.7067</td> <td>   26.602</td> <td>   10.665</td> <td> 0.000</td> <td>  229.214</td> <td>  338.199</td>\n",
       "</tr>\n",
       "<tr>\n",
       "  <th>brand[T.B]</th> <td>  120.2200</td> <td>   37.622</td> <td>    3.196</td> <td> 0.003</td> <td>   43.156</td> <td>  197.284</td>\n",
       "</tr>\n",
       "</table>"
      ],
      "text/plain": [
       "<class 'statsmodels.iolib.table.SimpleTable'>"
      ]
     },
     "execution_count": 7,
     "metadata": {},
     "output_type": "execute_result"
    }
   ],
   "source": [
    "lm_dame_1 = smf.ols('sales ~ brand', brand_1).fit()\n",
    "lm_dame_1.summary().tables[1]"
   ]
  },
  {
   "cell_type": "code",
   "execution_count": 8,
   "id": "a463d63e",
   "metadata": {},
   "outputs": [
    {
     "name": "stdout",
     "output_type": "stream",
     "text": [
      "            df      sum_sq     mean_sq       F  PR(>F)\n",
      "brand      1.0  108396.363  108396.363  10.211   0.003\n",
      "Residual  28.0  297230.019   10615.358     NaN     NaN\n"
     ]
    }
   ],
   "source": [
    "# 分散分析表\n",
    "print(sm.stats.anova_lm(lm_dame_1, typ=1).round(3))"
   ]
  },
  {
   "cell_type": "markdown",
   "id": "43d6abb3",
   "metadata": {},
   "source": [
    "### 実装：回帰直線の切片の比較"
   ]
  },
  {
   "cell_type": "code",
   "execution_count": 9,
   "id": "a38e3796",
   "metadata": {},
   "outputs": [
    {
     "data": {
      "text/html": [
       "<table class=\"simpletable\">\n",
       "<tr>\n",
       "          <td></td>            <th>coef</th>     <th>std err</th>      <th>t</th>      <th>P>|t|</th>  <th>[0.025</th>    <th>0.975]</th>  \n",
       "</tr>\n",
       "<tr>\n",
       "  <th>Intercept</th>        <td>  101.0946</td> <td>   31.535</td> <td>    3.206</td> <td> 0.003</td> <td>   36.389</td> <td>  165.800</td>\n",
       "</tr>\n",
       "<tr>\n",
       "  <th>brand[T.B]</th>       <td>    5.5093</td> <td>   28.768</td> <td>    0.192</td> <td> 0.850</td> <td>  -53.518</td> <td>   64.537</td>\n",
       "</tr>\n",
       "<tr>\n",
       "  <th>local_population</th> <td>    0.6789</td> <td>    0.100</td> <td>    6.790</td> <td> 0.000</td> <td>    0.474</td> <td>    0.884</td>\n",
       "</tr>\n",
       "</table>"
      ],
      "text/plain": [
       "<class 'statsmodels.iolib.table.SimpleTable'>"
      ]
     },
     "execution_count": 9,
     "metadata": {},
     "output_type": "execute_result"
    }
   ],
   "source": [
    "lm_model_1 = smf.ols('sales ~ brand + local_population', \n",
    "                     data=brand_1).fit()\n",
    "lm_model_1.summary().tables[1]"
   ]
  },
  {
   "cell_type": "code",
   "execution_count": 10,
   "id": "04d987b9",
   "metadata": {
    "scrolled": false
   },
   "outputs": [
    {
     "data": {
      "text/plain": [
       "<seaborn.axisgrid.FacetGrid at 0x267b3838910>"
      ]
     },
     "execution_count": 10,
     "metadata": {},
     "output_type": "execute_result"
    },
    {
     "data": {
      "image/png": "[encoded data removed]",
      "text/plain": [
       "<Figure size 576x288 with 2 Axes>"
      ]
     },
     "metadata": {},
     "output_type": "display_data"
    }
   ],
   "source": [
    "sns.lmplot(x='local_population', y='sales', data=brand_1,\n",
    "           col='brand',           \n",
    "           scatter_kws = {'color': 'black'},\n",
    "           line_kws    = {'color': 'black'},\n",
    "           ci=None, height=4, aspect=1)"
   ]
  },
  {
   "cell_type": "markdown",
   "id": "9b6c59dd",
   "metadata": {},
   "source": [
    "### 実装：素朴な分散分析による検定"
   ]
  },
  {
   "cell_type": "code",
   "execution_count": 11,
   "id": "2695c00e",
   "metadata": {},
   "outputs": [
    {
     "name": "stdout",
     "output_type": "stream",
     "text": [
      "                    df      sum_sq     mean_sq       F  PR(>F)\n",
      "brand              1.0  108396.363  108396.363  26.658     0.0\n",
      "local_population   1.0  187442.822  187442.822  46.098     0.0\n",
      "Residual          27.0  109787.197    4066.192     NaN     NaN\n"
     ]
    }
   ],
   "source": [
    "# 分散分析表\n",
    "print(sm.stats.anova_lm(lm_model_1, typ=1).round(3))"
   ]
  },
  {
   "cell_type": "markdown",
   "id": "98c16fd8",
   "metadata": {},
   "source": [
    "### 実装：複数の説明変数がある場合の平方和の計算"
   ]
  },
  {
   "cell_type": "markdown",
   "id": "52f2545f",
   "metadata": {},
   "source": [
    "#### 「Nullモデル」の作成"
   ]
  },
  {
   "cell_type": "code",
   "execution_count": 12,
   "id": "9875165e",
   "metadata": {},
   "outputs": [
    {
     "data": {
      "text/plain": [
       "405626.382"
      ]
     },
     "execution_count": 12,
     "metadata": {},
     "output_type": "execute_result"
    }
   ],
   "source": [
    "# Nullモデルの残差平方和\n",
    "mod_null = smf.ols('sales ~ 1', brand_1).fit()\n",
    "resid_sq_null = np.sum(mod_null.resid ** 2)\n",
    "round(resid_sq_null, 3)"
   ]
  },
  {
   "cell_type": "markdown",
   "id": "3ea7a25d",
   "metadata": {},
   "source": [
    "#### 「Nullモデル」と「ブランドモデル」の比較"
   ]
  },
  {
   "cell_type": "code",
   "execution_count": 13,
   "id": "743e1884",
   "metadata": {},
   "outputs": [
    {
     "data": {
      "text/plain": [
       "297230.019"
      ]
     },
     "execution_count": 13,
     "metadata": {},
     "output_type": "execute_result"
    }
   ],
   "source": [
    "# ブランドだけを入れたモデルの残差平方和\n",
    "resid_sq_brand = np.sum(lm_dame_1.resid ** 2)\n",
    "round(resid_sq_brand, 3)"
   ]
  },
  {
   "cell_type": "code",
   "execution_count": 14,
   "id": "a1701099",
   "metadata": {},
   "outputs": [
    {
     "data": {
      "text/plain": [
       "108396.363"
      ]
     },
     "execution_count": 14,
     "metadata": {},
     "output_type": "execute_result"
    }
   ],
   "source": [
    "round(resid_sq_null - resid_sq_brand, 3)"
   ]
  },
  {
   "cell_type": "code",
   "execution_count": 15,
   "id": "5b765a53",
   "metadata": {},
   "outputs": [
    {
     "name": "stdout",
     "output_type": "stream",
     "text": [
      "            df      sum_sq     mean_sq       F  PR(>F)\n",
      "brand      1.0  108396.363  108396.363  10.211   0.003\n",
      "Residual  28.0  297230.019   10615.358     NaN     NaN\n"
     ]
    }
   ],
   "source": [
    "print(sm.stats.anova_lm(lm_dame_1, typ=1).round(3))"
   ]
  },
  {
   "cell_type": "markdown",
   "id": "ff5a2fbf",
   "metadata": {},
   "source": [
    "#### 「ブランドモデル」と「ブランド＋地域人口モデル」の比較"
   ]
  },
  {
   "cell_type": "code",
   "execution_count": 16,
   "id": "0c56f95e",
   "metadata": {},
   "outputs": [
    {
     "data": {
      "text/plain": [
       "109787.197"
      ]
     },
     "execution_count": 16,
     "metadata": {},
     "output_type": "execute_result"
    }
   ],
   "source": [
    "# ブランド+地域人口モデルの残差平方和\n",
    "resid_sq_all = np.sum(lm_model_1.resid ** 2)\n",
    "round(resid_sq_all, 3)"
   ]
  },
  {
   "cell_type": "code",
   "execution_count": 17,
   "id": "bde3226b",
   "metadata": {},
   "outputs": [
    {
     "data": {
      "text/plain": [
       "187442.822"
      ]
     },
     "execution_count": 17,
     "metadata": {},
     "output_type": "execute_result"
    }
   ],
   "source": [
    "round(resid_sq_brand - resid_sq_all, 3)"
   ]
  },
  {
   "cell_type": "code",
   "execution_count": 18,
   "id": "5e92225e",
   "metadata": {},
   "outputs": [
    {
     "name": "stdout",
     "output_type": "stream",
     "text": [
      "                    df      sum_sq     mean_sq       F  PR(>F)\n",
      "brand              1.0  108396.363  108396.363  26.658     0.0\n",
      "local_population   1.0  187442.822  187442.822  46.098     0.0\n",
      "Residual          27.0  109787.197    4066.192     NaN     NaN\n"
     ]
    }
   ],
   "source": [
    "print(sm.stats.anova_lm(lm_model_1, typ=1).round(3))"
   ]
  },
  {
   "cell_type": "markdown",
   "id": "be48b345",
   "metadata": {},
   "source": [
    "### 実装：Type II 検定"
   ]
  },
  {
   "cell_type": "markdown",
   "id": "3ebb0f60",
   "metadata": {},
   "source": [
    "#### 調整平方和の計算"
   ]
  },
  {
   "cell_type": "code",
   "execution_count": 19,
   "id": "80cf9621",
   "metadata": {},
   "outputs": [
    {
     "data": {
      "text/plain": [
       "109936.322"
      ]
     },
     "execution_count": 19,
     "metadata": {},
     "output_type": "execute_result"
    }
   ],
   "source": [
    "# 地域人口だけを入れたモデルの残差平方和\n",
    "lm_model_pop = smf.ols('sales ~ local_population', \n",
    "                     data=brand_1).fit()\n",
    "resid_sq_pop = np.sum(lm_model_pop.resid ** 2)\n",
    "round(resid_sq_pop, 3)"
   ]
  },
  {
   "cell_type": "code",
   "execution_count": 20,
   "id": "89a83db1",
   "metadata": {},
   "outputs": [
    {
     "data": {
      "text/plain": [
       "149.125"
      ]
     },
     "execution_count": 20,
     "metadata": {},
     "output_type": "execute_result"
    }
   ],
   "source": [
    "round(resid_sq_pop - resid_sq_all, 3)"
   ]
  },
  {
   "cell_type": "markdown",
   "id": "eab7c67e",
   "metadata": {},
   "source": [
    "#### Type II 検定の実行"
   ]
  },
  {
   "cell_type": "code",
   "execution_count": 21,
   "id": "3fc13ad7",
   "metadata": {},
   "outputs": [
    {
     "name": "stdout",
     "output_type": "stream",
     "text": [
      "                      sum_sq    df       F  PR(>F)\n",
      "brand                149.125   1.0   0.037    0.85\n",
      "local_population  187442.822   1.0  46.098    0.00\n",
      "Residual          109787.197  27.0     NaN     NaN\n"
     ]
    }
   ],
   "source": [
    "print(sm.stats.anova_lm(lm_model_1, typ=2).round(3))"
   ]
  },
  {
   "cell_type": "code",
   "execution_count": 22,
   "id": "8f35827c",
   "metadata": {},
   "outputs": [
    {
     "data": {
      "text/plain": [
       "array([0.037, 0.85 , 1.   ])"
      ]
     },
     "execution_count": 22,
     "metadata": {},
     "output_type": "execute_result"
    }
   ],
   "source": [
    "# 2つのモデルの比較\n",
    "np.round(lm_model_1.compare_f_test(lm_model_pop), 3)"
   ]
  },
  {
   "cell_type": "markdown",
   "id": "57df9cfe",
   "metadata": {},
   "source": [
    "### 実装：新たなデータの読み込み"
   ]
  },
  {
   "cell_type": "code",
   "execution_count": 23,
   "id": "7cba51c4",
   "metadata": {},
   "outputs": [
    {
     "name": "stdout",
     "output_type": "stream",
     "text": [
      "   sales brand  local_population\n",
      "0  385.8     A             265.6\n",
      "1  473.0     A             386.1\n",
      "2  451.6     A             522.7\n"
     ]
    }
   ],
   "source": [
    "# データの読み込み\n",
    "brand_2 = pd.read_csv('8-4-2-brand-2.csv')\n",
    "print(brand_2.head(n=3))"
   ]
  },
  {
   "cell_type": "markdown",
   "id": "12b6fa56",
   "metadata": {},
   "source": [
    "### 実装：（悪い分析例）交互作用を入れないでモデルを作る"
   ]
  },
  {
   "cell_type": "code",
   "execution_count": 24,
   "id": "af785571",
   "metadata": {},
   "outputs": [
    {
     "name": "stdout",
     "output_type": "stream",
     "text": [
      "                      sum_sq    df        F  PR(>F)\n",
      "brand                 34.275   1.0    0.007   0.933\n",
      "local_population  484195.711   1.0  100.427   0.000\n",
      "Residual          226604.693  47.0      NaN     NaN\n"
     ]
    }
   ],
   "source": [
    "lm_dame_2 = smf.ols('sales ~ brand + local_population', \n",
    "                    brand_2).fit()\n",
    "print(sm.stats.anova_lm(lm_dame_2, typ=2).round(3))"
   ]
  },
  {
   "cell_type": "code",
   "execution_count": 25,
   "id": "d126abe2",
   "metadata": {},
   "outputs": [
    {
     "data": {
      "text/plain": [
       "<seaborn.axisgrid.FacetGrid at 0x267b3d5df10>"
      ]
     },
     "execution_count": 25,
     "metadata": {},
     "output_type": "execute_result"
    },
    {
     "data": {
      "image/png": "[encoded data removed]",
      "text/plain": [
       "<Figure size 576x288 with 2 Axes>"
      ]
     },
     "metadata": {},
     "output_type": "display_data"
    }
   ],
   "source": [
    "sns.lmplot(x='local_population', y='sales', data=brand_2,\n",
    "           col='brand',           \n",
    "           scatter_kws = {'color': 'black'},\n",
    "           line_kws    = {'color': 'black'},\n",
    "           ci=None, height=4, aspect=1)"
   ]
  },
  {
   "cell_type": "markdown",
   "id": "f2d06ecb",
   "metadata": {},
   "source": [
    "### 実装：交互作用を入れたモデルの作成"
   ]
  },
  {
   "cell_type": "code",
   "execution_count": 26,
   "id": "7174ee9b",
   "metadata": {},
   "outputs": [
    {
     "data": {
      "text/plain": [
       "Intercept                      254.524\n",
       "brand[T.B]                    -182.924\n",
       "local_population                 0.486\n",
       "brand[T.B]:local_population      0.508\n",
       "dtype: float64"
      ]
     },
     "execution_count": 26,
     "metadata": {},
     "output_type": "execute_result"
    }
   ],
   "source": [
    "# 交互作用を入れたモデルを作る\n",
    "lm_model_2 = smf.ols('sales ~ brand * local_population', \n",
    "                     data=brand_2).fit()\n",
    "lm_model_2.params"
   ]
  },
  {
   "cell_type": "code",
   "execution_count": 27,
   "id": "4dfdbe24",
   "metadata": {},
   "outputs": [
    {
     "data": {
      "text/plain": [
       "Intercept                      254.524\n",
       "brand[T.B]                    -182.924\n",
       "local_population                 0.486\n",
       "brand[T.B]:local_population      0.508\n",
       "dtype: float64"
      ]
     },
     "execution_count": 27,
     "metadata": {},
     "output_type": "execute_result"
    }
   ],
   "source": [
    "# 下記のように実装しても同じ\n",
    "lm_model_2_2 = smf.ols('sales ~ brand + local_population + brand:local_population', \n",
    "                       data=brand_2).fit()\n",
    "lm_model_2_2.params"
   ]
  },
  {
   "cell_type": "markdown",
   "id": "6d46f92d",
   "metadata": {},
   "source": [
    "### 実装：Type III 検定"
   ]
  },
  {
   "cell_type": "markdown",
   "id": "53b6c505",
   "metadata": {},
   "source": [
    "#### Type II 検定の実行"
   ]
  },
  {
   "cell_type": "code",
   "execution_count": 28,
   "id": "4b553a5b",
   "metadata": {},
   "outputs": [
    {
     "name": "stdout",
     "output_type": "stream",
     "text": [
      "                            sum_sq    df        F  PR(>F)\n",
      "brand                       34.275   1.0    0.009   0.924\n",
      "local_population        484195.711   1.0  130.689   0.000\n",
      "brand:local_population   56176.608   1.0   15.163   0.000\n",
      "Residual                170428.085  46.0      NaN     NaN\n"
     ]
    }
   ],
   "source": [
    "# type II 検定\n",
    "print(sm.stats.anova_lm(lm_model_2, typ=2).round(3))"
   ]
  },
  {
   "cell_type": "markdown",
   "id": "2b7f02df",
   "metadata": {},
   "source": [
    "#### 調整平方和の計算"
   ]
  },
  {
   "cell_type": "code",
   "execution_count": 29,
   "id": "cade0976",
   "metadata": {},
   "outputs": [
    {
     "data": {
      "text/plain": [
       "170428.085"
      ]
     },
     "execution_count": 29,
     "metadata": {},
     "output_type": "execute_result"
    }
   ],
   "source": [
    "# フルモデルの残差平方和\n",
    "resid_sq_full = np.sum(lm_model_2.resid ** 2)\n",
    "round(resid_sq_full, 3)"
   ]
  },
  {
   "cell_type": "code",
   "execution_count": 30,
   "id": "7fa1dc57",
   "metadata": {},
   "outputs": [
    {
     "data": {
      "text/plain": [
       "220745.808"
      ]
     },
     "execution_count": 30,
     "metadata": {},
     "output_type": "execute_result"
    }
   ],
   "source": [
    "mod_non_brand = smf.ols(\n",
    "    'sales ~ local_population + brand:local_population', \n",
    "    data=brand_2).fit()\n",
    "resid_sq_non_brand = np.sum(mod_non_brand.resid ** 2)\n",
    "round(resid_sq_non_brand, 3)"
   ]
  },
  {
   "cell_type": "code",
   "execution_count": 31,
   "id": "1e20965b",
   "metadata": {},
   "outputs": [
    {
     "data": {
      "text/plain": [
       "50317.723"
      ]
     },
     "execution_count": 31,
     "metadata": {},
     "output_type": "execute_result"
    }
   ],
   "source": [
    "# 調整平方和\n",
    "round(resid_sq_non_brand - resid_sq_full, 3)"
   ]
  },
  {
   "cell_type": "markdown",
   "id": "1ae12b0f",
   "metadata": {},
   "source": [
    "#### Type III 検定の実行"
   ]
  },
  {
   "cell_type": "code",
   "execution_count": 32,
   "id": "7002b683",
   "metadata": {},
   "outputs": [
    {
     "name": "stdout",
     "output_type": "stream",
     "text": [
      "                            sum_sq    df       F  PR(>F)\n",
      "Intercept               195523.067   1.0  52.773   0.000\n",
      "brand                    50317.723   1.0  13.581   0.001\n",
      "local_population        100639.827   1.0  27.164   0.000\n",
      "brand:local_population   56176.608   1.0  15.163   0.000\n",
      "Residual                170428.085  46.0     NaN     NaN\n"
     ]
    }
   ],
   "source": [
    "# type III 検定\n",
    "print(sm.stats.anova_lm(lm_model_2, typ=3).round(3))"
   ]
  },
  {
   "cell_type": "markdown",
   "id": "2c28f2fe",
   "metadata": {},
   "source": [
    "### 実装：AICによる変数選択"
   ]
  },
  {
   "cell_type": "code",
   "execution_count": 33,
   "id": "09e405f0",
   "metadata": {
    "scrolled": true
   },
   "outputs": [
    {
     "name": "stdout",
     "output_type": "stream",
     "text": [
      "交互作用なしモデルのAIC 568.841\n",
      "交互作用ありモデルのAIC 556.596\n"
     ]
    }
   ],
   "source": [
    "print('交互作用なしモデルのAIC', round(lm_dame_2.aic, 3))\n",
    "print('交互作用ありモデルのAIC', round(lm_model_2.aic, 3))"
   ]
  },
  {
   "cell_type": "markdown",
   "id": "eb1dd275",
   "metadata": {},
   "source": [
    "### 実装：交互作用項の解釈"
   ]
  },
  {
   "cell_type": "markdown",
   "id": "ac15263a",
   "metadata": {},
   "source": [
    "#### 係数の取得"
   ]
  },
  {
   "cell_type": "code",
   "execution_count": 34,
   "id": "537e0982",
   "metadata": {},
   "outputs": [
    {
     "data": {
      "text/plain": [
       "Intercept                      254.524\n",
       "brand[T.B]                    -182.924\n",
       "local_population                 0.486\n",
       "brand[T.B]:local_population      0.508\n",
       "dtype: float64"
      ]
     },
     "execution_count": 34,
     "metadata": {},
     "output_type": "execute_result"
    }
   ],
   "source": [
    "lm_model_2.params"
   ]
  },
  {
   "cell_type": "code",
   "execution_count": 35,
   "id": "65fcd213",
   "metadata": {},
   "outputs": [],
   "source": [
    "# 係数を個別に取得\n",
    "Intercept = lm_model_2.params[0]\n",
    "coef_brand_B = lm_model_2.params[1]\n",
    "coef_local_population = lm_model_2.params[2]\n",
    "Interaction = lm_model_2.params[3]"
   ]
  },
  {
   "cell_type": "markdown",
   "id": "dcf38489",
   "metadata": {},
   "source": [
    "#### local_population=0のときの予測値"
   ]
  },
  {
   "cell_type": "code",
   "execution_count": 36,
   "id": "ff3f24af",
   "metadata": {},
   "outputs": [
    {
     "data": {
      "text/plain": [
       "0    254.524\n",
       "dtype: float64"
      ]
     },
     "execution_count": 36,
     "metadata": {},
     "output_type": "execute_result"
    }
   ],
   "source": [
    "# brand=Aで、かつ、local_population=0\n",
    "lm_model_2.predict(\n",
    "    pd.DataFrame({'brand':['A'], 'local_population':[0]}))"
   ]
  },
  {
   "cell_type": "code",
   "execution_count": 37,
   "id": "8ba1f98c",
   "metadata": {},
   "outputs": [
    {
     "data": {
      "text/plain": [
       "254.524"
      ]
     },
     "execution_count": 37,
     "metadata": {},
     "output_type": "execute_result"
    }
   ],
   "source": [
    "pred_1 = Intercept\n",
    "round(pred_1, 3)"
   ]
  },
  {
   "cell_type": "code",
   "execution_count": 38,
   "id": "977f0650",
   "metadata": {},
   "outputs": [
    {
     "data": {
      "text/plain": [
       "0    71.599\n",
       "dtype: float64"
      ]
     },
     "execution_count": 38,
     "metadata": {},
     "output_type": "execute_result"
    }
   ],
   "source": [
    "# brand=Bで、かつ、local_population=0\n",
    "lm_model_2.predict(\n",
    "    pd.DataFrame({'brand':['B'], 'local_population':[0]}))"
   ]
  },
  {
   "cell_type": "code",
   "execution_count": 39,
   "id": "11338582",
   "metadata": {},
   "outputs": [
    {
     "data": {
      "text/plain": [
       "71.599"
      ]
     },
     "execution_count": 39,
     "metadata": {},
     "output_type": "execute_result"
    }
   ],
   "source": [
    "pred_2 = Intercept + coef_brand_B\n",
    "round(pred_2, 3)"
   ]
  },
  {
   "cell_type": "markdown",
   "id": "ab1927cf",
   "metadata": {},
   "source": [
    "#### local_population=150のときの予測値"
   ]
  },
  {
   "cell_type": "code",
   "execution_count": 40,
   "id": "b3df11e5",
   "metadata": {},
   "outputs": [
    {
     "data": {
      "text/plain": [
       "0    327.413\n",
       "dtype: float64"
      ]
     },
     "execution_count": 40,
     "metadata": {},
     "output_type": "execute_result"
    }
   ],
   "source": [
    "# brand=Aで、かつ、local_population=150\n",
    "lm_model_2.predict(\n",
    "    pd.DataFrame({'brand':['A'], 'local_population':[150]}))"
   ]
  },
  {
   "cell_type": "code",
   "execution_count": 41,
   "id": "73798840",
   "metadata": {},
   "outputs": [
    {
     "data": {
      "text/plain": [
       "327.413"
      ]
     },
     "execution_count": 41,
     "metadata": {},
     "output_type": "execute_result"
    }
   ],
   "source": [
    "pred_3 = Intercept + coef_local_population * 150\n",
    "round(pred_3, 3)"
   ]
  },
  {
   "cell_type": "code",
   "execution_count": 42,
   "id": "f99cae52",
   "metadata": {},
   "outputs": [
    {
     "data": {
      "text/plain": [
       "0    220.679\n",
       "dtype: float64"
      ]
     },
     "execution_count": 42,
     "metadata": {},
     "output_type": "execute_result"
    }
   ],
   "source": [
    "# brand=Bで、かつ、local_population=150\n",
    "lm_model_2.predict(\n",
    "    pd.DataFrame({'brand':['B'], 'local_population':[150]}))"
   ]
  },
  {
   "cell_type": "code",
   "execution_count": 43,
   "id": "ce54c2a2",
   "metadata": {},
   "outputs": [
    {
     "data": {
      "text/plain": [
       "220.679"
      ]
     },
     "execution_count": 43,
     "metadata": {},
     "output_type": "execute_result"
    }
   ],
   "source": [
    "pred_4 = Intercept + coef_brand_B + \\\n",
    "   (coef_local_population + Interaction) * 150\n",
    "round(pred_4, 3)"
   ]
  },
  {
   "cell_type": "markdown",
   "id": "1a2a2313",
   "metadata": {},
   "source": [
    "### 実装：formula構文の機能"
   ]
  },
  {
   "cell_type": "code",
   "execution_count": 44,
   "id": "83951016",
   "metadata": {},
   "outputs": [
    {
     "name": "stdout",
     "output_type": "stream",
     "text": [
      "   sales  brand  local_population\n",
      "0  385.8    0.0             265.6\n",
      "1  473.0    0.0             386.1\n",
      "2  451.6    0.0             522.7\n"
     ]
    }
   ],
   "source": [
    "# データの読み込み\n",
    "brand_3 = pd.read_csv('8-4-3-brand-3.csv')\n",
    "print(brand_3.head(n=3))"
   ]
  },
  {
   "cell_type": "code",
   "execution_count": 45,
   "id": "a49396ea",
   "metadata": {},
   "outputs": [
    {
     "data": {
      "text/plain": [
       "A    25\n",
       "B    25\n",
       "Name: brand, dtype: int64"
      ]
     },
     "execution_count": 45,
     "metadata": {},
     "output_type": "execute_result"
    }
   ],
   "source": [
    "# 参考：もとのデータ(書籍には載っていないコードです)\n",
    "brand_2.brand.value_counts()"
   ]
  },
  {
   "cell_type": "code",
   "execution_count": 46,
   "id": "0734dc80",
   "metadata": {},
   "outputs": [
    {
     "data": {
      "text/plain": [
       "0.0     25\n",
       "99.0    25\n",
       "Name: brand, dtype: int64"
      ]
     },
     "execution_count": 46,
     "metadata": {},
     "output_type": "execute_result"
    }
   ],
   "source": [
    "# ブランドを数値で表現したデータ\n",
    "brand_3.brand.value_counts()"
   ]
  },
  {
   "cell_type": "code",
   "execution_count": 47,
   "id": "77e83c33",
   "metadata": {},
   "outputs": [
    {
     "data": {
      "text/plain": [
       "Intercept                 254.524\n",
       "brand                      -1.848\n",
       "local_population            0.486\n",
       "brand:local_population      0.005\n",
       "dtype: float64"
      ]
     },
     "execution_count": 47,
     "metadata": {},
     "output_type": "execute_result"
    }
   ],
   "source": [
    "# ブランドが数値扱いになっているので係数が変わる\n",
    "lm_model_3 = smf.ols(\n",
    "    'sales ~ brand * local_population', \n",
    "    data=brand_3).fit()\n",
    "lm_model_3.params"
   ]
  },
  {
   "cell_type": "code",
   "execution_count": 48,
   "id": "0030c520",
   "metadata": {},
   "outputs": [
    {
     "data": {
      "text/plain": [
       "Intercept                            254.524\n",
       "C(brand)[T.99.0]                    -182.924\n",
       "local_population                       0.486\n",
       "C(brand)[T.99.0]:local_population      0.508\n",
       "dtype: float64"
      ]
     },
     "execution_count": 48,
     "metadata": {},
     "output_type": "execute_result"
    }
   ],
   "source": [
    "# ブランドをカテゴリーとして扱う\n",
    "lm_model_3_2 = smf.ols(\n",
    "    'sales ~ C(brand) * local_population', \n",
    "    data=brand_3).fit()\n",
    "lm_model_3_2.params"
   ]
  },
  {
   "cell_type": "code",
   "execution_count": 49,
   "id": "3e227c88",
   "metadata": {},
   "outputs": [
    {
     "data": {
      "text/plain": [
       "Intercept                      254.524\n",
       "brand[T.B]                    -182.924\n",
       "local_population                 0.486\n",
       "brand[T.B]:local_population      0.508\n",
       "dtype: float64"
      ]
     },
     "execution_count": 49,
     "metadata": {},
     "output_type": "execute_result"
    }
   ],
   "source": [
    "# 参考：パラメータの一覧(書籍には載っていないコードです)\n",
    "lm_model_2.params"
   ]
  },
  {
   "cell_type": "markdown",
   "id": "b7274841",
   "metadata": {},
   "source": [
    "### 実装：デザイン行列"
   ]
  },
  {
   "cell_type": "code",
   "execution_count": 50,
   "id": "4037272f",
   "metadata": {},
   "outputs": [
    {
     "data": {
      "text/plain": [
       "DesignMatrix with shape (50, 4)\n",
       "  Intercept  brand[T.B]  local_population  brand[T.B]:local_population\n",
       "          1           0             265.6                          0.0\n",
       "          1           0             386.1                          0.0\n",
       "          1           0             522.7                          0.0\n",
       "          1           0             530.5                          0.0\n",
       "          1           0             397.8                          0.0\n",
       "          1           0             142.3                          0.0\n",
       "          1           0             398.6                          0.0\n",
       "          1           0             222.7                          0.0\n",
       "          1           0             466.3                          0.0\n",
       "          1           0             547.3                          0.0\n",
       "          1           0             357.4                          0.0\n",
       "          1           0             401.8                          0.0\n",
       "          1           0             132.5                          0.0\n",
       "          1           0             370.0                          0.0\n",
       "          1           0             164.6                          0.0\n",
       "          1           0             407.3                          0.0\n",
       "          1           0             281.8                          0.0\n",
       "          1           0             483.9                          0.0\n",
       "          1           0             124.3                          0.0\n",
       "          1           0             154.9                          0.0\n",
       "          1           0             442.0                          0.0\n",
       "          1           0             357.3                          0.0\n",
       "          1           0             385.8                          0.0\n",
       "          1           0             521.9                          0.0\n",
       "          1           0             343.9                          0.0\n",
       "          1           1             505.1                        505.1\n",
       "          1           1             355.1                        355.1\n",
       "          1           1             563.4                        563.4\n",
       "          1           1             433.5                        433.5\n",
       "          1           1             174.4                        174.4\n",
       "  [20 rows omitted]\n",
       "  Terms:\n",
       "    'Intercept' (column 0)\n",
       "    'brand' (column 1)\n",
       "    'local_population' (column 2)\n",
       "    'brand:local_population' (column 3)\n",
       "  (to view full data, use np.asarray(this_obj))"
      ]
     },
     "execution_count": 50,
     "metadata": {},
     "output_type": "execute_result"
    }
   ],
   "source": [
    "from patsy import dmatrix\n",
    "dmatrix('brand * local_population', brand_2)"
   ]
  }
 ],
 "metadata": {
  "kernelspec": {
   "display_name": "Python 3 (ipykernel)",
   "language": "python",
   "name": "python3"
  },
  "language_info": {
   "codemirror_mode": {
    "name": "ipython",
    "version": 3
   },
   "file_extension": ".py",
   "mimetype": "text/x-python",
   "name": "python",
   "nbconvert_exporter": "python",
   "pygments_lexer": "ipython3",
   "version": "3.9.7"
  }
 },
 "nbformat": 4,
 "nbformat_minor": 5
}

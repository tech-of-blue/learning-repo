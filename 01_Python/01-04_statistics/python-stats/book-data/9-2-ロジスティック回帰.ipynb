{
 "cells": [
  {
   "cell_type": "markdown",
   "metadata": {},
   "source": [
    "# 第9部　一般化線形モデル\n",
    "\n",
    "## 2章　ロジスティック回帰"
   ]
  },
  {
   "cell_type": "markdown",
   "metadata": {},
   "source": [
    "### 実装：分析の準備"
   ]
  },
  {
   "cell_type": "code",
   "execution_count": 1,
   "metadata": {
    "scrolled": true
   },
   "outputs": [],
   "source": [
    "# 数値計算に使うライブラリ\n",
    "import numpy as np\n",
    "import pandas as pd\n",
    "from scipy import stats\n",
    "# 表示桁数の設定\n",
    "pd.set_option('display.precision', 3)\n",
    "np.set_printoptions(precision=3)\n",
    "\n",
    "# グラフを描画するライブラリ\n",
    "from matplotlib import pyplot as plt\n",
    "import seaborn as sns\n",
    "sns.set()\n",
    "\n",
    "# 統計モデルを推定するライブラリ\n",
    "import statsmodels.formula.api as smf\n",
    "import statsmodels.api as sm"
   ]
  },
  {
   "cell_type": "code",
   "execution_count": 2,
   "metadata": {},
   "outputs": [],
   "source": [
    "# 表示設定(書籍本文のレイアウトと合わせるためであり、必須ではありません)\n",
    "np.set_printoptions(linewidth=60)\n",
    "pd.set_option('display.width', 60)\n",
    "\n",
    "from matplotlib.pylab import rcParams\n",
    "rcParams['figure.figsize'] = 8, 4"
   ]
  },
  {
   "cell_type": "markdown",
   "metadata": {},
   "source": [
    "### 実装：データの読み込みと可視化"
   ]
  },
  {
   "cell_type": "code",
   "execution_count": 3,
   "metadata": {},
   "outputs": [
    {
     "name": "stdout",
     "output_type": "stream",
     "text": [
      "   hours  result\n",
      "0      0       0\n",
      "1      0       0\n",
      "2      0       0\n"
     ]
    }
   ],
   "source": [
    "# データの読み込み\n",
    "test_result = pd.read_csv('9-2-1-logistic-regression.csv')\n",
    "print(test_result.head(3))"
   ]
  },
  {
   "cell_type": "code",
   "execution_count": 4,
   "metadata": {},
   "outputs": [
    {
     "data": {
      "text/plain": [
       "<AxesSubplot:xlabel='hours', ylabel='result'>"
      ]
     },
     "execution_count": 4,
     "metadata": {},
     "output_type": "execute_result"
    },
    {
     "data": {
      "image/png": "[encoded data removed]",
      "text/plain": [
       "<Figure size 576x288 with 1 Axes>"
      ]
     },
     "metadata": {},
     "output_type": "display_data"
    }
   ],
   "source": [
    "# データの図示\n",
    "sns.barplot(x='hours',y='result', \n",
    "            data=test_result, palette='gray_r')"
   ]
  },
  {
   "cell_type": "code",
   "execution_count": 5,
   "metadata": {},
   "outputs": [
    {
     "name": "stdout",
     "output_type": "stream",
     "text": [
      "       result\n",
      "hours        \n",
      "0         0.0\n",
      "1         0.0\n",
      "2         0.1\n",
      "3         0.1\n",
      "4         0.4\n",
      "5         0.4\n",
      "6         0.9\n",
      "7         0.8\n",
      "8         0.9\n",
      "9         1.0\n"
     ]
    }
   ],
   "source": [
    "# 勉強時間ごとの合格率\n",
    "print(test_result.groupby('hours').mean())"
   ]
  },
  {
   "cell_type": "markdown",
   "metadata": {},
   "source": [
    "### 実装：ロジスティック回帰"
   ]
  },
  {
   "cell_type": "code",
   "execution_count": 6,
   "metadata": {},
   "outputs": [],
   "source": [
    "# モデル化\n",
    "mod_glm = smf.glm(formula='result ~ hours', \n",
    "                  data=test_result, \n",
    "                  family=sm.families.Binomial()).fit()"
   ]
  },
  {
   "cell_type": "code",
   "execution_count": 7,
   "metadata": {},
   "outputs": [],
   "source": [
    "# 参考：リンク関数を指定する(書籍には載っていないコードです)\n",
    "logistic_reg = smf.glm(formula = 'result ~ hours', \n",
    "                       data = test_result, \n",
    "                       family=sm.families.Binomial(link=sm.families.links.logit())).fit()"
   ]
  },
  {
   "cell_type": "markdown",
   "metadata": {},
   "source": [
    "### 実装：ロジスティック回帰の結果の出力"
   ]
  },
  {
   "cell_type": "code",
   "execution_count": 8,
   "metadata": {},
   "outputs": [
    {
     "data": {
      "text/html": [
       "<table class=\"simpletable\">\n",
       "<caption>Generalized Linear Model Regression Results</caption>\n",
       "<tr>\n",
       "  <th>Dep. Variable:</th>        <td>result</td>      <th>  No. Observations:  </th>  <td>   100</td> \n",
       "</tr>\n",
       "<tr>\n",
       "  <th>Model:</th>                  <td>GLM</td>       <th>  Df Residuals:      </th>  <td>    98</td> \n",
       "</tr>\n",
       "<tr>\n",
       "  <th>Model Family:</th>        <td>Binomial</td>     <th>  Df Model:          </th>  <td>     1</td> \n",
       "</tr>\n",
       "<tr>\n",
       "  <th>Link Function:</th>         <td>logit</td>      <th>  Scale:             </th> <td>  1.0000</td>\n",
       "</tr>\n",
       "<tr>\n",
       "  <th>Method:</th>                <td>IRLS</td>       <th>  Log-Likelihood:    </th> <td> -34.014</td>\n",
       "</tr>\n",
       "<tr>\n",
       "  <th>Date:</th>            <td>Sun, 22 May 2022</td> <th>  Deviance:          </th> <td>  68.028</td>\n",
       "</tr>\n",
       "<tr>\n",
       "  <th>Time:</th>                <td>15:49:58</td>     <th>  Pearson chi2:      </th>  <td>  84.9</td> \n",
       "</tr>\n",
       "<tr>\n",
       "  <th>No. Iterations:</th>          <td>6</td>        <th>                     </th>     <td> </td>   \n",
       "</tr>\n",
       "<tr>\n",
       "  <th>Covariance Type:</th>     <td>nonrobust</td>    <th>                     </th>     <td> </td>   \n",
       "</tr>\n",
       "</table>\n",
       "<table class=\"simpletable\">\n",
       "<tr>\n",
       "      <td></td>         <th>coef</th>     <th>std err</th>      <th>z</th>      <th>P>|z|</th>  <th>[0.025</th>    <th>0.975]</th>  \n",
       "</tr>\n",
       "<tr>\n",
       "  <th>Intercept</th> <td>   -4.5587</td> <td>    0.901</td> <td>   -5.061</td> <td> 0.000</td> <td>   -6.324</td> <td>   -2.793</td>\n",
       "</tr>\n",
       "<tr>\n",
       "  <th>hours</th>     <td>    0.9289</td> <td>    0.174</td> <td>    5.345</td> <td> 0.000</td> <td>    0.588</td> <td>    1.270</td>\n",
       "</tr>\n",
       "</table>"
      ],
      "text/plain": [
       "<class 'statsmodels.iolib.summary.Summary'>\n",
       "\"\"\"\n",
       "                 Generalized Linear Model Regression Results                  \n",
       "==============================================================================\n",
       "Dep. Variable:                 result   No. Observations:                  100\n",
       "Model:                            GLM   Df Residuals:                       98\n",
       "Model Family:                Binomial   Df Model:                            1\n",
       "Link Function:                  logit   Scale:                          1.0000\n",
       "Method:                          IRLS   Log-Likelihood:                -34.014\n",
       "Date:                Sun, 22 May 2022   Deviance:                       68.028\n",
       "Time:                        15:49:58   Pearson chi2:                     84.9\n",
       "No. Iterations:                     6                                         \n",
       "Covariance Type:            nonrobust                                         \n",
       "==============================================================================\n",
       "                 coef    std err          z      P>|z|      [0.025      0.975]\n",
       "------------------------------------------------------------------------------\n",
       "Intercept     -4.5587      0.901     -5.061      0.000      -6.324      -2.793\n",
       "hours          0.9289      0.174      5.345      0.000       0.588       1.270\n",
       "==============================================================================\n",
       "\"\"\""
      ]
     },
     "execution_count": 8,
     "metadata": {},
     "output_type": "execute_result"
    }
   ],
   "source": [
    "# 結果の出力\n",
    "mod_glm.summary()"
   ]
  },
  {
   "cell_type": "markdown",
   "metadata": {},
   "source": [
    "### 実装：ロジスティック回帰のモデル選択"
   ]
  },
  {
   "cell_type": "code",
   "execution_count": 9,
   "metadata": {},
   "outputs": [],
   "source": [
    "# Nullモデル\n",
    "mod_glm_null = smf.glm(\n",
    "    'result ~ 1', data=test_result, \n",
    "    family=sm.families.Binomial()).fit()"
   ]
  },
  {
   "cell_type": "code",
   "execution_count": 10,
   "metadata": {},
   "outputs": [
    {
     "name": "stdout",
     "output_type": "stream",
     "text": [
      "Nullモデル　　： 139.989\n",
      "変数入りモデル： 72.028\n"
     ]
    }
   ],
   "source": [
    "# AICの比較\n",
    "print('Nullモデル　　：', round(mod_glm_null.aic, 3))\n",
    "print('変数入りモデル：', round(mod_glm.aic, 3))"
   ]
  },
  {
   "cell_type": "markdown",
   "metadata": {},
   "source": [
    "### 実装：ロジスティック回帰による予測"
   ]
  },
  {
   "cell_type": "markdown",
   "metadata": {},
   "source": [
    "#### predict関数を使った予測"
   ]
  },
  {
   "cell_type": "code",
   "execution_count": 11,
   "metadata": {},
   "outputs": [
    {
     "data": {
      "text/plain": [
       "0    0.010\n",
       "1    0.026\n",
       "2    0.063\n",
       "3    0.145\n",
       "4    0.301\n",
       "5    0.521\n",
       "6    0.734\n",
       "7    0.875\n",
       "8    0.946\n",
       "9    0.978\n",
       "dtype: float64"
      ]
     },
     "execution_count": 11,
     "metadata": {},
     "output_type": "execute_result"
    }
   ],
   "source": [
    "# 0~9まで1ずつ増える等差数列\n",
    "exp_val = pd.DataFrame({\n",
    "    'hours': np.arange(0, 10, 1)\n",
    "})\n",
    "# 成功確率の予測値\n",
    "pred = mod_glm.predict(exp_val)\n",
    "pred"
   ]
  },
  {
   "cell_type": "markdown",
   "metadata": {},
   "source": [
    "#### 推定された係数を使った予測"
   ]
  },
  {
   "cell_type": "code",
   "execution_count": 12,
   "metadata": {},
   "outputs": [
    {
     "data": {
      "text/plain": [
       "0.978"
      ]
     },
     "execution_count": 12,
     "metadata": {},
     "output_type": "execute_result"
    }
   ],
   "source": [
    "beta0 = mod_glm.params[0]\n",
    "beta1 = mod_glm.params[1]\n",
    "hour = 9\n",
    "\n",
    "round(1 / (1 + np.exp(-(beta0 + beta1 * hour))), 3)"
   ]
  },
  {
   "cell_type": "markdown",
   "metadata": {},
   "source": [
    "### 実装：ロジスティック回帰の回帰曲線の図示"
   ]
  },
  {
   "cell_type": "code",
   "execution_count": 13,
   "metadata": {
    "scrolled": true
   },
   "outputs": [
    {
     "data": {
      "text/plain": [
       "<seaborn.axisgrid.FacetGrid at 0x19a696abb50>"
      ]
     },
     "execution_count": 13,
     "metadata": {},
     "output_type": "execute_result"
    },
    {
     "data": {
      "image/png": "[encoded data removed]",
      "text/plain": [
       "<Figure size 576x288 with 1 Axes>"
      ]
     },
     "metadata": {},
     "output_type": "display_data"
    }
   ],
   "source": [
    "# lmplotでロジスティック回帰曲線を図示する\n",
    "sns.lmplot(x='hours', y='result',\n",
    "           data=test_result, logistic=True,\n",
    "           scatter_kws = {'color': 'black'},\n",
    "           line_kws    = {'color': 'black'},\n",
    "           x_jitter=0.1, y_jitter=0.02,\n",
    "           ci=None, height=4, aspect=2)"
   ]
  },
  {
   "cell_type": "markdown",
   "metadata": {},
   "source": [
    "### 実装：ロジスティック回帰の係数とオッズ比の関係"
   ]
  },
  {
   "cell_type": "code",
   "execution_count": 14,
   "metadata": {},
   "outputs": [],
   "source": [
    "# 勉強時間が1時間である場合の合格率\n",
    "exp_val_1 = pd.DataFrame({'hours': [1]})\n",
    "pred_1 = mod_glm.predict(exp_val_1)\n",
    "\n",
    "# 勉強時間が2時間である場合の合格率\n",
    "exp_val_2 = pd.DataFrame({'hours': [2]})\n",
    "pred_2 = mod_glm.predict(exp_val_2)"
   ]
  },
  {
   "cell_type": "code",
   "execution_count": 15,
   "metadata": {},
   "outputs": [
    {
     "data": {
      "text/plain": [
       "0    0.929\n",
       "dtype: float64"
      ]
     },
     "execution_count": 15,
     "metadata": {},
     "output_type": "execute_result"
    }
   ],
   "source": [
    "# オッズ\n",
    "odds_1 = pred_1 / (1 - pred_1)\n",
    "odds_2 = pred_2 / (1 - pred_2)\n",
    "\n",
    "# 対数オッズ比\n",
    "log_odds_ratio = np.log(odds_2 / odds_1)\n",
    "log_odds_ratio"
   ]
  },
  {
   "cell_type": "code",
   "execution_count": 16,
   "metadata": {},
   "outputs": [
    {
     "data": {
      "text/plain": [
       "0.929"
      ]
     },
     "execution_count": 16,
     "metadata": {},
     "output_type": "execute_result"
    }
   ],
   "source": [
    "# 係数\n",
    "round(mod_glm.params['hours'], 3)"
   ]
  },
  {
   "cell_type": "code",
   "execution_count": 17,
   "metadata": {},
   "outputs": [
    {
     "data": {
      "text/plain": [
       "2.532"
      ]
     },
     "execution_count": 17,
     "metadata": {},
     "output_type": "execute_result"
    }
   ],
   "source": [
    "# 補足：オッズ比に戻す\n",
    "round(np.exp(mod_glm.params['hours']), 3)"
   ]
  }
 ],
 "metadata": {
  "kernelspec": {
   "display_name": "Python 3 (ipykernel)",
   "language": "python",
   "name": "python3"
  },
  "language_info": {
   "codemirror_mode": {
    "name": "ipython",
    "version": 3
   },
   "file_extension": ".py",
   "mimetype": "text/x-python",
   "name": "python",
   "nbconvert_exporter": "python",
   "pygments_lexer": "ipython3",
   "version": "3.9.7"
  }
 },
 "nbformat": 4,
 "nbformat_minor": 2
}

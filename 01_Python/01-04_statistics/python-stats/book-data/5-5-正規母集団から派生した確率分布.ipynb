{
 "cells": [
  {
   "cell_type": "markdown",
   "metadata": {},
   "source": [
    "# 第5部　統計的推定\n",
    "\n",
    "## 5章　正規母集団から派生した確率分布"
   ]
  },
  {
   "cell_type": "markdown",
   "metadata": {},
   "source": [
    "### 実装：分析の準備"
   ]
  },
  {
   "cell_type": "code",
   "execution_count": 1,
   "metadata": {},
   "outputs": [],
   "source": [
    "# 数値計算に使うライブラリ\n",
    "import numpy as np\n",
    "import pandas as pd\n",
    "from scipy import stats\n",
    "\n",
    "# グラフを描画するライブラリ\n",
    "from matplotlib import pyplot as plt\n",
    "import seaborn as sns\n",
    "sns.set()\n",
    "\n",
    "# グラフの日本語表記\n",
    "from matplotlib import rcParams\n",
    "rcParams['font.family'] = 'sans-serif'\n",
    "rcParams['font.sans-serif'] = 'Meiryo'"
   ]
  },
  {
   "cell_type": "code",
   "execution_count": 2,
   "metadata": {},
   "outputs": [],
   "source": [
    "# 表示設定(書籍本文のレイアウトと合わせるためであり、必須ではありません)\n",
    "np.set_printoptions(linewidth=60)\n",
    "pd.set_option('display.width', 60)\n",
    "\n",
    "from matplotlib.pylab import rcParams\n",
    "rcParams['figure.figsize'] = 8, 4"
   ]
  },
  {
   "cell_type": "markdown",
   "metadata": {},
   "source": [
    "### 実装：シミュレーションの準備"
   ]
  },
  {
   "cell_type": "code",
   "execution_count": 3,
   "metadata": {},
   "outputs": [],
   "source": [
    "# 平均4、標準偏差0.8の正規分布を使いまわす\n",
    "# なお、muとsigmaの数値を変えても、以下の結果はほとんど変化しない\n",
    "mu = 4\n",
    "sigma = 0.8\n",
    "population = stats.norm(loc=mu, scale=sigma)"
   ]
  },
  {
   "cell_type": "code",
   "execution_count": 4,
   "metadata": {},
   "outputs": [
    {
     "data": {
      "text/plain": [
       "array([5.29947629, 3.51059487, 3.5774626 , 3.1416251 ,\n",
       "       4.6923261 ])"
      ]
     },
     "execution_count": 4,
     "metadata": {},
     "output_type": "execute_result"
    }
   ],
   "source": [
    "# サンプルサイズ\n",
    "n = 5\n",
    "\n",
    "# 標本抽出\n",
    "np.random.seed(1)\n",
    "sample = population.rvs(size=n)\n",
    "sample"
   ]
  },
  {
   "cell_type": "markdown",
   "metadata": {},
   "source": [
    "### 実装：χ2分布"
   ]
  },
  {
   "cell_type": "markdown",
   "metadata": {},
   "source": [
    "#### Pythonにおける扱い"
   ]
  },
  {
   "cell_type": "code",
   "execution_count": 5,
   "metadata": {},
   "outputs": [
    {
     "data": {
      "text/plain": [
       "0.184"
      ]
     },
     "execution_count": 5,
     "metadata": {},
     "output_type": "execute_result"
    }
   ],
   "source": [
    "# 確率密度関数\n",
    "round(stats.chi2.pdf(x=2, df=n - 1), 3)"
   ]
  },
  {
   "cell_type": "code",
   "execution_count": 6,
   "metadata": {},
   "outputs": [
    {
     "data": {
      "text/plain": [
       "0.264"
      ]
     },
     "execution_count": 6,
     "metadata": {},
     "output_type": "execute_result"
    }
   ],
   "source": [
    "# 累積分布関数\n",
    "round(stats.chi2.cdf(x=2, df=n - 1), 3)"
   ]
  },
  {
   "cell_type": "code",
   "execution_count": 7,
   "metadata": {},
   "outputs": [
    {
     "data": {
      "text/plain": [
       "3.357"
      ]
     },
     "execution_count": 7,
     "metadata": {},
     "output_type": "execute_result"
    }
   ],
   "source": [
    "# パーセント点\n",
    "round(stats.chi2.ppf(q=0.5, df=n - 1), 3)"
   ]
  },
  {
   "cell_type": "markdown",
   "metadata": {},
   "source": [
    "#### シミュレーション"
   ]
  },
  {
   "cell_type": "code",
   "execution_count": 8,
   "metadata": {},
   "outputs": [],
   "source": [
    "# サンプルサイズ\n",
    "n = 5\n",
    "\n",
    "# 乱数の種\n",
    "np.random.seed(1)\n",
    "\n",
    "# χ2値を格納する入れ物\n",
    "chi2_value_array = np.zeros(10000)\n",
    "\n",
    "# シミュレーションの実行\n",
    "for i in range(0, 10000):\n",
    "    sample = population.rvs(size=n)\n",
    "    u2 = np.var(sample, ddof=1)     # 不偏分散\n",
    "    chi2 = (n - 1) * u2 / sigma**2  # χ2値\n",
    "    chi2_value_array[i] = chi2"
   ]
  },
  {
   "cell_type": "code",
   "execution_count": 9,
   "metadata": {},
   "outputs": [
    {
     "name": "stdout",
     "output_type": "stream",
     "text": [
      "     x  chi2_distribution\n",
      "0  0.0           0.000000\n",
      "1  0.1           0.023781\n",
      "2  0.2           0.045242\n"
     ]
    }
   ],
   "source": [
    "# χ2分布\n",
    "\n",
    "# 確率変数\n",
    "x = np.arange(start=0, stop=20.1, step=0.1)\n",
    "\n",
    "# χ2分布の確率密度\n",
    "chi2_distribution = stats.chi2.pdf(x=x, df=n - 1)\n",
    "\n",
    "# データフレームにまとめる\n",
    "chi2_df = pd.DataFrame({\n",
    "    'x': x,\n",
    "    'chi2_distribution': chi2_distribution\n",
    "})\n",
    "\n",
    "print(chi2_df.head(3))"
   ]
  },
  {
   "cell_type": "code",
   "execution_count": 10,
   "metadata": {
    "scrolled": true
   },
   "outputs": [
    {
     "data": {
      "text/plain": [
       "<AxesSubplot:xlabel='x', ylabel='Density'>"
      ]
     },
     "execution_count": 10,
     "metadata": {},
     "output_type": "execute_result"
    },
    {
     "data": {
      "image/png": "[encoded data removed]",
      "text/plain": [
       "<Figure size 576x288 with 1 Axes>"
      ]
     },
     "metadata": {},
     "output_type": "display_data"
    }
   ],
   "source": [
    "# ヒストグラム\n",
    "sns.histplot(chi2_value_array, color='gray', stat='density')\n",
    "\n",
    "# χ2分布\n",
    "sns.lineplot(x='x', y='chi2_distribution', \n",
    "             data=chi2_df, color='black',\n",
    "             label='χ2分布')"
   ]
  },
  {
   "cell_type": "markdown",
   "metadata": {},
   "source": [
    "### 実装：標本平均の標準化"
   ]
  },
  {
   "cell_type": "code",
   "execution_count": 11,
   "metadata": {},
   "outputs": [],
   "source": [
    "# サンプルサイズ\n",
    "n = 3\n",
    "\n",
    "# 乱数の種\n",
    "np.random.seed(1)\n",
    "\n",
    "# z値を格納する入れ物\n",
    "z_value_array = np.zeros(10000)\n",
    "\n",
    "# シミュレーションの実行\n",
    "for i in range(0, 10000):\n",
    "    sample = population.rvs(size=n)\n",
    "    x_bar = np.mean(sample)            # 標本平均\n",
    "    bar_sigma = sigma / np.sqrt(n)     # 標本平均の標準偏差\n",
    "    z_value_array[i]  = (x_bar - mu) / bar_sigma   # z値"
   ]
  },
  {
   "cell_type": "code",
   "execution_count": 12,
   "metadata": {},
   "outputs": [
    {
     "name": "stdout",
     "output_type": "stream",
     "text": [
      "     x  z_distribution\n",
      "0 -6.0    6.075883e-09\n",
      "1 -5.9    1.101576e-08\n",
      "2 -5.8    1.977320e-08\n"
     ]
    }
   ],
   "source": [
    "# 標準正規分布\n",
    "\n",
    "# 確率変数\n",
    "x = np.arange(start=-6, stop=6.1, step=0.1)\n",
    "\n",
    "# 標準正規分布の確率密度\n",
    "z_distribution = stats.norm.pdf(x=x, loc=0, scale=1)\n",
    "\n",
    "# データフレームにまとめる\n",
    "z_df = pd.DataFrame({\n",
    "    'x': x,\n",
    "    'z_distribution': z_distribution\n",
    "})\n",
    "\n",
    "print(z_df.head(3))"
   ]
  },
  {
   "cell_type": "code",
   "execution_count": 13,
   "metadata": {},
   "outputs": [
    {
     "data": {
      "text/plain": [
       "(-6.0, 6.0)"
      ]
     },
     "execution_count": 13,
     "metadata": {},
     "output_type": "execute_result"
    },
    {
     "data": {
      "image/png": "[encoded data removed]",
      "text/plain": [
       "<Figure size 576x288 with 1 Axes>"
      ]
     },
     "metadata": {},
     "output_type": "display_data"
    }
   ],
   "source": [
    "# z値のヒストグラム\n",
    "sns.histplot(z_value_array, color='gray', stat='density')\n",
    "\n",
    "# 標準正規分布\n",
    "sns.lineplot(x='x', y='z_distribution', data=z_df,\n",
    "             color='black', linestyle='dashed',\n",
    "             label='標準正規分布')\n",
    "\n",
    "# X軸範囲\n",
    "plt.xlim(-6, 6)"
   ]
  },
  {
   "cell_type": "markdown",
   "metadata": {},
   "source": [
    "### 実装：t分布"
   ]
  },
  {
   "cell_type": "markdown",
   "metadata": {},
   "source": [
    "#### Pythonにおける扱い"
   ]
  },
  {
   "cell_type": "code",
   "execution_count": 14,
   "metadata": {},
   "outputs": [
    {
     "data": {
      "text/plain": [
       "0.068"
      ]
     },
     "execution_count": 14,
     "metadata": {},
     "output_type": "execute_result"
    }
   ],
   "source": [
    "# 確率密度関数\n",
    "round(stats.t.pdf(x=2, df=n - 1), 3)"
   ]
  },
  {
   "cell_type": "code",
   "execution_count": 15,
   "metadata": {},
   "outputs": [
    {
     "data": {
      "text/plain": [
       "0.908"
      ]
     },
     "execution_count": 15,
     "metadata": {},
     "output_type": "execute_result"
    }
   ],
   "source": [
    "# 累積分布関数\n",
    "round(stats.t.cdf(x=2, df=n - 1), 3)"
   ]
  },
  {
   "cell_type": "code",
   "execution_count": 16,
   "metadata": {},
   "outputs": [
    {
     "data": {
      "text/plain": [
       "0.0"
      ]
     },
     "execution_count": 16,
     "metadata": {},
     "output_type": "execute_result"
    }
   ],
   "source": [
    "# パーセント点\n",
    "round(stats.t.ppf(q=0.5, df=n - 1), 3)"
   ]
  },
  {
   "cell_type": "markdown",
   "metadata": {},
   "source": [
    "#### シミュレーション"
   ]
  },
  {
   "cell_type": "code",
   "execution_count": 17,
   "metadata": {},
   "outputs": [],
   "source": [
    "# 乱数の種\n",
    "np.random.seed(1)\n",
    "\n",
    "# t値を格納する入れ物\n",
    "t_value_array = np.zeros(10000)\n",
    "\n",
    "# シミュレーションの実行\n",
    "for i in range(0, 10000):\n",
    "    sample = population.rvs(size=n)\n",
    "    x_bar = np.mean(sample)                # 標本平均\n",
    "    u = np.std(sample, ddof=1)             # 標準偏差\n",
    "    se = u / np.sqrt(n)                    # 標準誤差\n",
    "    t_value_array[i]  = (x_bar - mu) / se  # t値"
   ]
  },
  {
   "cell_type": "code",
   "execution_count": 18,
   "metadata": {},
   "outputs": [
    {
     "name": "stdout",
     "output_type": "stream",
     "text": [
      "     x  t_distribution\n",
      "0 -6.0        0.004269\n",
      "1 -5.9        0.004478\n",
      "2 -5.8        0.004700\n"
     ]
    }
   ],
   "source": [
    "# t分布\n",
    "\n",
    "# t分布の確率密度\n",
    "t_distribution = stats.t.pdf(x=x, df=n - 1)\n",
    "\n",
    "# データフレームにまとめる\n",
    "t_df = pd.DataFrame({\n",
    "    'x': x,\n",
    "    't_distribution': t_distribution\n",
    "})\n",
    "\n",
    "print(t_df.head(3))"
   ]
  },
  {
   "cell_type": "code",
   "execution_count": 19,
   "metadata": {},
   "outputs": [
    {
     "data": {
      "text/plain": [
       "(-6.0, 6.0)"
      ]
     },
     "execution_count": 19,
     "metadata": {},
     "output_type": "execute_result"
    },
    {
     "data": {
      "image/png": "[encoded data removed]",
      "text/plain": [
       "<Figure size 576x288 with 1 Axes>"
      ]
     },
     "metadata": {},
     "output_type": "display_data"
    }
   ],
   "source": [
    "# t値のヒストグラム\n",
    "sns.histplot(t_value_array, color='gray', stat='density')\n",
    "\n",
    "# t分布\n",
    "sns.lineplot(x='x', y='t_distribution', \n",
    "             data=t_df, color='black',\n",
    "             label='t分布')\n",
    "\n",
    "# 標準正規分布\n",
    "sns.lineplot(x='x', y='z_distribution', data=z_df,\n",
    "             color='black', linestyle='dashed',\n",
    "             label='標準正規分布')\n",
    "\n",
    "# X軸範囲\n",
    "plt.xlim(-6, 6)"
   ]
  },
  {
   "cell_type": "markdown",
   "metadata": {},
   "source": [
    "### 実装：F分布"
   ]
  },
  {
   "cell_type": "markdown",
   "metadata": {},
   "source": [
    "#### Pythonにおける扱い"
   ]
  },
  {
   "cell_type": "code",
   "execution_count": 20,
   "metadata": {},
   "outputs": [],
   "source": [
    "# サンプルサイズ\n",
    "m = 5\n",
    "n = 10"
   ]
  },
  {
   "cell_type": "code",
   "execution_count": 21,
   "metadata": {},
   "outputs": [
    {
     "data": {
      "text/plain": [
       "0.157"
      ]
     },
     "execution_count": 21,
     "metadata": {},
     "output_type": "execute_result"
    }
   ],
   "source": [
    "# 確率密度関数\n",
    "round(stats.f.pdf(x=2, dfn=m - 1, dfd=n - 1), 3)"
   ]
  },
  {
   "cell_type": "code",
   "execution_count": 22,
   "metadata": {},
   "outputs": [
    {
     "data": {
      "text/plain": [
       "0.822"
      ]
     },
     "execution_count": 22,
     "metadata": {},
     "output_type": "execute_result"
    }
   ],
   "source": [
    "# 累積分布関数\n",
    "round(stats.f.cdf(x=2, dfn=m - 1, dfd=n - 1), 3)"
   ]
  },
  {
   "cell_type": "code",
   "execution_count": 23,
   "metadata": {},
   "outputs": [
    {
     "data": {
      "text/plain": [
       "0.906"
      ]
     },
     "execution_count": 23,
     "metadata": {},
     "output_type": "execute_result"
    }
   ],
   "source": [
    "# パーセント点\n",
    "round(stats.f.ppf(q=0.5, dfn=m - 1, dfd=n - 1), 3)"
   ]
  },
  {
   "cell_type": "markdown",
   "metadata": {},
   "source": [
    "#### シミュレーション"
   ]
  },
  {
   "cell_type": "code",
   "execution_count": 24,
   "metadata": {},
   "outputs": [],
   "source": [
    "# サンプルサイズ\n",
    "m = 5\n",
    "n = 10\n",
    "\n",
    "# 乱数の種\n",
    "np.random.seed(1)\n",
    "\n",
    "# F比を格納する入れ物\n",
    "f_value_array = np.zeros(10000)\n",
    "\n",
    "# シミュレーションの実行\n",
    "for i in range(0, 10000):\n",
    "    sample_x = population.rvs(size=m) # サンプルXの取得\n",
    "    sample_y = population.rvs(size=n) # サンプルYの取得\n",
    "    u2_x = np.var(sample_x, ddof=1)   # Xの不偏分散\n",
    "    u2_y = np.var(sample_y, ddof=1)   # Yの不偏分散\n",
    "    f_value_array[i]  = u2_x / u2_y   # F比"
   ]
  },
  {
   "cell_type": "code",
   "execution_count": 25,
   "metadata": {},
   "outputs": [
    {
     "name": "stdout",
     "output_type": "stream",
     "text": [
      "     x  f_distribution\n",
      "0  0.0        0.000000\n",
      "1  0.1        0.368515\n",
      "2  0.2        0.562143\n"
     ]
    }
   ],
   "source": [
    "# F分布\n",
    "\n",
    "# 確率変数\n",
    "x = np.arange(start=0, stop=6.1, step=0.1)\n",
    "\n",
    "# F分布の確率密度\n",
    "f_distribution = stats.f.pdf(x=x, dfn=m - 1,dfd=n - 1)\n",
    "\n",
    "# データフレームにまとめる\n",
    "f_df = pd.DataFrame({\n",
    "    'x': x,\n",
    "    'f_distribution': f_distribution\n",
    "})\n",
    "\n",
    "print(f_df.head(3))"
   ]
  },
  {
   "cell_type": "code",
   "execution_count": 26,
   "metadata": {},
   "outputs": [
    {
     "data": {
      "text/plain": [
       "(0.0, 6.0)"
      ]
     },
     "execution_count": 26,
     "metadata": {},
     "output_type": "execute_result"
    },
    {
     "data": {
      "image/png": "[encoded data removed]",
      "text/plain": [
       "<Figure size 576x288 with 1 Axes>"
      ]
     },
     "metadata": {},
     "output_type": "display_data"
    }
   ],
   "source": [
    "# F比のヒストグラム\n",
    "sns.histplot(f_value_array, color='gray', stat='density')\n",
    "\n",
    "# F分布\n",
    "sns.lineplot(x='x', y='f_distribution', \n",
    "             data=f_df, color='black',\n",
    "             label='F分布')\n",
    "\n",
    "# X軸範囲\n",
    "plt.xlim(0, 6)"
   ]
  }
 ],
 "metadata": {
  "kernelspec": {
   "display_name": "Python 3 (ipykernel)",
   "language": "python",
   "name": "python3"
  },
  "language_info": {
   "codemirror_mode": {
    "name": "ipython",
    "version": 3
   },
   "file_extension": ".py",
   "mimetype": "text/x-python",
   "name": "python",
   "nbconvert_exporter": "python",
   "pygments_lexer": "ipython3",
   "version": "3.9.7"
  }
 },
 "nbformat": 4,
 "nbformat_minor": 2
}

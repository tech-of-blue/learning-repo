{
 "cells": [
  {
   "cell_type": "markdown",
   "metadata": {},
   "source": [
    "# 第10部　統計学と機械学習\n",
    "\n",
    "## 4章　線形モデルとニューラルネットワーク"
   ]
  },
  {
   "cell_type": "markdown",
   "metadata": {},
   "source": [
    "### 実装：分析の準備"
   ]
  },
  {
   "cell_type": "code",
   "execution_count": 1,
   "metadata": {},
   "outputs": [],
   "source": [
    "# 数値計算に使うライブラリ\n",
    "import numpy as np\n",
    "import pandas as pd\n",
    "# 表示桁数の設定\n",
    "pd.set_option('display.precision', 3)\n",
    "np.set_printoptions(precision=3)\n",
    "\n",
    "# 統計モデルを推定するライブラリ\n",
    "import statsmodels.formula.api as smf\n",
    "import statsmodels.api as sm\n",
    "\n",
    "# グラフを描画するライブラリ\n",
    "from matplotlib import pyplot as plt\n",
    "import seaborn as sns\n",
    "sns.set()\n",
    "\n",
    "# 機械学習法を適用するためのライブラリ\n",
    "from sklearn.neural_network import MLPRegressor, \\\n",
    "                                   MLPClassifier \n",
    "from sklearn.linear_model import LinearRegression, \\\n",
    "                                 LogisticRegression\n",
    "\n",
    "# サンプルデータの作成\n",
    "from sklearn.datasets import make_circles\n",
    "\n",
    "# テストデータと訓練データに分ける\n",
    "from sklearn.model_selection import train_test_split"
   ]
  },
  {
   "cell_type": "code",
   "execution_count": 2,
   "metadata": {},
   "outputs": [],
   "source": [
    "# 表示設定(書籍本文のレイアウトと合わせるためであり、必須ではありません)\n",
    "np.set_printoptions(linewidth=60)\n",
    "pd.set_option('display.width', 60)\n",
    "\n",
    "from matplotlib.pylab import rcParams\n",
    "rcParams['figure.figsize'] = 6, 6"
   ]
  },
  {
   "cell_type": "markdown",
   "metadata": {},
   "source": [
    "### 実装：単回帰分析"
   ]
  },
  {
   "cell_type": "markdown",
   "metadata": {},
   "source": [
    "#### データの読み込み"
   ]
  },
  {
   "cell_type": "code",
   "execution_count": 3,
   "metadata": {},
   "outputs": [
    {
     "name": "stdout",
     "output_type": "stream",
     "text": [
      "   beer  temperature\n",
      "0  45.3         20.5\n",
      "1  59.3         25.0\n",
      "2  40.4         10.0\n"
     ]
    }
   ],
   "source": [
    "# データの読み込み\n",
    "beer = pd.read_csv('8-1-1-beer.csv')\n",
    "print(beer.head(n=3))"
   ]
  },
  {
   "cell_type": "markdown",
   "metadata": {},
   "source": [
    "#### statsmodelsによるモデル化"
   ]
  },
  {
   "cell_type": "code",
   "execution_count": 4,
   "metadata": {},
   "outputs": [
    {
     "data": {
      "text/plain": [
       "Intercept      34.610\n",
       "temperature     0.765\n",
       "dtype: float64"
      ]
     },
     "execution_count": 4,
     "metadata": {},
     "output_type": "execute_result"
    }
   ],
   "source": [
    "# モデルの推定と係数の確認\n",
    "lm_stats = smf.ols(formula='beer ~ temperature', \n",
    "                   data=beer).fit()\n",
    "lm_stats.params"
   ]
  },
  {
   "cell_type": "code",
   "execution_count": 5,
   "metadata": {},
   "outputs": [
    {
     "data": {
      "text/plain": [
       "0    49.919\n",
       "dtype: float64"
      ]
     },
     "execution_count": 5,
     "metadata": {},
     "output_type": "execute_result"
    }
   ],
   "source": [
    "# 気温20度のときの予測値\n",
    "lm_stats.predict(pd.DataFrame({'temperature' : [20]}))"
   ]
  },
  {
   "cell_type": "markdown",
   "metadata": {},
   "source": [
    "#### sklernによるモデル化"
   ]
  },
  {
   "cell_type": "code",
   "execution_count": 6,
   "metadata": {},
   "outputs": [],
   "source": [
    "# データの整備\n",
    "# 入力ベクトル\n",
    "# reshape(-1, 列数)の形にする\n",
    "X_beer = beer['temperature'].to_numpy().reshape(-1, 1)\n",
    "# 目標ベクトル\n",
    "y_beer = beer['beer'].to_numpy()"
   ]
  },
  {
   "cell_type": "code",
   "execution_count": 7,
   "metadata": {},
   "outputs": [
    {
     "data": {
      "text/plain": [
       "array([[20.5],\n",
       "       [25. ],\n",
       "       [10. ],\n",
       "       [26.9],\n",
       "       [15.8],\n",
       "       [ 4.2],\n",
       "       [13.5],\n",
       "       [26. ],\n",
       "       [23.3],\n",
       "       [ 8.5],\n",
       "       [26.2],\n",
       "       [19.1],\n",
       "       [24.3],\n",
       "       [23.3],\n",
       "       [ 8.4],\n",
       "       [23.5],\n",
       "       [13.9],\n",
       "       [35.5],\n",
       "       [27.2],\n",
       "       [20.5],\n",
       "       [10.2],\n",
       "       [20.5],\n",
       "       [21.6],\n",
       "       [ 7.9],\n",
       "       [42.2],\n",
       "       [23.9],\n",
       "       [36.9],\n",
       "       [ 8.9],\n",
       "       [36.4],\n",
       "       [ 6.4]])"
      ]
     },
     "execution_count": 7,
     "metadata": {},
     "output_type": "execute_result"
    }
   ],
   "source": [
    "# reshapeの結果\n",
    "X_beer"
   ]
  },
  {
   "cell_type": "code",
   "execution_count": 8,
   "metadata": {},
   "outputs": [
    {
     "name": "stdout",
     "output_type": "stream",
     "text": [
      "34.61\n",
      "[0.765]\n"
     ]
    }
   ],
   "source": [
    "# モデルの推定と係数の確認\n",
    "lm_sk = LinearRegression().fit(X_beer, y_beer)\n",
    "print(np.round(lm_sk.intercept_, 3))\n",
    "print(np.round(lm_sk.coef_, 3))"
   ]
  },
  {
   "cell_type": "code",
   "execution_count": 9,
   "metadata": {},
   "outputs": [
    {
     "data": {
      "text/plain": [
       "array([49.919])"
      ]
     },
     "execution_count": 9,
     "metadata": {},
     "output_type": "execute_result"
    }
   ],
   "source": [
    "# 温度20度のときの予測値\n",
    "lm_sk.predict(np.array(20).reshape(-1, 1))"
   ]
  },
  {
   "cell_type": "markdown",
   "metadata": {},
   "source": [
    "#### モデルの評価"
   ]
  },
  {
   "cell_type": "code",
   "execution_count": 10,
   "metadata": {},
   "outputs": [
    {
     "data": {
      "text/plain": [
       "0.504"
      ]
     },
     "execution_count": 10,
     "metadata": {},
     "output_type": "execute_result"
    }
   ],
   "source": [
    "# R2値の計算\n",
    "pred_lm_all = lm_sk.predict(X_beer)\n",
    "resid = pred_lm_all - y_beer\n",
    "ss_t = np.sum((y_beer - np.mean(y_beer))**2)\n",
    "r2 = 1 - np.sum(resid**2) / ss_t\n",
    "round(r2, 3)"
   ]
  },
  {
   "cell_type": "code",
   "execution_count": 11,
   "metadata": {},
   "outputs": [
    {
     "data": {
      "text/plain": [
       "0.504"
      ]
     },
     "execution_count": 11,
     "metadata": {},
     "output_type": "execute_result"
    }
   ],
   "source": [
    "# スコアの計算\n",
    "round(lm_sk.score(X_beer, y_beer), 3)"
   ]
  },
  {
   "cell_type": "markdown",
   "metadata": {},
   "source": [
    "### 実装：ニューラルネットワークによる回帰"
   ]
  },
  {
   "cell_type": "markdown",
   "metadata": {},
   "source": [
    "#### モデルの推定"
   ]
  },
  {
   "cell_type": "code",
   "execution_count": 12,
   "metadata": {},
   "outputs": [
    {
     "name": "stdout",
     "output_type": "stream",
     "text": [
      "切片 [array([-42.901]), array([25.803])]\n",
      "係数 [array([[-3.728]]), array([[-0.205]])]\n"
     ]
    }
   ],
   "source": [
    "# モデルの推定と係数の確認\n",
    "nnet_reg = MLPRegressor(random_state=1,  \n",
    "                        hidden_layer_sizes=(1, ),\n",
    "                        activation='identity', alpha=0, \n",
    "                        solver='lbfgs', max_iter=500,\n",
    "                       ).fit(X_beer, y_beer)\n",
    "print('切片', nnet_reg.intercepts_)\n",
    "print('係数', nnet_reg.coefs_)"
   ]
  },
  {
   "cell_type": "markdown",
   "metadata": {},
   "source": [
    "#### 係数の解釈"
   ]
  },
  {
   "cell_type": "code",
   "execution_count": 13,
   "metadata": {},
   "outputs": [
    {
     "data": {
      "text/plain": [
       "array([[34.61]])"
      ]
     },
     "execution_count": 13,
     "metadata": {},
     "output_type": "execute_result"
    }
   ],
   "source": [
    "# ほぼ切片と同じ\n",
    "nnet_reg.intercepts_[0] * nnet_reg.coefs_[1] + \\\n",
    "    nnet_reg.intercepts_[1]"
   ]
  },
  {
   "cell_type": "code",
   "execution_count": 14,
   "metadata": {},
   "outputs": [
    {
     "data": {
      "text/plain": [
       "array([[0.765]])"
      ]
     },
     "execution_count": 14,
     "metadata": {},
     "output_type": "execute_result"
    }
   ],
   "source": [
    "# ほぼ係数と同じ\n",
    "nnet_reg.coefs_[0] * nnet_reg.coefs_[1]"
   ]
  },
  {
   "cell_type": "markdown",
   "metadata": {},
   "source": [
    "#### 予測値の計算"
   ]
  },
  {
   "cell_type": "code",
   "execution_count": 15,
   "metadata": {},
   "outputs": [
    {
     "data": {
      "text/plain": [
       "array([49.919])"
      ]
     },
     "execution_count": 15,
     "metadata": {},
     "output_type": "execute_result"
    }
   ],
   "source": [
    "# 気温20度のときの予測値\n",
    "nnet_reg.predict(np.array(20).reshape(-1, 1))"
   ]
  },
  {
   "cell_type": "code",
   "execution_count": 16,
   "metadata": {},
   "outputs": [
    {
     "data": {
      "text/plain": [
       "array([[49.919]])"
      ]
     },
     "execution_count": 16,
     "metadata": {},
     "output_type": "execute_result"
    }
   ],
   "source": [
    "# 定義通りに予測値を計算\n",
    "(nnet_reg.intercepts_[0] + nnet_reg.coefs_[0] * 20) * \\\n",
    "    nnet_reg.coefs_[1] + nnet_reg.intercepts_[1]"
   ]
  },
  {
   "cell_type": "markdown",
   "metadata": {},
   "source": [
    "#### モデルの評価"
   ]
  },
  {
   "cell_type": "code",
   "execution_count": 17,
   "metadata": {},
   "outputs": [
    {
     "data": {
      "text/plain": [
       "0.504"
      ]
     },
     "execution_count": 17,
     "metadata": {},
     "output_type": "execute_result"
    }
   ],
   "source": [
    "# R2\n",
    "round(nnet_reg.score(X_beer, y_beer), 3)"
   ]
  },
  {
   "cell_type": "markdown",
   "metadata": {},
   "source": [
    "### 実装：ロジスティック回帰"
   ]
  },
  {
   "cell_type": "markdown",
   "metadata": {},
   "source": [
    "#### データの読み込み"
   ]
  },
  {
   "cell_type": "code",
   "execution_count": 18,
   "metadata": {},
   "outputs": [
    {
     "name": "stdout",
     "output_type": "stream",
     "text": [
      "   hours  result\n",
      "0      0       0\n",
      "1      0       0\n",
      "2      0       0\n"
     ]
    }
   ],
   "source": [
    "# データの読み込み\n",
    "test_result = pd.read_csv('9-2-1-logistic-regression.csv')\n",
    "print(test_result.head(3))"
   ]
  },
  {
   "cell_type": "markdown",
   "metadata": {},
   "source": [
    "#### statsmodelsによるモデル化"
   ]
  },
  {
   "cell_type": "code",
   "execution_count": 19,
   "metadata": {},
   "outputs": [
    {
     "data": {
      "text/plain": [
       "Intercept   -4.559\n",
       "hours        0.929\n",
       "dtype: float64"
      ]
     },
     "execution_count": 19,
     "metadata": {},
     "output_type": "execute_result"
    }
   ],
   "source": [
    "# モデルの推定と係数の確認\n",
    "glm_stats = smf.glm(formula = 'result ~ hours', \n",
    "                    data = test_result, \n",
    "                    family=sm.families.Binomial()).fit()\n",
    "glm_stats.params"
   ]
  },
  {
   "cell_type": "code",
   "execution_count": 20,
   "metadata": {},
   "outputs": [
    {
     "data": {
      "text/plain": [
       "0    0.145\n",
       "dtype: float64"
      ]
     },
     "execution_count": 20,
     "metadata": {},
     "output_type": "execute_result"
    }
   ],
   "source": [
    "# 3時間勉強したときの合格率\n",
    "glm_stats.predict(pd.DataFrame({'hours': [3]}))"
   ]
  },
  {
   "cell_type": "markdown",
   "metadata": {},
   "source": [
    "#### sklernによるモデル化"
   ]
  },
  {
   "cell_type": "code",
   "execution_count": 21,
   "metadata": {},
   "outputs": [],
   "source": [
    "# データの整備\n",
    "# 入力ベクトル\n",
    "# reshape(-1, 列数)の形にする\n",
    "X_bin = test_result['hours'].to_numpy().reshape(-1, 1)\n",
    "# 目標ベクトル\n",
    "y_bin = test_result['result'].to_numpy()"
   ]
  },
  {
   "cell_type": "code",
   "execution_count": 22,
   "metadata": {},
   "outputs": [
    {
     "name": "stdout",
     "output_type": "stream",
     "text": [
      "[-4.559]\n",
      "[[0.929]]\n"
     ]
    }
   ],
   "source": [
    "# モデルの推定と係数の確認\n",
    "glm_sk = LogisticRegression(random_state=1, penalty='none'\n",
    "                           ).fit(X_bin, y_bin)\n",
    "print(np.round(glm_sk.intercept_, 3))\n",
    "print(np.round(glm_sk.coef_, 3))"
   ]
  },
  {
   "cell_type": "code",
   "execution_count": 23,
   "metadata": {},
   "outputs": [
    {
     "data": {
      "text/plain": [
       "array([[0.855, 0.145]])"
      ]
     },
     "execution_count": 23,
     "metadata": {},
     "output_type": "execute_result"
    }
   ],
   "source": [
    "# 3時間勉強したときの合格率\n",
    "glm_sk.predict_proba(np.array(3).reshape(-1, 1))"
   ]
  },
  {
   "cell_type": "code",
   "execution_count": 24,
   "metadata": {},
   "outputs": [
    {
     "data": {
      "text/plain": [
       "array([0], dtype=int64)"
      ]
     },
     "execution_count": 24,
     "metadata": {},
     "output_type": "execute_result"
    }
   ],
   "source": [
    "# 3時間勉強したときの合否\n",
    "glm_sk.predict(np.array(3).reshape(-1, 1))"
   ]
  },
  {
   "cell_type": "markdown",
   "metadata": {},
   "source": [
    "#### モデルの評価"
   ]
  },
  {
   "cell_type": "code",
   "execution_count": 25,
   "metadata": {},
   "outputs": [
    {
     "data": {
      "text/plain": [
       "0.84"
      ]
     },
     "execution_count": 25,
     "metadata": {},
     "output_type": "execute_result"
    }
   ],
   "source": [
    "# 的中率の計算\n",
    "np.sum(glm_sk.predict(X_bin) == y_bin) / len(y_bin)"
   ]
  },
  {
   "cell_type": "code",
   "execution_count": 26,
   "metadata": {},
   "outputs": [
    {
     "data": {
      "text/plain": [
       "0.84"
      ]
     },
     "execution_count": 26,
     "metadata": {},
     "output_type": "execute_result"
    }
   ],
   "source": [
    "# 的中率\n",
    "glm_sk.score(X_bin, y_bin)"
   ]
  },
  {
   "cell_type": "markdown",
   "metadata": {},
   "source": [
    "### 実装：ニューラルネットワークによる分類"
   ]
  },
  {
   "cell_type": "markdown",
   "metadata": {},
   "source": [
    "#### モデルの推定"
   ]
  },
  {
   "cell_type": "code",
   "execution_count": 27,
   "metadata": {
    "scrolled": true
   },
   "outputs": [
    {
     "name": "stdout",
     "output_type": "stream",
     "text": [
      "切片 [array([1.595]), array([-1.195])]\n",
      "係数 [array([[-0.441]]), array([[-2.109]])]\n"
     ]
    }
   ],
   "source": [
    "# モデルの推定と係数の確認\n",
    "nnet_clf = MLPClassifier(random_state=1, \n",
    "                         hidden_layer_sizes=(1, ),\n",
    "                         activation='identity', alpha=0, \n",
    "                         solver='lbfgs', max_iter=500, \n",
    "                        ).fit(X_bin, y_bin)\n",
    "print('切片', nnet_clf.intercepts_)\n",
    "print('係数', nnet_clf.coefs_)"
   ]
  },
  {
   "cell_type": "markdown",
   "metadata": {},
   "source": [
    "#### 係数の解釈"
   ]
  },
  {
   "cell_type": "code",
   "execution_count": 28,
   "metadata": {},
   "outputs": [
    {
     "data": {
      "text/plain": [
       "array([[-4.559]])"
      ]
     },
     "execution_count": 28,
     "metadata": {},
     "output_type": "execute_result"
    }
   ],
   "source": [
    "# ほぼ切片と同じ\n",
    "nnet_clf.intercepts_[0] * nnet_clf.coefs_[1] + \\\n",
    "    nnet_clf.intercepts_[1]"
   ]
  },
  {
   "cell_type": "code",
   "execution_count": 29,
   "metadata": {},
   "outputs": [
    {
     "data": {
      "text/plain": [
       "array([[0.929]])"
      ]
     },
     "execution_count": 29,
     "metadata": {},
     "output_type": "execute_result"
    }
   ],
   "source": [
    "# ほぼ係数と同じ\n",
    "nnet_clf.coefs_[0] * nnet_clf.coefs_[1]"
   ]
  },
  {
   "cell_type": "markdown",
   "metadata": {},
   "source": [
    "#### 予測値の計算"
   ]
  },
  {
   "cell_type": "code",
   "execution_count": 30,
   "metadata": {},
   "outputs": [
    {
     "data": {
      "text/plain": [
       "array([[0.855, 0.145]])"
      ]
     },
     "execution_count": 30,
     "metadata": {},
     "output_type": "execute_result"
    }
   ],
   "source": [
    "# 3時間勉強したときの合格率\n",
    "nnet_clf.predict_proba(np.array(3).reshape(-1, 1))"
   ]
  },
  {
   "cell_type": "code",
   "execution_count": 31,
   "metadata": {},
   "outputs": [
    {
     "data": {
      "text/plain": [
       "array([0], dtype=int64)"
      ]
     },
     "execution_count": 31,
     "metadata": {},
     "output_type": "execute_result"
    }
   ],
   "source": [
    "# 3時間勉強したときの合否\n",
    "nnet_clf.predict(np.array(3).reshape(-1, 1))"
   ]
  },
  {
   "cell_type": "code",
   "execution_count": 32,
   "metadata": {},
   "outputs": [],
   "source": [
    "# 定義通りに予測値を計算\n",
    "tmp = (nnet_clf.intercepts_[0] + nnet_clf.coefs_[0] * 3) * \\\n",
    "    nnet_clf.coefs_[1] + nnet_clf.intercepts_[1]"
   ]
  },
  {
   "cell_type": "code",
   "execution_count": 33,
   "metadata": {},
   "outputs": [
    {
     "data": {
      "text/plain": [
       "array([[0.145]])"
      ]
     },
     "execution_count": 33,
     "metadata": {},
     "output_type": "execute_result"
    }
   ],
   "source": [
    "# ロジスティック関数を適用\n",
    "1 / (1 + np.exp(-tmp))"
   ]
  },
  {
   "cell_type": "markdown",
   "metadata": {},
   "source": [
    "#### モデルの評価"
   ]
  },
  {
   "cell_type": "code",
   "execution_count": 34,
   "metadata": {},
   "outputs": [
    {
     "data": {
      "text/plain": [
       "0.84"
      ]
     },
     "execution_count": 34,
     "metadata": {},
     "output_type": "execute_result"
    }
   ],
   "source": [
    "# 的中率\n",
    "nnet_clf.score(X_bin, y_bin)"
   ]
  },
  {
   "cell_type": "markdown",
   "metadata": {},
   "source": [
    "### 実装：複雑な分類問題データの作成"
   ]
  },
  {
   "cell_type": "code",
   "execution_count": 35,
   "metadata": {},
   "outputs": [],
   "source": [
    "X, y = make_circles(\n",
    "    n_samples=100, noise=0.2, factor=0.5, random_state=1)"
   ]
  },
  {
   "cell_type": "code",
   "execution_count": 36,
   "metadata": {},
   "outputs": [
    {
     "name": "stdout",
     "output_type": "stream",
     "text": [
      "行数と列数 (100, 2)\n",
      "先頭の3行\n",
      "[[-0.383 -0.091]\n",
      " [-0.021 -0.478]\n",
      " [-0.396 -1.289]]\n"
     ]
    }
   ],
   "source": [
    "# 入力ベクトル\n",
    "print('行数と列数', X.shape)\n",
    "print('先頭の3行')\n",
    "print(X[0:3, ::])"
   ]
  },
  {
   "cell_type": "code",
   "execution_count": 37,
   "metadata": {},
   "outputs": [
    {
     "name": "stdout",
     "output_type": "stream",
     "text": [
      "行数と列数 (100,)\n",
      "先頭の3つのデータ\n",
      "[1 1 0]\n"
     ]
    }
   ],
   "source": [
    "# 目標ベクトル\n",
    "print('行数と列数', y.shape)\n",
    "print('先頭の3つのデータ')\n",
    "print(y[0:3])"
   ]
  },
  {
   "cell_type": "code",
   "execution_count": 38,
   "metadata": {},
   "outputs": [
    {
     "data": {
      "text/plain": [
       "<AxesSubplot:>"
      ]
     },
     "execution_count": 38,
     "metadata": {},
     "output_type": "execute_result"
    },
    {
     "data": {
      "image/png": "[encoded data removed]",
      "text/plain": [
       "<Figure size 432x432 with 1 Axes>"
      ]
     },
     "metadata": {},
     "output_type": "display_data"
    }
   ],
   "source": [
    "# 可視化\n",
    "sns.scatterplot(x=X[:, 0], y=X[:, 1], hue=y, palette='gray', style=y)"
   ]
  },
  {
   "cell_type": "markdown",
   "metadata": {},
   "source": [
    "### 実装：訓練データとテストデータに分割"
   ]
  },
  {
   "cell_type": "code",
   "execution_count": 39,
   "metadata": {},
   "outputs": [],
   "source": [
    "# データを訓練データとテストデータに分ける\n",
    "X_train, X_test, y_train, y_test = train_test_split(\n",
    "    X, y, stratify=y, random_state=1)"
   ]
  },
  {
   "cell_type": "code",
   "execution_count": 40,
   "metadata": {},
   "outputs": [
    {
     "name": "stdout",
     "output_type": "stream",
     "text": [
      "行数と列数　X_train： (75, 2)\n",
      "行数と列数　X_test ： (25, 2)\n",
      "行数と列数　y_train： (75,)\n",
      "行数と列数　y_test ： (25,)\n"
     ]
    }
   ],
   "source": [
    "print('行数と列数　X_train：', X_train.shape)\n",
    "print('行数と列数　X_test ：', X_test.shape)\n",
    "print('行数と列数　y_train：', y_train.shape)\n",
    "print('行数と列数　y_test ：', y_test.shape)"
   ]
  },
  {
   "cell_type": "markdown",
   "metadata": {},
   "source": [
    "### 実装：複雑なデータに対するロジスティック回帰"
   ]
  },
  {
   "cell_type": "code",
   "execution_count": 41,
   "metadata": {},
   "outputs": [],
   "source": [
    "circle_glm = LogisticRegression(random_state=0, penalty='none'\n",
    "                               ).fit(X_train, y_train)"
   ]
  },
  {
   "cell_type": "code",
   "execution_count": 42,
   "metadata": {},
   "outputs": [
    {
     "name": "stdout",
     "output_type": "stream",
     "text": [
      "訓練　： 0.467\n",
      "テスト： 0.36\n"
     ]
    }
   ],
   "source": [
    "print('訓練　：', round(circle_glm.score(X_train, y_train), 3))\n",
    "print('テスト：', round(circle_glm.score(X_test, y_test), 3))"
   ]
  },
  {
   "cell_type": "markdown",
   "metadata": {},
   "source": [
    "### 実装：複雑なデータに対するニューラルネットワーク"
   ]
  },
  {
   "cell_type": "code",
   "execution_count": 43,
   "metadata": {},
   "outputs": [],
   "source": [
    "circle_nnet = MLPClassifier(random_state=1, \n",
    "                            hidden_layer_sizes=(100, ),\n",
    "                            activation='relu', alpha=0.5, \n",
    "                            solver='lbfgs', max_iter=5000\n",
    "                           ).fit(X_train, y_train)"
   ]
  },
  {
   "cell_type": "code",
   "execution_count": 44,
   "metadata": {},
   "outputs": [
    {
     "name": "stdout",
     "output_type": "stream",
     "text": [
      "訓練　： 0.96\n",
      "テスト： 0.88\n"
     ]
    }
   ],
   "source": [
    "# 正答率\n",
    "print('訓練　：', round(circle_nnet.score(X_train, y_train), 3))\n",
    "print('テスト：', round(circle_nnet.score(X_test, y_test), 3))"
   ]
  }
 ],
 "metadata": {
  "kernelspec": {
   "display_name": "Python 3 (ipykernel)",
   "language": "python",
   "name": "python3"
  },
  "language_info": {
   "codemirror_mode": {
    "name": "ipython",
    "version": 3
   },
   "file_extension": ".py",
   "mimetype": "text/x-python",
   "name": "python",
   "nbconvert_exporter": "python",
   "pygments_lexer": "ipython3",
   "version": "3.9.7"
  }
 },
 "nbformat": 4,
 "nbformat_minor": 2
}

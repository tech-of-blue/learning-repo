{
 "cells": [
  {
   "cell_type": "markdown",
   "metadata": {},
   "source": [
    "# 第5部　統計的推定\n",
    "\n",
    "## 3章　母平均の推定"
   ]
  },
  {
   "cell_type": "markdown",
   "metadata": {},
   "source": [
    "### 実装：分析の準備"
   ]
  },
  {
   "cell_type": "code",
   "execution_count": 1,
   "metadata": {},
   "outputs": [],
   "source": [
    "# 数値計算に使うライブラリ\n",
    "import numpy as np\n",
    "import pandas as pd\n",
    "from scipy import stats\n",
    "\n",
    "# グラフを描画するライブラリ\n",
    "from matplotlib import pyplot as plt\n",
    "import seaborn as sns\n",
    "sns.set()\n",
    "\n",
    "# グラフの日本語表記\n",
    "from matplotlib import rcParams\n",
    "rcParams['font.family'] = 'sans-serif'\n",
    "rcParams['font.sans-serif'] = 'Meiryo'"
   ]
  },
  {
   "cell_type": "code",
   "execution_count": 2,
   "metadata": {},
   "outputs": [],
   "source": [
    "# 表示設定(書籍本文のレイアウトと合わせるためであり、必須ではありません)\n",
    "np.set_printoptions(linewidth=60)\n",
    "pd.set_option('display.width', 60)\n",
    "\n",
    "from matplotlib.pylab import rcParams\n",
    "rcParams['figure.figsize'] = 8, 4"
   ]
  },
  {
   "cell_type": "markdown",
   "metadata": {},
   "source": [
    "### 実装：母集団の用意"
   ]
  },
  {
   "cell_type": "code",
   "execution_count": 3,
   "metadata": {},
   "outputs": [],
   "source": [
    "# 平均4、標準偏差0.8の正規分布を使いまわす\n",
    "population = stats.norm(loc=4, scale=0.8)"
   ]
  },
  {
   "cell_type": "markdown",
   "metadata": {},
   "source": [
    "### 実装：標本平均を計算する"
   ]
  },
  {
   "cell_type": "code",
   "execution_count": 4,
   "metadata": {},
   "outputs": [
    {
     "data": {
      "text/plain": [
       "array([3.66659372, 3.95498654, 2.29104312, 5.31221665,\n",
       "       2.56525153, 3.32660211, 4.40230513, 3.00376953,\n",
       "       3.15363822, 3.27279391])"
      ]
     },
     "execution_count": 4,
     "metadata": {},
     "output_type": "execute_result"
    }
   ],
   "source": [
    "# 標本抽出\n",
    "np.random.seed(2)\n",
    "sample = population.rvs(size=10)\n",
    "sample"
   ]
  },
  {
   "cell_type": "code",
   "execution_count": 5,
   "metadata": {},
   "outputs": [
    {
     "data": {
      "text/plain": [
       "3.495"
      ]
     },
     "execution_count": 5,
     "metadata": {},
     "output_type": "execute_result"
    }
   ],
   "source": [
    "round(np.mean(sample), 3)"
   ]
  },
  {
   "cell_type": "markdown",
   "metadata": {},
   "source": [
    "### 実装：標本平均を何度も計算する"
   ]
  },
  {
   "cell_type": "code",
   "execution_count": 6,
   "metadata": {},
   "outputs": [],
   "source": [
    "# 平均値を格納する入れ物\n",
    "sample_mean_array = np.zeros(10000)"
   ]
  },
  {
   "cell_type": "code",
   "execution_count": 7,
   "metadata": {},
   "outputs": [],
   "source": [
    "# 「データを10個選んで平均値を求める」試行を10000回繰り返す\n",
    "np.random.seed(1)\n",
    "for i in range(0, 10000):\n",
    "    sample_loop = population.rvs(size=10)\n",
    "    sample_mean_array[i] = np.mean(sample_loop)"
   ]
  },
  {
   "cell_type": "code",
   "execution_count": 8,
   "metadata": {
    "scrolled": true
   },
   "outputs": [
    {
     "data": {
      "text/plain": [
       "array([3.92228729, 3.86432929, 4.06953003, ..., 4.13616562,\n",
       "       4.57489661, 4.09896685])"
      ]
     },
     "execution_count": 8,
     "metadata": {},
     "output_type": "execute_result"
    }
   ],
   "source": [
    "sample_mean_array"
   ]
  },
  {
   "cell_type": "markdown",
   "metadata": {},
   "source": [
    "### 実装：標本平均の平均値"
   ]
  },
  {
   "cell_type": "code",
   "execution_count": 9,
   "metadata": {},
   "outputs": [
    {
     "data": {
      "text/plain": [
       "4.004"
      ]
     },
     "execution_count": 9,
     "metadata": {},
     "output_type": "execute_result"
    }
   ],
   "source": [
    "# 標本平均の平均値\n",
    "round(np.mean(sample_mean_array), 3)"
   ]
  },
  {
   "cell_type": "markdown",
   "metadata": {},
   "source": [
    "### 実装：標本平均を何度も計算する関数を作る"
   ]
  },
  {
   "cell_type": "code",
   "execution_count": 10,
   "metadata": {},
   "outputs": [],
   "source": [
    "# 標本平均を何度も計算する関数\n",
    "def calc_sample_mean(size, n_trial):\n",
    "    sample_mean_array = np.zeros(n_trial)\n",
    "    for i in range(0, n_trial):\n",
    "        sample_loop = population.rvs(size=size)\n",
    "        sample_mean_array[i] = np.mean(sample_loop)\n",
    "    return sample_mean_array"
   ]
  },
  {
   "cell_type": "code",
   "execution_count": 11,
   "metadata": {},
   "outputs": [
    {
     "data": {
      "text/plain": [
       "4.004"
      ]
     },
     "execution_count": 11,
     "metadata": {},
     "output_type": "execute_result"
    }
   ],
   "source": [
    "# 動作確認。\n",
    "# 「データを10個選んで平均値を求める」試行を10000回繰り返した結果をさらに平均する\n",
    "np.random.seed(1)\n",
    "round(np.mean(calc_sample_mean(size=10, n_trial=10000)), 3)"
   ]
  },
  {
   "cell_type": "markdown",
   "metadata": {},
   "source": [
    "### 実装：サンプルサイズ別の、標本平均の分布"
   ]
  },
  {
   "cell_type": "code",
   "execution_count": 12,
   "metadata": {},
   "outputs": [
    {
     "name": "stdout",
     "output_type": "stream",
     "text": [
      "   sample_mean sample_size\n",
      "0     3.922287     size 10\n",
      "1     3.864329     size 10\n",
      "2     4.069530     size 10\n"
     ]
    }
   ],
   "source": [
    "np.random.seed(1)\n",
    "# サンプルサイズ10\n",
    "size_10 = calc_sample_mean(size=10, n_trial=10000)\n",
    "size_10_df = pd.DataFrame({\n",
    "    'sample_mean':size_10,\n",
    "    'sample_size':np.tile('size 10', 10000)\n",
    "})\n",
    "# サンプルサイズ20\n",
    "size_20 = calc_sample_mean(size=20, n_trial=10000)\n",
    "size_20_df = pd.DataFrame({\n",
    "    'sample_mean':size_20,\n",
    "    'sample_size':np.tile('size 20', 10000)\n",
    "})\n",
    "# サンプルサイズ30\n",
    "size_30 = calc_sample_mean(size=30, n_trial=10000)\n",
    "size_30_df = pd.DataFrame({\n",
    "    'sample_mean':size_30,\n",
    "    'sample_size':np.tile('size 30', 10000)\n",
    "})\n",
    "\n",
    "# 結合\n",
    "sim_result = pd.concat(\n",
    "    [size_10_df, size_20_df, size_30_df])\n",
    "\n",
    "# 結果の表示\n",
    "print(sim_result.head(3))"
   ]
  },
  {
   "cell_type": "code",
   "execution_count": 13,
   "metadata": {
    "scrolled": true
   },
   "outputs": [
    {
     "data": {
      "text/plain": [
       "<AxesSubplot:xlabel='sample_size', ylabel='sample_mean'>"
      ]
     },
     "execution_count": 13,
     "metadata": {},
     "output_type": "execute_result"
    },
    {
     "data": {
      "image/png": "[encoded data removed]",
      "text/plain": [
       "<Figure size 576x288 with 1 Axes>"
      ]
     },
     "metadata": {},
     "output_type": "display_data"
    }
   ],
   "source": [
    "sns.violinplot(x='sample_size', y='sample_mean', \n",
    "               data=sim_result, color='gray')"
   ]
  },
  {
   "cell_type": "code",
   "execution_count": 14,
   "metadata": {},
   "outputs": [
    {
     "name": "stdout",
     "output_type": "stream",
     "text": [
      "            sample_mean       \n",
      "                    std   mean\n",
      "sample_size                   \n",
      "size 10           0.251  4.004\n",
      "size 20           0.180  4.001\n",
      "size 30           0.146  4.001\n"
     ]
    }
   ],
   "source": [
    "# サンプルサイズ別の、標本平均の標準偏差と平均値\n",
    "group = sim_result.groupby('sample_size')\n",
    "print(group.agg([np.std, np.mean], ddof=1).round(3))"
   ]
  },
  {
   "cell_type": "code",
   "execution_count": 15,
   "metadata": {},
   "outputs": [
    {
     "name": "stdout",
     "output_type": "stream",
     "text": [
      "標準偏差(size 10)： 0.253\n",
      "標準偏差(size 20)： 0.179\n",
      "標準偏差(size 30)： 0.146\n"
     ]
    }
   ],
   "source": [
    "print('標準偏差(size 10)：', round(0.8 / np.sqrt(10), 3))\n",
    "print('標準偏差(size 20)：', round(0.8 / np.sqrt(20), 3))\n",
    "print('標準偏差(size 30)：', round(0.8 / np.sqrt(30), 3))"
   ]
  },
  {
   "cell_type": "markdown",
   "metadata": {},
   "source": [
    "### 実装：サンプルサイズを大きくしたときの標本平均"
   ]
  },
  {
   "cell_type": "code",
   "execution_count": 16,
   "metadata": {
    "scrolled": true
   },
   "outputs": [
    {
     "data": {
      "text/plain": [
       "array([    10,    110,    210, ...,  99810,  99910, 100010])"
      ]
     },
     "execution_count": 16,
     "metadata": {},
     "output_type": "execute_result"
    }
   ],
   "source": [
    "# サンプルサイズを10～100010までの範囲で100区切りで変化させる\n",
    "size_array =  np.arange(start=10, stop=100100, step=100)\n",
    "size_array"
   ]
  },
  {
   "cell_type": "code",
   "execution_count": 17,
   "metadata": {},
   "outputs": [],
   "source": [
    "# 「標本平均」を格納する入れ物\n",
    "sample_mean_array_size = np.zeros(len(size_array))"
   ]
  },
  {
   "cell_type": "code",
   "execution_count": 18,
   "metadata": {},
   "outputs": [],
   "source": [
    "# 「標本平均を求める」試行を、サンプルサイズを変えながら何度も実行\n",
    "np.random.seed(1)\n",
    "for i in range(0, len(size_array)):\n",
    "    sample_loop = population.rvs(size=size_array[i])\n",
    "    sample_mean_array_size[i] = np.mean(sample_loop)"
   ]
  },
  {
   "cell_type": "code",
   "execution_count": 19,
   "metadata": {},
   "outputs": [
    {
     "name": "stdout",
     "output_type": "stream",
     "text": [
      "   sample_size  sample_mean\n",
      "0           10     3.922287\n",
      "1          110     4.038361\n",
      "2          210     4.091853\n"
     ]
    }
   ],
   "source": [
    "# データフレームにまとめる\n",
    "size_mean_df = pd.DataFrame({\n",
    "    'sample_size': size_array,\n",
    "    'sample_mean': sample_mean_array_size\n",
    "})\n",
    "\n",
    "print(size_mean_df.head(3))"
   ]
  },
  {
   "cell_type": "code",
   "execution_count": 20,
   "metadata": {
    "scrolled": true
   },
   "outputs": [
    {
     "data": {
      "text/plain": [
       "<AxesSubplot:xlabel='sample_size', ylabel='sample_mean'>"
      ]
     },
     "execution_count": 20,
     "metadata": {},
     "output_type": "execute_result"
    },
    {
     "data": {
      "image/png": "[encoded data removed]",
      "text/plain": [
       "<Figure size 576x288 with 1 Axes>"
      ]
     },
     "metadata": {},
     "output_type": "display_data"
    }
   ],
   "source": [
    "sns.lineplot(x='sample_size', y='sample_mean',\n",
    "             data=size_mean_df, color='black')"
   ]
  }
 ],
 "metadata": {
  "kernelspec": {
   "display_name": "Python 3 (ipykernel)",
   "language": "python",
   "name": "python3"
  },
  "language_info": {
   "codemirror_mode": {
    "name": "ipython",
    "version": 3
   },
   "file_extension": ".py",
   "mimetype": "text/x-python",
   "name": "python",
   "nbconvert_exporter": "python",
   "pygments_lexer": "ipython3",
   "version": "3.9.7"
  }
 },
 "nbformat": 4,
 "nbformat_minor": 2
}

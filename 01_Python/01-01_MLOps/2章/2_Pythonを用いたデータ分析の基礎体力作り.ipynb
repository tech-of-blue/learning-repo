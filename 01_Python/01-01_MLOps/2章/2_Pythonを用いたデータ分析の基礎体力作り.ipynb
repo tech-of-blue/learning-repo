{
 "cells": [
  {
   "cell_type": "markdown",
   "metadata": {
    "id": "dGk1ugRPgRxI"
   },
   "source": [
    "#2-2.データを読み込んでみよう"
   ]
  },
  {
   "cell_type": "code",
   "execution_count": 27,
   "metadata": {
    "id": "myx1bLwLt7_Q"
   },
   "outputs": [],
   "source": [
    "import os\n",
    "import pandas as pd\n",
    "\n",
    "# 絶対パスでdataフォルダを定義（1回だけ）\n",
    "folder_path = 'C:\\\\Users\\\\Yuichi Katogi\\\\learning-repo\\\\01_Python\\\\01-01_DA_WB\\\\2章\\\\data'\n"
   ]
  },
  {
   "cell_type": "code",
   "execution_count": 28,
   "metadata": {},
   "outputs": [
    {
     "name": "stdout",
     "output_type": "stream",
     "text": [
      "C:\\Users\\Yuichi Katogi\\learning-repo\\01_Python\\01-01_DA_WB\\2章\n"
     ]
    }
   ],
   "source": [
    "print(os.getcwd())"
   ]
  },
  {
   "cell_type": "code",
   "execution_count": 31,
   "metadata": {},
   "outputs": [
    {
     "name": "stdout",
     "output_type": "stream",
     "text": [
      "C:\\Users\\Yuichi Katogi\\learning-repo\\01_Python\\01-01_DA_WB\\2章\n"
     ]
    }
   ],
   "source": [
    "# 変更したいディレクトリの絶対パスを指定\n",
    "os.chdir('C:\\\\Users\\\\Yuichi Katogi\\\\learning-repo\\\\01_Python\\\\01-01_DA_WB\\\\2章')\n",
    "\n",
    "# 現在の作業ディレクトリを確認\n",
    "print(os.getcwd())\n"
   ]
  },
  {
   "cell_type": "code",
   "execution_count": 41,
   "metadata": {
    "id": "f_4_3qVFuD2d"
   },
   "outputs": [
    {
     "name": "stdout",
     "output_type": "stream",
     "text": [
      "<class 'pandas.core.frame.DataFrame'>\n",
      "RangeIndex: 38895 entries, 0 to 38894\n",
      "Data columns (total 5 columns):\n",
      " #   Column  Non-Null Count  Dtype  \n",
      "---  ------  --------------  -----  \n",
      " 0   売上ID    38895 non-null  object \n",
      " 1   顧客ID    38895 non-null  object \n",
      " 2   契約ID    38895 non-null  object \n",
      " 3   売上日     38895 non-null  object \n",
      " 4   売上      38893 non-null  float64\n",
      "dtypes: float64(1), object(4)\n",
      "memory usage: 1.5+ MB\n"
     ]
    },
    {
     "data": {
      "text/html": [
       "<div>\n",
       "<style scoped>\n",
       "    .dataframe tbody tr th:only-of-type {\n",
       "        vertical-align: middle;\n",
       "    }\n",
       "\n",
       "    .dataframe tbody tr th {\n",
       "        vertical-align: top;\n",
       "    }\n",
       "\n",
       "    .dataframe thead th {\n",
       "        text-align: right;\n",
       "    }\n",
       "</style>\n",
       "<table border=\"1\" class=\"dataframe\">\n",
       "  <thead>\n",
       "    <tr style=\"text-align: right;\">\n",
       "      <th></th>\n",
       "      <th>売上ID</th>\n",
       "      <th>顧客ID</th>\n",
       "      <th>契約ID</th>\n",
       "      <th>売上日</th>\n",
       "      <th>売上</th>\n",
       "    </tr>\n",
       "  </thead>\n",
       "  <tbody>\n",
       "    <tr>\n",
       "      <th>38890</th>\n",
       "      <td>S-1125995</td>\n",
       "      <td>C-9999991</td>\n",
       "      <td>N-9999999</td>\n",
       "      <td>2021/12/31</td>\n",
       "      <td>9999999.0</td>\n",
       "    </tr>\n",
       "    <tr>\n",
       "      <th>38891</th>\n",
       "      <td>S-1125996</td>\n",
       "      <td>C-9999991</td>\n",
       "      <td>N-9999999</td>\n",
       "      <td>2021/12/31</td>\n",
       "      <td>0.0</td>\n",
       "    </tr>\n",
       "    <tr>\n",
       "      <th>38892</th>\n",
       "      <td>S-1125997</td>\n",
       "      <td>C-9999992</td>\n",
       "      <td>N-9999999</td>\n",
       "      <td>2021/12/31</td>\n",
       "      <td>9999999.0</td>\n",
       "    </tr>\n",
       "    <tr>\n",
       "      <th>38893</th>\n",
       "      <td>S-1125998</td>\n",
       "      <td>C-9999993</td>\n",
       "      <td>N-9999999</td>\n",
       "      <td>2021/12/31</td>\n",
       "      <td>9999999.0</td>\n",
       "    </tr>\n",
       "    <tr>\n",
       "      <th>38894</th>\n",
       "      <td>S-1125999</td>\n",
       "      <td>C-9999992</td>\n",
       "      <td>N-9999999</td>\n",
       "      <td>2021/12/31</td>\n",
       "      <td>9999999.0</td>\n",
       "    </tr>\n",
       "  </tbody>\n",
       "</table>\n",
       "</div>"
      ],
      "text/plain": [
       "            売上ID       顧客ID       契約ID         売上日         売上\n",
       "38890  S-1125995  C-9999991  N-9999999  2021/12/31  9999999.0\n",
       "38891  S-1125996  C-9999991  N-9999999  2021/12/31        0.0\n",
       "38892  S-1125997  C-9999992  N-9999999  2021/12/31  9999999.0\n",
       "38893  S-1125998  C-9999993  N-9999999  2021/12/31  9999999.0\n",
       "38894  S-1125999  C-9999992  N-9999999  2021/12/31  9999999.0"
      ]
     },
     "execution_count": 41,
     "metadata": {},
     "output_type": "execute_result"
    }
   ],
   "source": [
    "df_sales_2021 = pd.read_csv(os.path.join(folder_path, '売上テーブル_2021.csv'), encoding='SJIS')\n",
    "df_sales_2021.info()\n",
    "df_sales_2021.head()\n",
    "df_sales_2021.tail()"
   ]
  },
  {
   "cell_type": "code",
   "execution_count": 42,
   "metadata": {
    "id": "QfmaNuSAuXmh"
   },
   "outputs": [
    {
     "name": "stdout",
     "output_type": "stream",
     "text": [
      "<class 'pandas.core.frame.DataFrame'>\n",
      "RangeIndex: 36550 entries, 0 to 36549\n",
      "Data columns (total 5 columns):\n",
      " #   Column  Non-Null Count  Dtype \n",
      "---  ------  --------------  ----- \n",
      " 0   売上ID    36550 non-null  object\n",
      " 1   顧客ID    36550 non-null  object\n",
      " 2   契約ID    36550 non-null  object\n",
      " 3   売上日     36550 non-null  object\n",
      " 4   売上      36550 non-null  int64 \n",
      "dtypes: int64(1), object(4)\n",
      "memory usage: 1.4+ MB\n"
     ]
    },
    {
     "data": {
      "text/html": [
       "<div>\n",
       "<style scoped>\n",
       "    .dataframe tbody tr th:only-of-type {\n",
       "        vertical-align: middle;\n",
       "    }\n",
       "\n",
       "    .dataframe tbody tr th {\n",
       "        vertical-align: top;\n",
       "    }\n",
       "\n",
       "    .dataframe thead th {\n",
       "        text-align: right;\n",
       "    }\n",
       "</style>\n",
       "<table border=\"1\" class=\"dataframe\">\n",
       "  <thead>\n",
       "    <tr style=\"text-align: right;\">\n",
       "      <th></th>\n",
       "      <th>売上ID</th>\n",
       "      <th>顧客ID</th>\n",
       "      <th>契約ID</th>\n",
       "      <th>売上日</th>\n",
       "      <th>売上</th>\n",
       "    </tr>\n",
       "  </thead>\n",
       "  <tbody>\n",
       "    <tr>\n",
       "      <th>36545</th>\n",
       "      <td>S-1177220</td>\n",
       "      <td>C-1001260</td>\n",
       "      <td>N-1004684</td>\n",
       "      <td>2022/12/30</td>\n",
       "      <td>9000</td>\n",
       "    </tr>\n",
       "    <tr>\n",
       "      <th>36546</th>\n",
       "      <td>S-1177223</td>\n",
       "      <td>C-1000315</td>\n",
       "      <td>N-1004170</td>\n",
       "      <td>2022/12/30</td>\n",
       "      <td>21000</td>\n",
       "    </tr>\n",
       "    <tr>\n",
       "      <th>36547</th>\n",
       "      <td>S-1177224</td>\n",
       "      <td>C-1000094</td>\n",
       "      <td>N-1004169</td>\n",
       "      <td>2022/12/30</td>\n",
       "      <td>15000</td>\n",
       "    </tr>\n",
       "    <tr>\n",
       "      <th>36548</th>\n",
       "      <td>S-1177234</td>\n",
       "      <td>C-1001645</td>\n",
       "      <td>N-1004605</td>\n",
       "      <td>2022/12/30</td>\n",
       "      <td>13000</td>\n",
       "    </tr>\n",
       "    <tr>\n",
       "      <th>36549</th>\n",
       "      <td>S-1177235</td>\n",
       "      <td>C-1001714</td>\n",
       "      <td>N-1004814</td>\n",
       "      <td>2022/12/31</td>\n",
       "      <td>50000</td>\n",
       "    </tr>\n",
       "  </tbody>\n",
       "</table>\n",
       "</div>"
      ],
      "text/plain": [
       "            売上ID       顧客ID       契約ID         売上日     売上\n",
       "36545  S-1177220  C-1001260  N-1004684  2022/12/30   9000\n",
       "36546  S-1177223  C-1000315  N-1004170  2022/12/30  21000\n",
       "36547  S-1177224  C-1000094  N-1004169  2022/12/30  15000\n",
       "36548  S-1177234  C-1001645  N-1004605  2022/12/30  13000\n",
       "36549  S-1177235  C-1001714  N-1004814  2022/12/31  50000"
      ]
     },
     "execution_count": 42,
     "metadata": {},
     "output_type": "execute_result"
    }
   ],
   "source": [
    "df_sales_2022 = pd.read_csv(os.path.join(folder_path, '売上テーブル_2022.csv'), encoding='SJIS')\n",
    "df_sales_2022.info()\n",
    "df_sales_2022.head()\n",
    "df_sales_2022.tail()"
   ]
  },
  {
   "cell_type": "code",
   "execution_count": 37,
   "metadata": {
    "id": "33miw3jkuXpM"
   },
   "outputs": [
    {
     "name": "stdout",
     "output_type": "stream",
     "text": [
      "<class 'pandas.core.frame.DataFrame'>\n",
      "RangeIndex: 1507 entries, 0 to 1506\n",
      "Data columns (total 9 columns):\n",
      " #   Column  Non-Null Count  Dtype \n",
      "---  ------  --------------  ----- \n",
      " 0   顧客ID    1507 non-null   object\n",
      " 1   顧客区分    1507 non-null   object\n",
      " 2   顧客名     1507 non-null   object\n",
      " 3   地域      1507 non-null   object\n",
      " 4   都道府県    1507 non-null   object\n",
      " 5   市区町村    1505 non-null   object\n",
      " 6   初回契約日   1507 non-null   object\n",
      " 7   社員ID    1507 non-null   int64 \n",
      " 8   顧客満足度   1507 non-null   int64 \n",
      "dtypes: int64(2), object(7)\n",
      "memory usage: 106.1+ KB\n"
     ]
    },
    {
     "data": {
      "text/html": [
       "<div>\n",
       "<style scoped>\n",
       "    .dataframe tbody tr th:only-of-type {\n",
       "        vertical-align: middle;\n",
       "    }\n",
       "\n",
       "    .dataframe tbody tr th {\n",
       "        vertical-align: top;\n",
       "    }\n",
       "\n",
       "    .dataframe thead th {\n",
       "        text-align: right;\n",
       "    }\n",
       "</style>\n",
       "<table border=\"1\" class=\"dataframe\">\n",
       "  <thead>\n",
       "    <tr style=\"text-align: right;\">\n",
       "      <th></th>\n",
       "      <th>顧客ID</th>\n",
       "      <th>顧客区分</th>\n",
       "      <th>顧客名</th>\n",
       "      <th>地域</th>\n",
       "      <th>都道府県</th>\n",
       "      <th>市区町村</th>\n",
       "      <th>初回契約日</th>\n",
       "      <th>社員ID</th>\n",
       "      <th>顧客満足度</th>\n",
       "    </tr>\n",
       "  </thead>\n",
       "  <tbody>\n",
       "    <tr>\n",
       "      <th>0</th>\n",
       "      <td>C-1000007</td>\n",
       "      <td>企業規模小</td>\n",
       "      <td>株式会社鈴木工業</td>\n",
       "      <td>関東地方</td>\n",
       "      <td>東京都</td>\n",
       "      <td>台東区</td>\n",
       "      <td>2015/1/9</td>\n",
       "      <td>101782</td>\n",
       "      <td>3</td>\n",
       "    </tr>\n",
       "    <tr>\n",
       "      <th>1</th>\n",
       "      <td>C-1000008</td>\n",
       "      <td>その他</td>\n",
       "      <td>株式会社中村工業</td>\n",
       "      <td>四国</td>\n",
       "      <td>徳島県</td>\n",
       "      <td>徳島市</td>\n",
       "      <td>2015/1/15</td>\n",
       "      <td>100726</td>\n",
       "      <td>3</td>\n",
       "    </tr>\n",
       "    <tr>\n",
       "      <th>2</th>\n",
       "      <td>C-1000009</td>\n",
       "      <td>企業規模中</td>\n",
       "      <td>大和屋根工事合同会社</td>\n",
       "      <td>関西地方</td>\n",
       "      <td>三重県</td>\n",
       "      <td>津市</td>\n",
       "      <td>2015/1/19</td>\n",
       "      <td>101305</td>\n",
       "      <td>2</td>\n",
       "    </tr>\n",
       "    <tr>\n",
       "      <th>3</th>\n",
       "      <td>C-1000010</td>\n",
       "      <td>企業規模大</td>\n",
       "      <td>株式会社ユタカ</td>\n",
       "      <td>関東地方</td>\n",
       "      <td>千葉県</td>\n",
       "      <td>松戸市</td>\n",
       "      <td>2015/1/19</td>\n",
       "      <td>107576</td>\n",
       "      <td>5</td>\n",
       "    </tr>\n",
       "    <tr>\n",
       "      <th>4</th>\n",
       "      <td>C-1000011</td>\n",
       "      <td>企業規模中</td>\n",
       "      <td>合資会社橋本商店</td>\n",
       "      <td>関東地方</td>\n",
       "      <td>東京都</td>\n",
       "      <td>大田区</td>\n",
       "      <td>2015/1/21</td>\n",
       "      <td>103152</td>\n",
       "      <td>1</td>\n",
       "    </tr>\n",
       "  </tbody>\n",
       "</table>\n",
       "</div>"
      ],
      "text/plain": [
       "        顧客ID   顧客区分         顧客名    地域 都道府県 市区町村      初回契約日    社員ID  顧客満足度\n",
       "0  C-1000007  企業規模小    株式会社鈴木工業  関東地方  東京都  台東区   2015/1/9  101782      3\n",
       "1  C-1000008    その他    株式会社中村工業    四国  徳島県  徳島市  2015/1/15  100726      3\n",
       "2  C-1000009  企業規模中  大和屋根工事合同会社  関西地方  三重県   津市  2015/1/19  101305      2\n",
       "3  C-1000010  企業規模大     株式会社ユタカ  関東地方  千葉県  松戸市  2015/1/19  107576      5\n",
       "4  C-1000011  企業規模中    合資会社橋本商店  関東地方  東京都  大田区  2015/1/21  103152      1"
      ]
     },
     "execution_count": 37,
     "metadata": {},
     "output_type": "execute_result"
    }
   ],
   "source": [
    "df_customer = pd.read_csv(os.path.join(folder_path, '顧客テーブル.csv'), encoding='SJIS')\n",
    "df_customer.info()\n",
    "df_customer.head()"
   ]
  },
  {
   "cell_type": "markdown",
   "metadata": {
    "id": "ppmT7SMogmnX"
   },
   "source": [
    "#2-3.データを結合してみよう"
   ]
  },
  {
   "cell_type": "code",
   "execution_count": 43,
   "metadata": {
    "id": "jYzhSwk4uXx_"
   },
   "outputs": [
    {
     "name": "stdout",
     "output_type": "stream",
     "text": [
      "<class 'pandas.core.frame.DataFrame'>\n",
      "RangeIndex: 75445 entries, 0 to 75444\n",
      "Data columns (total 5 columns):\n",
      " #   Column  Non-Null Count  Dtype  \n",
      "---  ------  --------------  -----  \n",
      " 0   売上ID    75445 non-null  object \n",
      " 1   顧客ID    75445 non-null  object \n",
      " 2   契約ID    75445 non-null  object \n",
      " 3   売上日     75445 non-null  object \n",
      " 4   売上      75443 non-null  float64\n",
      "dtypes: float64(1), object(4)\n",
      "memory usage: 2.9+ MB\n"
     ]
    },
    {
     "data": {
      "text/html": [
       "<div>\n",
       "<style scoped>\n",
       "    .dataframe tbody tr th:only-of-type {\n",
       "        vertical-align: middle;\n",
       "    }\n",
       "\n",
       "    .dataframe tbody tr th {\n",
       "        vertical-align: top;\n",
       "    }\n",
       "\n",
       "    .dataframe thead th {\n",
       "        text-align: right;\n",
       "    }\n",
       "</style>\n",
       "<table border=\"1\" class=\"dataframe\">\n",
       "  <thead>\n",
       "    <tr style=\"text-align: right;\">\n",
       "      <th></th>\n",
       "      <th>売上ID</th>\n",
       "      <th>顧客ID</th>\n",
       "      <th>契約ID</th>\n",
       "      <th>売上日</th>\n",
       "      <th>売上</th>\n",
       "    </tr>\n",
       "  </thead>\n",
       "  <tbody>\n",
       "    <tr>\n",
       "      <th>0</th>\n",
       "      <td>S-1000072</td>\n",
       "      <td>C-1000222</td>\n",
       "      <td>N-1002716</td>\n",
       "      <td>2021/1/1</td>\n",
       "      <td>6000.0</td>\n",
       "    </tr>\n",
       "    <tr>\n",
       "      <th>1</th>\n",
       "      <td>S-1000073</td>\n",
       "      <td>C-1000458</td>\n",
       "      <td>N-1000683</td>\n",
       "      <td>2021/1/1</td>\n",
       "      <td>50000.0</td>\n",
       "    </tr>\n",
       "    <tr>\n",
       "      <th>2</th>\n",
       "      <td>S-1000074</td>\n",
       "      <td>C-1000599</td>\n",
       "      <td>N-1001044</td>\n",
       "      <td>2021/1/1</td>\n",
       "      <td>10000.0</td>\n",
       "    </tr>\n",
       "    <tr>\n",
       "      <th>3</th>\n",
       "      <td>S-1000075</td>\n",
       "      <td>C-1000599</td>\n",
       "      <td>N-1001042</td>\n",
       "      <td>2021/1/1</td>\n",
       "      <td>10000.0</td>\n",
       "    </tr>\n",
       "    <tr>\n",
       "      <th>4</th>\n",
       "      <td>S-1000076</td>\n",
       "      <td>C-1000599</td>\n",
       "      <td>N-1001041</td>\n",
       "      <td>2021/1/1</td>\n",
       "      <td>10000.0</td>\n",
       "    </tr>\n",
       "  </tbody>\n",
       "</table>\n",
       "</div>"
      ],
      "text/plain": [
       "        売上ID       顧客ID       契約ID       売上日       売上\n",
       "0  S-1000072  C-1000222  N-1002716  2021/1/1   6000.0\n",
       "1  S-1000073  C-1000458  N-1000683  2021/1/1  50000.0\n",
       "2  S-1000074  C-1000599  N-1001044  2021/1/1  10000.0\n",
       "3  S-1000075  C-1000599  N-1001042  2021/1/1  10000.0\n",
       "4  S-1000076  C-1000599  N-1001041  2021/1/1  10000.0"
      ]
     },
     "execution_count": 43,
     "metadata": {},
     "output_type": "execute_result"
    }
   ],
   "source": [
    "# 2021年と2022年のdataをユニオンする（縦に結合）\n",
    "df_sales = pd.concat([df_sales_2021, df_sales_2022], ignore_index=True)\n",
    "df_sales.info()\n",
    "df_sales.head()"
   ]
  },
  {
   "cell_type": "code",
   "execution_count": 44,
   "metadata": {
    "id": "14olMKS8_jFC"
   },
   "outputs": [
    {
     "data": {
      "text/html": [
       "<div>\n",
       "<style scoped>\n",
       "    .dataframe tbody tr th:only-of-type {\n",
       "        vertical-align: middle;\n",
       "    }\n",
       "\n",
       "    .dataframe tbody tr th {\n",
       "        vertical-align: top;\n",
       "    }\n",
       "\n",
       "    .dataframe thead th {\n",
       "        text-align: right;\n",
       "    }\n",
       "</style>\n",
       "<table border=\"1\" class=\"dataframe\">\n",
       "  <thead>\n",
       "    <tr style=\"text-align: right;\">\n",
       "      <th></th>\n",
       "      <th>売上ID</th>\n",
       "      <th>顧客ID</th>\n",
       "      <th>契約ID</th>\n",
       "      <th>売上日</th>\n",
       "      <th>売上</th>\n",
       "    </tr>\n",
       "  </thead>\n",
       "  <tbody>\n",
       "    <tr>\n",
       "      <th>75440</th>\n",
       "      <td>S-1177220</td>\n",
       "      <td>C-1001260</td>\n",
       "      <td>N-1004684</td>\n",
       "      <td>2022/12/30</td>\n",
       "      <td>9000.0</td>\n",
       "    </tr>\n",
       "    <tr>\n",
       "      <th>75441</th>\n",
       "      <td>S-1177223</td>\n",
       "      <td>C-1000315</td>\n",
       "      <td>N-1004170</td>\n",
       "      <td>2022/12/30</td>\n",
       "      <td>21000.0</td>\n",
       "    </tr>\n",
       "    <tr>\n",
       "      <th>75442</th>\n",
       "      <td>S-1177224</td>\n",
       "      <td>C-1000094</td>\n",
       "      <td>N-1004169</td>\n",
       "      <td>2022/12/30</td>\n",
       "      <td>15000.0</td>\n",
       "    </tr>\n",
       "    <tr>\n",
       "      <th>75443</th>\n",
       "      <td>S-1177234</td>\n",
       "      <td>C-1001645</td>\n",
       "      <td>N-1004605</td>\n",
       "      <td>2022/12/30</td>\n",
       "      <td>13000.0</td>\n",
       "    </tr>\n",
       "    <tr>\n",
       "      <th>75444</th>\n",
       "      <td>S-1177235</td>\n",
       "      <td>C-1001714</td>\n",
       "      <td>N-1004814</td>\n",
       "      <td>2022/12/31</td>\n",
       "      <td>50000.0</td>\n",
       "    </tr>\n",
       "  </tbody>\n",
       "</table>\n",
       "</div>"
      ],
      "text/plain": [
       "            売上ID       顧客ID       契約ID         売上日       売上\n",
       "75440  S-1177220  C-1001260  N-1004684  2022/12/30   9000.0\n",
       "75441  S-1177223  C-1000315  N-1004170  2022/12/30  21000.0\n",
       "75442  S-1177224  C-1000094  N-1004169  2022/12/30  15000.0\n",
       "75443  S-1177234  C-1001645  N-1004605  2022/12/30  13000.0\n",
       "75444  S-1177235  C-1001714  N-1004814  2022/12/31  50000.0"
      ]
     },
     "execution_count": 44,
     "metadata": {},
     "output_type": "execute_result"
    }
   ],
   "source": [
    "# 行末が2022年のdataであることを確認する\n",
    "df_sales.tail()"
   ]
  },
  {
   "cell_type": "code",
   "execution_count": 45,
   "metadata": {
    "id": "Jz1uHcB6_jH2"
   },
   "outputs": [
    {
     "name": "stdout",
     "output_type": "stream",
     "text": [
      "38895\n",
      "36550\n",
      "75445\n"
     ]
    }
   ],
   "source": [
    "# dataをユニオンした時はレコード数を確認する\n",
    "print(len(df_sales_2021))\n",
    "print(len(df_sales_2022))\n",
    "print(len(df_sales))"
   ]
  },
  {
   "cell_type": "code",
   "execution_count": 46,
   "metadata": {
    "id": "LN2WQnSM_jKy"
   },
   "outputs": [
    {
     "name": "stdout",
     "output_type": "stream",
     "text": [
      "<class 'pandas.core.frame.DataFrame'>\n",
      "RangeIndex: 75445 entries, 0 to 75444\n",
      "Data columns (total 13 columns):\n",
      " #   Column  Non-Null Count  Dtype  \n",
      "---  ------  --------------  -----  \n",
      " 0   売上ID    75445 non-null  object \n",
      " 1   顧客ID    75445 non-null  object \n",
      " 2   契約ID    75445 non-null  object \n",
      " 3   売上日     75445 non-null  object \n",
      " 4   売上      75443 non-null  float64\n",
      " 5   顧客区分    75443 non-null  object \n",
      " 6   顧客名     75443 non-null  object \n",
      " 7   地域      75443 non-null  object \n",
      " 8   都道府県    75443 non-null  object \n",
      " 9   市区町村    75357 non-null  object \n",
      " 10  初回契約日   75443 non-null  object \n",
      " 11  社員ID    75443 non-null  float64\n",
      " 12  顧客満足度   75443 non-null  float64\n",
      "dtypes: float64(3), object(10)\n",
      "memory usage: 7.5+ MB\n"
     ]
    },
    {
     "data": {
      "text/html": [
       "<div>\n",
       "<style scoped>\n",
       "    .dataframe tbody tr th:only-of-type {\n",
       "        vertical-align: middle;\n",
       "    }\n",
       "\n",
       "    .dataframe tbody tr th {\n",
       "        vertical-align: top;\n",
       "    }\n",
       "\n",
       "    .dataframe thead th {\n",
       "        text-align: right;\n",
       "    }\n",
       "</style>\n",
       "<table border=\"1\" class=\"dataframe\">\n",
       "  <thead>\n",
       "    <tr style=\"text-align: right;\">\n",
       "      <th></th>\n",
       "      <th>売上ID</th>\n",
       "      <th>顧客ID</th>\n",
       "      <th>契約ID</th>\n",
       "      <th>売上日</th>\n",
       "      <th>売上</th>\n",
       "      <th>顧客区分</th>\n",
       "      <th>顧客名</th>\n",
       "      <th>地域</th>\n",
       "      <th>都道府県</th>\n",
       "      <th>市区町村</th>\n",
       "      <th>初回契約日</th>\n",
       "      <th>社員ID</th>\n",
       "      <th>顧客満足度</th>\n",
       "    </tr>\n",
       "  </thead>\n",
       "  <tbody>\n",
       "    <tr>\n",
       "      <th>0</th>\n",
       "      <td>S-1000072</td>\n",
       "      <td>C-1000222</td>\n",
       "      <td>N-1002716</td>\n",
       "      <td>2021/1/1</td>\n",
       "      <td>6000.0</td>\n",
       "      <td>その他</td>\n",
       "      <td>合同会社グループ明伸</td>\n",
       "      <td>関西地方</td>\n",
       "      <td>大阪府</td>\n",
       "      <td>大阪市中央区</td>\n",
       "      <td>2016/1/1</td>\n",
       "      <td>105523.0</td>\n",
       "      <td>3.0</td>\n",
       "    </tr>\n",
       "    <tr>\n",
       "      <th>1</th>\n",
       "      <td>S-1000073</td>\n",
       "      <td>C-1000458</td>\n",
       "      <td>N-1000683</td>\n",
       "      <td>2021/1/1</td>\n",
       "      <td>50000.0</td>\n",
       "      <td>企業規模大</td>\n",
       "      <td>有限会社小川商事</td>\n",
       "      <td>中部地方</td>\n",
       "      <td>愛知県</td>\n",
       "      <td>名古屋市中村区</td>\n",
       "      <td>2017/3/1</td>\n",
       "      <td>103462.0</td>\n",
       "      <td>2.0</td>\n",
       "    </tr>\n",
       "    <tr>\n",
       "      <th>2</th>\n",
       "      <td>S-1000074</td>\n",
       "      <td>C-1000599</td>\n",
       "      <td>N-1001044</td>\n",
       "      <td>2021/1/1</td>\n",
       "      <td>10000.0</td>\n",
       "      <td>企業規模中</td>\n",
       "      <td>吉田産業有限会社</td>\n",
       "      <td>北海道</td>\n",
       "      <td>北海道</td>\n",
       "      <td>札幌市中央区</td>\n",
       "      <td>2017/12/1</td>\n",
       "      <td>100173.0</td>\n",
       "      <td>4.0</td>\n",
       "    </tr>\n",
       "    <tr>\n",
       "      <th>3</th>\n",
       "      <td>S-1000075</td>\n",
       "      <td>C-1000599</td>\n",
       "      <td>N-1001042</td>\n",
       "      <td>2021/1/1</td>\n",
       "      <td>10000.0</td>\n",
       "      <td>企業規模中</td>\n",
       "      <td>吉田産業有限会社</td>\n",
       "      <td>北海道</td>\n",
       "      <td>北海道</td>\n",
       "      <td>札幌市中央区</td>\n",
       "      <td>2017/12/1</td>\n",
       "      <td>100173.0</td>\n",
       "      <td>4.0</td>\n",
       "    </tr>\n",
       "    <tr>\n",
       "      <th>4</th>\n",
       "      <td>S-1000076</td>\n",
       "      <td>C-1000599</td>\n",
       "      <td>N-1001041</td>\n",
       "      <td>2021/1/1</td>\n",
       "      <td>10000.0</td>\n",
       "      <td>企業規模中</td>\n",
       "      <td>吉田産業有限会社</td>\n",
       "      <td>北海道</td>\n",
       "      <td>北海道</td>\n",
       "      <td>札幌市中央区</td>\n",
       "      <td>2017/12/1</td>\n",
       "      <td>100173.0</td>\n",
       "      <td>4.0</td>\n",
       "    </tr>\n",
       "  </tbody>\n",
       "</table>\n",
       "</div>"
      ],
      "text/plain": [
       "        売上ID       顧客ID       契約ID       売上日       売上   顧客区分         顧客名  \\\n",
       "0  S-1000072  C-1000222  N-1002716  2021/1/1   6000.0    その他  合同会社グループ明伸   \n",
       "1  S-1000073  C-1000458  N-1000683  2021/1/1  50000.0  企業規模大    有限会社小川商事   \n",
       "2  S-1000074  C-1000599  N-1001044  2021/1/1  10000.0  企業規模中    吉田産業有限会社   \n",
       "3  S-1000075  C-1000599  N-1001042  2021/1/1  10000.0  企業規模中    吉田産業有限会社   \n",
       "4  S-1000076  C-1000599  N-1001041  2021/1/1  10000.0  企業規模中    吉田産業有限会社   \n",
       "\n",
       "     地域 都道府県     市区町村      初回契約日      社員ID  顧客満足度  \n",
       "0  関西地方  大阪府   大阪市中央区   2016/1/1  105523.0    3.0  \n",
       "1  中部地方  愛知県  名古屋市中村区   2017/3/1  103462.0    2.0  \n",
       "2   北海道  北海道   札幌市中央区  2017/12/1  100173.0    4.0  \n",
       "3   北海道  北海道   札幌市中央区  2017/12/1  100173.0    4.0  \n",
       "4   北海道  北海道   札幌市中央区  2017/12/1  100173.0    4.0  "
      ]
     },
     "execution_count": 46,
     "metadata": {},
     "output_type": "execute_result"
    }
   ],
   "source": [
    "# 結合した売上データと顧客テーブルをジョインする（横に結合）\n",
    "# 結合キーは「顧客ID」、左結合\n",
    "df_sales_customer = pd.merge(df_sales, df_customer, on='顧客ID', how='left')\n",
    "df_sales_customer.info()\n",
    "df_sales_customer.head()"
   ]
  },
  {
   "cell_type": "code",
   "execution_count": 47,
   "metadata": {
    "id": "RMptJvkDIshd"
   },
   "outputs": [
    {
     "name": "stdout",
     "output_type": "stream",
     "text": [
      "75445\n",
      "75445\n"
     ]
    }
   ],
   "source": [
    "# 結合後のレコード数を確認する\n",
    "print(len(df_sales))\n",
    "print(len(df_sales_customer))"
   ]
  },
  {
   "cell_type": "markdown",
   "metadata": {
    "id": "KaTy-b64guaH"
   },
   "source": [
    "#2-4.データの基本的な特性を把握しよう"
   ]
  },
  {
   "cell_type": "code",
   "execution_count": null,
   "metadata": {
    "id": "b4H6i0D5JLy4"
   },
   "outputs": [],
   "source": []
  },
  {
   "cell_type": "code",
   "execution_count": null,
   "metadata": {
    "id": "VStaIJQgJL17"
   },
   "outputs": [],
   "source": []
  },
  {
   "cell_type": "code",
   "execution_count": null,
   "metadata": {
    "id": "4bhnPjjfpqE0"
   },
   "outputs": [],
   "source": []
  },
  {
   "cell_type": "code",
   "execution_count": null,
   "metadata": {
    "id": "Mp2nWyocJL43"
   },
   "outputs": [],
   "source": []
  },
  {
   "cell_type": "markdown",
   "metadata": {
    "id": "Ew_YIVAPg8P0"
   },
   "source": [
    "#2-5.欠損値/異常値を処理してデータを綺麗にしよう"
   ]
  },
  {
   "cell_type": "code",
   "execution_count": null,
   "metadata": {
    "id": "lpaPV8SSlc0R"
   },
   "outputs": [],
   "source": []
  },
  {
   "cell_type": "code",
   "execution_count": null,
   "metadata": {
    "id": "hn-Fojd_spiJ"
   },
   "outputs": [],
   "source": []
  },
  {
   "cell_type": "code",
   "execution_count": null,
   "metadata": {
    "id": "W6Wbq4z9wjQN"
   },
   "outputs": [],
   "source": []
  },
  {
   "cell_type": "code",
   "execution_count": null,
   "metadata": {
    "id": "RtiPVVRnxeUe"
   },
   "outputs": [],
   "source": []
  },
  {
   "cell_type": "code",
   "execution_count": null,
   "metadata": {
    "id": "FOQtvSNOz8k7"
   },
   "outputs": [],
   "source": []
  },
  {
   "cell_type": "code",
   "execution_count": null,
   "metadata": {
    "id": "ToqDf-1t2kXo"
   },
   "outputs": [],
   "source": []
  },
  {
   "cell_type": "code",
   "execution_count": null,
   "metadata": {
    "id": "9QhimtqC31x3"
   },
   "outputs": [],
   "source": []
  },
  {
   "cell_type": "markdown",
   "metadata": {
    "id": "3KqOA7nYhPvF"
   },
   "source": [
    "#2-6.データ取り扱いの注意点とよく使う処理を押さえよう"
   ]
  },
  {
   "cell_type": "markdown",
   "metadata": {
    "id": "LqhLCHihhZvx"
   },
   "source": [
    "##■データ取り扱いの注意点を押さえよう"
   ]
  },
  {
   "cell_type": "code",
   "execution_count": null,
   "metadata": {
    "id": "Cwka3ftjgTVg"
   },
   "outputs": [],
   "source": []
  },
  {
   "cell_type": "code",
   "execution_count": null,
   "metadata": {
    "id": "jcdVNi-Piefg"
   },
   "outputs": [],
   "source": []
  },
  {
   "cell_type": "code",
   "execution_count": null,
   "metadata": {
    "id": "wvx81xk5g2Te"
   },
   "outputs": [],
   "source": []
  },
  {
   "cell_type": "code",
   "execution_count": null,
   "metadata": {
    "id": "m7xZrERt0uuQ"
   },
   "outputs": [],
   "source": []
  },
  {
   "cell_type": "code",
   "execution_count": null,
   "metadata": {
    "id": "doXFLNXp0x8o"
   },
   "outputs": [],
   "source": []
  },
  {
   "cell_type": "code",
   "execution_count": null,
   "metadata": {
    "id": "U_1mQag8hOmZ"
   },
   "outputs": [],
   "source": []
  },
  {
   "cell_type": "markdown",
   "metadata": {
    "id": "3mEmC2cihgUU"
   },
   "source": [
    "##■よく利用する処理を押さえよう"
   ]
  },
  {
   "cell_type": "code",
   "execution_count": null,
   "metadata": {
    "id": "vLpnFShMhOxv"
   },
   "outputs": [],
   "source": []
  },
  {
   "cell_type": "code",
   "execution_count": null,
   "metadata": {
    "id": "3dDsy5Dog2ng"
   },
   "outputs": [],
   "source": []
  },
  {
   "cell_type": "code",
   "execution_count": null,
   "metadata": {
    "id": "jMAVxprLbcCC"
   },
   "outputs": [],
   "source": []
  },
  {
   "cell_type": "code",
   "execution_count": null,
   "metadata": {
    "id": "mZxUx9HLgTg6"
   },
   "outputs": [],
   "source": []
  },
  {
   "cell_type": "code",
   "execution_count": null,
   "metadata": {
    "id": "MsTmAPl_BoeE"
   },
   "outputs": [],
   "source": []
  },
  {
   "cell_type": "code",
   "execution_count": null,
   "metadata": {
    "id": "URsfoZeQBog_"
   },
   "outputs": [],
   "source": []
  },
  {
   "cell_type": "markdown",
   "metadata": {
    "id": "AgVQpRhTho76"
   },
   "source": [
    "#2-7.集計・可視化・データ出力をしてみよう"
   ]
  },
  {
   "cell_type": "code",
   "execution_count": null,
   "metadata": {
    "id": "bVG0TvfD5og2"
   },
   "outputs": [],
   "source": []
  },
  {
   "cell_type": "code",
   "execution_count": null,
   "metadata": {
    "id": "8rE8yEhU9FPy"
   },
   "outputs": [],
   "source": []
  },
  {
   "cell_type": "code",
   "execution_count": null,
   "metadata": {
    "id": "KaNBf3cc9tID"
   },
   "outputs": [],
   "source": []
  },
  {
   "cell_type": "code",
   "execution_count": null,
   "metadata": {
    "id": "u4a4IT-5BSGj"
   },
   "outputs": [],
   "source": []
  },
  {
   "cell_type": "code",
   "execution_count": null,
   "metadata": {
    "id": "E3BGdNvSCngI"
   },
   "outputs": [],
   "source": []
  }
 ],
 "metadata": {
  "colab": {
   "provenance": []
  },
  "kernelspec": {
   "display_name": "Python 3",
   "name": "python3"
  },
  "language_info": {
   "codemirror_mode": {
    "name": "ipython",
    "version": 3
   },
   "file_extension": ".py",
   "mimetype": "text/x-python",
   "name": "python",
   "nbconvert_exporter": "python",
   "pygments_lexer": "ipython3",
   "version": "3.12.5"
  }
 },
 "nbformat": 4,
 "nbformat_minor": 0
}

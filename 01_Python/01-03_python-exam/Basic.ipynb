{
 "cells": [
  {
   "cell_type": "markdown",
   "metadata": {},
   "source": [
    "## 目次\n",
    "\n",
    "- [0. Pythonの特徴](#0-pythonの特徴)\n",
    "  - [0-1. 対話モード](#0-1-対話モード)\n",
    "  - [0-2. インタープリタ](#0-2-インタープリタ)\n",
    "  - [0-3. リスト](#0-3-リスト)\n",
    "- [1. 順次](#1-順次)\n",
    "  - [1-2. 組み込み関数](#1-2-組み込み関数)\n",
    "  - [1-3. リスト](#1-3-リスト)\n",
    "  - [1-4. タプル](#1-4-タプル)\n",
    "  - [1-5. 辞書](#1-5-辞書)\n",
    "  - [1-6. 集合](#1-6-集合)\n",
    "- [2.分岐](#2分岐)\n",
    "- [3.繰り返し](#3-繰り返し)\n",
    "  - [3-1. while文](#3-1-while文)\n",
    "  - [3-2. for文](#3-2-for文)\n",
    "  - [3-3. 繰り返しの制御](#3-3-繰り返しの制御)\n",
    "- [4. 関数](#4-関数)\n",
    "  - [4-1. def文](#4-1-def文)\n",
    "- [クラス](#クラス)\n",
    "- [エラーの種類](#エラーの種類)\n"
   ]
  },
  {
   "cell_type": "markdown",
   "metadata": {},
   "source": [
    "## 0. Pythonの特徴"
   ]
  },
  {
   "cell_type": "markdown",
   "metadata": {},
   "source": [
    "### 0-1. 対話モード\n",
    "- 対話モードを起動すると、バージョン番号に続いて、ヘルプおよび著作権情報などを確認するためのコマンドが表示される。そのあとに一次プロンプト「>>>」が表示される。複数行の構文を入力すときは、二次プロンプト「・・・」が表示される\n",
    "- 表示の順番\n",
    "  - バージョン番号\n",
    "  - ヘルプおよび著作権情報など\n",
    "  - 一次プロンプト\n",
    "  - 二次プロンプト\n",
    "- 対話モードの入力履歴はデフォルトでは、Python_historyという名称で保存される\n"
   ]
  },
  {
   "cell_type": "markdown",
   "metadata": {},
   "source": [
    "### 0-2. インタープリタ\n",
    "- コンパイルが不要な言語\n",
    "- コンパイルとは、ソースコードの実行前に行われるコンピュータへの命令（機械語）への変換のこと\n",
    "- コンパイルへの変換が必要な言語には、C言語などがある\n",
    "- Pythonでは、実行時にソースコードをコンピュータが実行できる形式へと逐次解釈しながら処理を進める。このような言語を、インタープリタと呼ぶ"
   ]
  },
  {
   "cell_type": "markdown",
   "metadata": {},
   "source": [
    "### 0-3. 要素の性質\n",
    "- 可変体\n",
    "- 不変体\n",
    "- 反復可能体\n",
    "- 反復不可能な型\n",
    "  - 公式にはこのような表現はない\n",
    "  - 反復処理できないような型はこれに該当"
   ]
  },
  {
   "cell_type": "markdown",
   "metadata": {},
   "source": [
    "### 0-4. データ構造"
   ]
  },
  {
   "cell_type": "markdown",
   "metadata": {},
   "source": [
    "#### 0-3-1. リスト"
   ]
  },
  {
   "cell_type": "markdown",
   "metadata": {},
   "source": [
    "#### 0-3-2. タプル"
   ]
  },
  {
   "cell_type": "code",
   "execution_count": null,
   "metadata": {},
   "outputs": [],
   "source": [
    "test = 'one',\n",
    "print(test)\n",
    "\n",
    "'''\n",
    "要素が一つのタプルを作るときは、最後にカンマを付けます。\n",
    "例えば引数にタプルが指定されている関数で、タプルの要素が一つしかない場合にカンマを付けます。\n",
    "'''"
   ]
  },
  {
   "cell_type": "markdown",
   "metadata": {},
   "source": [
    "#### 0-3-3. 辞書\n",
    "ディクショナリの基本構造\n",
    "\n",
    "```python\n",
    "変数 = {キー1: 値1, キー2: 値2, キー3: 値3, ・・・}\n",
    "```\n",
    "- 値の参照・更新は、キーを使用する\n",
    "- キーとそれに対応する値のペアの集合と考える\n",
    "- 文字列、数値、タプルといった**不変体**な値はキーとして指定できる\n",
    "- **可変体**であるリストはキーとして指定できない\n",
    "- 要素を更新した場合、処理タイミングにかかわらず要素の位置は変わらない\n",
    "- 「値 in ディクショナリ」のように、in演算子を使うことでキーの存在を確認できる\n",
    "- ディクショナリ内包表記\n",
    "  - {キーの式: 値の式 for 変数 in 反復可能体}"
   ]
  },
  {
   "cell_type": "code",
   "execution_count": 1,
   "metadata": {},
   "outputs": [
    {
     "name": "stdout",
     "output_type": "stream",
     "text": [
      "one 1\n",
      "two 2\n"
     ]
    }
   ],
   "source": [
    "#辞書のキーと値を同時に取得する場合は、items()メソッドを使います。\n",
    "#例えば以下のように記述すると「one 1」と「two 2」の結果が得られます。\n",
    "\n",
    "number = {'one': 1, 'two': 2}\n",
    "for k, v in number.items():\n",
    "    print(k, v)"
   ]
  },
  {
   "cell_type": "code",
   "execution_count": 20,
   "metadata": {},
   "outputs": [
    {
     "name": "stdout",
     "output_type": "stream",
     "text": [
      "{1: 1, 2: 4, 3: 9}\n"
     ]
    },
    {
     "data": {
      "text/plain": [
       "'\\n内容表記の構文は「変数を使った処理 for 変数 in イテラブルオブジェクト」です。\\nこの「変数を使った処理」の箇所で「:」を使い、全体を波括弧で囲うと辞書内包になります。\\n「:」を使わず、「{x**2 for x in (1, 2, 3)}」と記述すると集合内包になり、選択肢3の結果になります。\\n'"
      ]
     },
     "execution_count": 20,
     "metadata": {},
     "output_type": "execute_result"
    }
   ],
   "source": [
    "# 集合内包\n",
    "a = {x: x**2 for x in (1, 2, 3)}\n",
    "\n",
    "print(a)\n",
    "\n",
    "'''\n",
    "内容表記の構文は「変数を使った処理 for 変数 in イテラブルオブジェクト」です\n",
    "この「変数を使った処理」の箇所で「:」を使い、全体を波括弧で囲うと辞書内包になります\n",
    "「:」を使わず、「{x**2 for x in (1, 2, 3)}」と記述すると集合内包になりる\n",
    "'''"
   ]
  },
  {
   "cell_type": "markdown",
   "metadata": {},
   "source": [
    "#### 0-3-4. キュー\n",
    "1. リストでの処理\n",
    "   - 複数の値を扱えるデータ構造の1つ\n",
    "   - リストと異なるのは、要素を挿入すると末尾に追加され、取り出すときは先頭から削除される\n",
    "   - リストをキューとして扱うには、append()とpop()を使用する\n",
    "     - append(要素)で末尾に要素を追加し、pop(0)で先頭の要素を削除する0は先頭のインデックス\n",
    "2.  外部モジュールを使用した処理\n",
    "    - collections.dequeによるキューのように扱えるデータ構造\n",
    "    - リストで扱う操作をappend(要素)とpopleft()で実行する \n"
   ]
  },
  {
   "cell_type": "markdown",
   "metadata": {},
   "source": [
    "#### 0-3-5. セット\n",
    "1. 集合を扱うデータ型\n",
    "   - 要素を重複しないように保持する\n",
    "   - 2つのset同士で、和集合や差集合といった集合演算を行える\n",
    "   - setはset()関数によって定義される\n",
    "   - set()関数の引数はリストやタプルといった反復可能体\n",
    "   - add()メソッドでも要素を追加できるが、追加した順序を保持しない\n",
    "   - 要素を取り出すときの順序も、実行のたびに同じになるとは限らない\n",
    "2. 集合演算\n",
    "   - 和集合「|」\n",
    "   - 差集合「-」\n",
    "   - 積集合「&」\n",
    "   - 対象差「^」"
   ]
  },
  {
   "cell_type": "code",
   "execution_count": 11,
   "metadata": {},
   "outputs": [
    {
     "name": "stdout",
     "output_type": "stream",
     "text": [
      "{'d', 'r', 'b'}\n"
     ]
    }
   ],
   "source": [
    "# b, d, rが表示されるようにするには？\n",
    "\n",
    "s1 = set(\"abracadabra\")\n",
    "s2 = set(\"alacazam\")\n",
    "print(s1 - s2)"
   ]
  },
  {
   "cell_type": "code",
   "execution_count": 12,
   "metadata": {},
   "outputs": [
    {
     "name": "stdout",
     "output_type": "stream",
     "text": [
      "和集合_1: {'banana', 'peach', 'strawberry', 'apple'}\n",
      "和集合_2: {'banana', 'peach', 'strawberry', 'apple'}\n"
     ]
    }
   ],
   "source": [
    "# 例和集合を求める\n",
    "s1 = {\"apple\", \"banana\", \"peach\"}\n",
    "s2 = {\"strawberry\", \"apple\", \"peach\"}\n",
    "\n",
    "# 演算子で和集合を求める\n",
    "union_1 = s1|s2\n",
    "print(f\"union_1: {union_1}\")\n",
    "\n",
    "# メソッドで和集合を求める\n",
    "union_2 = s1.union(s2)\n",
    "print(f\"union_2: {union_2}\")"
   ]
  },
  {
   "cell_type": "markdown",
   "metadata": {},
   "source": [
    "### モジュール\n",
    "以下のルールについて\n",
    "\n",
    "```python\n",
    "if __name__ == \"__main__\":\n",
    "```\n",
    "\n",
    "```python\n",
    "__init__.py\n",
    "```"
   ]
  },
  {
   "cell_type": "markdown",
   "metadata": {},
   "source": [
    "## 1. 順次"
   ]
  },
  {
   "cell_type": "markdown",
   "metadata": {},
   "source": [
    "### 1-2. 組み込み関数"
   ]
  },
  {
   "cell_type": "markdown",
   "metadata": {},
   "source": [
    "組込み関数とメソッドの違い\n",
    "- 組込み関数\n",
    "    - 独立して呼び出せる\n",
    "    - len(引数), print(引数)\n",
    "- メソッド\n",
    "    - 変数（オブジェクト）に属しており、変数を通して呼び出す\n",
    "    - 変数名.pop(引数), 変数名.items(引数)\n",
    "    - この資格は、.pop().append()がよく使われる"
   ]
  },
  {
   "cell_type": "code",
   "execution_count": 4,
   "metadata": {},
   "outputs": [
    {
     "name": "stdout",
     "output_type": "stream",
     "text": [
      "3\n",
      "[1, 2, 4]\n"
     ]
    }
   ],
   "source": [
    "# pop()メソッド\n",
    "# リストの要素を削除し、削除した要素を出力\n",
    "num = [1, 2, 3, 4]\n",
    "print(num.pop(2))\n",
    "\n",
    "# 特定の要素を削除し、リストを出力\n",
    "num = [1, 2, 3, 4]\n",
    "num.pop(2)\n",
    "print(num)"
   ]
  },
  {
   "cell_type": "code",
   "execution_count": null,
   "metadata": {},
   "outputs": [],
   "source": [
    "# del関数\n",
    "# num変数は削除されるのでエラーになる\n",
    "num = [1, 2, 3]\n",
    "del num\n",
    "print(num)"
   ]
  },
  {
   "cell_type": "markdown",
   "metadata": {},
   "source": [
    "## 2.分岐"
   ]
  },
  {
   "cell_type": "code",
   "execution_count": 1,
   "metadata": {},
   "outputs": [],
   "source": [
    "# if文の基本構造\n"
   ]
  },
  {
   "cell_type": "code",
   "execution_count": 2,
   "metadata": {},
   "outputs": [
    {
     "name": "stdout",
     "output_type": "stream",
     "text": [
      "a\n",
      "b\n",
      "e\n"
     ]
    },
    {
     "data": {
      "text/plain": [
       "'\\nネストされたif文は、条件を満たす限り次のif節に進んで処理が実行されます。\\n条件が満たされなかった時点でif文を抜けます。\\n問題文の場合、「if x > 10」がFalseになるためcとdは処理されず、eに進みます。\\n'"
      ]
     },
     "execution_count": 2,
     "metadata": {},
     "output_type": "execute_result"
    }
   ],
   "source": [
    "# ネストしたif文\n",
    "x = 10\n",
    "\n",
    "if x == 10:\n",
    "    print('a')\n",
    "    if x <= 10:\n",
    "        print('b')\n",
    "        if x > 10:\n",
    "            print('c')\n",
    "            if x >= 10:\n",
    "                print('d')\n",
    "\n",
    "print('e')\n",
    "\n",
    "'''\n",
    "ネストされたif文は、条件を満たす限り次のif節に進んで処理が実行される\n",
    "条件が満たされなかった時点でif文を抜ける\n",
    "「if x > 10」がFalseになるためc、dは処理されず、eに進む\n",
    "'''"
   ]
  },
  {
   "cell_type": "markdown",
   "metadata": {},
   "source": [
    "## 3. 繰り返し"
   ]
  },
  {
   "cell_type": "markdown",
   "metadata": {},
   "source": [
    "### 3-1. while文"
   ]
  },
  {
   "cell_type": "code",
   "execution_count": null,
   "metadata": {},
   "outputs": [],
   "source": [
    "# while文の基本構造"
   ]
  },
  {
   "cell_type": "code",
   "execution_count": 3,
   "metadata": {},
   "outputs": [
    {
     "name": "stdout",
     "output_type": "stream",
     "text": [
      "[4, 3, 2, 1]\n"
     ]
    },
    {
     "data": {
      "text/plain": [
       "'\\nstack.pop()はstackの最後の要素を削除し、data.append()はその要素をdataの最後に追加する\\nこれを4回実行するとstackが空になり、while文を抜けて終了\\n削除した要素が末尾に追加される処理が繰り返されるため、結果的にdataは[4, 3, 2, 1]となる\\n'"
      ]
     },
     "execution_count": 3,
     "metadata": {},
     "output_type": "execute_result"
    }
   ],
   "source": [
    "# スタックによるデータの削除と追加\n",
    "stack = [1, 2, 3, 4]\n",
    "data = []\n",
    "while stack:\n",
    "    data.append(stack.pop())\n",
    "print(data)\n",
    "\n",
    "'''\n",
    "stack.pop()はstackの最後の要素を削除し、data.append()はその要素をdataの最後に追加する\n",
    "これを4回実行するとstackが空になり、while文を抜けて終了\n",
    "削除した要素が末尾に追加される処理が繰り返されるため、結果的にdataは[4, 3, 2, 1]となる\n",
    "'''\n"
   ]
  },
  {
   "cell_type": "markdown",
   "metadata": {},
   "source": [
    "### 3-2. for文"
   ]
  },
  {
   "cell_type": "code",
   "execution_count": null,
   "metadata": {},
   "outputs": [],
   "source": [
    "# for文の基本構造\n",
    "'''\n",
    "for 変数 in リスト:\n",
    "    繰り返し処理\n",
    "'''\n"
   ]
  },
  {
   "cell_type": "code",
   "execution_count": 12,
   "metadata": {},
   "outputs": [
    {
     "name": "stdout",
     "output_type": "stream",
     "text": [
      "[0, 1, 2, 3]\n",
      "[0, 1, 2, 3]\n",
      "[1, 2, 3]\n",
      "[1, 3, 5, 7]\n"
     ]
    }
   ],
   "source": [
    "# 決まった回数の繰り返し\n",
    "'''\n",
    "for 変数 in range(n):\n",
    "    繰り返し処理\n",
    "\n",
    "range()関数は、整数を繰り返すオブジェクトを返す関数\n",
    "返り値として連続値や等差数列を取得する\n",
    "range(stop)\n",
    "range(start, stop)\n",
    "range(start, stop, step)\n",
    "'''\n",
    "# 4回繰り返される記述の書き始めとして誤っているものはどれ？\n",
    "print([w for w in range(4)])\n",
    "print([x for x in range(0, 4)])\n",
    "print([y for y in range(1, 4)])\n",
    "print([z for z in range(1, 8, 2)])"
   ]
  },
  {
   "cell_type": "code",
   "execution_count": 3,
   "metadata": {},
   "outputs": [
    {
     "name": "stdout",
     "output_type": "stream",
     "text": [
      "apple\n",
      "coffee\n",
      "tea\n",
      "banana\n",
      "coffee\n",
      "tea\n"
     ]
    },
    {
     "data": {
      "text/plain": [
       "'\\n最初のfor文で要素を一つ取り出した後、次の階層のfor文に進んで要素を一つずつ全て取り出す\\n（appleを取り出した後、coffeeとteaを取り出す）\\nその後に最初のfor文に戻って二つ目の要素を取り出し、次の階層のfor文に進んで要素を一つずつ全て取り出す。\\n（bananaを取り出した後、coffeeとteaを取り出す）\\n'"
      ]
     },
     "execution_count": 3,
     "metadata": {},
     "output_type": "execute_result"
    }
   ],
   "source": [
    "# ネストしたfor文\n",
    "fruits = ['apple', 'banana']\n",
    "drinks = ['coffee', 'tea']\n",
    "\n",
    "for fruit in fruits:\n",
    "    print(fruit)\n",
    "    for drink in drinks:\n",
    "        print(drink)\n",
    "\n",
    "'''\n",
    "最初のfor文で要素を一つ取り出した後、次の階層のfor文に進んで要素を一つずつ全て取り出す\n",
    "（appleを取り出した後、coffeeとteaを取り出す）\n",
    "その後に最初のfor文に戻って二つ目の要素を取り出し、次の階層のfor文に進んで要素を一つずつ全て取り出す。\n",
    "（bananaを取り出した後、coffeeとteaを取り出す）\n",
    "'''"
   ]
  },
  {
   "cell_type": "code",
   "execution_count": 6,
   "metadata": {},
   "outputs": [
    {
     "name": "stdout",
     "output_type": "stream",
     "text": [
      "[0, 1, 4]\n",
      "[0, 1, 4]\n"
     ]
    },
    {
     "data": {
      "text/plain": [
       "''"
      ]
     },
     "execution_count": 6,
     "metadata": {},
     "output_type": "execute_result"
    }
   ],
   "source": [
    "# リスト内包表記\n",
    "area = [x ** 2 for x in range(3)]\n",
    "print(area)\n",
    "\n",
    "# for文の形に直す\n",
    "area = []\n",
    "for x in range(3):\n",
    "    area.append(x ** 2)\n",
    "print(area)\n",
    "\n",
    "'''\n",
    "リスト内包表記の形は、[式 for 変数 in リスト]\n",
    "より正確には、[式 for 任意の変数名 in イテラブルオブジェクト]\n",
    "問題文の場合は「0、1、2」のイテラブルオブジェクトに対して、x ** 2の計算を一つずつ式の処理を加えた後、結果をリストで返す\n",
    "'''"
   ]
  },
  {
   "cell_type": "code",
   "execution_count": null,
   "metadata": {},
   "outputs": [
    {
     "name": "stdout",
     "output_type": "stream",
     "text": [
      "[(1, 2), (2, 1), (3, 1), (3, 2)]\n",
      "[(1, 2), (2, 1), (3, 1), (3, 2)]\n"
     ]
    },
    {
     "data": {
      "text/plain": [
       "'\\n\\n'"
      ]
     },
     "execution_count": 6,
     "metadata": {},
     "output_type": "execute_result"
    }
   ],
   "source": [
    "# リスト内包記-2\n",
    "data = []\n",
    "for i in [1, 2, 3]:\n",
    "    for j in [1, 2]:\n",
    "        if i != j:\n",
    "            data.append((i,j))\n",
    "print(data)\n",
    "\n",
    "# リスト内包表記で記述する場合\n",
    "print([(i, j) for i in [1, 2, 3] for j in [1, 2] if i != j])\n",
    "\n",
    "'''\n",
    "このコードは、「「2つの数値の組み合わせを作るが、同じ値同士は除き、値が異なるペアだけをリストに追加していく」処理です。\n",
    "最初に空のリスト data を作っておきます。\n",
    "次に、外側のループで i に 1, 2, 3 の順に代入していきます。\n",
    "そのたびに、内側のループで j に 1, 2 を代入して試します。\n",
    "ただし、i と j が同じ値の場合は、その組み合わせをスキップします（i != j という条件）。\n",
    "条件を満たす (i, j) というペアを data リストに追加していきます。\n",
    "最後に、できあがったペアの一覧を出力します。\n",
    "このようにして作られる data には、「i と j が異なるすべての組み合わせ」が入ります。\n",
    "'''"
   ]
  },
  {
   "cell_type": "code",
   "execution_count": 3,
   "metadata": {},
   "outputs": [
    {
     "name": "stdout",
     "output_type": "stream",
     "text": [
      "['b.jpeg', 'd.jpeg']\n"
     ]
    }
   ],
   "source": [
    "# リスト内包記-3\n",
    "file1 = ['a.txt', 'b.jpeg', 'c.txt', 'd.jpeg']\n",
    "\n",
    "file2 = [s for s in file1 if \".txt\" not in s]\n",
    "\n",
    "print(file2)"
   ]
  },
  {
   "cell_type": "markdown",
   "metadata": {},
   "source": [
    "### 3-3. 繰り返しの制御"
   ]
  },
  {
   "cell_type": "code",
   "execution_count": 7,
   "metadata": {},
   "outputs": [
    {
     "name": "stdout",
     "output_type": "stream",
     "text": [
      "0\n",
      "1\n",
      "3\n"
     ]
    },
    {
     "data": {
      "text/plain": [
       "'\\ncontinueはループを飛ばして次の反復に進みます。\\n0、1の後、2を飛ばして（if i == 2:とあるため）3に進みます。\\n'"
      ]
     },
     "execution_count": 7,
     "metadata": {},
     "output_type": "execute_result"
    }
   ],
   "source": [
    "# 繰り返しのスキップ：continue文\n",
    "for i in range(4):\n",
    "    if i == 2:\n",
    "        continue\n",
    "    print(i)\n",
    "\n",
    "'''\n",
    "continueは最初の一文のループを飛ばして次のリープに進みます。\n",
    "0、1の後、2を飛ばして（if i == 2:とあるため）3に進みます。\n",
    "'''"
   ]
  },
  {
   "cell_type": "code",
   "execution_count": 6,
   "metadata": {},
   "outputs": [
    {
     "name": "stdout",
     "output_type": "stream",
     "text": [
      "a\n"
     ]
    },
    {
     "data": {
      "text/plain": [
       "'\\nbreakは最も内側のfor文またはwhile文のループを終了します。\\n「a」がprintされた後、breakでfor文が終了する\\n'"
      ]
     },
     "execution_count": 6,
     "metadata": {},
     "output_type": "execute_result"
    }
   ],
   "source": [
    "# 繰り返しの強制終了：break文\n",
    "for v in ['a', 'b', 'c']:\n",
    "    print(v)\n",
    "    break\n",
    "\n",
    "'''\n",
    "breakは最も内側のfor文またはwhile文のループを終了\n",
    "「a」がprintされた後、breakでfor文が終了\n",
    "'''"
   ]
  },
  {
   "cell_type": "code",
   "execution_count": 1,
   "metadata": {},
   "outputs": [
    {
     "name": "stdout",
     "output_type": "stream",
     "text": [
      "1\n",
      "a\n",
      "2\n",
      "a\n"
     ]
    }
   ],
   "source": [
    "for i in range(3):\n",
    "    if i == 0:\n",
    "        continue\n",
    "    print(i)\n",
    "    for v in ['a', 'b', 'c']:\n",
    "        print(v)\n",
    "        break"
   ]
  },
  {
   "cell_type": "code",
   "execution_count": 1,
   "metadata": {},
   "outputs": [
    {
     "name": "stdout",
     "output_type": "stream",
     "text": [
      "pine\n",
      "apple\n",
      "pen\n"
     ]
    }
   ],
   "source": [
    "words = ['pine', 'apple', 'pen']\n",
    "for word in words:\n",
    "    print(word)\n",
    "\n",
    "'''\n",
    "wordsの中の要素を一つずつ取り出し、変数wordに格納してprint文を実行します。\n",
    "wordsの中の要素をすべて取り出すとfor文のループが終了します。\n",
    "3行目を「print(words)」にすると、リスト自体をprintする。\n",
    "'''"
   ]
  },
  {
   "cell_type": "code",
   "execution_count": 14,
   "metadata": {},
   "outputs": [
    {
     "name": "stdout",
     "output_type": "stream",
     "text": [
      "R\n"
     ]
    },
    {
     "data": {
      "text/plain": [
       "'\\nfor文と組み合わせることで、リストや文字列などの反復可能体からインデックスと要素を同時に取得できる\\n反復可能体とは、for文による繰り返しが可能なもの（リスト、タプル、ディクショナリ、文字列などのデータ型）を指す\\n'"
      ]
     },
     "execution_count": 14,
     "metadata": {},
     "output_type": "execute_result"
    }
   ],
   "source": [
    "# enumerate()関数\n",
    "for i, c in enumerate(\"WORD\"):\n",
    "    if i == 2:\n",
    "        print(c)\n",
    "\n",
    "'''\n",
    "for文と組み合わせることで、リストや文字列などの反復可能体からインデックスと要素を同時に取得できる\n",
    "反復可能体とは、for文による繰り返しが可能なもの（リスト、タプル、ディクショナリ、文字列などのデータ型）を指す\n",
    "'''"
   ]
  },
  {
   "cell_type": "code",
   "execution_count": 16,
   "metadata": {},
   "outputs": [
    {
     "name": "stdout",
     "output_type": "stream",
     "text": [
      "a\n",
      "bb\n",
      "ccc\n"
     ]
    },
    {
     "data": {
      "text/plain": [
       "'\\n複数の反復可能体から並列で要素を習得できる\\nc*nは、文字列のn倍としている\\n'"
      ]
     },
     "execution_count": 16,
     "metadata": {},
     "output_type": "execute_result"
    }
   ],
   "source": [
    "# zip()関数\n",
    "for n, c in zip([1, 2, 3], [\"a\", \"b\", \"c\"]):\n",
    "    print(c*n)\n",
    "\n",
    "'''\n",
    "複数の反復可能体から並列で要素を習得できる\n",
    "forループの中でn, cは、順に「1と\"1\"」「2と\"2\"」「3と\"3\"」になる\n",
    "最後にprintで、c*nは文字列のn倍としている\n",
    "'''"
   ]
  },
  {
   "cell_type": "markdown",
   "metadata": {},
   "source": [
    "## 4. 関数"
   ]
  },
  {
   "cell_type": "markdown",
   "metadata": {},
   "source": [
    "### 4-1. def文\n",
    "#### 基本構造\n",
    "```python\n",
    "def 関数名（引数＝デフォルト値）:\n",
    "    処理\n",
    "```\n",
    "- デフォルト引数\n",
    "  - 引数にはデフォルト値が設定されている。関数の実行時に引数を与えていなくても、デフォルト値が関数の中で使われる\n",
    "  - デフォルト値は、関数が定義された時点で評価され、関数の実行時に再評価はされない\n",
    "  - デフォルト値が定義されていないまま関数を実行した場合は、関数を定義した後に代入すことができる\n",
    "\n",
    "- 仮引数と実引数\n",
    "  - 関数に定義する引数のことを「仮引数」\n",
    "  - 関数に呼び出される引数のことを「実引数」\n",
    "  - *が先頭についた仮引数には、指定済みの実引数を除く位置引数のタプルが入る\n",
    "  - **が先頭についた仮引数には、指定済みの実引数を除くキーワード引数のディクショナリが入る\n",
    "\n",
    "\n"
   ]
  },
  {
   "cell_type": "code",
   "execution_count": 18,
   "metadata": {},
   "outputs": [
    {
     "name": "stdout",
     "output_type": "stream",
     "text": [
      "こんにちは、太郎さん。25歳ですね。\n"
     ]
    }
   ],
   "source": [
    "# 位置引数を使った記述方法\n",
    "# 引数を「順番」で関数に渡す方法です。定義された引数の順番どおりに値を渡す必要があります\n",
    "\n",
    "def greet(name, age):\n",
    "    print(f\"こんにちは、{name}さん。{age}歳ですね。\")\n",
    "\n",
    "greet(\"太郎\", 25)  # 必ず順番通りに渡す\n"
   ]
  },
  {
   "cell_type": "code",
   "execution_count": 17,
   "metadata": {},
   "outputs": [
    {
     "name": "stdout",
     "output_type": "stream",
     "text": [
      "こんにちは、花子さん。30歳ですね。\n"
     ]
    }
   ],
   "source": [
    "# キーワード引数を使った記述方法\n",
    "# 引数名を指定して値を渡す方法です。順番は関係ありません\n",
    "\n",
    "def greet(name, age):\n",
    "    print(f\"こんにちは、{name}さん。{age}歳ですね。\")\n",
    "    \n",
    "greet(age=30, name=\"花子\")  # 順番を入れ替えてもOK\n"
   ]
  },
  {
   "cell_type": "code",
   "execution_count": 11,
   "metadata": {},
   "outputs": [
    {
     "name": "stdout",
     "output_type": "stream",
     "text": [
      "one 1\n",
      "two 2\n"
     ]
    }
   ],
   "source": [
    "# キーワード引数を使った記述方法-2\n",
    "number = {'one': 1, 'two': 2}\n",
    "for k, v in number.items():\n",
    "    print(k, v)"
   ]
  },
  {
   "cell_type": "code",
   "execution_count": 16,
   "metadata": {},
   "outputs": [
    {
     "name": "stdout",
     "output_type": "stream",
     "text": [
      "佐藤さんは日本出身で、40歳です。\n"
     ]
    }
   ],
   "source": [
    "# 位置引数とキーワード引数を組み合わせて使った記述方法\n",
    "# 位置引数はキーワード引数よりも前に書く必要があります。\n",
    "\n",
    "def introduce(name, country, age):\n",
    "    print(f\"{name}さんは{country}出身で、{age}歳です。\")\n",
    "\n",
    "introduce(\"佐藤\", country=\"日本\", age=40)  # nameは位置引数、それ以外はキーワード引数\n"
   ]
  },
  {
   "cell_type": "code",
   "execution_count": 2,
   "metadata": {},
   "outputs": [
    {
     "name": "stdout",
     "output_type": "stream",
     "text": [
      "1 2 3\n"
     ]
    }
   ],
   "source": [
    "# 位置引数とキーワード引数の別の書き方\n",
    "\n",
    "def job(pos, /, arg, *, kwarg):\n",
    "    print(pos, arg, kwarg)\n",
    "\n",
    "job(1, arg=2, kwarg=3)"
   ]
  },
  {
   "cell_type": "markdown",
   "metadata": {},
   "source": [
    "### 4-2. 戻り値"
   ]
  },
  {
   "cell_type": "code",
   "execution_count": 7,
   "metadata": {},
   "outputs": [
    {
     "name": "stdout",
     "output_type": "stream",
     "text": [
      "None\n"
     ]
    }
   ],
   "source": [
    "# 戻り値がないとNoneが返される（エラーではない）\n",
    "def job(arg):\n",
    "    answer = arg + 1\n",
    "    #return answer\n",
    "print(job(1))"
   ]
  },
  {
   "cell_type": "markdown",
   "metadata": {},
   "source": [
    "### 4-3. lambda式"
   ]
  },
  {
   "cell_type": "markdown",
   "metadata": {},
   "source": [
    "#### 基本構造\n",
    "```python\n",
    "lambda 引数: 式\n",
    "```\n",
    "- lambda式\n",
    "  - 無名関数と呼ばれる種類の関数（Pythonではラムダ式のみ）\n",
    "  - 単一式しか持てない\n"
   ]
  },
  {
   "cell_type": "code",
   "execution_count": 21,
   "metadata": {},
   "outputs": [
    {
     "name": "stdout",
     "output_type": "stream",
     "text": [
      "3 2\n"
     ]
    }
   ],
   "source": [
    "# lambda式\n",
    "func = lambda a, b: (b + 1, a * 2)\n",
    "x, y = 1, 2\n",
    "x, y = func(x, y)\n",
    "print(x, y)"
   ]
  },
  {
   "cell_type": "markdown",
   "metadata": {},
   "source": [
    "## 5. 例外処理"
   ]
  },
  {
   "cell_type": "code",
   "execution_count": 12,
   "metadata": {},
   "outputs": [
    {
     "name": "stdout",
     "output_type": "stream",
     "text": [
      "IndexError\n"
     ]
    }
   ],
   "source": [
    "list = []\n",
    "\n",
    "try:\n",
    "    number = list[-1]\n",
    "    print(number)\n",
    "except ZeroDivisionError:\n",
    "    print('ZeroDivisionError')\n",
    "except IndexError:\n",
    "    print('IndexError')"
   ]
  },
  {
   "cell_type": "markdown",
   "metadata": {},
   "source": [
    "### クリーンアップ動作"
   ]
  },
  {
   "cell_type": "markdown",
   "metadata": {},
   "source": [
    "## クラス"
   ]
  },
  {
   "cell_type": "code",
   "execution_count": 8,
   "metadata": {},
   "outputs": [],
   "source": [
    "# クラスの基本構文"
   ]
  },
  {
   "cell_type": "code",
   "execution_count": 9,
   "metadata": {},
   "outputs": [
    {
     "name": "stdout",
     "output_type": "stream",
     "text": [
      "Hello\n"
     ]
    },
    {
     "data": {
      "text/plain": [
       "'\\nクラスにメソッドを定義する場合、メソッドの第一引数でインスタンス自身（問題文ではsample）を受け取る必要があります。\\nそのため、以下のように二行目を「def say(self):」とすることで、sayメソッドが実行されて「Hello」が表示されます。\\nなお、メソッドの第一引数の名前は慣習で「self」を使います。\\n'"
      ]
     },
     "execution_count": 9,
     "metadata": {},
     "output_type": "execute_result"
    }
   ],
   "source": [
    "class Greet():\n",
    "    def say(self): \n",
    "    #【3】 selfでsampleを受け取る\n",
    "        print('Hello')\n",
    "        #【4】 print文を実行\n",
    "\n",
    "sample = Greet()\n",
    "#【1】 クラスをインスタンス化\n",
    "\n",
    "sample.say()\n",
    "#【2】 sayメソッドを実行\n",
    "\n",
    "'''\n",
    "クラスにメソッドを定義する場合、メソッドの第一引数でインスタンス自身（問題文ではsample）を受け取る必要があります。\n",
    "そのため、以下のように二行目を「def say(self):」とすることで、sayメソッドが実行されて「Hello」が表示されます。\n",
    "なお、メソッドの第一引数の名前は慣習で「self」を使います。\n",
    "'''"
   ]
  },
  {
   "cell_type": "markdown",
   "metadata": {},
   "source": [
    "#### クラスの継承"
   ]
  },
  {
   "cell_type": "markdown",
   "metadata": {},
   "source": [
    "## エラーの種類"
   ]
  },
  {
   "cell_type": "markdown",
   "metadata": {},
   "source": [
    "- Pythonのエラーは2種類に分かれる\n",
    "\n",
    "    - **構文エラー：SyntaxError**\n",
    "        - コードを実行するときに構文をチェックして問題があった場合に発生\n",
    "            - IndentationError\n",
    "\n",
    "    - **例外：Exception**\n",
    "        - 構文としては正しくても実行すると問題になるエラー\n",
    "        - 例外はtry文で判定して例外処理を続行させることができる\n",
    "            - ZeroDivisionError\n",
    "            - NameError\n",
    "            - IndexError\n",
    "            - TypeError\n",
    "            - AttributeErrorなど\n",
    "\n",
    "\n",
    "\n",
    "\n",
    "- loggingモジュールのメッセージを、深刻度の低い順に並べると\n",
    "    - 深刻度の低い順に並べる\n",
    "        - DEBUG、INFO、WARNING、ERROR、CRITICAL\n",
    "\n",
    "    - DEBUGとINFO、WARNINGとERRORの順番が紛らわしいですが、「DEBUGは開発時のデバッグだけで使用するもの」、「WARNINGはエラーになる前の警告」と考えると覚えやすいです\n"
   ]
  }
 ],
 "metadata": {
  "kernelspec": {
   "display_name": "base",
   "language": "python",
   "name": "python3"
  },
  "language_info": {
   "codemirror_mode": {
    "name": "ipython",
    "version": 3
   },
   "file_extension": ".py",
   "mimetype": "text/x-python",
   "name": "python",
   "nbconvert_exporter": "python",
   "pygments_lexer": "ipython3",
   "version": "3.12.7"
  }
 },
 "nbformat": 4,
 "nbformat_minor": 2
}

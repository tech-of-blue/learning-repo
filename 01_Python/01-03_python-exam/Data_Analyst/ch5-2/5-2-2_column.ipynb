{
 "cells": [
  {
   "cell_type": "markdown",
   "id": "4c8760c7-1b22-4d62-b01c-c49936ba3bf5",
   "metadata": {},
   "source": [
    "### Janome"
   ]
  },
  {
   "cell_type": "markdown",
   "id": "a8353af4-40e5-4e11-a525-ce3856c856b3",
   "metadata": {},
   "source": [
    "https://janome.mocobeta.dev/ja/"
   ]
  },
  {
   "cell_type": "code",
   "execution_count": 1,
   "id": "d8437ffd-b359-42dc-8929-dbaae799eb71",
   "metadata": {},
   "outputs": [],
   "source": [
    "from janome.tokenizer import Tokenizer\n",
    "t = Tokenizer()\n",
    "tokens = t.tokenize(\"子供が走る\")"
   ]
  },
  {
   "cell_type": "code",
   "execution_count": 2,
   "id": "aa93a622-4874-40b5-8252-af2da30e5057",
   "metadata": {},
   "outputs": [
    {
     "name": "stdout",
     "output_type": "stream",
     "text": [
      "子供\t名詞,一般,*,*,*,*,子供,コドモ,コドモ\n",
      "が\t助詞,格助詞,一般,*,*,*,が,ガ,ガ\n",
      "走る\t動詞,自立,*,*,五段・ラ行,基本形,走る,ハシル,ハシル\n"
     ]
    }
   ],
   "source": [
    "for token in tokens:\n",
    "    print(token)"
   ]
  },
  {
   "cell_type": "markdown",
   "id": "5f63d66a-ad55-40dd-8cea-d3cb6042fd98",
   "metadata": {},
   "source": [
    "### SudachiPy"
   ]
  },
  {
   "cell_type": "markdown",
   "id": "9e5f4a69-4640-4073-9c98-dc5f70b9c71a",
   "metadata": {},
   "source": [
    "https://github.com/WorksApplications/sudachi.rs"
   ]
  },
  {
   "cell_type": "code",
   "execution_count": 3,
   "id": "4b08f6e9-abd3-470a-b6a1-59ef284117aa",
   "metadata": {},
   "outputs": [],
   "source": [
    "from sudachipy import Dictionary\n",
    "tokenizer = Dictionary().create()\n",
    "tokens = tokenizer.tokenize(\"子供が走る\")"
   ]
  },
  {
   "cell_type": "code",
   "execution_count": 4,
   "id": "5e8f265a-29da-4dcd-8cfa-5bbb2954353a",
   "metadata": {},
   "outputs": [
    {
     "name": "stdout",
     "output_type": "stream",
     "text": [
      "子供 ('名詞', '普通名詞', '一般', '*', '*', '*')\n",
      "が ('助詞', '格助詞', '*', '*', '*', '*')\n",
      "走る ('動詞', '一般', '*', '*', '五段-ラ行', '終止形-一般')\n"
     ]
    }
   ],
   "source": [
    "for token in tokens:\n",
    "    print(token, token.part_of_speech())"
   ]
  },
  {
   "cell_type": "code",
   "execution_count": null,
   "id": "a5c217bf-613d-44ce-9b6d-498f271c81ae",
   "metadata": {},
   "outputs": [],
   "source": []
  }
 ],
 "metadata": {
  "kernelspec": {
   "display_name": "Python 3 (ipykernel)",
   "language": "python",
   "name": "python3"
  },
  "language_info": {
   "codemirror_mode": {
    "name": "ipython",
    "version": 3
   },
   "file_extension": ".py",
   "mimetype": "text/x-python",
   "name": "python",
   "nbconvert_exporter": "python",
   "pygments_lexer": "ipython3",
   "version": "3.13.2"
  }
 },
 "nbformat": 4,
 "nbformat_minor": 5
}

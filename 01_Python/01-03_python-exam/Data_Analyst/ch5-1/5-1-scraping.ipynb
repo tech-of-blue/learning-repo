{
 "cells": [
  {
   "cell_type": "markdown",
   "metadata": {},
   "source": [
    "# 5-1 スクレイピング\n",
    "\n",
    "* インストール\n",
    "\n",
    "```\n",
    "(pydataenv) $ pip install requests==2.32.3\n",
    "(pydataenv) $ pip install beautifulsoup4==4.12.3\n",
    "```\n",
    "\n",
    "* Requests\n",
    "  * 公式サイト: https://requests.readthedocs.io/\n",
    "* BeautifulSoup4\n",
    "  * 公式サイト: https://www.crummy.com/software/BeautifulSoup/bs4/doc/"
   ]
  },
  {
   "cell_type": "code",
   "execution_count": 1,
   "metadata": {},
   "outputs": [
    {
     "name": "stdout",
     "output_type": "stream",
     "text": [
      "<class 'requests.models.Response'>\n",
      "200\n"
     ]
    }
   ],
   "source": [
    "import requests\n",
    "\n",
    "r = requests.get(\"https://www.seshop.com/\")  # URLにアクセス\n",
    "print(type(r))\n",
    "print(r.status_code) # ステータスコードを確認"
   ]
  },
  {
   "cell_type": "code",
   "execution_count": 2,
   "metadata": {},
   "outputs": [
    {
     "name": "stdout",
     "output_type": "stream",
     "text": [
      "<title>SEshop｜ 翔泳社の本・電子書籍通販サイト</title>\n",
      "<h2>書籍ランキング <span class=\"pull-right\"><a href=\"/ranking/1\"><span class=\"glyphicon glyphicon-chevron-right\"></span> もっと見る</a></span></h2>\n",
      "<h2>電子書籍ランキング<span class=\"pull-right\"><a href=\"/ranking/327/\"><span class=\"glyphicon glyphicon-chevron-right\"></span> もっと見る</a></span></h2>\n",
      "<h2>予約ランキング</h2>\n",
      "<h2>新刊案内</h2>\n",
      "<h2>SEshop限定　紙書籍と電子書籍のセット商品</h2>\n",
      "<h2>商品カテゴリー</h2>\n",
      "<h2>人気商品ランキング</h2>\n",
      "<h2>キャンペーン・特集</h2>\n"
     ]
    }
   ],
   "source": [
    "text = r.text  # HTMLのソースコードを取得する\n",
    "for line in text.split(\"\\n\"):\n",
    "    if \"<title>\" in line or \"<h2>\" in line:\n",
    "        print(line.strip())"
   ]
  },
  {
   "cell_type": "code",
   "execution_count": 3,
   "metadata": {},
   "outputs": [
    {
     "name": "stdout",
     "output_type": "stream",
     "text": [
      "<title>SEshop｜ 翔泳社の本・電子書籍通販サイト</title>\n",
      "<h2>書籍ランキング <span class=\"pull-right\"><a href=\"/ranking/1\"><span class=\"glyphicon glyphicon-chevron-right\"></span> もっと見る</a></span></h2>\n",
      "/ranking/1\n"
     ]
    }
   ],
   "source": [
    "from bs4 import BeautifulSoup\n",
    "\n",
    "# HTMLを解析したBeautifulSoupオブジェクトを生成\n",
    "soup = BeautifulSoup(text, \"html.parser\")\n",
    "print(soup.title)  # <title> タグの情報を取得\n",
    "print(soup.h2)  # <h2> タグの情報を取得\n",
    "# h2タグの中のaタグのhref属性\n",
    "print(soup.h2.a[\"href\"])"
   ]
  },
  {
   "cell_type": "code",
   "execution_count": 4,
   "metadata": {},
   "outputs": [
    {
     "name": "stdout",
     "output_type": "stream",
     "text": [
      "aタグの数: 234\n",
      "タイトル:  ヘルプ\n",
      "リンク: /help\n",
      "タイトル:  法人のお客様へ\n",
      "リンク: /campaign/corp\n",
      "タイトル:  新規会員登録\n",
      "リンク: https://www.seshop.com/regist/\n",
      "タイトル:  ログイン\n",
      "リンク: #modalLogin\n",
      "タイトル: \n",
      "リンク: /\n"
     ]
    }
   ],
   "source": [
    "atags = soup.find_all(\"a\")  # すべてのaタグを取得\n",
    "print(f\"aタグの数: {len(atags)}\")  # aタグの数を取得\n",
    "for atag in atags[:5]:\n",
    "    print(f\"タイトル: {atag.text}\")  # aタグのテキストを取得\n",
    "    print(f\"リンク: {atag[\"href\"]}\")  # aタグのリンクを取得"
   ]
  },
  {
   "cell_type": "code",
   "execution_count": 5,
   "metadata": {},
   "outputs": [],
   "source": [
    "from datetime import datetime\n",
    "\n",
    "import requests\n",
    "from bs4 import BeautifulSoup\n",
    "\n",
    "BASE_URL = \"https://www.seshop.com/product/616\"\n",
    "r = requests.get(BASE_URL)\n",
    "soup = BeautifulSoup(r.text, \"html.parser\")\n",
    "\n",
    "books = []  # 各書籍の情報を格納するリスト\n",
    "\n",
    "# CSSセレクターで <div class=\"list\">の中の\n",
    "# <div class=\"inner\"> を取得\n",
    "divs = soup.select(\"div.list div.inner\")\n",
    "for div in divs:\n",
    "    # 画像のURLを取得\n",
    "    img_url = div.find(\"img\")[\"src\"]\n",
    "    # 日付の文字列を取得\n",
    "    day = div.find(\"span\", class_=\"date\").text.strip()\n",
    "    day = day.removesuffix(\"発売\")\n",
    "    # 日付をdatetimeに変換\n",
    "    published = datetime.strptime(day, \"%Y.%m.%d\")\n",
    "\n",
    "    div_txt = div.find(\"div\", class_=\"txt\")\n",
    "    a_tag = div_txt.find(\"a\")  # aタグを取得\n",
    "    title = a_tag.text.strip()  # 書籍タイトルを取得\n",
    "    url = a_tag[\"href\"]  # 書籍URLを取得\n",
    "\n",
    "    # 販売価格を取得\n",
    "    price_s = div_txt.find(\"span\", class_=\"sale-price\").parent.text\n",
    "    price_s = price_s.split(\"円\")[0]\n",
    "    price_s = price_s.replace(\",\", \"\")\n",
    "    price = int(price_s)\n",
    "\n",
    "    book = {\n",
    "        \"title\": title,\n",
    "        \"img_url\": img_url,\n",
    "        \"url\": url,\n",
    "        \"price\": price,\n",
    "        \"published\": published,\n",
    "    }\n",
    "    books.append(book)"
   ]
  },
  {
   "cell_type": "code",
   "execution_count": 6,
   "metadata": {},
   "outputs": [
    {
     "data": {
      "text/plain": [
       "[{'title': 'Pythonによるあたらしいデータ分析の教科書 第3版',\n",
       "  'img_url': '/static/images/product/26879/L.png',\n",
       "  'url': '/product/detail/26879',\n",
       "  'price': 3058,\n",
       "  'published': datetime.datetime(2025, 5, 21, 0, 0)},\n",
       " {'title': '独習Python 第2版',\n",
       "  'img_url': '/static/images/product/26866/L.png',\n",
       "  'url': '/product/detail/26866',\n",
       "  'price': 3608,\n",
       "  'published': datetime.datetime(2025, 5, 14, 0, 0)},\n",
       " {'title': '現場で使える！NumPyデータ処理入門 第2版  機械学習・データサイエンスで役立つ高速処理手法',\n",
       "  'img_url': '/static/images/product/26383/L.png',\n",
       "  'url': '/product/detail/26383',\n",
       "  'price': 4400,\n",
       "  'published': datetime.datetime(2024, 8, 26, 0, 0)}]"
      ]
     },
     "execution_count": 6,
     "metadata": {},
     "output_type": "execute_result"
    }
   ],
   "source": [
    "books[:3]"
   ]
  },
  {
   "cell_type": "code",
   "execution_count": 7,
   "metadata": {},
   "outputs": [
    {
     "data": {
      "text/html": [
       "<div>\n",
       "<style scoped>\n",
       "    .dataframe tbody tr th:only-of-type {\n",
       "        vertical-align: middle;\n",
       "    }\n",
       "\n",
       "    .dataframe tbody tr th {\n",
       "        vertical-align: top;\n",
       "    }\n",
       "\n",
       "    .dataframe thead th {\n",
       "        text-align: right;\n",
       "    }\n",
       "</style>\n",
       "<table border=\"1\" class=\"dataframe\">\n",
       "  <thead>\n",
       "    <tr style=\"text-align: right;\">\n",
       "      <th></th>\n",
       "      <th>title</th>\n",
       "      <th>img_url</th>\n",
       "      <th>url</th>\n",
       "      <th>price</th>\n",
       "      <th>published</th>\n",
       "    </tr>\n",
       "  </thead>\n",
       "  <tbody>\n",
       "    <tr>\n",
       "      <th>0</th>\n",
       "      <td>Pythonによるあたらしいデータ分析の教科書 第3版</td>\n",
       "      <td>/static/images/product/26879/L.png</td>\n",
       "      <td>/product/detail/26879</td>\n",
       "      <td>3058</td>\n",
       "      <td>2025-05-21</td>\n",
       "    </tr>\n",
       "    <tr>\n",
       "      <th>1</th>\n",
       "      <td>独習Python 第2版</td>\n",
       "      <td>/static/images/product/26866/L.png</td>\n",
       "      <td>/product/detail/26866</td>\n",
       "      <td>3608</td>\n",
       "      <td>2025-05-14</td>\n",
       "    </tr>\n",
       "    <tr>\n",
       "      <th>2</th>\n",
       "      <td>現場で使える！NumPyデータ処理入門 第2版  機械学習・データサイエンスで役立つ高速処理手法</td>\n",
       "      <td>/static/images/product/26383/L.png</td>\n",
       "      <td>/product/detail/26383</td>\n",
       "      <td>4400</td>\n",
       "      <td>2024-08-26</td>\n",
       "    </tr>\n",
       "    <tr>\n",
       "      <th>3</th>\n",
       "      <td>動かして学ぶ！Python Django開発入門 第3版</td>\n",
       "      <td>/static/images/product/26360/L.png</td>\n",
       "      <td>/product/detail/26360</td>\n",
       "      <td>3960</td>\n",
       "      <td>2024-08-09</td>\n",
       "    </tr>\n",
       "    <tr>\n",
       "      <th>4</th>\n",
       "      <td>いきなりプログラミング Python</td>\n",
       "      <td>/static/images/product/26239/L.png</td>\n",
       "      <td>/product/detail/26239</td>\n",
       "      <td>2420</td>\n",
       "      <td>2024-06-25</td>\n",
       "    </tr>\n",
       "  </tbody>\n",
       "</table>\n",
       "</div>"
      ],
      "text/plain": [
       "                                              title  \\\n",
       "0                       Pythonによるあたらしいデータ分析の教科書 第3版   \n",
       "1                                      独習Python 第2版   \n",
       "2  現場で使える！NumPyデータ処理入門 第2版  機械学習・データサイエンスで役立つ高速処理手法   \n",
       "3                      動かして学ぶ！Python Django開発入門 第3版   \n",
       "4                                いきなりプログラミング Python   \n",
       "\n",
       "                              img_url                    url  price  published  \n",
       "0  /static/images/product/26879/L.png  /product/detail/26879   3058 2025-05-21  \n",
       "1  /static/images/product/26866/L.png  /product/detail/26866   3608 2025-05-14  \n",
       "2  /static/images/product/26383/L.png  /product/detail/26383   4400 2024-08-26  \n",
       "3  /static/images/product/26360/L.png  /product/detail/26360   3960 2024-08-09  \n",
       "4  /static/images/product/26239/L.png  /product/detail/26239   2420 2024-06-25  "
      ]
     },
     "execution_count": 7,
     "metadata": {},
     "output_type": "execute_result"
    }
   ],
   "source": [
    "import pandas as pd\n",
    "\n",
    "df = pd.DataFrame(books)  # 辞書をDataFrameに変換\n",
    "df.head()"
   ]
  },
  {
   "cell_type": "code",
   "execution_count": 8,
   "metadata": {},
   "outputs": [],
   "source": [
    "import time\n",
    "from urllib import parse\n",
    "\n",
    "# HTML上の文字列とbook辞書に保存するときのキー名の対応表\n",
    "LABELS = {\n",
    "    \"ISBN\": \"isbn\",\n",
    "    \"判型\": \"format\",\n",
    "    \"ページ数\": \"page\",\n",
    "}\n",
    "\n",
    "for book in books:\n",
    "    # 書籍の詳細ページのURLを作成してデータを取得\n",
    "    url = parse.urljoin(BASE_URL, book[\"url\"])\n",
    "    r = requests.get(url)\n",
    "    soup = BeautifulSoup(r.text, \"html.parser\")\n",
    "\n",
    "    # 書籍の詳細情報を取得\n",
    "    div = soup.find(\"div\", class_=\"col-md-5\")\n",
    "\n",
    "    # 著者名を取得\n",
    "    authors = []\n",
    "    for a_tag in div.p.find_all(\"a\"):\n",
    "        authors.append(a_tag.text)\n",
    "    book[\"author\"] = authors\n",
    "\n",
    "    # <dt>タグと<dd>タグから情報を取得\n",
    "    dl = soup.find(\"dl\")\n",
    "    dt_list = dl.find_all(\"dt\")\n",
    "    dd_list = dl.find_all(\"dd\")\n",
    "    for dt, dd in zip(dt_list, dd_list):\n",
    "        dt_text = dt.text.strip()\n",
    "        # <dt>タグの名前が LABELS にあれば、\n",
    "        # <dd>タグの内容をbook辞書に追加する\n",
    "        if dt_text in LABELS:\n",
    "            dd_text = dd.text.strip()\n",
    "            # ページ数はint型に変換\n",
    "            if dt_text == \"ページ数\":\n",
    "                book[LABELS[dt_text]] = int(dd_text)\n",
    "            else:\n",
    "                book[LABELS[dt_text]] = dd_text\n",
    "\n",
    "    # 1秒停止する\n",
    "    time.sleep(1)"
   ]
  },
  {
   "cell_type": "code",
   "execution_count": 9,
   "metadata": {},
   "outputs": [
    {
     "data": {
      "text/plain": [
       "{'title': 'Pythonによるあたらしいデータ分析の教科書 第3版',\n",
       " 'img_url': '/static/images/product/26879/L.png',\n",
       " 'url': '/product/detail/26879',\n",
       " 'price': 3058,\n",
       " 'published': datetime.datetime(2025, 5, 21, 0, 0),\n",
       " 'author': ['寺田 学', '辻 真吾', '鈴木 たかのり', '福島 真太朗'],\n",
       " 'isbn': '9784798191027',\n",
       " 'format': 'A5',\n",
       " 'page': 344}"
      ]
     },
     "execution_count": 9,
     "metadata": {},
     "output_type": "execute_result"
    }
   ],
   "source": [
    "books[0]"
   ]
  },
  {
   "cell_type": "code",
   "execution_count": null,
   "metadata": {},
   "outputs": [],
   "source": []
  }
 ],
 "metadata": {
  "kernelspec": {
   "display_name": "Python 3 (ipykernel)",
   "language": "python",
   "name": "python3"
  },
  "language_info": {
   "codemirror_mode": {
    "name": "ipython",
    "version": 3
   },
   "file_extension": ".py",
   "mimetype": "text/x-python",
   "name": "python",
   "nbconvert_exporter": "python",
   "pygments_lexer": "ipython3",
   "version": "3.13.2"
  }
 },
 "nbformat": 4,
 "nbformat_minor": 4
}

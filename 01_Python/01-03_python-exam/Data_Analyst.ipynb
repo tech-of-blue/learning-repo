{
 "cells": [
  {
   "cell_type": "markdown",
   "metadata": {},
   "source": [
    "## 目次\n"
   ]
  },
  {
   "cell_type": "markdown",
   "metadata": {},
   "source": [
    "### 1. データ分析エンジニアの役割\n",
    "1. 機械学習\n",
    "   - 教師あり学習\n",
    "     - 回帰\n",
    "     - 分類\n",
    "   - 教師なし学習\n",
    "     - クラスタリング\n",
    "     - 次元削減\n",
    "   - 強化学習\n",
    "2. 機械学習の処理の手順\n",
    "   - データ入手\n",
    "   - データ加工\n",
    "     - データ型の統一\n",
    "     - 複数のデータの連結処理\n",
    "     - 欠損地の確認と対応\n",
    "   - データ可視化\n",
    "     - 表やグラフなどで可視化\n",
    "     - 統計値の確認\n",
    "   - アルゴリズムの選択\n",
    "     - 目的とデータに沿ったアルゴリズムを選択\n",
    "     - 第4章を参照\n",
    "   - 学習プロセス\n",
    "     - ハイパーパラメータの設定\n",
    "   - 精度評価\n",
    "     - 学習データと検証データの両方で予測を行う\n",
    "     - 分類タスクであれば混同行列、適合率、再現率などで確認\n",
    "   - 試験運用\n",
    "     - 結果のわからない未知のデータを使い最終的な評価を実施\n",
    "     - 評価の結果が思わしくなければ、各プロセスの見直し\n",
    "     - 評価は定量的に行う必要があるため、統計的な手法を使い数値化する\n",
    "   - 結果利用\n",
    "     - 試験運用の結果、実業務に利用可能な精度が確保できれば、学習済みモデルを保存し、実業務にモデルの予測結果を取り入れる\n",
    "     - 予測精度の継続的な評価やデータを追加して学習を行うなどの運用が必要"
   ]
  },
  {
   "cell_type": "markdown",
   "metadata": {},
   "source": [
    "### 2. Pythonと環境\n",
    "- 実行環境構築\n",
    "  - Anacondaのメリデメ\n",
    "- Pythonの基礎\n",
    "  - 文法の考え方\n",
    "  - コーディング規約\n",
    "    - PEP8、Flake8\n",
    "  - 基本構文\n",
    "    - 条件分岐と繰り返し\n",
    "    - 例外処理\n",
    "    - 内包表記\n",
    "    - ジェネレーター式\n",
    "    - ファイルの入出力\n",
    "    - 文字列操作\n",
    "  - 標準ライブラリ\n",
    "    - 正規表現モジュール\n",
    "    - loggingモジュール\n",
    "    - datetimeモジュール\n",
    "    - pickleモジュール\n",
    "    - pathlibモジュール\n",
    "- JupyterLab\n",
    "- "
   ]
  },
  {
   "cell_type": "markdown",
   "metadata": {},
   "source": [
    "### 3. 数学の基礎\n",
    "- 数式を読むための基礎知識\n",
    "- 関数の基本\n",
    "  - 少し特殊な関数\n",
    "  - 指数関数\n",
    "  - シグモイド関数\n",
    "  - 対数関数\n",
    "  - 三角関数\n",
    "  - 双曲関数\n",
    "- 線形代数\n",
    "  - ベクトル\n",
    "    - ベクトルの演算\n",
    "    - ノルム\n",
    "      - ユークリッド距離\n",
    "      - マンハッタン距離\n",
    "    - 内積\n",
    "      - 計算方法\n",
    "      - 内積が0のときは直角に交わっている\n",
    "  - 行列\n",
    "    - 正方行列\n",
    "    - 単位行列\n",
    "    - 行列の掛け算\n",
    "      - m行n列×n行s列＝m行s列（2行2列×2行3列＝2行3列となる）\n",
    "- 基礎解析\n",
    "  - 微分と積分\n",
    "  - 簡単な関数の微分と積分\n",
    "  - 微分と関数の値\n",
    "  - 偏微分\n",
    "- 確立と統計\n",
    "  - 統計の基礎\n",
    "    - 分散と標準偏差の計算方法\n",
    "  - データの可視化法\n",
    "  - データとその関係性\n",
    "  - 確立\n",
    "    - 期待値の計算方法\n",
    "  - 確率分布\n",
    "  - 確立と関数\n",
    "  - 確立と情報量"
   ]
  },
  {
   "cell_type": "markdown",
   "metadata": {},
   "source": [
    "### 4. ライブラリによる分析実践\n",
    "- NumPy\n",
    "  - 数値計算に特化したサードパーティー製のパッケージ\n",
    "  - 多次元配列のデータを効率よく扱える\n",
    "- pandas\n",
    "  - データの入手や加工などのデータ処理に使われる\n",
    "  - Numpyを基盤にシリーズとデータフレームというデータ型を提供\n",
    "- Matplotlib\n",
    "- scikit-learn"
   ]
  },
  {
   "cell_type": "markdown",
   "metadata": {},
   "source": [
    "#### Numpy\n",
    "- データを扱う\n",
    "  - 一次元配列、二次元配列\n",
    "    - 行列の確認\n",
    "      - a.shape   → (2, 2) # 2行2列\n",
    "    - 全要素の確認\n",
    "      - a.size   → 4 # 4要素含まれている\n",
    "    - 配列の確認\n",
    "      - a.ndim  → 2 # 二次元配列\n",
    "  - 変形（reshape）\n",
    "    - 一次元配列を二次元配列に変形\n",
    "      - 一次元配列aを2行3列の二次元配列に変更したいとき\n",
    "      - a.reshape(2, 3)\n",
    "    - 二次元配列から一次元配列に変形\n",
    "      - a.reshape(-1)\n",
    "  - データ型（dtype）\n",
    "    - 整数型\n",
    "      - データの状態から自動でint32かint64を判断してくれる\n",
    "      - int32\n",
    "        - メモリ消費が少なく、データ転送や配列サイズが小さい\n",
    "        - データ量が少ないときに使用\n",
    "      - int64\n",
    "        - 表現範囲が広く、桁数の大きい演算に強い\n",
    "        - データ量が多いときに使用\n",
    "    - データ型の変更\n",
    "      - astypeメソッド\n",
    "      - a.astype(np.変更したいデータ型名)\n",
    "  - インデックスとスライス\n",
    "    - 理解した\n",
    "  - データ再代入\n",
    "    - 理解した\n",
    "  - 参照とコピー\n",
    "    - 参照\n",
    "      - 変数（オブジェクト）が配列を参照している場合、対象の配列に対して代入や要素の変更を行うと、その参照元の変数にも変更が反映される\n",
    "      - 変数が配列のコピーではなく、元のオブジェクトを共有しているためである\n",
    "      - ravelメソッドを使うと参照される\n",
    "    - コピー\n",
    "      - 変数（オブジェクト）が配列をコピーしている場合、元の配列とは独立した新しいオブジェクトが生成され、コピー後の配列に対して代入や要素の変更を行っても、元の配列には一切影響を与えない。\n",
    "      - コピーによってオブジェクトの内容が複製されるが、メモリ上では別々の領域に格納されるためである。\n",
    "      - flattenメソッドを使うとコピーされる\n",
    "    - Python標準のリストではコピーが渡されるが、Numpyでは参照が渡される\n",
    "  - 数列を返す（arange）\n",
    "    - Pythonのrange関数と同様の処理\n",
    "    - np.arange(start, stop, 間隔)\n",
    "  - 乱数\n",
    "    - Legacy Random Generator（昔の乱数生成器） \n",
    "      - np.random.rand → 0以上1未満の小数\n",
    "      - np.random.random → 0以上1未満の小数、引数にタプルを渡し行列を指定（二重丸括弧になる）\n",
    "      - np.random.uniform → 指定範囲の小数\n",
    "      - np.random.randint → 指定範囲の整数\n",
    "      - np.random.randn → 平均0・分散1の標準正規分布\n",
    "      - np.random.normal → 指定の平均・標準偏差の正規分布\n",
    "    - Random Generator（今の乱数生成器）\n",
    "      - Random GeneratorはPCG64というアルゴリズムを用いている\n",
    "      - Legacy Generatorに比べて高速で省メモリかつ、統計的な視点で見た時により性能がよい乱数が生成できる\n",
    "      - 新しい乱数生成器は、2019年7月26日 にリリースされた NumPy 1.17 のバージョンから使えるようになった\n",
    "      - default_rng() を使った新しい乱数生成スタイルが導入\n",
    "      - np.random.Generator.random 関数は、行と列のタプルを渡すと**デフォルト**で0以上1未満の範囲の乱数の2次元配列を生成する\n",
    "      - 生成される数値は実行するたびに変わる\n",
    "      - np.random.Generator.uniform関数は、第1引数以上かつ第2引数未満のランダムな整数値or小数値を、sizeキーワード引数でタプルを渡した行と列の2次元配列で生成する\n",
    "      - 記述方法\n",
    "        ```python\n",
    "        rng = np.random.default_rng() # default_rng()を宣言する\n",
    "        rng = np.random.default_rng(123) # 引数に123を指定することで乱数のシード値を固定することができる（この123はなんでもいい）\n",
    "        f = rng.random((3, 2)) # 3行2列の二次元配列を生成し、値は0以上1未満の小数値\n",
    "        f\n",
    "        rng.integers(1, 10, size=(3, 3)) #1以上10未満のランダムな整数値を出力し、3行3列の二次元配列を生成する\n",
    "        ```\n",
    "      - rng.random() → 0以上1未満の小数、引数にタプルを渡し行列を指定\n",
    "      - rng.integers() → 指定範囲の整数\n",
    "      - rng.uniform() → 指定範囲の小数\n",
    "      - rng.standerd_normal() → 正規分布に従った乱数を出力。引数にsizeは指定\n",
    "      - rng.nomal() → 平均、標準偏差、sizeを引数として正規分布の乱数を生成\n",
    "      - 疑似乱数の発生方法\n",
    "      - 行列の次元を指定する\n",
    "      - 正規分布に従った乱数の発生\n",
    "  - 同じ要素の数列を作る\n",
    "    - zeros関数\n",
    "      - 0.0からなる配列を作成する\n",
    "    - ones関数\n",
    "      - 1.0からなる配列を作成する\n",
    "  - eye関数\n",
    "    - 指定する対角要素を持った単位行列を作るための関数\n",
    "  - full関数\n",
    "    - 指定した値で、配列を作る関数\n",
    "  - 範囲指定で均等割りデータを作る\n",
    "    - linespace関数\n",
    "    - 引数は、第1引数から第2引数までを第3引数で等間隔に区切った要素の配列を作る\n",
    "  - 要素間差分\n",
    "    - np.diff関数\n",
    "    - 配列の右の要素から左の要素を引いた時の差分の値\n",
    "    - np.array([2, 2, 6, 1, 3])とあったら\n",
    "    - 差分はarray([0, 4, -5, 2])って感じ\n",
    "  - 連結\n",
    "    - concatenate関数\n",
    "      - 第1引数は、結合したい配列オブジェクトを タプルまたはリストの形で渡す。結合の順番もこの並びで決まる。例：(arr1, arr2)\n",
    "      - 第2引数は、結合する軸を指定。デフォルトは axis=0（行方向）\n",
    "      - 結合条件は、指定した軸以外の次元（shape）がすべて 一致している必要がある。例えば axis=0 の場合、列数が同じであることが求められる\n",
    "      - 結合順序は、上記の配列順に 左から右へ連結（＝順番に並ぶ）\n",
    "    - hstack関数\n",
    "      - 列方向に配列を結合する\n",
    "      - 要素の数（列）を増やす\n",
    "      - 結合条件は、結合したい配列オブジェクトの行数（shape[0]）が一致している必要がある\n",
    "    - vstack関数\n",
    "      - 行方向に配列を結合する\n",
    "      - 行を増やすような動き\n",
    "      - 結合条件は、結合したい配列オブジェクトの列数（shape[1]）が一致している必要がある\n",
    "  - 分割\n",
    "    - hsplit関数\n",
    "    - vsplit関数\n",
    "  - 転置\n",
    "    - 行列を入れ替えること\n",
    "    - 配列オブジェクト.T と記述する\n",
    "  - 次元追加\n",
    "    - np.newaxisを指定し次元を1つ増やす\n",
    "        ```python\n",
    "        # 行方向に次元追加\n",
    "        配列オブジェクト[np.newaxis, :]\n",
    "        # 列方向に次元追加\n",
    "        配列オブジェクト[:, np.newaxis]\n",
    "        ```\n",
    "  - グリッドデータの生成\n",
    "    - meshgrid関数\n",
    "      - meshgridは引数の配列をそれぞれ拡張します。np.newaxisでそれぞれの次元を追加し、お互いを引き伸ばしてブロードキャストする\n",
    "- 各機能\n",
    "  - ユニバーサルファンクション\n",
    "    - 配列要素内を一括で変換できる\n",
    "    - np.abs関数：絶対値で処理してくれる\n",
    "    - np.sin関数：\n",
    "    - np.cos関数：\n",
    "    - np.log関数：ネイピア数を底とする自然対数log\n",
    "    - np.log10関数：常用対数を使ったlog\n",
    "    - np.exp関数：自然対数の底eを確認する\n",
    "  - ブロードキャスト\n",
    "    - 異なるサイズの配列の内部データに対して加算や乗算など直接演算などが行える機能\n",
    "    - 足し算\n",
    "      - a：一次元配列\n",
    "      - b：二次元配列\n",
    "      - a+b\n",
    "    - 配列同士の次元を後ろから（つまり右端から）順に比較\n",
    "    - ブロードキャストは次のルールで概ね対応できる\n",
    "      - 列数が一致している場合は引き伸ばしができる\n",
    "        - NumPyはこの「1」になっている次元を 繰り返して伸ばす（コピーする）ことで、両者の形（サイズ）を揃える\n",
    "      - 1次元の配列を転置して列数が合えば引き伸ばしができる\n",
    "      - この2つのルールから外れる場合は引き伸ばしができず、ValueErrorとなる\n",
    "  - 配列の掛け算\n",
    "    - 行列の掛け算というより、線形代数の掛け算に近い処理を行っている\n",
    "    - np.dot演算\n",
    "      - Numpyのdot関数は、ベクトル同士の内積だけではなく、行列同士の積も算出可能\n",
    "    - @演算\n",
    "  - 判定・真偽値\n",
    "    - a > 0\n",
    "    - 真偽値が返ってくる\n",
    "    - PythonではFalseを0として扱い、Trueを1とする\n",
    "    - np.count_nonzero(配列オブジェクト > 0)  # Trueの数をカウントする\n",
    "    - np.sum(配列オブジェクト > 0) # Trueを1として扱うので1の数の合計値を返す。結果的にTrueの数をカウントしたことと同じ\n",
    "    - np.any(配列オブジェクト > 0) # 要素の中にTrueが含まれているかを判定する\n",
    "    - np.all(配列オブジェクト > 0) # 要素の中、すべてがTrueかどうかを判定する\n",
    "    - 配列オブジェクトa[配列オブジェクトa > 0] # Trueとなる、要素のみが出力される\n",
    "    - 配列同士の比較\n",
    "    - a == b # 配列の要素が一致していればTrue、不一致であればFalseとなる\n",
    "    - np.allclose(a, b) # 配列同士が同じ要素で構成されているか（要素が完全に一致するか）\n",
    "      - このままではFalseが返ってくる\n",
    "    - np.allclose(a, b, atol=10.0) # atolキーワード引数で絶対誤差の範囲を指定する\n",
    "      - 誤差を10とする。すべての要素が誤差範囲内であれば、Trueが返ってくる"
   ]
  },
  {
   "cell_type": "markdown",
   "metadata": {},
   "source": [
    "#### pandas\n",
    "- シリーズ（Series）\n",
    "  - 1次元データ\n",
    "  - デフォルトではint64のデータ型が割り当てられる\n",
    "  - 辞書を引数にする場合、Seriesはキーがインデックス名になる\n",
    "- データフレーム（DataFrame）\n",
    "  - 1つ列に整数や文字列が混在している場合はデータ型オブジェクトになる\n",
    "  - オブジェクトの場合は数値計算はできない\n",
    "  - 辞書を引数にする場合、DataFrameはキーがカラム名になる\n",
    "- DataFrameの概要を見る\n",
    "  - df\n",
    "    - dfを直接呼び出すと、DataFrameのすべての情報が出力\n",
    "  - df.head()\n",
    "    - DataFrameの先頭の5行のみを出力\n",
    "  - df.tail()\n",
    "    - DataFrameの末尾の5行のみを出力\n",
    "  - df.shape\n",
    "    - DataFrameのサイズ（行列数）を知る\n",
    "  - インデックス名、カラム名\n",
    "    - デフォルトでは自動で数字が0から割り当てられる\n",
    "    - 以下のようにインデックス名とカラム名を定義することができる\n",
    "    - df.index = [\"01\", \"02\", \"03\"]\n",
    "    - df.columns = [\"A\", \"B\"]\n",
    "  - 属性\n",
    "    - 属性とは、オブジェクトの内部情報や状態を表すもので、「オブジェクトが持っている情報そのもの」を指す\n",
    "    - Pythonでは obj.attribute のような形式でアクセスできる\n",
    "    - 関数（method）とは違って実行というよりは「情報を見る」というイメージ\n",
    "\n",
    "  - データ抽出\n",
    "    - カラムを指定して抽出\n",
    "      - 1つのカラム抽出：df[\"カラム名\"]\n",
    "      - 複数カラム抽出：df[[\"カラム名\", \"カラム名\"]]\n",
    "    - インデックス値して抽出\n",
    "      - インデックス番号の0, 1である1行目と2行目を出力\n",
    "      - df[:2]\n",
    "    - インデクサを使った抽出方法\n",
    "      - インデクサでは、必ずインデックスとカラムの両方を指定しなければならない\n",
    "      - コピーではなく参照である点が注意点\n",
    "      - 「:」はすべてを出力という意味\n",
    "      - loc\n",
    "        - **インデックス名・カラム名**を指定する\n",
    "        - df.loc[インデックス, カラム]\n",
    "        - df.loc[:, \"A\"]\n",
    "          - AカラムのみをSeriesとして抽出。Aカラムだけを出力した結果と同じ\n",
    "      - iloc\n",
    "        - **インデックス番号とカラム番号**を指定する\n",
    "        - 番号の始まりは「0」からなのはこれまで通り\n",
    "        - df.iloc[1, 1]\n",
    "          - 位置で指定しているので、結果指定した位置にある値が出力される\n",
    "        - df.iloc[1:, 1]\n",
    "          - 1つのカラムを指定したので、Seriesになる\n",
    "        - df.iloc[1:, :2]\n",
    "          - インデックスとカラムをどちらも範囲指定する。DataFrameに戻る\n",
    "  - データの読み込み・書き込み\n",
    "    - 読み込み\n",
    "      - df = pd.read_csv(\"data/XXX.csv\")\n",
    "      - df = pd.read_excel(\"data/XXX.xlsx\")\n",
    "      - url = \"http://url\"\n",
    "      - table = pd.read_html(url, flavor=\"5lib\")\n",
    "        - html5libはあらかじめインストールしておく\n",
    "    - 書き込み\n",
    "      - df.to_csv(\"data/XXX.csv\")\n",
    "      - df.to_excel(\"data/XXX.xlsx\")\n",
    "    - pickleによる再利用\n",
    "      - 書き込み\n",
    "        - df.to_pickle(\"data/XXX.pickle\")\n",
    "      - 読み込み\n",
    "        - df.read_pickle(\"data/XXX.pickle\")\n",
    "  - データの整形\n",
    "    - データ型確認\n",
    "      - dtypes属性で確認\n",
    "      - df.type\n",
    "    - applyメソッドを使った変換方法\n",
    "      - 日付カラムがオブジェクトだったのでdatetime型に変換\n",
    "      - df[\"date\"] = df.loc[:, \"日付\"].apply(pd.to_datetime)\n",
    "      - applyは、データ1つずつに順次関数を適用し、テーブルに新規カラムを追加する\n",
    "    - astypeメソッドを使った変換方法\n",
    "      - df[\"AAカラム\"] = df.loc[:, \"AAカラム\"].astype(np.float32)\n",
    "      - int64型からfloat32型に変換\n",
    "      - カラムの数は増減せず、データ型のみ変換する\n",
    "    - インデックスにdateカラムの値を設定する\n",
    "      - df = df.set_index(\"date\")\n",
    "      - df.head()で変更されたかを確認\n",
    "    - 条件抽出\n",
    "      - 真偽値を使って抽出する\n",
    "        ```python\n",
    "          df.loc[:, \"歩数\"] >= 10000 # True/Falusが記載されたbool型データのSeries（一次元配列データ）で返ってくる\n",
    "          df_selected = df.loc[df.loc[:, \"歩数\" >= 10000]] # bool型データのSeriesをDataFrameに当てはめて、Trueの行だけを抽出することができる \n",
    "          df_selected\n",
    "          df_selected.shape # データフレームの行列を確認する\n",
    "        ```\n",
    "        - 歩数が10,000以上の行のみが、新しいDataFrameであるdf_selectedに入っている\n",
    "      - queryメソッドを使う方法\n",
    "        - SQLのように条件を書き抽出できる\n",
    "        ```python\n",
    "          df.query(\"歩数 >= 10000 and 摂取カロリー <= 1800\")\n",
    "        ```\n",
    "        - 歩数が10,000以上で、摂取カロリーが1,800以下の行のみを抽出\n",
    "    - データ型変換\n",
    "      - データ型の変換はカラム1つずつ実行する\n",
    "      - 2つ方法がある\n",
    "        - 日付のデータ型はapplyメソッドを使って新しいカラムを作り、datetime型に変換する\n",
    "        - astypeメソッドを使って整数値/小数値のデータ型を変換する\n",
    "    - 並べ替え\n",
    "      - sort_valuesメソッドを使う\n",
    "      - デフォルトは昇順\n",
    "      - 降順にする場合は、メソッドの引数のascendingをfalseにする\n",
    "        - df.sort_values(by=\"カラム名\", ascending=False)\n",
    "    - 行・カラムの削除\n",
    "      - 削除メソッドはdorp()\n",
    "      - 引数axisが0のときは「行」1のときは「列」\n",
    "      - 一般的記述方法\n",
    "        - df.drop('A', axis=0)  # 行削除（インデックス A）\n",
    "        - df.drop('B', axis=1)  # 列削除（カラム B）\n",
    "      - 最近の可読性の高い書き方\n",
    "        - df.drop(index='A')     # axis=0 と同じ意味\n",
    "        - df.drop(columns='B')   # axis=1 と同じ意味\n",
    "    - 計算結果の挿入\n",
    "  - 時系列データ\n",
    "    - データの作成\n",
    "      - 1か月分\n",
    "      - 1年分365日\n",
    "      - 月平均のデータに加工する\n",
    "      - 複雑な条件のインデックス\n",
    "  - 欠損値処理\n",
    "    - 0で補完する\n",
    "      - df.fillna(0)\n",
    "    - 1行前（front）の値で補完する\n",
    "      - df.fillna(method='ffill')\n",
    "    - 1行後（back）の値で保管する\n",
    "      - df.fillna(method='bfill')\n",
    "    - 平均値で補完する\n",
    "      - df.fillna(df.mean())\n",
    "      - 引数のdf.meanを中央値や最頻値に変えることで他の統計量で補完することができる\n",
    "  - データ連結\n",
    "    - 列方向のデータ連結\n",
    "    - 行方向のデータ連結\n",
    "  - 統計データの扱い\n",
    "    - 基本統計量\n",
    "    - 要約\n",
    "      - describeメソッド\n",
    "      - 出力される統計量は、count, mean, std, min, 25%, 50%, 75%, max\n",
    "      - str型でも出力可能\n",
    "    - 相関係数\n",
    "      - df.corr(numeric_only=True)\n",
    "        - 引数にnumeric_only=Trueと指定する\n",
    "        - 数値以外のカラム（文字列カラムや日付カラム）を無視する設定\n",
    "    - 散布図行列\n",
    "      - scatter_matrix関数\n",
    "        - 左上から右下の対角線のグラフは、各特徴量のヒストグラム\n",
    "    - データ変換\n",
    "      - Matplotlibやscikit-learnはDataFrameのまま使える\n",
    "      - 他の機械学習フレームワークにうよってはDataFrameは受け取れず、Numpyの配列を必須としている場合がある\n",
    "      - DataFrameとndarrayのデータ変換の方法について紹介\n",
    "      - values 属性による変換\n",
    "        - df.loc[:, [\"カラムA\", \"カラムB\"]].values\n",
    "        - valuesを使うことでDataFrameからNumpyの配列（ndarray）に変換することができる"
   ]
  },
  {
   "cell_type": "markdown",
   "metadata": {},
   "source": [
    "#### Matplotlib\n",
    "- Matplotlibでグラフを描画するコードには2つのインタフェースがある\n",
    "  - pyplotインタフェース\n",
    "    - 比較的記述しやすい\n",
    "  - オブジェクト指向インタフェース\n",
    "    - fig, axを指定することで構造的な記述だがやや難しい\n",
    "    - こちらの方が推奨されている\n",
    "    - 描画オブジェクトに対してサブプロットを追加して、サブプロットに対してグラフを描画する\n",
    "    - オブジェクト指向インタフェースの方が「柔軟で管理しやすい」ため、特に複数のプロットやカスタマイズが必要な場合におすすめ\n",
    "  - 描画オブジェクトとサブプロット\n",
    "    - subplot関数の引数に数値を指定することにより、複数のサブプロットを配置できる\n",
    "    - タイトル\n",
    "    - 軸ラベル\n",
    "    - 凡例\n",
    "      - 設定：ax.plot()の引数にlabel=\"legend label\"と記載する\n",
    "      - 配置：legendメソッドで指定\n",
    "        - 凡例を表示する位置は、legendメソッドの引数「loc」で指定\n",
    "        - 引数にloc=\"best\"とすることで、データの重なりが最少となる位置に出力する\n",
    "        - 配置など操作可能\n",
    "          - upper left\n",
    "          - center\n",
    "          - center left\n",
    "          - lower center\n",
    "          - best\n",
    "          - など、10種類が指定可能\n",
    "    - ファイル出力\n",
    "      - fig.savefig(\"ファイル名.png\")で保存\n",
    "      - ファイル名の拡張子を .png .svg とすることで保存形式を指定することができる\n",
    "  - グラフの種類と出力方法\n",
    "    - 折れ線グラフ：ax.plot()\n",
    "    - 棒グラフ：\n",
    "      - 縦棒グラフax.bar()\n",
    "      - 横棒グラフax.barh()\n",
    "    - 散布図：ax.scatter()\n",
    "    - ヒストグラム：ax.hist()\n",
    "    - 箱ひげ図：ax.boxplot\n",
    "    - 円グラフ：ax.pie\n",
    "    - 複数のグラフを組み合わせる\n",
    "  - スタイル\n",
    "    - スタイルを制御するキーワード引数（label=..., color=... など）は 順番に制約はない\n",
    "    - 関数内部では名前で受け取るため、順番ではなく「ラベル（名前）」によって値が割り当てられる\n",
    "    - 色の指定\n",
    "      - ax.plot(x, y, label=label, color=\"aqua\") # 引数colorで線の色を指定\n",
    "      - ax.bar(x, y, label=label, color=\"aqua\", edgecolor=\"black\") # 引数colorでboxの塗りつぶしの色、引数edgecolorで枠線の色を指定\n",
    "    - 線のスタイル\n",
    "      - ax.plot(x, y, label=label, color=\"aqua\", linestyle=\"--\") # 引数linestyleで線の形状を指定（破線）\n",
    "      - ax.plot(x, y, label=label, color=\"aqua\", linestyle=\":\") # 引数linestyleで線の形状を指定（点線）\n",
    "    - フォント\n",
    "      - ax.set_xlabel/ax.set_ylabel/ax.set_titleで指定する\n",
    "      - フォントサイズ size引数\n",
    "      - フォントの太さ weight引数\n",
    "      - フォントの種類 family引数\n",
    "        - 通常の指定方法\n",
    "        ```python\n",
    "          fig, ax = plt.subplots()\n",
    "          \n",
    "          ax.set_xlabel(\"xlabel\", family=\"fantasy\", size=20, weight=\"bold\")\n",
    "          ax.set_ylabel(\"ylabel\", family=\"cursive\", size=40, weight=\"light\")\n",
    "          ax.set_title(\"graph title\", family=\"monospace\", size=25, weight=\"heavy\")\n",
    "          \n",
    "          plt.show()\n",
    "        ```\n",
    "        - 辞書を使った指定方法\n",
    "        ```python\n",
    "          # フォントのスタイルを辞書で定義\n",
    "          fontdict = {\n",
    "            \"family\": \"fantasy\",\n",
    "            \"size\": 20,\n",
    "            \"weight\": \"normal\"\n",
    "            }\n",
    "          fig, ax = plt.subplots()\n",
    "\n",
    "          # 辞書形式でフォントのスタイルを指定\n",
    "          ax.set_xlabel(\"xlabel\", fontdict=fontdict)\n",
    "          ax.set_ylabel(\"ylabel\", fontdict=fontdict)\n",
    "          ax.set_title(\"graph title\", , fontdict=fontdict, size=40) # 個別指定したsizeで上書き可能\n",
    "          \n",
    "          plt.show()\n",
    "          ```\n",
    "    - テキスト描画\n",
    "      - textメソッドを使用する\n",
    "      - 第1、第2引数に描画するテキストのx, y座標を指定\n",
    "      - 第3引数（キーワード引数）以降にフォントのスタイルやサイズなどを指定する\n",
    "      - ax.text(0.2, 0.4, \"Text\", size=20)\n",
    "    - グラフのスタイル\n",
    "      - matplotlib.styleを使用するとグラフの表示スタイル全体を設定できる\n",
    "      - 今回はggplotスタイルを指定している\n",
    "      - 他にも28種類（Matplotlib 3.10.0）のスタイルが用意されている\n",
    "      - matplotlib.style.availableで取得できる"
   ]
  },
  {
   "cell_type": "markdown",
   "metadata": {},
   "source": [
    "#### scikit-learn\n",
    "- 前処理\n",
    "  - 欠損値への対応\n",
    "  - カテゴリ変数のエンコーディング\n",
    "  - 特徴量の正規化\n",
    "- モデル構築の流れ\n",
    "  - 学習データセット\n",
    "  - テストデータセット\n",
    "- 分類\n",
    "  - サポートベクタマシン\n",
    "  - 決定木\n",
    "  - ランダムフォレスト\n",
    "- 回帰\n",
    "  - 単回帰\n",
    "  - 重回帰\n",
    "- 次元削減\n",
    "  - 主成分分析\n",
    "- モデルの評価\n",
    "  - カテゴリの分類制度\n",
    "  - 交差検証\n",
    "  - 予測確立の正確さ\n",
    "    - ROC曲線\n",
    "    - AUC曲線\n",
    "  - ハイパーパラメータの最適化\n",
    "    - グリッドサーチ\n",
    "    - ランダムサーチ\n",
    "  - クラスタリング\n",
    "    - k-means\n",
    "    - 階層的クラスタリング"
   ]
  },
  {
   "cell_type": "markdown",
   "metadata": {},
   "source": [
    "#### Numpy　ハンズオン"
   ]
  },
  {
   "cell_type": "code",
   "execution_count": 45,
   "metadata": {},
   "outputs": [
    {
     "name": "stdout",
     "output_type": "stream",
     "text": [
      "[0 1 2 3 4 5]\n",
      "[0 1 2 3 4 5]\n"
     ]
    }
   ],
   "source": [
    "import numpy as np\n",
    "\n",
    "# 3要素一次元配列\n",
    "a = np.array([1, 2, 3])\n",
    "\n",
    "# 2行3列の二次元配列\n",
    "b = np.array([[1, 2, 3],[4, 5, 6]])\n",
    "\n",
    "# 6要素一次元配列\n",
    "c1 = np.array([0, 1, 2, 3, 4, 5])\n",
    "# c1を2行3列の二次元配列に変換（3行4列など要素の数が合わない場合、ValueErrorとなる）\n",
    "c2 = c1.reshape((2, 3))\n",
    "# c2を元の6要素一次元配列に変換\n",
    "c3 = c2.ravel()   # ravelメソッドは「参照」を返す\n",
    "c4 = c2.flatten() # flattenメソッドは「コピー」を返す\n",
    "\n",
    "print(c3)\n",
    "print(c4)"
   ]
  },
  {
   "cell_type": "code",
   "execution_count": 16,
   "metadata": {},
   "outputs": [
    {
     "name": "stdout",
     "output_type": "stream",
     "text": [
      "[1 2 3]\n"
     ]
    },
    {
     "data": {
      "text/plain": [
       "dtype('int32')"
      ]
     },
     "execution_count": 16,
     "metadata": {},
     "output_type": "execute_result"
    }
   ],
   "source": [
    "print(a)\n",
    "type(a)\n",
    "a.shape\n",
    "a.dtype"
   ]
  },
  {
   "cell_type": "code",
   "execution_count": 7,
   "metadata": {},
   "outputs": [
    {
     "name": "stdout",
     "output_type": "stream",
     "text": [
      "[[1 2 3]\n",
      " [4 5 6]]\n"
     ]
    },
    {
     "data": {
      "text/plain": [
       "(2, 3)"
      ]
     },
     "execution_count": 7,
     "metadata": {},
     "output_type": "execute_result"
    }
   ],
   "source": [
    "print(b)\n",
    "type(b)\n",
    "b.shape"
   ]
  },
  {
   "cell_type": "code",
   "execution_count": null,
   "metadata": {},
   "outputs": [
    {
     "data": {
      "text/plain": [
       "array([1., 2., 3.])"
      ]
     },
     "execution_count": 18,
     "metadata": {},
     "output_type": "execute_result"
    }
   ],
   "source": [
    "a.dtype\n",
    "a.astype(np.float64) # 元の配列を変更せず、新しい型の配列を返します（破壊的操作ではない）\n"
   ]
  },
  {
   "cell_type": "code",
   "execution_count": 22,
   "metadata": {},
   "outputs": [
    {
     "data": {
      "text/plain": [
       "3"
      ]
     },
     "execution_count": 22,
     "metadata": {},
     "output_type": "execute_result"
    }
   ],
   "source": [
    "a[0]\n",
    "a[1:] # 1番目以降の要素を取得\n",
    "a[-1]"
   ]
  },
  {
   "cell_type": "code",
   "execution_count": 35,
   "metadata": {},
   "outputs": [
    {
     "data": {
      "text/plain": [
       "array([[1, 3],\n",
       "       [4, 6]])"
      ]
     },
     "execution_count": 35,
     "metadata": {},
     "output_type": "execute_result"
    }
   ],
   "source": [
    "b[1, 0]\n",
    "b[:, 2]\n",
    "b[1, :]\n",
    "b[0, 1:]\n",
    "b[:, [0, 2]]\n"
   ]
  },
  {
   "cell_type": "code",
   "execution_count": null,
   "metadata": {},
   "outputs": [
    {
     "data": {
      "text/plain": [
       "array([1, 5, 4])"
      ]
     },
     "execution_count": 39,
     "metadata": {},
     "output_type": "execute_result"
    }
   ],
   "source": [
    "a[2] = 4\n",
    "a1 = a\n",
    "a1\n",
    "\n",
    "a1[1] = 5\n",
    "a1\n",
    "\n",
    "a\n",
    "# a1はaを参照するオブジェクトとして生成されている。そのためa1の値を変更するとaの値も変更される。\n"
   ]
  },
  {
   "cell_type": "code",
   "execution_count": null,
   "metadata": {},
   "outputs": [
    {
     "data": {
      "text/plain": [
       "array([1, 5, 4])"
      ]
     },
     "execution_count": 43,
     "metadata": {},
     "output_type": "execute_result"
    }
   ],
   "source": [
    "a2 = a.copy()\n",
    "a2\n",
    "\n",
    "a2[0] = 6\n",
    "a2\n",
    "\n",
    "a\n",
    "# a2はaをコピーを作成しているため、a2の値を変更してもaの値は変更されない。"
   ]
  },
  {
   "cell_type": "code",
   "execution_count": 52,
   "metadata": {},
   "outputs": [
    {
     "name": "stdout",
     "output_type": "stream",
     "text": [
      "[[6 1 2]\n",
      " [3 4 5]]\n",
      "c3_ravel: [6 1 2 3 4 5]\n",
      "c4_flatten: [6 7 2 3 4 5]\n"
     ]
    }
   ],
   "source": [
    "c2\n",
    "\n",
    "c3 = c2.ravel()\n",
    "c4 = c2.flatten()\n",
    "c3[0] = 6\n",
    "c4[1] = 7\n",
    "\n",
    "print(c2)\n",
    "print(f\"c3_ravel: {c3}\")\n",
    "print(f\"c4_flatten: {c4}\")\n"
   ]
  },
  {
   "cell_type": "code",
   "execution_count": null,
   "metadata": {},
   "outputs": [
    {
     "name": "stdout",
     "output_type": "stream",
     "text": [
      "[0, 1]\n",
      "[2, 1]\n"
     ]
    }
   ],
   "source": [
    "# Pythonの標準リストで代入を行った場合\n",
    "py_list1 = [0, 1]\n",
    "py_list2 = py_list1[:]\n",
    "py_list2[0] = 2\n",
    "print(py_list1)\n",
    "print(py_list2) # 参照元のpy_list1に影響を与えず、コピーが作成されている"
   ]
  },
  {
   "cell_type": "code",
   "execution_count": null,
   "metadata": {},
   "outputs": [
    {
     "name": "stdout",
     "output_type": "stream",
     "text": [
      "[2 1]\n",
      "[2 1]\n"
     ]
    }
   ],
   "source": [
    "# Numpyのndarrayで代入を行った場合\n",
    "np_array1 = np.array([0, 1])\n",
    "np_array2 = np_array1[:]\n",
    "np_array2[0] = 2\n",
    "print(np_array1)\n",
    "print(np_array2) # 参照元のnp_array1の値も変更されている"
   ]
  },
  {
   "cell_type": "code",
   "execution_count": null,
   "metadata": {},
   "outputs": [
    {
     "data": {
      "text/plain": [
       "array([1, 3, 5, 7, 9])"
      ]
     },
     "execution_count": 57,
     "metadata": {},
     "output_type": "execute_result"
    }
   ],
   "source": [
    "# Pythonのrange関数と同様の処理\n",
    "np.arange(10)\n",
    "np.arange(1, 11)\n",
    "np.arange(1, 11, 2)\n"
   ]
  },
  {
   "cell_type": "code",
   "execution_count": null,
   "metadata": {},
   "outputs": [
    {
     "data": {
      "text/plain": [
       "array([[0.93226153, 0.53959679],\n",
       "       [0.32653461, 0.57068722],\n",
       "       [0.74481066, 0.15461254]])"
      ]
     },
     "execution_count": 60,
     "metadata": {},
     "output_type": "execute_result"
    }
   ],
   "source": [
    "# 乱数の作り方\n",
    "# np.random.Generator.random関数は、行と列のタプルを渡すと0以上1未満の範囲の乱数の2次元配列を生成する。ここで生成される数値は実行するたびに変わる\n",
    "\n",
    "rng = np.random.default_rng()\n",
    "f = rng.random((3, 2))\n",
    "f"
   ]
  },
  {
   "cell_type": "code",
   "execution_count": null,
   "metadata": {},
   "outputs": [
    {
     "data": {
      "text/plain": [
       "array([[4.06047253, 4.61672499, 1.38287199],\n",
       "       [4.09877281, 4.44946347, 2.56485228]])"
      ]
     },
     "execution_count": 67,
     "metadata": {},
     "output_type": "execute_result"
    }
   ],
   "source": [
    "# シード値を固定した場合\n",
    "ng = np.random.default_rng(123)\n",
    "f = rng.random((3, 2))\n",
    "f\n",
    "\n",
    "# シード値を固定しつつ、特定の範囲の配列をランダムに生成する\n",
    "rng = np.random.default_rng(123) # シード値を固定する\n",
    "rng.integers(1, 10)\n",
    "\n",
    "rng.integers(1, 10, size=(3, 3)) # 第1引数以上、第2引数未満のランダムな**整数値**を、sizeキーワード引数でタプルを渡し行と列の2次配列で生成\n",
    "\n",
    "rng.uniform(0.0, 5.0, size=(2, 3)) # # 第1引数以上、第2引数未満のランダムな**小数値**を、sizeキーワード引数でタプルを渡し行と列の2次配列で生成\n"
   ]
  },
  {
   "cell_type": "code",
   "execution_count": null,
   "metadata": {},
   "outputs": [
    {
     "data": {
      "text/plain": [
       "array([[22.37034797, 35.96083052],\n",
       "       [26.64455162, 35.0013471 ],\n",
       "       [30.68160562, 37.6601654 ]])"
      ]
     },
     "execution_count": 71,
     "metadata": {},
     "output_type": "execute_result"
    }
   ],
   "source": [
    "# シード値を固定しつつ、正規分布に従った乱数を出力する\n",
    "rng = np.random.default_rng(123)\n",
    "rng.standard_normal(size=(4, 2))\n",
    "\n",
    "# 平均、標準偏差、size（要素）を指定する\n",
    "rng.normal(50, 10, 3)\n",
    "rng.normal(30, 5, size=(3, 2))\n"
   ]
  },
  {
   "cell_type": "code",
   "execution_count": 79,
   "metadata": {},
   "outputs": [
    {
     "data": {
      "text/plain": [
       "array([[10,  1,  2,  3],\n",
       "       [20,  4,  5,  6]])"
      ]
     },
     "execution_count": 79,
     "metadata": {},
     "output_type": "execute_result"
    }
   ],
   "source": [
    "# 連結\n",
    "b\n",
    "b1 = np.array([[10], [20]])\n",
    "\n",
    "con = np.concatenate([b, b1], axis=1)\n",
    "con2 = np.concatenate([b1, b], axis=1)\n",
    "\n",
    "con2"
   ]
  },
  {
   "cell_type": "code",
   "execution_count": 98,
   "metadata": {},
   "outputs": [
    {
     "data": {
      "text/html": [
       "<div>\n",
       "<style scoped>\n",
       "    .dataframe tbody tr th:only-of-type {\n",
       "        vertical-align: middle;\n",
       "    }\n",
       "\n",
       "    .dataframe tbody tr th {\n",
       "        vertical-align: top;\n",
       "    }\n",
       "\n",
       "    .dataframe thead th {\n",
       "        text-align: right;\n",
       "    }\n",
       "</style>\n",
       "<table border=\"1\" class=\"dataframe\">\n",
       "  <thead>\n",
       "    <tr style=\"text-align: right;\">\n",
       "      <th></th>\n",
       "      <th>A</th>\n",
       "      <th>B</th>\n",
       "      <th>C</th>\n",
       "    </tr>\n",
       "  </thead>\n",
       "  <tbody>\n",
       "    <tr>\n",
       "      <th>1行目</th>\n",
       "      <td>0</td>\n",
       "      <td>1</td>\n",
       "      <td>2</td>\n",
       "    </tr>\n",
       "    <tr>\n",
       "      <th>2行目</th>\n",
       "      <td>3</td>\n",
       "      <td>4</td>\n",
       "      <td>5</td>\n",
       "    </tr>\n",
       "    <tr>\n",
       "      <th>3行目</th>\n",
       "      <td>6</td>\n",
       "      <td>7</td>\n",
       "      <td>8</td>\n",
       "    </tr>\n",
       "    <tr>\n",
       "      <th>4行目</th>\n",
       "      <td>9</td>\n",
       "      <td>10</td>\n",
       "      <td>11</td>\n",
       "    </tr>\n",
       "  </tbody>\n",
       "</table>\n",
       "</div>"
      ],
      "text/plain": [
       "     A   B   C\n",
       "1行目  0   1   2\n",
       "2行目  3   4   5\n",
       "3行目  6   7   8\n",
       "4行目  9  10  11"
      ]
     },
     "execution_count": 98,
     "metadata": {},
     "output_type": "execute_result"
    }
   ],
   "source": [
    "# Numpyの乱数でDataFrameを作成する\n",
    "import pandas as pd\n",
    "\n",
    "df = pd.DataFrame(np.arange(12).reshape((4, 3)),\n",
    "                  columns=[\"A\", \"B\", \"C\"],\n",
    "                  index=[\"1行目\", \"2行目\", \"3行目\", \"4行目\"])\n",
    "df\n"
   ]
  },
  {
   "cell_type": "code",
   "execution_count": null,
   "metadata": {},
   "outputs": [],
   "source": [
    "df[\"A\"] # 列（カラム）のみを抽出\n",
    "df[[\"A\", \"B\"]] # 二次元配列なので、[]は2つ必要\n",
    "df[:2] # 行を抽出\n",
    "df[:, 2] # Numpyのように列を指定して抽出しようとするsliceエラーになります。dfではloc、ilocといったインデクサを使用しましょう！\n",
    "\n"
   ]
  },
  {
   "cell_type": "code",
   "execution_count": 99,
   "metadata": {},
   "outputs": [
    {
     "data": {
      "text/plain": [
       "1行目    0\n",
       "2行目    3\n",
       "3行目    6\n",
       "4行目    9\n",
       "Name: A, dtype: int32"
      ]
     },
     "execution_count": 99,
     "metadata": {},
     "output_type": "execute_result"
    }
   ],
   "source": [
    "df.loc[:, :]\n",
    "df.loc[:, \"A\"]"
   ]
  },
  {
   "cell_type": "code",
   "execution_count": 101,
   "metadata": {},
   "outputs": [],
   "source": [
    "import matplotlib.pyplot as plt\n",
    "import matplotlib.style\n",
    "matplotlib.style.use(\"ggplot\")"
   ]
  },
  {
   "cell_type": "code",
   "execution_count": null,
   "metadata": {},
   "outputs": [
    {
     "data": {
      "image/png": "[encoded data removed]",
      "text/plain": [
       "<Figure size 640x480 with 1 Axes>"
      ]
     },
     "metadata": {},
     "output_type": "display_data"
    }
   ],
   "source": [
    "# pyplotインターフェースでの描画\n",
    "# データを用意\n",
    "x = [1, 2, 3]\n",
    "y = [2, 4, 9]\n",
    "\n",
    "plt.plot(x, y)\n",
    "plt.title(\"pyplot interface\")\n",
    "\n",
    "plt.show()"
   ]
  },
  {
   "cell_type": "code",
   "execution_count": 104,
   "metadata": {},
   "outputs": [
    {
     "data": {
      "image/png": "[encoded data removed]",
      "text/plain": [
       "<Figure size 640x480 with 1 Axes>"
      ]
     },
     "metadata": {},
     "output_type": "display_data"
    }
   ],
   "source": [
    "# オブジェクト指向インターフェースでの描画\n",
    "# データを用意\n",
    "x = [1, 2, 3]\n",
    "y = [2, 4, 9]\n",
    "\n",
    "fig, ax = plt.subplots()\n",
    "ax.plot(x, y)\n",
    "ax.set_title(\"object-oriented interface\")\n",
    "\n",
    "plt.show()"
   ]
  }
 ],
 "metadata": {
  "kernelspec": {
   "display_name": "Python 3",
   "language": "python",
   "name": "python3"
  },
  "language_info": {
   "codemirror_mode": {
    "name": "ipython",
    "version": 3
   },
   "file_extension": ".py",
   "mimetype": "text/x-python",
   "name": "python",
   "nbconvert_exporter": "python",
   "pygments_lexer": "ipython3",
   "version": "3.12.7"
  }
 },
 "nbformat": 4,
 "nbformat_minor": 2
}
